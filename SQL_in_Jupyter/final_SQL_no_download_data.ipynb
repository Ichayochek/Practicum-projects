{
 "cells": [
  {
   "cell_type": "markdown",
   "metadata": {},
   "source": [
    "# Проект по SQL"
   ]
  },
  {
   "cell_type": "markdown",
   "metadata": {},
   "source": [
    "# Анализ базы данных книг"
   ]
  },
  {
   "cell_type": "markdown",
   "metadata": {},
   "source": [
    "Ваша компания решила быть купить крупный сервис для чтения книг по подписке. Ваша первая задача как аналитика — проанализировать базу данных.\n",
    "В ней — информация о книгах, издательствах, авторах, а также пользовательские обзоры книг."
   ]
  },
  {
   "cell_type": "markdown",
   "metadata": {},
   "source": [
    "# Задачи:"
   ]
  },
  {
   "cell_type": "markdown",
   "metadata": {},
   "source": [
    "- Посчитать, сколько книг вышло после 1 января 2000 года;\n",
    "- Для каждой книги посчитать количество обзоров и среднюю оценку;\n",
    "- Определить издательство, которое выпустило наибольшее число книг толще 50 страниц — с целью исключить из анализа брошюры;\n",
    "- Определить автора с самой высокой средней оценкой книг, необходимо учесть только книги с 50 и более оценками;\n",
    "- Посчитайть среднее количество обзоров от пользователей, которые поставили больше 48 оценок."
   ]
  },
  {
   "cell_type": "markdown",
   "metadata": {},
   "source": [
    "# План работы:\n",
    "- 1 Подготовка рабочей среды и загрузка данных\n",
    "    - 1.1 Импорт библиотек\n",
    "    - 1.2 Установка параметров\n",
    "    - 1.3 Проверка содержимого\n",
    "- 2 Выполнение задач исследования\n",
    "    - 2.1 Посчитать, сколько книг вышло после 1 января 2000 года \n",
    "    - 2.2 Для каждой книги посчитать количество обзоров и среднюю оценку\n",
    "    - 2.3 Определить издательство, которое выпустило наибольшее число книг толще 50 страниц — с целью исключить из анализа брошюры\n",
    "    - 2.4 Определить автора с самой высокой средней оценкой книг, необходимо учесть только книги с 50 и более оценками\n",
    "    - 2.5 Посчитайть среднее количество обзоров от пользователей, которые поставили больше 48 оценок\n",
    "- 3 Вывод"
   ]
  },
  {
   "cell_type": "markdown",
   "metadata": {},
   "source": [
    "## Подготовка рабочей среды и загрузка данных"
   ]
  },
  {
   "cell_type": "markdown",
   "metadata": {},
   "source": [
    "### Импорт библиотек"
   ]
  },
  {
   "cell_type": "code",
   "execution_count": 29,
   "metadata": {
    "scrolled": true
   },
   "outputs": [],
   "source": [
    "# импортируем библиотеки\n",
    "import pandas as pd\n",
    "from sqlalchemy import text, create_engine"
   ]
  },
  {
   "cell_type": "markdown",
   "metadata": {},
   "source": [
    "### Установка параметров"
   ]
  },
  {
   "cell_type": "markdown",
   "metadata": {},
   "source": [
    "Параметры подключения удалены согласно соглашению об использованию данных с Яндекс Практикум."
   ]
  },
  {
   "cell_type": "markdown",
   "metadata": {},
   "source": [
    "### Проверка содержимого"
   ]
  },
  {
   "cell_type": "markdown",
   "metadata": {},
   "source": [
    "#### Таблица books"
   ]
  },
  {
   "cell_type": "code",
   "execution_count": 31,
   "metadata": {
    "scrolled": true
   },
   "outputs": [
    {
     "data": {
      "text/html": [
       "<div>\n",
       "<style scoped>\n",
       "    .dataframe tbody tr th:only-of-type {\n",
       "        vertical-align: middle;\n",
       "    }\n",
       "\n",
       "    .dataframe tbody tr th {\n",
       "        vertical-align: top;\n",
       "    }\n",
       "\n",
       "    .dataframe thead th {\n",
       "        text-align: right;\n",
       "    }\n",
       "</style>\n",
       "<table border=\"1\" class=\"dataframe\">\n",
       "  <thead>\n",
       "    <tr style=\"text-align: right;\">\n",
       "      <th></th>\n",
       "      <th>book_id</th>\n",
       "      <th>author_id</th>\n",
       "      <th>title</th>\n",
       "      <th>num_pages</th>\n",
       "      <th>publication_date</th>\n",
       "      <th>publisher_id</th>\n",
       "    </tr>\n",
       "  </thead>\n",
       "  <tbody>\n",
       "    <tr>\n",
       "      <th>0</th>\n",
       "      <td>1</td>\n",
       "      <td>546</td>\n",
       "      <td>'Salem's Lot</td>\n",
       "      <td>594</td>\n",
       "      <td>2005-11-01</td>\n",
       "      <td>93</td>\n",
       "    </tr>\n",
       "    <tr>\n",
       "      <th>1</th>\n",
       "      <td>2</td>\n",
       "      <td>465</td>\n",
       "      <td>1 000 Places to See Before You Die</td>\n",
       "      <td>992</td>\n",
       "      <td>2003-05-22</td>\n",
       "      <td>336</td>\n",
       "    </tr>\n",
       "    <tr>\n",
       "      <th>2</th>\n",
       "      <td>3</td>\n",
       "      <td>407</td>\n",
       "      <td>13 Little Blue Envelopes (Little Blue Envelope...</td>\n",
       "      <td>322</td>\n",
       "      <td>2010-12-21</td>\n",
       "      <td>135</td>\n",
       "    </tr>\n",
       "    <tr>\n",
       "      <th>3</th>\n",
       "      <td>4</td>\n",
       "      <td>82</td>\n",
       "      <td>1491: New Revelations of the Americas Before C...</td>\n",
       "      <td>541</td>\n",
       "      <td>2006-10-10</td>\n",
       "      <td>309</td>\n",
       "    </tr>\n",
       "    <tr>\n",
       "      <th>4</th>\n",
       "      <td>5</td>\n",
       "      <td>125</td>\n",
       "      <td>1776</td>\n",
       "      <td>386</td>\n",
       "      <td>2006-07-04</td>\n",
       "      <td>268</td>\n",
       "    </tr>\n",
       "  </tbody>\n",
       "</table>\n",
       "</div>"
      ],
      "text/plain": [
       "   book_id  author_id                                              title  \\\n",
       "0        1        546                                       'Salem's Lot   \n",
       "1        2        465                 1 000 Places to See Before You Die   \n",
       "2        3        407  13 Little Blue Envelopes (Little Blue Envelope...   \n",
       "3        4         82  1491: New Revelations of the Americas Before C...   \n",
       "4        5        125                                               1776   \n",
       "\n",
       "   num_pages publication_date  publisher_id  \n",
       "0        594       2005-11-01            93  \n",
       "1        992       2003-05-22           336  \n",
       "2        322       2010-12-21           135  \n",
       "3        541       2006-10-10           309  \n",
       "4        386       2006-07-04           268  "
      ]
     },
     "execution_count": 31,
     "metadata": {},
     "output_type": "execute_result"
    }
   ],
   "source": [
    "query = '''SELECT * FROM books LIMIT 5'''\n",
    "con=engine.connect()\n",
    "pd.io.sql.read_sql(sql=text(query), con = con)"
   ]
  },
  {
   "cell_type": "code",
   "execution_count": 32,
   "metadata": {},
   "outputs": [
    {
     "name": "stdout",
     "output_type": "stream",
     "text": [
      "В базе 1000 книг.\n"
     ]
    }
   ],
   "source": [
    "query = '''\n",
    "SELECT COUNT(*) \n",
    "FROM books \n",
    "'''\n",
    "con=engine.connect()\n",
    "result=pd.io.sql.read_sql(sql=text(query), con = con)\n",
    "print(f'В базе {result.values[0][0]} книг.')"
   ]
  },
  {
   "cell_type": "code",
   "execution_count": 33,
   "metadata": {},
   "outputs": [
    {
     "data": {
      "text/html": [
       "<div>\n",
       "<style scoped>\n",
       "    .dataframe tbody tr th:only-of-type {\n",
       "        vertical-align: middle;\n",
       "    }\n",
       "\n",
       "    .dataframe tbody tr th {\n",
       "        vertical-align: top;\n",
       "    }\n",
       "\n",
       "    .dataframe thead th {\n",
       "        text-align: right;\n",
       "    }\n",
       "</style>\n",
       "<table border=\"1\" class=\"dataframe\">\n",
       "  <thead>\n",
       "    <tr style=\"text-align: right;\">\n",
       "      <th></th>\n",
       "      <th>count</th>\n",
       "    </tr>\n",
       "  </thead>\n",
       "  <tbody>\n",
       "    <tr>\n",
       "      <th>0</th>\n",
       "      <td>0</td>\n",
       "    </tr>\n",
       "  </tbody>\n",
       "</table>\n",
       "</div>"
      ],
      "text/plain": [
       "   count\n",
       "0      0"
      ]
     },
     "execution_count": 33,
     "metadata": {},
     "output_type": "execute_result"
    }
   ],
   "source": [
    "query = '''\n",
    "SELECT COUNT(*) \n",
    "FROM books \n",
    "WHERE book_id IS NULL \n",
    "OR author_id IS NULL \n",
    "OR title IS NULL \n",
    "OR publication_date IS NULL\n",
    "OR publisher_id IS NULL\n",
    "'''\n",
    "con=engine.connect()\n",
    "pd.io.sql.read_sql(sql=text(query), con = con)"
   ]
  },
  {
   "cell_type": "markdown",
   "metadata": {},
   "source": [
    "Пропусков в данных не обнаружено"
   ]
  },
  {
   "cell_type": "code",
   "execution_count": 34,
   "metadata": {
    "scrolled": true
   },
   "outputs": [
    {
     "data": {
      "text/html": [
       "<div>\n",
       "<style scoped>\n",
       "    .dataframe tbody tr th:only-of-type {\n",
       "        vertical-align: middle;\n",
       "    }\n",
       "\n",
       "    .dataframe tbody tr th {\n",
       "        vertical-align: top;\n",
       "    }\n",
       "\n",
       "    .dataframe thead th {\n",
       "        text-align: right;\n",
       "    }\n",
       "</style>\n",
       "<table border=\"1\" class=\"dataframe\">\n",
       "  <thead>\n",
       "    <tr style=\"text-align: right;\">\n",
       "      <th></th>\n",
       "      <th>counted</th>\n",
       "    </tr>\n",
       "  </thead>\n",
       "  <tbody>\n",
       "    <tr>\n",
       "      <th>0</th>\n",
       "      <td>2</td>\n",
       "    </tr>\n",
       "    <tr>\n",
       "      <th>1</th>\n",
       "      <td>1</td>\n",
       "    </tr>\n",
       "    <tr>\n",
       "      <th>2</th>\n",
       "      <td>1</td>\n",
       "    </tr>\n",
       "    <tr>\n",
       "      <th>3</th>\n",
       "      <td>1</td>\n",
       "    </tr>\n",
       "    <tr>\n",
       "      <th>4</th>\n",
       "      <td>1</td>\n",
       "    </tr>\n",
       "  </tbody>\n",
       "</table>\n",
       "</div>"
      ],
      "text/plain": [
       "   counted\n",
       "0        2\n",
       "1        1\n",
       "2        1\n",
       "3        1\n",
       "4        1"
      ]
     },
     "execution_count": 34,
     "metadata": {},
     "output_type": "execute_result"
    }
   ],
   "source": [
    "query = '''\n",
    "SELECT COUNT(*) AS counted \n",
    "FROM books \n",
    "GROUP BY author_id, title\n",
    "ORDER BY counted DESC\n",
    "LIMIT 5\n",
    "'''\n",
    "con=engine.connect()\n",
    "pd.io.sql.read_sql(sql=text(query), con = con)"
   ]
  },
  {
   "cell_type": "markdown",
   "metadata": {},
   "source": [
    "В данных таблицы всего один дубликат по полям автор и название, при этом при добавлении издания этот дубликат исчезает."
   ]
  },
  {
   "cell_type": "markdown",
   "metadata": {},
   "source": [
    "#### Таблица authors"
   ]
  },
  {
   "cell_type": "code",
   "execution_count": 35,
   "metadata": {},
   "outputs": [
    {
     "data": {
      "text/html": [
       "<div>\n",
       "<style scoped>\n",
       "    .dataframe tbody tr th:only-of-type {\n",
       "        vertical-align: middle;\n",
       "    }\n",
       "\n",
       "    .dataframe tbody tr th {\n",
       "        vertical-align: top;\n",
       "    }\n",
       "\n",
       "    .dataframe thead th {\n",
       "        text-align: right;\n",
       "    }\n",
       "</style>\n",
       "<table border=\"1\" class=\"dataframe\">\n",
       "  <thead>\n",
       "    <tr style=\"text-align: right;\">\n",
       "      <th></th>\n",
       "      <th>author_id</th>\n",
       "      <th>author</th>\n",
       "    </tr>\n",
       "  </thead>\n",
       "  <tbody>\n",
       "    <tr>\n",
       "      <th>0</th>\n",
       "      <td>1</td>\n",
       "      <td>A.S. Byatt</td>\n",
       "    </tr>\n",
       "    <tr>\n",
       "      <th>1</th>\n",
       "      <td>2</td>\n",
       "      <td>Aesop/Laura Harris/Laura Gibbs</td>\n",
       "    </tr>\n",
       "    <tr>\n",
       "      <th>2</th>\n",
       "      <td>3</td>\n",
       "      <td>Agatha Christie</td>\n",
       "    </tr>\n",
       "    <tr>\n",
       "      <th>3</th>\n",
       "      <td>4</td>\n",
       "      <td>Alan Brennert</td>\n",
       "    </tr>\n",
       "    <tr>\n",
       "      <th>4</th>\n",
       "      <td>5</td>\n",
       "      <td>Alan Moore/David   Lloyd</td>\n",
       "    </tr>\n",
       "  </tbody>\n",
       "</table>\n",
       "</div>"
      ],
      "text/plain": [
       "   author_id                          author\n",
       "0          1                      A.S. Byatt\n",
       "1          2  Aesop/Laura Harris/Laura Gibbs\n",
       "2          3                 Agatha Christie\n",
       "3          4                   Alan Brennert\n",
       "4          5        Alan Moore/David   Lloyd"
      ]
     },
     "execution_count": 35,
     "metadata": {},
     "output_type": "execute_result"
    }
   ],
   "source": [
    "query = '''SELECT * FROM authors LIMIT 5'''\n",
    "con=engine.connect()\n",
    "pd.io.sql.read_sql(sql=text(query), con = con)"
   ]
  },
  {
   "cell_type": "code",
   "execution_count": 36,
   "metadata": {},
   "outputs": [
    {
     "name": "stdout",
     "output_type": "stream",
     "text": [
      "В базе 636 авторов.\n"
     ]
    }
   ],
   "source": [
    "query = '''\n",
    "SELECT COUNT(*) \n",
    "FROM authors \n",
    "'''\n",
    "con=engine.connect()\n",
    "result=pd.io.sql.read_sql(sql=text(query), con = con)\n",
    "print(f'В базе {result.values[0][0]} авторов.')"
   ]
  },
  {
   "cell_type": "code",
   "execution_count": 37,
   "metadata": {},
   "outputs": [
    {
     "data": {
      "text/html": [
       "<div>\n",
       "<style scoped>\n",
       "    .dataframe tbody tr th:only-of-type {\n",
       "        vertical-align: middle;\n",
       "    }\n",
       "\n",
       "    .dataframe tbody tr th {\n",
       "        vertical-align: top;\n",
       "    }\n",
       "\n",
       "    .dataframe thead th {\n",
       "        text-align: right;\n",
       "    }\n",
       "</style>\n",
       "<table border=\"1\" class=\"dataframe\">\n",
       "  <thead>\n",
       "    <tr style=\"text-align: right;\">\n",
       "      <th></th>\n",
       "      <th>count</th>\n",
       "    </tr>\n",
       "  </thead>\n",
       "  <tbody>\n",
       "    <tr>\n",
       "      <th>0</th>\n",
       "      <td>0</td>\n",
       "    </tr>\n",
       "  </tbody>\n",
       "</table>\n",
       "</div>"
      ],
      "text/plain": [
       "   count\n",
       "0      0"
      ]
     },
     "execution_count": 37,
     "metadata": {},
     "output_type": "execute_result"
    }
   ],
   "source": [
    "query = '''\n",
    "SELECT COUNT(*) \n",
    "FROM authors \n",
    "WHERE author IS NULL \n",
    "OR author_id IS NULL \n",
    "\n",
    "'''\n",
    "con=engine.connect()\n",
    "pd.io.sql.read_sql(sql=text(query), con = con)"
   ]
  },
  {
   "cell_type": "markdown",
   "metadata": {},
   "source": [
    "Пропусков в данных не обнаружено"
   ]
  },
  {
   "cell_type": "code",
   "execution_count": 38,
   "metadata": {},
   "outputs": [
    {
     "data": {
      "text/html": [
       "<div>\n",
       "<style scoped>\n",
       "    .dataframe tbody tr th:only-of-type {\n",
       "        vertical-align: middle;\n",
       "    }\n",
       "\n",
       "    .dataframe tbody tr th {\n",
       "        vertical-align: top;\n",
       "    }\n",
       "\n",
       "    .dataframe thead th {\n",
       "        text-align: right;\n",
       "    }\n",
       "</style>\n",
       "<table border=\"1\" class=\"dataframe\">\n",
       "  <thead>\n",
       "    <tr style=\"text-align: right;\">\n",
       "      <th></th>\n",
       "      <th>counted</th>\n",
       "    </tr>\n",
       "  </thead>\n",
       "  <tbody>\n",
       "    <tr>\n",
       "      <th>0</th>\n",
       "      <td>1</td>\n",
       "    </tr>\n",
       "    <tr>\n",
       "      <th>1</th>\n",
       "      <td>1</td>\n",
       "    </tr>\n",
       "    <tr>\n",
       "      <th>2</th>\n",
       "      <td>1</td>\n",
       "    </tr>\n",
       "    <tr>\n",
       "      <th>3</th>\n",
       "      <td>1</td>\n",
       "    </tr>\n",
       "    <tr>\n",
       "      <th>4</th>\n",
       "      <td>1</td>\n",
       "    </tr>\n",
       "  </tbody>\n",
       "</table>\n",
       "</div>"
      ],
      "text/plain": [
       "   counted\n",
       "0        1\n",
       "1        1\n",
       "2        1\n",
       "3        1\n",
       "4        1"
      ]
     },
     "execution_count": 38,
     "metadata": {},
     "output_type": "execute_result"
    }
   ],
   "source": [
    "query = '''\n",
    "SELECT COUNT(*) AS counted \n",
    "FROM authors \n",
    "GROUP BY author_id, author\n",
    "ORDER BY counted DESC\n",
    "LIMIT 5\n",
    "'''\n",
    "con=engine.connect()\n",
    "pd.io.sql.read_sql(sql=text(query), con = con)"
   ]
  },
  {
   "cell_type": "markdown",
   "metadata": {},
   "source": [
    "Дубликатов в таблице authors не обнаружено"
   ]
  },
  {
   "cell_type": "markdown",
   "metadata": {},
   "source": [
    "#### Таблица ratings"
   ]
  },
  {
   "cell_type": "code",
   "execution_count": 39,
   "metadata": {},
   "outputs": [
    {
     "data": {
      "text/html": [
       "<div>\n",
       "<style scoped>\n",
       "    .dataframe tbody tr th:only-of-type {\n",
       "        vertical-align: middle;\n",
       "    }\n",
       "\n",
       "    .dataframe tbody tr th {\n",
       "        vertical-align: top;\n",
       "    }\n",
       "\n",
       "    .dataframe thead th {\n",
       "        text-align: right;\n",
       "    }\n",
       "</style>\n",
       "<table border=\"1\" class=\"dataframe\">\n",
       "  <thead>\n",
       "    <tr style=\"text-align: right;\">\n",
       "      <th></th>\n",
       "      <th>rating_id</th>\n",
       "      <th>book_id</th>\n",
       "      <th>username</th>\n",
       "      <th>rating</th>\n",
       "    </tr>\n",
       "  </thead>\n",
       "  <tbody>\n",
       "    <tr>\n",
       "      <th>0</th>\n",
       "      <td>1</td>\n",
       "      <td>1</td>\n",
       "      <td>ryanfranco</td>\n",
       "      <td>4</td>\n",
       "    </tr>\n",
       "    <tr>\n",
       "      <th>1</th>\n",
       "      <td>2</td>\n",
       "      <td>1</td>\n",
       "      <td>grantpatricia</td>\n",
       "      <td>2</td>\n",
       "    </tr>\n",
       "    <tr>\n",
       "      <th>2</th>\n",
       "      <td>3</td>\n",
       "      <td>1</td>\n",
       "      <td>brandtandrea</td>\n",
       "      <td>5</td>\n",
       "    </tr>\n",
       "    <tr>\n",
       "      <th>3</th>\n",
       "      <td>4</td>\n",
       "      <td>2</td>\n",
       "      <td>lorichen</td>\n",
       "      <td>3</td>\n",
       "    </tr>\n",
       "    <tr>\n",
       "      <th>4</th>\n",
       "      <td>5</td>\n",
       "      <td>2</td>\n",
       "      <td>mariokeller</td>\n",
       "      <td>2</td>\n",
       "    </tr>\n",
       "  </tbody>\n",
       "</table>\n",
       "</div>"
      ],
      "text/plain": [
       "   rating_id  book_id       username  rating\n",
       "0          1        1     ryanfranco       4\n",
       "1          2        1  grantpatricia       2\n",
       "2          3        1   brandtandrea       5\n",
       "3          4        2       lorichen       3\n",
       "4          5        2    mariokeller       2"
      ]
     },
     "execution_count": 39,
     "metadata": {},
     "output_type": "execute_result"
    }
   ],
   "source": [
    "query = '''SELECT * FROM ratings LIMIT 5'''\n",
    "con=engine.connect()\n",
    "pd.io.sql.read_sql(sql=text(query), con = con)"
   ]
  },
  {
   "cell_type": "code",
   "execution_count": 40,
   "metadata": {},
   "outputs": [
    {
     "name": "stdout",
     "output_type": "stream",
     "text": [
      "В базе 6456 оценок.\n"
     ]
    }
   ],
   "source": [
    "query = '''\n",
    "SELECT COUNT(*) \n",
    "FROM ratings \n",
    "'''\n",
    "con=engine.connect()\n",
    "result=pd.io.sql.read_sql(sql=text(query), con = con)\n",
    "print(f'В базе {result.values[0][0]} оценок.')"
   ]
  },
  {
   "cell_type": "code",
   "execution_count": 41,
   "metadata": {},
   "outputs": [
    {
     "data": {
      "text/html": [
       "<div>\n",
       "<style scoped>\n",
       "    .dataframe tbody tr th:only-of-type {\n",
       "        vertical-align: middle;\n",
       "    }\n",
       "\n",
       "    .dataframe tbody tr th {\n",
       "        vertical-align: top;\n",
       "    }\n",
       "\n",
       "    .dataframe thead th {\n",
       "        text-align: right;\n",
       "    }\n",
       "</style>\n",
       "<table border=\"1\" class=\"dataframe\">\n",
       "  <thead>\n",
       "    <tr style=\"text-align: right;\">\n",
       "      <th></th>\n",
       "      <th>count</th>\n",
       "    </tr>\n",
       "  </thead>\n",
       "  <tbody>\n",
       "    <tr>\n",
       "      <th>0</th>\n",
       "      <td>0</td>\n",
       "    </tr>\n",
       "  </tbody>\n",
       "</table>\n",
       "</div>"
      ],
      "text/plain": [
       "   count\n",
       "0      0"
      ]
     },
     "execution_count": 41,
     "metadata": {},
     "output_type": "execute_result"
    }
   ],
   "source": [
    "query = '''\n",
    "SELECT COUNT(*) \n",
    "FROM ratings \n",
    "WHERE rating_id IS NULL \n",
    "OR book_id IS NULL \n",
    "OR username IS NULL \n",
    "OR rating IS NULL \n",
    "'''\n",
    "con=engine.connect()\n",
    "pd.io.sql.read_sql(sql=text(query), con = con)"
   ]
  },
  {
   "cell_type": "markdown",
   "metadata": {},
   "source": [
    "Пропусков в данных не обнаружено"
   ]
  },
  {
   "cell_type": "code",
   "execution_count": 42,
   "metadata": {},
   "outputs": [
    {
     "data": {
      "text/html": [
       "<div>\n",
       "<style scoped>\n",
       "    .dataframe tbody tr th:only-of-type {\n",
       "        vertical-align: middle;\n",
       "    }\n",
       "\n",
       "    .dataframe tbody tr th {\n",
       "        vertical-align: top;\n",
       "    }\n",
       "\n",
       "    .dataframe thead th {\n",
       "        text-align: right;\n",
       "    }\n",
       "</style>\n",
       "<table border=\"1\" class=\"dataframe\">\n",
       "  <thead>\n",
       "    <tr style=\"text-align: right;\">\n",
       "      <th></th>\n",
       "      <th>counted</th>\n",
       "    </tr>\n",
       "  </thead>\n",
       "  <tbody>\n",
       "    <tr>\n",
       "      <th>0</th>\n",
       "      <td>1</td>\n",
       "    </tr>\n",
       "    <tr>\n",
       "      <th>1</th>\n",
       "      <td>1</td>\n",
       "    </tr>\n",
       "    <tr>\n",
       "      <th>2</th>\n",
       "      <td>1</td>\n",
       "    </tr>\n",
       "    <tr>\n",
       "      <th>3</th>\n",
       "      <td>1</td>\n",
       "    </tr>\n",
       "    <tr>\n",
       "      <th>4</th>\n",
       "      <td>1</td>\n",
       "    </tr>\n",
       "  </tbody>\n",
       "</table>\n",
       "</div>"
      ],
      "text/plain": [
       "   counted\n",
       "0        1\n",
       "1        1\n",
       "2        1\n",
       "3        1\n",
       "4        1"
      ]
     },
     "execution_count": 42,
     "metadata": {},
     "output_type": "execute_result"
    }
   ],
   "source": [
    "query = '''\n",
    "SELECT COUNT(*) AS counted \n",
    "FROM ratings \n",
    "GROUP BY username, rating,book_id\n",
    "ORDER BY counted DESC\n",
    "LIMIT 5\n",
    "'''\n",
    "con=engine.connect()\n",
    "pd.io.sql.read_sql(sql=text(query), con = con)"
   ]
  },
  {
   "cell_type": "markdown",
   "metadata": {},
   "source": [
    "Дубликатов в данных таблицы не обнаружено"
   ]
  },
  {
   "cell_type": "markdown",
   "metadata": {},
   "source": [
    "#### Таблица reviews"
   ]
  },
  {
   "cell_type": "code",
   "execution_count": 43,
   "metadata": {
    "scrolled": true
   },
   "outputs": [
    {
     "data": {
      "text/html": [
       "<div>\n",
       "<style scoped>\n",
       "    .dataframe tbody tr th:only-of-type {\n",
       "        vertical-align: middle;\n",
       "    }\n",
       "\n",
       "    .dataframe tbody tr th {\n",
       "        vertical-align: top;\n",
       "    }\n",
       "\n",
       "    .dataframe thead th {\n",
       "        text-align: right;\n",
       "    }\n",
       "</style>\n",
       "<table border=\"1\" class=\"dataframe\">\n",
       "  <thead>\n",
       "    <tr style=\"text-align: right;\">\n",
       "      <th></th>\n",
       "      <th>review_id</th>\n",
       "      <th>book_id</th>\n",
       "      <th>username</th>\n",
       "      <th>text</th>\n",
       "    </tr>\n",
       "  </thead>\n",
       "  <tbody>\n",
       "    <tr>\n",
       "      <th>0</th>\n",
       "      <td>1</td>\n",
       "      <td>1</td>\n",
       "      <td>brandtandrea</td>\n",
       "      <td>Mention society tell send professor analysis. ...</td>\n",
       "    </tr>\n",
       "    <tr>\n",
       "      <th>1</th>\n",
       "      <td>2</td>\n",
       "      <td>1</td>\n",
       "      <td>ryanfranco</td>\n",
       "      <td>Foot glass pretty audience hit themselves. Amo...</td>\n",
       "    </tr>\n",
       "    <tr>\n",
       "      <th>2</th>\n",
       "      <td>3</td>\n",
       "      <td>2</td>\n",
       "      <td>lorichen</td>\n",
       "      <td>Listen treat keep worry. Miss husband tax but ...</td>\n",
       "    </tr>\n",
       "    <tr>\n",
       "      <th>3</th>\n",
       "      <td>4</td>\n",
       "      <td>3</td>\n",
       "      <td>johnsonamanda</td>\n",
       "      <td>Finally month interesting blue could nature cu...</td>\n",
       "    </tr>\n",
       "    <tr>\n",
       "      <th>4</th>\n",
       "      <td>5</td>\n",
       "      <td>3</td>\n",
       "      <td>scotttamara</td>\n",
       "      <td>Nation purpose heavy give wait song will. List...</td>\n",
       "    </tr>\n",
       "  </tbody>\n",
       "</table>\n",
       "</div>"
      ],
      "text/plain": [
       "   review_id  book_id       username  \\\n",
       "0          1        1   brandtandrea   \n",
       "1          2        1     ryanfranco   \n",
       "2          3        2       lorichen   \n",
       "3          4        3  johnsonamanda   \n",
       "4          5        3    scotttamara   \n",
       "\n",
       "                                                text  \n",
       "0  Mention society tell send professor analysis. ...  \n",
       "1  Foot glass pretty audience hit themselves. Amo...  \n",
       "2  Listen treat keep worry. Miss husband tax but ...  \n",
       "3  Finally month interesting blue could nature cu...  \n",
       "4  Nation purpose heavy give wait song will. List...  "
      ]
     },
     "execution_count": 43,
     "metadata": {},
     "output_type": "execute_result"
    }
   ],
   "source": [
    "query = '''SELECT * FROM reviews LIMIT 5'''\n",
    "con=engine.connect()\n",
    "pd.io.sql.read_sql(sql=text(query), con = con)"
   ]
  },
  {
   "cell_type": "code",
   "execution_count": 44,
   "metadata": {},
   "outputs": [
    {
     "name": "stdout",
     "output_type": "stream",
     "text": [
      "В базе 2793 обзоров.\n"
     ]
    }
   ],
   "source": [
    "query = '''\n",
    "SELECT COUNT(*) \n",
    "FROM reviews \n",
    "'''\n",
    "con=engine.connect()\n",
    "result=pd.io.sql.read_sql(sql=text(query), con = con)\n",
    "print(f'В базе {result.values[0][0]} обзоров.')"
   ]
  },
  {
   "cell_type": "code",
   "execution_count": 45,
   "metadata": {},
   "outputs": [
    {
     "data": {
      "text/html": [
       "<div>\n",
       "<style scoped>\n",
       "    .dataframe tbody tr th:only-of-type {\n",
       "        vertical-align: middle;\n",
       "    }\n",
       "\n",
       "    .dataframe tbody tr th {\n",
       "        vertical-align: top;\n",
       "    }\n",
       "\n",
       "    .dataframe thead th {\n",
       "        text-align: right;\n",
       "    }\n",
       "</style>\n",
       "<table border=\"1\" class=\"dataframe\">\n",
       "  <thead>\n",
       "    <tr style=\"text-align: right;\">\n",
       "      <th></th>\n",
       "      <th>count</th>\n",
       "    </tr>\n",
       "  </thead>\n",
       "  <tbody>\n",
       "    <tr>\n",
       "      <th>0</th>\n",
       "      <td>0</td>\n",
       "    </tr>\n",
       "  </tbody>\n",
       "</table>\n",
       "</div>"
      ],
      "text/plain": [
       "   count\n",
       "0      0"
      ]
     },
     "execution_count": 45,
     "metadata": {},
     "output_type": "execute_result"
    }
   ],
   "source": [
    "query = '''\n",
    "SELECT COUNT(*) \n",
    "FROM reviews \n",
    "WHERE review_id IS NULL \n",
    "OR book_id IS NULL \n",
    "OR username IS NULL \n",
    "OR text IS NULL \n",
    "'''\n",
    "con=engine.connect()\n",
    "pd.io.sql.read_sql(sql=text(query), con = con)"
   ]
  },
  {
   "cell_type": "markdown",
   "metadata": {},
   "source": [
    "Пропусков в данных не обнаружено"
   ]
  },
  {
   "cell_type": "code",
   "execution_count": 46,
   "metadata": {},
   "outputs": [
    {
     "data": {
      "text/html": [
       "<div>\n",
       "<style scoped>\n",
       "    .dataframe tbody tr th:only-of-type {\n",
       "        vertical-align: middle;\n",
       "    }\n",
       "\n",
       "    .dataframe tbody tr th {\n",
       "        vertical-align: top;\n",
       "    }\n",
       "\n",
       "    .dataframe thead th {\n",
       "        text-align: right;\n",
       "    }\n",
       "</style>\n",
       "<table border=\"1\" class=\"dataframe\">\n",
       "  <thead>\n",
       "    <tr style=\"text-align: right;\">\n",
       "      <th></th>\n",
       "      <th>counted</th>\n",
       "    </tr>\n",
       "  </thead>\n",
       "  <tbody>\n",
       "    <tr>\n",
       "      <th>0</th>\n",
       "      <td>1</td>\n",
       "    </tr>\n",
       "    <tr>\n",
       "      <th>1</th>\n",
       "      <td>1</td>\n",
       "    </tr>\n",
       "    <tr>\n",
       "      <th>2</th>\n",
       "      <td>1</td>\n",
       "    </tr>\n",
       "    <tr>\n",
       "      <th>3</th>\n",
       "      <td>1</td>\n",
       "    </tr>\n",
       "    <tr>\n",
       "      <th>4</th>\n",
       "      <td>1</td>\n",
       "    </tr>\n",
       "  </tbody>\n",
       "</table>\n",
       "</div>"
      ],
      "text/plain": [
       "   counted\n",
       "0        1\n",
       "1        1\n",
       "2        1\n",
       "3        1\n",
       "4        1"
      ]
     },
     "execution_count": 46,
     "metadata": {},
     "output_type": "execute_result"
    }
   ],
   "source": [
    "query = '''\n",
    "SELECT COUNT(*) AS counted \n",
    "FROM reviews \n",
    "GROUP BY username, text\n",
    "ORDER BY counted DESC\n",
    "LIMIT 5\n",
    "'''\n",
    "con=engine.connect()\n",
    "pd.io.sql.read_sql(sql=text(query), con = con)"
   ]
  },
  {
   "cell_type": "markdown",
   "metadata": {},
   "source": [
    "Дубликатов в данных таблицы не обнаружено"
   ]
  },
  {
   "cell_type": "markdown",
   "metadata": {},
   "source": [
    "#### Таблица publishers"
   ]
  },
  {
   "cell_type": "code",
   "execution_count": 47,
   "metadata": {
    "scrolled": true
   },
   "outputs": [
    {
     "data": {
      "text/html": [
       "<div>\n",
       "<style scoped>\n",
       "    .dataframe tbody tr th:only-of-type {\n",
       "        vertical-align: middle;\n",
       "    }\n",
       "\n",
       "    .dataframe tbody tr th {\n",
       "        vertical-align: top;\n",
       "    }\n",
       "\n",
       "    .dataframe thead th {\n",
       "        text-align: right;\n",
       "    }\n",
       "</style>\n",
       "<table border=\"1\" class=\"dataframe\">\n",
       "  <thead>\n",
       "    <tr style=\"text-align: right;\">\n",
       "      <th></th>\n",
       "      <th>publisher_id</th>\n",
       "      <th>publisher</th>\n",
       "    </tr>\n",
       "  </thead>\n",
       "  <tbody>\n",
       "    <tr>\n",
       "      <th>0</th>\n",
       "      <td>1</td>\n",
       "      <td>Ace</td>\n",
       "    </tr>\n",
       "    <tr>\n",
       "      <th>1</th>\n",
       "      <td>2</td>\n",
       "      <td>Ace Book</td>\n",
       "    </tr>\n",
       "    <tr>\n",
       "      <th>2</th>\n",
       "      <td>3</td>\n",
       "      <td>Ace Books</td>\n",
       "    </tr>\n",
       "    <tr>\n",
       "      <th>3</th>\n",
       "      <td>4</td>\n",
       "      <td>Ace Hardcover</td>\n",
       "    </tr>\n",
       "    <tr>\n",
       "      <th>4</th>\n",
       "      <td>5</td>\n",
       "      <td>Addison Wesley Publishing Company</td>\n",
       "    </tr>\n",
       "  </tbody>\n",
       "</table>\n",
       "</div>"
      ],
      "text/plain": [
       "   publisher_id                          publisher\n",
       "0             1                                Ace\n",
       "1             2                           Ace Book\n",
       "2             3                          Ace Books\n",
       "3             4                      Ace Hardcover\n",
       "4             5  Addison Wesley Publishing Company"
      ]
     },
     "execution_count": 47,
     "metadata": {},
     "output_type": "execute_result"
    }
   ],
   "source": [
    "query = '''SELECT * FROM publishers LIMIT 5'''\n",
    "con=engine.connect()\n",
    "pd.io.sql.read_sql(sql=text(query), con = con)"
   ]
  },
  {
   "cell_type": "code",
   "execution_count": 48,
   "metadata": {},
   "outputs": [
    {
     "name": "stdout",
     "output_type": "stream",
     "text": [
      "В базе 340 изданий.\n"
     ]
    }
   ],
   "source": [
    "query = '''\n",
    "SELECT COUNT(*) \n",
    "FROM publishers \n",
    "'''\n",
    "con=engine.connect()\n",
    "result=pd.io.sql.read_sql(sql=text(query), con = con)\n",
    "print(f'В базе {result.values[0][0]} изданий.')"
   ]
  },
  {
   "cell_type": "code",
   "execution_count": 49,
   "metadata": {},
   "outputs": [
    {
     "data": {
      "text/html": [
       "<div>\n",
       "<style scoped>\n",
       "    .dataframe tbody tr th:only-of-type {\n",
       "        vertical-align: middle;\n",
       "    }\n",
       "\n",
       "    .dataframe tbody tr th {\n",
       "        vertical-align: top;\n",
       "    }\n",
       "\n",
       "    .dataframe thead th {\n",
       "        text-align: right;\n",
       "    }\n",
       "</style>\n",
       "<table border=\"1\" class=\"dataframe\">\n",
       "  <thead>\n",
       "    <tr style=\"text-align: right;\">\n",
       "      <th></th>\n",
       "      <th>count</th>\n",
       "    </tr>\n",
       "  </thead>\n",
       "  <tbody>\n",
       "    <tr>\n",
       "      <th>0</th>\n",
       "      <td>0</td>\n",
       "    </tr>\n",
       "  </tbody>\n",
       "</table>\n",
       "</div>"
      ],
      "text/plain": [
       "   count\n",
       "0      0"
      ]
     },
     "execution_count": 49,
     "metadata": {},
     "output_type": "execute_result"
    }
   ],
   "source": [
    "query = '''\n",
    "SELECT COUNT(*) \n",
    "FROM publishers \n",
    "WHERE publisher_id IS NULL \n",
    "OR publisher IS NULL \n",
    "\n",
    "'''\n",
    "con=engine.connect()\n",
    "pd.io.sql.read_sql(sql=text(query), con = con)"
   ]
  },
  {
   "cell_type": "markdown",
   "metadata": {},
   "source": [
    "Пропусков в данных не обнаружено"
   ]
  },
  {
   "cell_type": "code",
   "execution_count": 50,
   "metadata": {},
   "outputs": [
    {
     "data": {
      "text/html": [
       "<div>\n",
       "<style scoped>\n",
       "    .dataframe tbody tr th:only-of-type {\n",
       "        vertical-align: middle;\n",
       "    }\n",
       "\n",
       "    .dataframe tbody tr th {\n",
       "        vertical-align: top;\n",
       "    }\n",
       "\n",
       "    .dataframe thead th {\n",
       "        text-align: right;\n",
       "    }\n",
       "</style>\n",
       "<table border=\"1\" class=\"dataframe\">\n",
       "  <thead>\n",
       "    <tr style=\"text-align: right;\">\n",
       "      <th></th>\n",
       "      <th>counted</th>\n",
       "    </tr>\n",
       "  </thead>\n",
       "  <tbody>\n",
       "    <tr>\n",
       "      <th>0</th>\n",
       "      <td>1</td>\n",
       "    </tr>\n",
       "    <tr>\n",
       "      <th>1</th>\n",
       "      <td>1</td>\n",
       "    </tr>\n",
       "    <tr>\n",
       "      <th>2</th>\n",
       "      <td>1</td>\n",
       "    </tr>\n",
       "    <tr>\n",
       "      <th>3</th>\n",
       "      <td>1</td>\n",
       "    </tr>\n",
       "    <tr>\n",
       "      <th>4</th>\n",
       "      <td>1</td>\n",
       "    </tr>\n",
       "  </tbody>\n",
       "</table>\n",
       "</div>"
      ],
      "text/plain": [
       "   counted\n",
       "0        1\n",
       "1        1\n",
       "2        1\n",
       "3        1\n",
       "4        1"
      ]
     },
     "execution_count": 50,
     "metadata": {},
     "output_type": "execute_result"
    }
   ],
   "source": [
    "query = '''\n",
    "SELECT COUNT(*) AS counted \n",
    "FROM publishers \n",
    "GROUP BY publisher_id, publisher\n",
    "ORDER BY counted DESC\n",
    "LIMIT 5\n",
    "'''\n",
    "con=engine.connect()\n",
    "pd.io.sql.read_sql(sql=text(query), con = con)"
   ]
  },
  {
   "cell_type": "markdown",
   "metadata": {},
   "source": [
    "Дубликатов в данных таблицы не обнаружено"
   ]
  },
  {
   "cell_type": "markdown",
   "metadata": {},
   "source": [
    "### Вывод по разделу"
   ]
  },
  {
   "cell_type": "markdown",
   "metadata": {},
   "source": [
    "Дубликатов и пропусков в таблице не обнаружено.\n",
    "\n",
    "В таблицах следующее количество записей:\n",
    "- books: 1000\n",
    "- authors: 636\n",
    "- ratings: 6456 \n",
    "- reviews: 2793 \n",
    "- publishers: 340 "
   ]
  },
  {
   "cell_type": "markdown",
   "metadata": {},
   "source": [
    "## Выполнение задач исследования"
   ]
  },
  {
   "cell_type": "markdown",
   "metadata": {},
   "source": [
    "### Посчитайте, сколько книг вышло после 1 января 2000 года;"
   ]
  },
  {
   "cell_type": "code",
   "execution_count": 51,
   "metadata": {},
   "outputs": [
    {
     "name": "stdout",
     "output_type": "stream",
     "text": [
      "Число книг в базе данных, вышедших после 01.01.2000: 819 единиц.\n"
     ]
    }
   ],
   "source": [
    "query = '''SELECT count(book_id)\n",
    "FROM books\n",
    "WHERE (publication_date::date > '2000-01-1')'''\n",
    "con=engine.connect()\n",
    "result=pd.io.sql.read_sql(sql=text(query), con = con)\n",
    "print(f'Число книг в базе данных, вышедших после 01.01.2000: {result.values[0][0]} единиц.')"
   ]
  },
  {
   "cell_type": "markdown",
   "metadata": {},
   "source": [
    "### Для каждой книги посчитайте количество обзоров и среднюю оценку;"
   ]
  },
  {
   "cell_type": "code",
   "execution_count": 52,
   "metadata": {},
   "outputs": [
    {
     "data": {
      "text/html": [
       "<div>\n",
       "<style scoped>\n",
       "    .dataframe tbody tr th:only-of-type {\n",
       "        vertical-align: middle;\n",
       "    }\n",
       "\n",
       "    .dataframe tbody tr th {\n",
       "        vertical-align: top;\n",
       "    }\n",
       "\n",
       "    .dataframe thead th {\n",
       "        text-align: right;\n",
       "    }\n",
       "</style>\n",
       "<table border=\"1\" class=\"dataframe\">\n",
       "  <thead>\n",
       "    <tr style=\"text-align: right;\">\n",
       "      <th></th>\n",
       "      <th>title</th>\n",
       "      <th>review_number</th>\n",
       "      <th>rating_mean</th>\n",
       "    </tr>\n",
       "  </thead>\n",
       "  <tbody>\n",
       "    <tr>\n",
       "      <th>0</th>\n",
       "      <td>Twilight (Twilight  #1)</td>\n",
       "      <td>1120</td>\n",
       "      <td>3.7</td>\n",
       "    </tr>\n",
       "    <tr>\n",
       "      <th>1</th>\n",
       "      <td>The Hobbit  or There and Back Again</td>\n",
       "      <td>528</td>\n",
       "      <td>4.1</td>\n",
       "    </tr>\n",
       "    <tr>\n",
       "      <th>2</th>\n",
       "      <td>The Catcher in the Rye</td>\n",
       "      <td>516</td>\n",
       "      <td>3.8</td>\n",
       "    </tr>\n",
       "    <tr>\n",
       "      <th>3</th>\n",
       "      <td>Harry Potter and the Prisoner of Azkaban (Harr...</td>\n",
       "      <td>492</td>\n",
       "      <td>4.4</td>\n",
       "    </tr>\n",
       "    <tr>\n",
       "      <th>4</th>\n",
       "      <td>Harry Potter and the Chamber of Secrets (Harry...</td>\n",
       "      <td>480</td>\n",
       "      <td>4.3</td>\n",
       "    </tr>\n",
       "    <tr>\n",
       "      <th>...</th>\n",
       "      <td>...</td>\n",
       "      <td>...</td>\n",
       "      <td>...</td>\n",
       "    </tr>\n",
       "    <tr>\n",
       "      <th>995</th>\n",
       "      <td>Leonardo's Notebooks</td>\n",
       "      <td>0</td>\n",
       "      <td>4.0</td>\n",
       "    </tr>\n",
       "    <tr>\n",
       "      <th>996</th>\n",
       "      <td>Disney's Beauty and the Beast (A Little Golden...</td>\n",
       "      <td>0</td>\n",
       "      <td>4.0</td>\n",
       "    </tr>\n",
       "    <tr>\n",
       "      <th>997</th>\n",
       "      <td>Essential Tales and Poems</td>\n",
       "      <td>0</td>\n",
       "      <td>4.0</td>\n",
       "    </tr>\n",
       "    <tr>\n",
       "      <th>998</th>\n",
       "      <td>Anne Rice's The Vampire Lestat: A Graphic Novel</td>\n",
       "      <td>0</td>\n",
       "      <td>3.7</td>\n",
       "    </tr>\n",
       "    <tr>\n",
       "      <th>999</th>\n",
       "      <td>The Natural Way to Draw</td>\n",
       "      <td>0</td>\n",
       "      <td>3.0</td>\n",
       "    </tr>\n",
       "  </tbody>\n",
       "</table>\n",
       "<p>1000 rows × 3 columns</p>\n",
       "</div>"
      ],
      "text/plain": [
       "                                                 title  review_number  \\\n",
       "0                              Twilight (Twilight  #1)           1120   \n",
       "1                  The Hobbit  or There and Back Again            528   \n",
       "2                               The Catcher in the Rye            516   \n",
       "3    Harry Potter and the Prisoner of Azkaban (Harr...            492   \n",
       "4    Harry Potter and the Chamber of Secrets (Harry...            480   \n",
       "..                                                 ...            ...   \n",
       "995                               Leonardo's Notebooks              0   \n",
       "996  Disney's Beauty and the Beast (A Little Golden...              0   \n",
       "997                          Essential Tales and Poems              0   \n",
       "998    Anne Rice's The Vampire Lestat: A Graphic Novel              0   \n",
       "999                            The Natural Way to Draw              0   \n",
       "\n",
       "     rating_mean  \n",
       "0            3.7  \n",
       "1            4.1  \n",
       "2            3.8  \n",
       "3            4.4  \n",
       "4            4.3  \n",
       "..           ...  \n",
       "995          4.0  \n",
       "996          4.0  \n",
       "997          4.0  \n",
       "998          3.7  \n",
       "999          3.0  \n",
       "\n",
       "[1000 rows x 3 columns]"
      ]
     },
     "execution_count": 52,
     "metadata": {},
     "output_type": "execute_result"
    }
   ],
   "source": [
    "query = '''SELECT b.title,\n",
    "            COUNT(re.review_id) as review_number,\n",
    "            ROUND(AVG(ra.rating),1) as rating_mean\n",
    "FROM books as b\n",
    "LEFT JOIN ratings AS ra ON ra.book_id=b.book_id\n",
    "LEFT JOIN reviews AS re ON re.book_id=b.book_id\n",
    "GROUP BY b.book_id\n",
    "ORDER BY  review_number DESC, rating_mean DESC\n",
    "'''\n",
    "con=engine.connect()\n",
    "pd.io.sql.read_sql(sql=text(query), con = con)"
   ]
  },
  {
   "cell_type": "markdown",
   "metadata": {},
   "source": [
    "В данных 1000 книг. Оценки колеблятся от 5.0 до 1.5. Число обзоров - от 1120 до 0."
   ]
  },
  {
   "cell_type": "markdown",
   "metadata": {},
   "source": [
    "### Определите издательство, которое выпустило наибольшее число книг толще 50 страниц — так вы исключите из анализа брошюры;"
   ]
  },
  {
   "cell_type": "code",
   "execution_count": 53,
   "metadata": {},
   "outputs": [
    {
     "name": "stdout",
     "output_type": "stream",
     "text": [
      "Самое производительное издательство - Penguin Books.\n",
      "Оно выпустило 42 книги толщиной более 50 страниц.\n"
     ]
    }
   ],
   "source": [
    "query = ''' SELECT p.publisher,\n",
    "            COUNT(b.num_pages) as big_books\n",
    "            \n",
    "FROM books as b\n",
    "INNER JOIN publishers AS p ON p.publisher_id=b.publisher_id\n",
    "WHERE b.num_pages>50\n",
    "GROUP BY p.publisher\n",
    "ORDER BY big_books DESC\n",
    "LIMIT 1\n",
    "'''\n",
    "con=engine.connect()\n",
    "result=pd.io.sql.read_sql(sql=text(query), con = con)\n",
    "print(f'Самое производительное издательство - {result.values[0][0]}.\\nОно выпустило {result.values[0][1]} книги толщиной более 50 страниц.')"
   ]
  },
  {
   "cell_type": "markdown",
   "metadata": {},
   "source": [
    "### Определите автора с самой высокой средней оценкой книг — учитывайте только книги с 50 и более оценками;"
   ]
  },
  {
   "cell_type": "code",
   "execution_count": 54,
   "metadata": {},
   "outputs": [
    {
     "name": "stdout",
     "output_type": "stream",
     "text": [
      "Автор J.K. Rowling/Mary GrandPré - любимец публики.\n",
      "Средний рейтинг этого автора по всем книгам - 4.287096774193548.\n",
      "Это самое большое значение среди всех авторов книг, которым поставили 50 и более оценок.\n"
     ]
    }
   ],
   "source": [
    "query = ''' \n",
    "SELECT author,\n",
    "    AVG(r.rating) AS avg_rating\n",
    "\n",
    "FROM books AS b\n",
    "    INNER JOIN authors AS a on a.author_id=b.author_id\n",
    "    INNER JOIN ratings AS r on r.book_id=b.book_id\n",
    "\n",
    "WHERE b.book_id IN(\n",
    "    SELECT  distinct book_id\n",
    "    FROM ratings\n",
    "        GROUP BY book_id\n",
    "        HAVING COUNT(rating)>50)\n",
    "\n",
    "    GROUP BY author\n",
    "    ORDER BY avg_rating DESC\n",
    "    LIMIT 1\n",
    "''' \n",
    "con=engine.connect()\n",
    "result=pd.io.sql.read_sql(sql=text(query), con = con)\n",
    "print(f'Автор {result.values[0][0]} - любимец публики.\\nСредний рейтинг этого автора по всем книгам - {result.values[0][1]}.\\nЭто самое большое значение среди всех авторов книг, которым поставили 50 и более оценок.')"
   ]
  },
  {
   "cell_type": "markdown",
   "metadata": {},
   "source": [
    "### Посчитайте среднее количество обзоров от пользователей, которые поставили больше 48 оценок."
   ]
  },
  {
   "cell_type": "code",
   "execution_count": 55,
   "metadata": {},
   "outputs": [
    {
     "name": "stdout",
     "output_type": "stream",
     "text": [
      "Cреднее количество обзоров от пользователей, которые поставили больше 48 оценок:\n"
     ]
    },
    {
     "data": {
      "text/html": [
       "<div>\n",
       "<style scoped>\n",
       "    .dataframe tbody tr th:only-of-type {\n",
       "        vertical-align: middle;\n",
       "    }\n",
       "\n",
       "    .dataframe tbody tr th {\n",
       "        vertical-align: top;\n",
       "    }\n",
       "\n",
       "    .dataframe thead th {\n",
       "        text-align: right;\n",
       "    }\n",
       "</style>\n",
       "<table border=\"1\" class=\"dataframe\">\n",
       "  <thead>\n",
       "    <tr style=\"text-align: right;\">\n",
       "      <th></th>\n",
       "      <th>username</th>\n",
       "      <th>avg_reviews</th>\n",
       "    </tr>\n",
       "  </thead>\n",
       "  <tbody>\n",
       "    <tr>\n",
       "      <th>0</th>\n",
       "      <td>susan85</td>\n",
       "      <td>29.0</td>\n",
       "    </tr>\n",
       "    <tr>\n",
       "      <th>1</th>\n",
       "      <td>sfitzgerald</td>\n",
       "      <td>28.0</td>\n",
       "    </tr>\n",
       "    <tr>\n",
       "      <th>2</th>\n",
       "      <td>martinadam</td>\n",
       "      <td>27.0</td>\n",
       "    </tr>\n",
       "    <tr>\n",
       "      <th>3</th>\n",
       "      <td>richard89</td>\n",
       "      <td>26.0</td>\n",
       "    </tr>\n",
       "    <tr>\n",
       "      <th>4</th>\n",
       "      <td>lesliegibbs</td>\n",
       "      <td>26.0</td>\n",
       "    </tr>\n",
       "    <tr>\n",
       "      <th>5</th>\n",
       "      <td>jennifermiller</td>\n",
       "      <td>25.0</td>\n",
       "    </tr>\n",
       "    <tr>\n",
       "      <th>6</th>\n",
       "      <td>shermannatalie</td>\n",
       "      <td>24.0</td>\n",
       "    </tr>\n",
       "    <tr>\n",
       "      <th>7</th>\n",
       "      <td>walter49</td>\n",
       "      <td>23.0</td>\n",
       "    </tr>\n",
       "    <tr>\n",
       "      <th>8</th>\n",
       "      <td>andreaeaton</td>\n",
       "      <td>22.0</td>\n",
       "    </tr>\n",
       "    <tr>\n",
       "      <th>9</th>\n",
       "      <td>paul88</td>\n",
       "      <td>22.0</td>\n",
       "    </tr>\n",
       "    <tr>\n",
       "      <th>10</th>\n",
       "      <td>vanessagardner</td>\n",
       "      <td>22.0</td>\n",
       "    </tr>\n",
       "    <tr>\n",
       "      <th>11</th>\n",
       "      <td>vcarter</td>\n",
       "      <td>20.0</td>\n",
       "    </tr>\n",
       "    <tr>\n",
       "      <th>12</th>\n",
       "      <td>xdavis</td>\n",
       "      <td>18.0</td>\n",
       "    </tr>\n",
       "  </tbody>\n",
       "</table>\n",
       "</div>"
      ],
      "text/plain": [
       "          username  avg_reviews\n",
       "0          susan85         29.0\n",
       "1      sfitzgerald         28.0\n",
       "2       martinadam         27.0\n",
       "3        richard89         26.0\n",
       "4      lesliegibbs         26.0\n",
       "5   jennifermiller         25.0\n",
       "6   shermannatalie         24.0\n",
       "7         walter49         23.0\n",
       "8      andreaeaton         22.0\n",
       "9           paul88         22.0\n",
       "10  vanessagardner         22.0\n",
       "11         vcarter         20.0\n",
       "12          xdavis         18.0"
      ]
     },
     "execution_count": 55,
     "metadata": {},
     "output_type": "execute_result"
    }
   ],
   "source": [
    "query = '''\n",
    "SELECT username,\n",
    "    AVG(counted_reviews) AS avg_reviews\n",
    "FROM (\n",
    "    SELECT COUNT(review_id) as counted_reviews,\n",
    "           username\n",
    "    FROM reviews\n",
    "        GROUP BY username\n",
    ") as re\n",
    "WHERE username IN (\n",
    "SELECT  username        \n",
    "    FROM ratings\n",
    "        GROUP BY username\n",
    "        HAVING COUNT(username)>48\n",
    ")\n",
    "     \n",
    "GROUP BY username  \n",
    "ORDER BY avg_reviews DESC\n",
    "        \n",
    "        ''' \n",
    "con=engine.connect()\n",
    "print('Cреднее количество обзоров от пользователей, которые поставили больше 48 оценок:')\n",
    "pd.io.sql.read_sql(sql=text(query), con = con)   "
   ]
  },
  {
   "cell_type": "markdown",
   "metadata": {},
   "source": [
    "## Вывод:"
   ]
  },
  {
   "cell_type": "markdown",
   "metadata": {},
   "source": [
    "В базе содержится 819 книг, вышедших после 1.01.2000.\n",
    "\n",
    "В данных 1000 книг. Оценки колеблятся от 5.0 до 1.5. Число обзоров - от 1120 до 0.\n",
    "\n",
    "Самое производительное издательство - Penguin Books.\n",
    "Оно выпустило 42 книги толщиной более 50 страниц.\n",
    "\n",
    "Автор J.K. Rowling/Mary GrandPré - любимец публики.\n",
    "Средний рейтинг этого автора по всем книгам - 4.23.\n",
    "Это самое большое значение среди всех авторов книг, которым поставили 50 и более оценок.\n",
    "\n",
    "Cреднее количество обзоров от пользователей, которые поставили больше 48 оценок колеблется от 18 до 29"
   ]
  }
 ],
 "metadata": {
  "ExecuteTimeLog": [
   {
    "duration": 9168,
    "start_time": "2024-01-26T00:36:26.419Z"
   },
   {
    "duration": 146,
    "start_time": "2024-01-26T00:40:46.781Z"
   },
   {
    "duration": 51,
    "start_time": "2024-01-26T00:41:10.495Z"
   },
   {
    "duration": 58,
    "start_time": "2024-01-26T00:41:21.704Z"
   },
   {
    "duration": 58,
    "start_time": "2024-01-26T00:41:32.808Z"
   },
   {
    "duration": 135,
    "start_time": "2024-01-26T00:46:56.683Z"
   },
   {
    "duration": 68,
    "start_time": "2024-01-26T00:47:35.600Z"
   },
   {
    "duration": 151,
    "start_time": "2024-01-26T00:47:50.137Z"
   },
   {
    "duration": 73,
    "start_time": "2024-01-26T00:48:41.909Z"
   },
   {
    "duration": 73,
    "start_time": "2024-01-26T00:49:14.248Z"
   },
   {
    "duration": 80,
    "start_time": "2024-01-26T00:49:30.629Z"
   },
   {
    "duration": 78,
    "start_time": "2024-01-26T00:49:50.422Z"
   },
   {
    "duration": 72,
    "start_time": "2024-01-26T00:54:49.465Z"
   },
   {
    "duration": 59,
    "start_time": "2024-01-26T00:55:48.733Z"
   },
   {
    "duration": 137,
    "start_time": "2024-01-26T00:55:53.974Z"
   },
   {
    "duration": 136,
    "start_time": "2024-01-26T00:56:46.710Z"
   },
   {
    "duration": 130,
    "start_time": "2024-01-26T00:57:45.470Z"
   },
   {
    "duration": 52,
    "start_time": "2024-01-26T00:57:59.282Z"
   },
   {
    "duration": 54,
    "start_time": "2024-01-26T00:58:06.538Z"
   },
   {
    "duration": 58,
    "start_time": "2024-01-26T00:58:20.426Z"
   },
   {
    "duration": 56,
    "start_time": "2024-01-26T00:58:36.790Z"
   },
   {
    "duration": 53,
    "start_time": "2024-01-26T00:58:46.997Z"
   },
   {
    "duration": 74,
    "start_time": "2024-01-26T01:01:23.761Z"
   },
   {
    "duration": 51,
    "start_time": "2024-01-26T01:01:25.662Z"
   },
   {
    "duration": 53,
    "start_time": "2024-01-26T01:01:27.699Z"
   },
   {
    "duration": 81,
    "start_time": "2024-01-26T01:03:25.285Z"
   },
   {
    "duration": 59,
    "start_time": "2024-01-26T01:03:50.775Z"
   },
   {
    "duration": 62,
    "start_time": "2024-01-26T01:08:41.458Z"
   },
   {
    "duration": 87,
    "start_time": "2024-01-26T01:08:51.997Z"
   },
   {
    "duration": 74,
    "start_time": "2024-01-26T01:09:08.697Z"
   },
   {
    "duration": 83,
    "start_time": "2024-01-26T01:09:15.262Z"
   },
   {
    "duration": 80,
    "start_time": "2024-01-26T01:10:19.482Z"
   },
   {
    "duration": 60,
    "start_time": "2024-01-26T01:11:13.365Z"
   },
   {
    "duration": 61,
    "start_time": "2024-01-26T01:12:01.233Z"
   },
   {
    "duration": 59,
    "start_time": "2024-01-26T01:12:13.584Z"
   },
   {
    "duration": 72,
    "start_time": "2024-01-26T01:13:26.770Z"
   },
   {
    "duration": 50,
    "start_time": "2024-01-26T01:13:41.465Z"
   },
   {
    "duration": 155,
    "start_time": "2024-01-26T01:15:01.535Z"
   },
   {
    "duration": 62,
    "start_time": "2024-01-26T01:15:05.892Z"
   },
   {
    "duration": 140,
    "start_time": "2024-01-26T01:15:27.066Z"
   },
   {
    "duration": 66,
    "start_time": "2024-01-26T01:16:19.337Z"
   },
   {
    "duration": 52,
    "start_time": "2024-01-26T01:16:23.145Z"
   },
   {
    "duration": 150,
    "start_time": "2024-01-26T01:16:29.585Z"
   },
   {
    "duration": 52,
    "start_time": "2024-01-26T01:16:55.025Z"
   },
   {
    "duration": 154,
    "start_time": "2024-01-26T01:17:11.266Z"
   },
   {
    "duration": 59,
    "start_time": "2024-01-26T01:17:16.658Z"
   },
   {
    "duration": 70,
    "start_time": "2024-01-26T01:17:30.196Z"
   },
   {
    "duration": 62,
    "start_time": "2024-01-26T01:18:00.649Z"
   },
   {
    "duration": 137,
    "start_time": "2024-01-26T01:18:09.611Z"
   },
   {
    "duration": 141,
    "start_time": "2024-01-26T01:18:13.484Z"
   },
   {
    "duration": 131,
    "start_time": "2024-01-26T01:18:27.658Z"
   },
   {
    "duration": 73,
    "start_time": "2024-01-26T01:19:25.376Z"
   },
   {
    "duration": 53,
    "start_time": "2024-01-26T01:20:04.894Z"
   },
   {
    "duration": 64,
    "start_time": "2024-01-26T01:20:23.747Z"
   },
   {
    "duration": 63,
    "start_time": "2024-01-26T01:20:49.906Z"
   },
   {
    "duration": 80,
    "start_time": "2024-01-26T01:22:01.880Z"
   },
   {
    "duration": 62,
    "start_time": "2024-01-26T01:22:31.769Z"
   },
   {
    "duration": 74,
    "start_time": "2024-01-26T01:23:09.326Z"
   },
   {
    "duration": 72,
    "start_time": "2024-01-26T01:23:33.837Z"
   },
   {
    "duration": 76,
    "start_time": "2024-01-26T01:23:48.166Z"
   },
   {
    "duration": 138,
    "start_time": "2024-01-26T01:25:21.993Z"
   },
   {
    "duration": 58,
    "start_time": "2024-01-26T01:25:35.526Z"
   },
   {
    "duration": 57,
    "start_time": "2024-01-26T01:25:41.525Z"
   },
   {
    "duration": 67,
    "start_time": "2024-01-26T01:25:51.297Z"
   },
   {
    "duration": 75,
    "start_time": "2024-01-26T01:26:08.044Z"
   },
   {
    "duration": 60,
    "start_time": "2024-01-26T01:26:12.619Z"
   },
   {
    "duration": 120,
    "start_time": "2024-01-26T01:26:29.128Z"
   },
   {
    "duration": 73,
    "start_time": "2024-01-26T01:26:39.107Z"
   },
   {
    "duration": 51,
    "start_time": "2024-01-26T01:26:45.432Z"
   },
   {
    "duration": 30013,
    "start_time": "2024-01-26T01:26:51.679Z"
   },
   {
    "duration": 30012,
    "start_time": "2024-01-26T01:28:23.745Z"
   },
   {
    "duration": 0,
    "start_time": "2024-01-26T01:28:53.758Z"
   },
   {
    "duration": 30011,
    "start_time": "2024-01-26T01:32:03.718Z"
   },
   {
    "duration": 30012,
    "start_time": "2024-01-26T01:33:06.861Z"
   },
   {
    "duration": 9200,
    "start_time": "2024-01-26T01:34:49.466Z"
   },
   {
    "duration": 116,
    "start_time": "2024-01-26T01:35:02.373Z"
   },
   {
    "duration": 64,
    "start_time": "2024-01-26T01:35:09.405Z"
   },
   {
    "duration": 57,
    "start_time": "2024-01-26T01:37:23.793Z"
   },
   {
    "duration": 57,
    "start_time": "2024-01-26T01:37:33.481Z"
   },
   {
    "duration": 56,
    "start_time": "2024-01-26T01:37:40.113Z"
   },
   {
    "duration": 137,
    "start_time": "2024-01-26T01:39:05.462Z"
   },
   {
    "duration": 47,
    "start_time": "2024-01-26T01:39:26.691Z"
   },
   {
    "duration": 142,
    "start_time": "2024-01-26T01:40:06.813Z"
   },
   {
    "duration": 80,
    "start_time": "2024-01-26T01:41:06.793Z"
   },
   {
    "duration": 61,
    "start_time": "2024-01-26T01:41:16.161Z"
   },
   {
    "duration": 132,
    "start_time": "2024-01-26T01:41:27.702Z"
   },
   {
    "duration": 137,
    "start_time": "2024-01-26T01:41:49.772Z"
   },
   {
    "duration": 61,
    "start_time": "2024-01-26T01:42:01.453Z"
   },
   {
    "duration": 10628,
    "start_time": "2024-01-26T01:42:19.508Z"
   },
   {
    "duration": 216,
    "start_time": "2024-01-26T01:42:41.426Z"
   },
   {
    "duration": 63,
    "start_time": "2024-01-26T01:43:22.129Z"
   },
   {
    "duration": 145,
    "start_time": "2024-01-26T01:43:45.453Z"
   },
   {
    "duration": 125,
    "start_time": "2024-01-26T01:44:01.237Z"
   },
   {
    "duration": 129,
    "start_time": "2024-01-26T01:44:10.666Z"
   },
   {
    "duration": 60,
    "start_time": "2024-01-26T01:44:17.109Z"
   },
   {
    "duration": 55,
    "start_time": "2024-01-26T01:44:51.850Z"
   },
   {
    "duration": 74,
    "start_time": "2024-01-26T01:45:47.489Z"
   },
   {
    "duration": 42,
    "start_time": "2024-01-26T01:45:56.089Z"
   },
   {
    "duration": 55,
    "start_time": "2024-01-26T01:46:12.900Z"
   },
   {
    "duration": 54,
    "start_time": "2024-01-26T01:46:33.032Z"
   },
   {
    "duration": 57,
    "start_time": "2024-01-26T01:46:56.710Z"
   },
   {
    "duration": 56,
    "start_time": "2024-01-26T01:46:59.977Z"
   },
   {
    "duration": 74,
    "start_time": "2024-01-26T01:47:27.797Z"
   },
   {
    "duration": 67,
    "start_time": "2024-01-26T01:48:00.101Z"
   },
   {
    "duration": 139,
    "start_time": "2024-01-26T01:48:18.621Z"
   },
   {
    "duration": 129,
    "start_time": "2024-01-26T01:48:28.034Z"
   },
   {
    "duration": 68,
    "start_time": "2024-01-26T01:48:55.005Z"
   },
   {
    "duration": 55,
    "start_time": "2024-01-26T01:48:58.262Z"
   },
   {
    "duration": 238,
    "start_time": "2024-01-26T03:57:06.762Z"
   },
   {
    "duration": 140,
    "start_time": "2024-01-26T03:57:08.846Z"
   },
   {
    "duration": 79,
    "start_time": "2024-01-26T03:57:10.202Z"
   },
   {
    "duration": 57,
    "start_time": "2024-01-26T03:57:12.606Z"
   },
   {
    "duration": 58,
    "start_time": "2024-01-26T03:57:14.981Z"
   },
   {
    "duration": 71,
    "start_time": "2024-01-26T04:02:11.361Z"
   },
   {
    "duration": 50,
    "start_time": "2024-01-26T04:02:27.662Z"
   },
   {
    "duration": 146,
    "start_time": "2024-01-26T04:04:38.504Z"
   },
   {
    "duration": 64,
    "start_time": "2024-01-26T04:05:48.265Z"
   },
   {
    "duration": 67,
    "start_time": "2024-01-26T04:07:25.665Z"
   },
   {
    "duration": 65,
    "start_time": "2024-01-26T04:07:48.970Z"
   },
   {
    "duration": 61,
    "start_time": "2024-01-26T04:08:45.263Z"
   },
   {
    "duration": 65,
    "start_time": "2024-01-26T04:09:07.102Z"
   },
   {
    "duration": 64,
    "start_time": "2024-01-26T04:09:16.745Z"
   },
   {
    "duration": 3,
    "start_time": "2024-01-26T04:09:26.508Z"
   },
   {
    "duration": 6,
    "start_time": "2024-01-26T04:09:33.026Z"
   },
   {
    "duration": 57,
    "start_time": "2024-01-26T04:09:47.746Z"
   },
   {
    "duration": 5,
    "start_time": "2024-01-26T04:09:52.374Z"
   },
   {
    "duration": 5,
    "start_time": "2024-01-26T04:09:55.481Z"
   },
   {
    "duration": 2146,
    "start_time": "2024-01-26T04:10:01.735Z"
   },
   {
    "duration": 3,
    "start_time": "2024-01-26T04:10:12.571Z"
   },
   {
    "duration": 4,
    "start_time": "2024-01-26T04:10:20.100Z"
   },
   {
    "duration": 4,
    "start_time": "2024-01-26T04:10:23.612Z"
   },
   {
    "duration": 4,
    "start_time": "2024-01-26T04:10:27.514Z"
   },
   {
    "duration": 3,
    "start_time": "2024-01-26T04:26:02.871Z"
   },
   {
    "duration": 57,
    "start_time": "2024-01-26T04:28:31.314Z"
   },
   {
    "duration": 54,
    "start_time": "2024-01-26T04:28:33.661Z"
   },
   {
    "duration": 54,
    "start_time": "2024-01-26T04:28:35.781Z"
   },
   {
    "duration": 53,
    "start_time": "2024-01-26T04:28:41.191Z"
   },
   {
    "duration": 72,
    "start_time": "2024-01-26T04:28:52.416Z"
   },
   {
    "duration": 46,
    "start_time": "2024-01-26T04:28:56.748Z"
   },
   {
    "duration": 135,
    "start_time": "2024-01-26T04:29:06.482Z"
   },
   {
    "duration": 57,
    "start_time": "2024-01-26T04:30:36.991Z"
   },
   {
    "duration": 54,
    "start_time": "2024-01-26T04:30:40.234Z"
   },
   {
    "duration": 57,
    "start_time": "2024-01-26T04:31:36.634Z"
   },
   {
    "duration": 51,
    "start_time": "2024-01-26T04:31:46.198Z"
   },
   {
    "duration": 10,
    "start_time": "2024-01-26T04:31:51.491Z"
   },
   {
    "duration": 4,
    "start_time": "2024-01-26T04:31:54.399Z"
   },
   {
    "duration": 1821,
    "start_time": "2024-01-26T04:31:56.807Z"
   },
   {
    "duration": 5,
    "start_time": "2024-01-26T04:32:02.921Z"
   },
   {
    "duration": 4,
    "start_time": "2024-01-26T04:32:09.796Z"
   },
   {
    "duration": 4,
    "start_time": "2024-01-26T04:32:16.076Z"
   },
   {
    "duration": 4,
    "start_time": "2024-01-26T04:32:19.940Z"
   },
   {
    "duration": 8,
    "start_time": "2024-01-26T04:32:23.068Z"
   },
   {
    "duration": 1395,
    "start_time": "2024-01-26T04:32:30.485Z"
   },
   {
    "duration": 4,
    "start_time": "2024-01-26T04:32:43.434Z"
   },
   {
    "duration": 84,
    "start_time": "2024-01-26T04:32:51.880Z"
   },
   {
    "duration": 50,
    "start_time": "2024-01-26T04:33:11.662Z"
   },
   {
    "duration": 50,
    "start_time": "2024-01-26T04:33:25.561Z"
   },
   {
    "duration": 78,
    "start_time": "2024-01-26T04:33:55.705Z"
   },
   {
    "duration": 78,
    "start_time": "2024-01-26T04:34:00.410Z"
   },
   {
    "duration": 77,
    "start_time": "2024-01-26T04:34:22.448Z"
   },
   {
    "duration": 76,
    "start_time": "2024-01-26T04:34:29.621Z"
   },
   {
    "duration": 76,
    "start_time": "2024-01-26T04:35:17.549Z"
   },
   {
    "duration": 77,
    "start_time": "2024-01-26T04:35:23.566Z"
   },
   {
    "duration": 84,
    "start_time": "2024-01-26T04:36:14.285Z"
   },
   {
    "duration": 77,
    "start_time": "2024-01-26T04:36:22.139Z"
   },
   {
    "duration": 76,
    "start_time": "2024-01-26T04:36:40.805Z"
   },
   {
    "duration": 53,
    "start_time": "2024-01-26T04:37:21.612Z"
   },
   {
    "duration": 6,
    "start_time": "2024-01-26T04:37:25.647Z"
   },
   {
    "duration": 1438,
    "start_time": "2024-01-26T04:37:29.222Z"
   },
   {
    "duration": 5,
    "start_time": "2024-01-26T04:37:37.167Z"
   },
   {
    "duration": 5,
    "start_time": "2024-01-26T04:37:47.275Z"
   },
   {
    "duration": 4,
    "start_time": "2024-01-26T04:37:52.556Z"
   },
   {
    "duration": 4,
    "start_time": "2024-01-26T04:37:59.067Z"
   },
   {
    "duration": 5,
    "start_time": "2024-01-26T04:38:05.461Z"
   },
   {
    "duration": 6,
    "start_time": "2024-01-26T04:38:08.135Z"
   },
   {
    "duration": 5,
    "start_time": "2024-01-26T04:38:11.176Z"
   },
   {
    "duration": 4,
    "start_time": "2024-01-26T04:38:20.026Z"
   },
   {
    "duration": 4,
    "start_time": "2024-01-26T04:38:24.977Z"
   },
   {
    "duration": 4,
    "start_time": "2024-01-26T04:38:29.909Z"
   },
   {
    "duration": 3,
    "start_time": "2024-01-26T04:38:33.427Z"
   },
   {
    "duration": 3,
    "start_time": "2024-01-26T04:38:39.266Z"
   },
   {
    "duration": 50,
    "start_time": "2024-01-26T04:38:51.899Z"
   },
   {
    "duration": 49,
    "start_time": "2024-01-26T04:38:57.079Z"
   },
   {
    "duration": 50,
    "start_time": "2024-01-26T04:40:19.825Z"
   },
   {
    "duration": 51,
    "start_time": "2024-01-26T04:40:27.693Z"
   },
   {
    "duration": 56,
    "start_time": "2024-01-26T04:42:44.520Z"
   },
   {
    "duration": 58,
    "start_time": "2024-01-26T04:42:51.927Z"
   },
   {
    "duration": 54,
    "start_time": "2024-01-26T04:43:15.243Z"
   },
   {
    "duration": 53,
    "start_time": "2024-01-26T04:43:36.378Z"
   },
   {
    "duration": 59,
    "start_time": "2024-01-26T04:43:54.970Z"
   },
   {
    "duration": 59,
    "start_time": "2024-01-26T04:44:31.747Z"
   },
   {
    "duration": 61,
    "start_time": "2024-01-26T04:44:44.922Z"
   },
   {
    "duration": 62,
    "start_time": "2024-01-26T04:44:54.329Z"
   },
   {
    "duration": 47,
    "start_time": "2024-01-26T06:20:43.123Z"
   },
   {
    "duration": 529,
    "start_time": "2024-01-26T06:20:50.395Z"
   },
   {
    "duration": 9603,
    "start_time": "2024-01-26T06:20:52.197Z"
   },
   {
    "duration": 4,
    "start_time": "2024-01-26T06:21:14.475Z"
   },
   {
    "duration": 234,
    "start_time": "2024-01-26T06:21:15.686Z"
   },
   {
    "duration": 180,
    "start_time": "2024-01-26T06:21:18.227Z"
   },
   {
    "duration": 41,
    "start_time": "2024-01-26T06:21:33.185Z"
   },
   {
    "duration": 136,
    "start_time": "2024-01-26T06:21:55.161Z"
   },
   {
    "duration": 51,
    "start_time": "2024-01-26T06:22:02.951Z"
   },
   {
    "duration": 52,
    "start_time": "2024-01-26T06:22:51.033Z"
   },
   {
    "duration": 52,
    "start_time": "2024-01-26T06:22:57.215Z"
   },
   {
    "duration": 52,
    "start_time": "2024-01-26T06:23:00.619Z"
   },
   {
    "duration": 51,
    "start_time": "2024-01-26T06:23:17.956Z"
   },
   {
    "duration": 51,
    "start_time": "2024-01-26T06:23:19.966Z"
   },
   {
    "duration": 53,
    "start_time": "2024-01-26T06:23:23.579Z"
   },
   {
    "duration": 54,
    "start_time": "2024-01-26T06:23:36.719Z"
   },
   {
    "duration": 56,
    "start_time": "2024-01-26T06:25:29.296Z"
   },
   {
    "duration": 56,
    "start_time": "2024-01-26T06:25:43.098Z"
   },
   {
    "duration": 55,
    "start_time": "2024-01-26T06:25:52.137Z"
   },
   {
    "duration": 55,
    "start_time": "2024-01-26T06:25:55.145Z"
   },
   {
    "duration": 53,
    "start_time": "2024-01-26T06:26:21.722Z"
   },
   {
    "duration": 52,
    "start_time": "2024-01-26T06:26:30.830Z"
   },
   {
    "duration": 53,
    "start_time": "2024-01-26T06:27:56.627Z"
   },
   {
    "duration": 53,
    "start_time": "2024-01-26T06:28:45.942Z"
   },
   {
    "duration": 71,
    "start_time": "2024-01-26T06:29:44.278Z"
   },
   {
    "duration": 42,
    "start_time": "2024-01-26T06:29:55.469Z"
   },
   {
    "duration": 131,
    "start_time": "2024-01-26T06:31:41.401Z"
   },
   {
    "duration": 58,
    "start_time": "2024-01-26T06:31:57.511Z"
   },
   {
    "duration": 56,
    "start_time": "2024-01-26T06:32:06.583Z"
   },
   {
    "duration": 56,
    "start_time": "2024-01-26T06:32:10.018Z"
   },
   {
    "duration": 78,
    "start_time": "2024-01-26T06:32:47.768Z"
   },
   {
    "duration": 43,
    "start_time": "2024-01-26T06:32:54.933Z"
   },
   {
    "duration": 153,
    "start_time": "2024-01-26T06:33:26.965Z"
   },
   {
    "duration": 45,
    "start_time": "2024-01-26T06:33:31.981Z"
   },
   {
    "duration": 136,
    "start_time": "2024-01-26T06:33:38.869Z"
   },
   {
    "duration": 55,
    "start_time": "2024-01-26T06:33:42.168Z"
   },
   {
    "duration": 53,
    "start_time": "2024-01-26T06:34:14.932Z"
   },
   {
    "duration": 53,
    "start_time": "2024-01-26T06:34:57.751Z"
   },
   {
    "duration": 73,
    "start_time": "2024-01-26T06:38:28.104Z"
   },
   {
    "duration": 41,
    "start_time": "2024-01-26T06:38:45.928Z"
   },
   {
    "duration": 53,
    "start_time": "2024-01-26T06:39:15.132Z"
   },
   {
    "duration": 51,
    "start_time": "2024-01-26T06:40:08.204Z"
   },
   {
    "duration": 51,
    "start_time": "2024-01-26T06:40:19.284Z"
   },
   {
    "duration": 52,
    "start_time": "2024-01-26T06:40:27.548Z"
   },
   {
    "duration": 52,
    "start_time": "2024-01-26T06:40:51.435Z"
   },
   {
    "duration": 52,
    "start_time": "2024-01-26T06:41:36.814Z"
   },
   {
    "duration": 51,
    "start_time": "2024-01-26T06:41:57.246Z"
   },
   {
    "duration": 92,
    "start_time": "2024-01-26T06:49:56.016Z"
   },
   {
    "duration": 74,
    "start_time": "2024-01-26T06:50:30.667Z"
   },
   {
    "duration": 255,
    "start_time": "2024-01-26T06:50:55.508Z"
   },
   {
    "duration": 80,
    "start_time": "2024-01-26T06:51:21.746Z"
   },
   {
    "duration": 54,
    "start_time": "2024-01-26T06:51:45.973Z"
   },
   {
    "duration": 77,
    "start_time": "2024-01-26T06:53:03.137Z"
   },
   {
    "duration": 261,
    "start_time": "2024-01-26T06:53:21.916Z"
   },
   {
    "duration": 73,
    "start_time": "2024-01-26T06:54:03.969Z"
   },
   {
    "duration": 60,
    "start_time": "2024-01-26T06:54:24.713Z"
   },
   {
    "duration": 61,
    "start_time": "2024-01-26T06:54:43.918Z"
   },
   {
    "duration": 142,
    "start_time": "2024-01-26T06:54:57.362Z"
   },
   {
    "duration": 152,
    "start_time": "2024-01-26T06:55:13.616Z"
   },
   {
    "duration": 72,
    "start_time": "2024-01-26T06:56:10.533Z"
   },
   {
    "duration": 60,
    "start_time": "2024-01-26T06:56:17.666Z"
   },
   {
    "duration": 146,
    "start_time": "2024-01-26T06:56:38.027Z"
   },
   {
    "duration": 77,
    "start_time": "2024-01-26T06:57:28.891Z"
   },
   {
    "duration": 92,
    "start_time": "2024-01-26T06:57:39.278Z"
   },
   {
    "duration": 223,
    "start_time": "2024-01-26T06:58:27.477Z"
   },
   {
    "duration": 156,
    "start_time": "2024-01-26T06:59:06.106Z"
   },
   {
    "duration": 52,
    "start_time": "2024-01-26T07:00:50.933Z"
   },
   {
    "duration": 53,
    "start_time": "2024-01-26T07:01:07.979Z"
   },
   {
    "duration": 56,
    "start_time": "2024-01-26T07:01:16.410Z"
   },
   {
    "duration": 155,
    "start_time": "2024-01-26T07:02:18.903Z"
   },
   {
    "duration": 89,
    "start_time": "2024-01-26T07:02:38.261Z"
   },
   {
    "duration": 88,
    "start_time": "2024-01-26T07:02:57.880Z"
   },
   {
    "duration": 91,
    "start_time": "2024-01-26T07:05:02.911Z"
   },
   {
    "duration": 74,
    "start_time": "2024-01-26T07:08:11.702Z"
   },
   {
    "duration": 63,
    "start_time": "2024-01-26T07:08:24.064Z"
   },
   {
    "duration": 43,
    "start_time": "2024-01-26T07:08:44.619Z"
   },
   {
    "duration": 73,
    "start_time": "2024-01-26T07:08:50.134Z"
   },
   {
    "duration": 43,
    "start_time": "2024-01-26T07:08:53.203Z"
   },
   {
    "duration": 55,
    "start_time": "2024-01-26T07:09:49.135Z"
   },
   {
    "duration": 80,
    "start_time": "2024-01-26T07:10:28.200Z"
   },
   {
    "duration": 49,
    "start_time": "2024-01-26T07:10:36.025Z"
   },
   {
    "duration": 62,
    "start_time": "2024-01-26T07:11:50.231Z"
   },
   {
    "duration": 57,
    "start_time": "2024-01-26T07:21:05.999Z"
   },
   {
    "duration": 59,
    "start_time": "2024-01-26T07:21:23.574Z"
   },
   {
    "duration": 59,
    "start_time": "2024-01-26T07:21:36.615Z"
   },
   {
    "duration": 58,
    "start_time": "2024-01-26T07:21:41.790Z"
   },
   {
    "duration": 58,
    "start_time": "2024-01-26T07:22:08.871Z"
   },
   {
    "duration": 59,
    "start_time": "2024-01-26T07:22:20.817Z"
   },
   {
    "duration": 54,
    "start_time": "2024-01-26T07:22:34.580Z"
   },
   {
    "duration": 54,
    "start_time": "2024-01-26T07:22:48.032Z"
   },
   {
    "duration": 54,
    "start_time": "2024-01-26T07:23:02.605Z"
   },
   {
    "duration": 54,
    "start_time": "2024-01-26T07:23:56.173Z"
   },
   {
    "duration": 50,
    "start_time": "2024-01-26T07:40:19.606Z"
   },
   {
    "duration": 59,
    "start_time": "2024-01-26T07:40:32.309Z"
   },
   {
    "duration": 50,
    "start_time": "2024-01-26T07:40:34.084Z"
   },
   {
    "duration": 54,
    "start_time": "2024-01-26T07:40:39.422Z"
   },
   {
    "duration": 55,
    "start_time": "2024-01-26T07:42:50.169Z"
   },
   {
    "duration": 56,
    "start_time": "2024-01-26T07:42:59.204Z"
   },
   {
    "duration": 72,
    "start_time": "2024-01-26T07:43:08.286Z"
   },
   {
    "duration": 47,
    "start_time": "2024-01-26T07:43:16.154Z"
   },
   {
    "duration": 51,
    "start_time": "2024-01-26T07:43:49.177Z"
   },
   {
    "duration": 72,
    "start_time": "2024-01-26T07:48:18.567Z"
   },
   {
    "duration": 61,
    "start_time": "2024-01-26T07:49:22.008Z"
   },
   {
    "duration": 144,
    "start_time": "2024-01-26T07:49:42.311Z"
   },
   {
    "duration": 79,
    "start_time": "2024-01-26T07:50:08.016Z"
   },
   {
    "duration": 48,
    "start_time": "2024-01-26T07:50:48.029Z"
   },
   {
    "duration": 73,
    "start_time": "2024-01-26T07:52:22.142Z"
   },
   {
    "duration": 62,
    "start_time": "2024-01-26T07:53:01.466Z"
   },
   {
    "duration": 140,
    "start_time": "2024-01-26T07:53:46.426Z"
   },
   {
    "duration": 494,
    "start_time": "2024-01-26T07:53:55.529Z"
   },
   {
    "duration": 9043,
    "start_time": "2024-01-26T07:53:56.025Z"
   },
   {
    "duration": 230,
    "start_time": "2024-01-26T07:54:05.069Z"
   },
   {
    "duration": 122,
    "start_time": "2024-01-26T07:54:05.301Z"
   },
   {
    "duration": 138,
    "start_time": "2024-01-26T07:54:05.425Z"
   },
   {
    "duration": 0,
    "start_time": "2024-01-26T07:54:05.566Z"
   },
   {
    "duration": 0,
    "start_time": "2024-01-26T07:54:05.567Z"
   },
   {
    "duration": 0,
    "start_time": "2024-01-26T07:54:05.568Z"
   },
   {
    "duration": 0,
    "start_time": "2024-01-26T07:54:05.569Z"
   },
   {
    "duration": 0,
    "start_time": "2024-01-26T07:54:05.570Z"
   },
   {
    "duration": 0,
    "start_time": "2024-01-26T07:54:05.571Z"
   },
   {
    "duration": 0,
    "start_time": "2024-01-26T07:54:05.573Z"
   },
   {
    "duration": 0,
    "start_time": "2024-01-26T07:54:05.574Z"
   },
   {
    "duration": 0,
    "start_time": "2024-01-26T07:54:05.578Z"
   },
   {
    "duration": 0,
    "start_time": "2024-01-26T07:54:05.579Z"
   },
   {
    "duration": 0,
    "start_time": "2024-01-26T07:54:05.580Z"
   },
   {
    "duration": 0,
    "start_time": "2024-01-26T07:54:05.581Z"
   },
   {
    "duration": 0,
    "start_time": "2024-01-26T07:54:05.582Z"
   },
   {
    "duration": 0,
    "start_time": "2024-01-26T07:54:05.583Z"
   },
   {
    "duration": 0,
    "start_time": "2024-01-26T07:54:05.584Z"
   },
   {
    "duration": 0,
    "start_time": "2024-01-26T07:54:05.585Z"
   },
   {
    "duration": 0,
    "start_time": "2024-01-26T07:54:05.586Z"
   },
   {
    "duration": 0,
    "start_time": "2024-01-26T07:54:05.618Z"
   },
   {
    "duration": 0,
    "start_time": "2024-01-26T07:54:05.619Z"
   },
   {
    "duration": 0,
    "start_time": "2024-01-26T07:54:05.620Z"
   },
   {
    "duration": 0,
    "start_time": "2024-01-26T07:54:05.621Z"
   },
   {
    "duration": 0,
    "start_time": "2024-01-26T07:54:05.622Z"
   },
   {
    "duration": 0,
    "start_time": "2024-01-26T07:54:05.623Z"
   },
   {
    "duration": 0,
    "start_time": "2024-01-26T07:54:05.624Z"
   },
   {
    "duration": 0,
    "start_time": "2024-01-26T07:54:05.625Z"
   },
   {
    "duration": 0,
    "start_time": "2024-01-26T07:54:05.626Z"
   },
   {
    "duration": 0,
    "start_time": "2024-01-26T07:54:05.627Z"
   },
   {
    "duration": 0,
    "start_time": "2024-01-26T07:54:05.628Z"
   },
   {
    "duration": 0,
    "start_time": "2024-01-26T07:54:05.630Z"
   },
   {
    "duration": 3,
    "start_time": "2024-01-26T07:54:24.015Z"
   },
   {
    "duration": 11,
    "start_time": "2024-01-26T07:54:24.020Z"
   },
   {
    "duration": 219,
    "start_time": "2024-01-26T07:54:24.033Z"
   },
   {
    "duration": 126,
    "start_time": "2024-01-26T07:54:24.254Z"
   },
   {
    "duration": 51,
    "start_time": "2024-01-26T07:54:24.382Z"
   },
   {
    "duration": 54,
    "start_time": "2024-01-26T07:54:24.435Z"
   },
   {
    "duration": 53,
    "start_time": "2024-01-26T07:54:24.491Z"
   },
   {
    "duration": 50,
    "start_time": "2024-01-26T07:54:24.546Z"
   },
   {
    "duration": 52,
    "start_time": "2024-01-26T07:54:24.598Z"
   },
   {
    "duration": 53,
    "start_time": "2024-01-26T07:54:24.651Z"
   },
   {
    "duration": 54,
    "start_time": "2024-01-26T07:54:24.706Z"
   },
   {
    "duration": 51,
    "start_time": "2024-01-26T07:54:24.761Z"
   },
   {
    "duration": 52,
    "start_time": "2024-01-26T07:54:24.814Z"
   },
   {
    "duration": 97,
    "start_time": "2024-01-26T07:54:24.867Z"
   },
   {
    "duration": 0,
    "start_time": "2024-01-26T07:54:24.966Z"
   },
   {
    "duration": 0,
    "start_time": "2024-01-26T07:54:24.967Z"
   },
   {
    "duration": 0,
    "start_time": "2024-01-26T07:54:24.968Z"
   },
   {
    "duration": 0,
    "start_time": "2024-01-26T07:54:24.970Z"
   },
   {
    "duration": 0,
    "start_time": "2024-01-26T07:54:24.971Z"
   },
   {
    "duration": 0,
    "start_time": "2024-01-26T07:54:24.972Z"
   },
   {
    "duration": 0,
    "start_time": "2024-01-26T07:54:24.973Z"
   },
   {
    "duration": 0,
    "start_time": "2024-01-26T07:54:24.974Z"
   },
   {
    "duration": 0,
    "start_time": "2024-01-26T07:54:24.975Z"
   },
   {
    "duration": 1,
    "start_time": "2024-01-26T07:54:24.975Z"
   },
   {
    "duration": 0,
    "start_time": "2024-01-26T07:54:24.976Z"
   },
   {
    "duration": 0,
    "start_time": "2024-01-26T07:54:24.977Z"
   },
   {
    "duration": 0,
    "start_time": "2024-01-26T07:54:24.978Z"
   },
   {
    "duration": 0,
    "start_time": "2024-01-26T07:54:24.979Z"
   },
   {
    "duration": 0,
    "start_time": "2024-01-26T07:54:24.980Z"
   },
   {
    "duration": 0,
    "start_time": "2024-01-26T07:54:24.981Z"
   },
   {
    "duration": 0,
    "start_time": "2024-01-26T07:54:24.982Z"
   },
   {
    "duration": 0,
    "start_time": "2024-01-26T07:54:24.983Z"
   },
   {
    "duration": 0,
    "start_time": "2024-01-26T07:54:24.985Z"
   },
   {
    "duration": 3,
    "start_time": "2024-01-26T07:54:38.525Z"
   },
   {
    "duration": 18,
    "start_time": "2024-01-26T07:54:38.530Z"
   },
   {
    "duration": 261,
    "start_time": "2024-01-26T07:54:38.549Z"
   },
   {
    "duration": 120,
    "start_time": "2024-01-26T07:54:38.812Z"
   },
   {
    "duration": 52,
    "start_time": "2024-01-26T07:54:38.934Z"
   },
   {
    "duration": 52,
    "start_time": "2024-01-26T07:54:38.988Z"
   },
   {
    "duration": 52,
    "start_time": "2024-01-26T07:54:39.042Z"
   },
   {
    "duration": 49,
    "start_time": "2024-01-26T07:54:39.096Z"
   },
   {
    "duration": 53,
    "start_time": "2024-01-26T07:54:39.146Z"
   },
   {
    "duration": 51,
    "start_time": "2024-01-26T07:54:39.201Z"
   },
   {
    "duration": 55,
    "start_time": "2024-01-26T07:54:39.254Z"
   },
   {
    "duration": 49,
    "start_time": "2024-01-26T07:54:39.311Z"
   },
   {
    "duration": 52,
    "start_time": "2024-01-26T07:54:39.362Z"
   },
   {
    "duration": 55,
    "start_time": "2024-01-26T07:54:39.416Z"
   },
   {
    "duration": 54,
    "start_time": "2024-01-26T07:54:39.472Z"
   },
   {
    "duration": 49,
    "start_time": "2024-01-26T07:54:39.527Z"
   },
   {
    "duration": 54,
    "start_time": "2024-01-26T07:54:39.578Z"
   },
   {
    "duration": 53,
    "start_time": "2024-01-26T07:54:39.633Z"
   },
   {
    "duration": 52,
    "start_time": "2024-01-26T07:54:39.688Z"
   },
   {
    "duration": 49,
    "start_time": "2024-01-26T07:54:39.741Z"
   },
   {
    "duration": 51,
    "start_time": "2024-01-26T07:54:39.792Z"
   },
   {
    "duration": 50,
    "start_time": "2024-01-26T07:54:39.845Z"
   },
   {
    "duration": 50,
    "start_time": "2024-01-26T07:54:39.897Z"
   },
   {
    "duration": 102,
    "start_time": "2024-01-26T07:54:39.948Z"
   },
   {
    "duration": 0,
    "start_time": "2024-01-26T07:54:40.051Z"
   },
   {
    "duration": 0,
    "start_time": "2024-01-26T07:54:40.052Z"
   },
   {
    "duration": 0,
    "start_time": "2024-01-26T07:54:40.054Z"
   },
   {
    "duration": 0,
    "start_time": "2024-01-26T07:54:40.055Z"
   },
   {
    "duration": 0,
    "start_time": "2024-01-26T07:54:40.056Z"
   },
   {
    "duration": 0,
    "start_time": "2024-01-26T07:54:40.057Z"
   },
   {
    "duration": 0,
    "start_time": "2024-01-26T07:54:40.059Z"
   },
   {
    "duration": 0,
    "start_time": "2024-01-26T07:54:40.060Z"
   },
   {
    "duration": 86,
    "start_time": "2024-01-26T07:54:52.096Z"
   },
   {
    "duration": 159,
    "start_time": "2024-01-26T07:54:58.571Z"
   },
   {
    "duration": 50,
    "start_time": "2024-01-26T07:55:05.186Z"
   },
   {
    "duration": 54,
    "start_time": "2024-01-26T07:55:08.188Z"
   },
   {
    "duration": 57,
    "start_time": "2024-01-26T07:55:14.110Z"
   },
   {
    "duration": 71,
    "start_time": "2024-01-26T07:55:16.649Z"
   },
   {
    "duration": 59,
    "start_time": "2024-01-26T07:55:38.005Z"
   },
   {
    "duration": 135,
    "start_time": "2024-01-26T07:55:51.297Z"
   },
   {
    "duration": 244,
    "start_time": "2024-01-26T07:56:07.435Z"
   },
   {
    "duration": 170,
    "start_time": "2024-01-26T07:56:11.293Z"
   },
   {
    "duration": 355,
    "start_time": "2024-01-26T07:56:24.859Z"
   },
   {
    "duration": 70,
    "start_time": "2024-01-26T07:56:33.909Z"
   },
   {
    "duration": 62,
    "start_time": "2024-01-26T07:56:38.561Z"
   },
   {
    "duration": 39,
    "start_time": "2024-01-26T07:56:46.341Z"
   },
   {
    "duration": 127,
    "start_time": "2024-01-26T07:56:54.722Z"
   },
   {
    "duration": 69,
    "start_time": "2024-01-26T07:57:33.943Z"
   },
   {
    "duration": 43,
    "start_time": "2024-01-26T07:57:54.497Z"
   },
   {
    "duration": 72,
    "start_time": "2024-01-26T07:58:10.864Z"
   },
   {
    "duration": 44,
    "start_time": "2024-01-26T07:58:30.062Z"
   },
   {
    "duration": 69,
    "start_time": "2024-01-26T07:58:49.993Z"
   },
   {
    "duration": 50,
    "start_time": "2024-01-26T07:59:06.264Z"
   },
   {
    "duration": 145,
    "start_time": "2024-01-26T07:59:54.182Z"
   },
   {
    "duration": 61,
    "start_time": "2024-01-26T08:00:02.001Z"
   },
   {
    "duration": 85,
    "start_time": "2024-01-26T14:06:50.350Z"
   },
   {
    "duration": 556,
    "start_time": "2024-01-26T14:06:54.774Z"
   },
   {
    "duration": 8735,
    "start_time": "2024-01-26T14:06:55.332Z"
   },
   {
    "duration": 228,
    "start_time": "2024-01-26T14:07:04.068Z"
   },
   {
    "duration": 126,
    "start_time": "2024-01-26T14:07:04.298Z"
   },
   {
    "duration": 53,
    "start_time": "2024-01-26T14:07:04.425Z"
   },
   {
    "duration": 53,
    "start_time": "2024-01-26T14:07:04.480Z"
   },
   {
    "duration": 50,
    "start_time": "2024-01-26T14:07:04.535Z"
   },
   {
    "duration": 48,
    "start_time": "2024-01-26T14:07:04.587Z"
   },
   {
    "duration": 53,
    "start_time": "2024-01-26T14:07:04.637Z"
   },
   {
    "duration": 51,
    "start_time": "2024-01-26T14:07:04.693Z"
   },
   {
    "duration": 53,
    "start_time": "2024-01-26T14:07:04.746Z"
   },
   {
    "duration": 51,
    "start_time": "2024-01-26T14:07:04.802Z"
   },
   {
    "duration": 54,
    "start_time": "2024-01-26T14:07:04.855Z"
   },
   {
    "duration": 56,
    "start_time": "2024-01-26T14:07:04.911Z"
   },
   {
    "duration": 56,
    "start_time": "2024-01-26T14:07:04.969Z"
   },
   {
    "duration": 51,
    "start_time": "2024-01-26T14:07:05.027Z"
   },
   {
    "duration": 55,
    "start_time": "2024-01-26T14:07:05.080Z"
   },
   {
    "duration": 58,
    "start_time": "2024-01-26T14:07:05.137Z"
   },
   {
    "duration": 52,
    "start_time": "2024-01-26T14:07:05.198Z"
   },
   {
    "duration": 48,
    "start_time": "2024-01-26T14:07:05.252Z"
   },
   {
    "duration": 51,
    "start_time": "2024-01-26T14:07:05.302Z"
   },
   {
    "duration": 50,
    "start_time": "2024-01-26T14:07:05.355Z"
   },
   {
    "duration": 48,
    "start_time": "2024-01-26T14:07:05.407Z"
   },
   {
    "duration": 97,
    "start_time": "2024-01-26T14:07:05.457Z"
   },
   {
    "duration": 52,
    "start_time": "2024-01-26T14:07:05.557Z"
   },
   {
    "duration": 56,
    "start_time": "2024-01-26T14:07:05.611Z"
   },
   {
    "duration": 57,
    "start_time": "2024-01-26T14:07:05.669Z"
   },
   {
    "duration": 115,
    "start_time": "2024-01-26T14:07:05.730Z"
   },
   {
    "duration": 62,
    "start_time": "2024-01-26T14:07:55.469Z"
   },
   {
    "duration": 125,
    "start_time": "2024-01-26T14:08:08.168Z"
   },
   {
    "duration": 45,
    "start_time": "2024-01-27T05:46:52.396Z"
   },
   {
    "duration": 506,
    "start_time": "2024-01-27T05:46:58.955Z"
   },
   {
    "duration": 8595,
    "start_time": "2024-01-27T05:46:59.464Z"
   },
   {
    "duration": 227,
    "start_time": "2024-01-27T05:47:08.061Z"
   },
   {
    "duration": 119,
    "start_time": "2024-01-27T05:47:08.289Z"
   },
   {
    "duration": 50,
    "start_time": "2024-01-27T05:47:08.410Z"
   },
   {
    "duration": 51,
    "start_time": "2024-01-27T05:47:08.462Z"
   },
   {
    "duration": 50,
    "start_time": "2024-01-27T05:47:08.515Z"
   },
   {
    "duration": 47,
    "start_time": "2024-01-27T05:47:08.567Z"
   },
   {
    "duration": 49,
    "start_time": "2024-01-27T05:47:08.615Z"
   },
   {
    "duration": 51,
    "start_time": "2024-01-27T05:47:08.665Z"
   },
   {
    "duration": 51,
    "start_time": "2024-01-27T05:47:08.718Z"
   },
   {
    "duration": 49,
    "start_time": "2024-01-27T05:47:08.770Z"
   },
   {
    "duration": 52,
    "start_time": "2024-01-27T05:47:08.821Z"
   },
   {
    "duration": 56,
    "start_time": "2024-01-27T05:47:08.875Z"
   },
   {
    "duration": 51,
    "start_time": "2024-01-27T05:47:08.933Z"
   },
   {
    "duration": 47,
    "start_time": "2024-01-27T05:47:08.986Z"
   },
   {
    "duration": 50,
    "start_time": "2024-01-27T05:47:09.035Z"
   },
   {
    "duration": 53,
    "start_time": "2024-01-27T05:47:09.086Z"
   },
   {
    "duration": 49,
    "start_time": "2024-01-27T05:47:09.141Z"
   },
   {
    "duration": 47,
    "start_time": "2024-01-27T05:47:09.191Z"
   },
   {
    "duration": 49,
    "start_time": "2024-01-27T05:47:09.239Z"
   },
   {
    "duration": 50,
    "start_time": "2024-01-27T05:47:09.290Z"
   },
   {
    "duration": 48,
    "start_time": "2024-01-27T05:47:09.341Z"
   },
   {
    "duration": 85,
    "start_time": "2024-01-27T05:47:09.390Z"
   },
   {
    "duration": 52,
    "start_time": "2024-01-27T05:47:09.476Z"
   },
   {
    "duration": 51,
    "start_time": "2024-01-27T05:47:09.529Z"
   },
   {
    "duration": 55,
    "start_time": "2024-01-27T05:47:09.582Z"
   },
   {
    "duration": 94,
    "start_time": "2024-01-27T05:47:09.638Z"
   },
   {
    "duration": 43,
    "start_time": "2024-01-27T05:47:29.124Z"
   },
   {
    "duration": 154,
    "start_time": "2024-01-27T05:47:41.148Z"
   },
   {
    "duration": 43,
    "start_time": "2024-01-27T05:47:44.359Z"
   },
   {
    "duration": 150,
    "start_time": "2024-01-27T05:50:59.944Z"
   },
   {
    "duration": 76,
    "start_time": "2024-01-27T05:51:14.531Z"
   },
   {
    "duration": 80,
    "start_time": "2024-01-27T05:51:23.201Z"
   },
   {
    "duration": 76,
    "start_time": "2024-01-27T05:51:48.482Z"
   },
   {
    "duration": 77,
    "start_time": "2024-01-27T05:51:56.635Z"
   },
   {
    "duration": 56,
    "start_time": "2024-01-27T05:52:00.971Z"
   }
  ],
  "kernelspec": {
   "display_name": "Python 3 (ipykernel)",
   "language": "python",
   "name": "python3"
  },
  "language_info": {
   "codemirror_mode": {
    "name": "ipython",
    "version": 3
   },
   "file_extension": ".py",
   "mimetype": "text/x-python",
   "name": "python",
   "nbconvert_exporter": "python",
   "pygments_lexer": "ipython3",
   "version": "3.12.0"
  },
  "toc": {
   "base_numbering": 1,
   "nav_menu": {},
   "number_sections": true,
   "sideBar": true,
   "skip_h1_title": true,
   "title_cell": "Table of Contents",
   "title_sidebar": "Contents",
   "toc_cell": false,
   "toc_position": {
    "height": "calc(100% - 180px)",
    "left": "10px",
    "top": "150px",
    "width": "243.038px"
   },
   "toc_section_display": true,
   "toc_window_display": true
  }
 },
 "nbformat": 4,
 "nbformat_minor": 4
}
