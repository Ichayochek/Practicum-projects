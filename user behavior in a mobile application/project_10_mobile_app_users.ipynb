{
 "cells": [
  {
   "cell_type": "markdown",
   "metadata": {},
   "source": [
    "# Проект: Сборный проект №2"
   ]
  },
  {
   "cell_type": "markdown",
   "metadata": {},
   "source": [
    "# Цели проекта:\n",
    "- Проанализировать поведение пользователей,\n",
    "- Оценить результаты А/Б теста по изменениям интерфейса приложения."
   ]
  },
  {
   "cell_type": "markdown",
   "metadata": {},
   "source": [
    "# Задачи:\n",
    " - Изучить воронку продаж,\n",
    " - Проанализировать результаты результаты A/A/B-теста,"
   ]
  },
  {
   "cell_type": "markdown",
   "metadata": {},
   "source": [
    "# Исходные данные:"
   ]
  },
  {
   "cell_type": "markdown",
   "metadata": {},
   "source": [
    "Каждая запись в логе — это действие пользователя, или событие. \n",
    "\n",
    "EventName — название события;\n",
    "\n",
    "DeviceIDHash — уникальный идентификатор пользователя;\n",
    "\n",
    "EventTimestamp — время события;\n",
    "\n",
    "ExpId — номер эксперимента: 246 и 247 — контрольные группы, а 248 — экспериментальная."
   ]
  },
  {
   "cell_type": "markdown",
   "metadata": {},
   "source": [
    "# План работы:\n",
    "\n",
    "- 1 Подготовка рабочей среды и загрузка данных\n",
    "    - 1.1 Импорт библиотек\n",
    "    - 1.2 Загрузка данных\n",
    "    - 1.3 Проверка содержимого\n",
    "    - 1.4 Изучение полученных данных\n",
    "    - 1.5 Вывод по разделу\n",
    "\n",
    "\n",
    "- 2 Подготовка данных\n",
    "    - 2.1 Приведение названий столбцов к правилам хорошего тона\n",
    "    - 2.2 Обработка пропусков\n",
    "    - 2.3 Приведение типов данных\n",
    "        - 2.3.1 Добавление столбца даты и времени\n",
    "        - 2.3.2 Добавление столбца дат\n",
    "    - 2.4 Обработка дубликатов\n",
    "        - 2.4.1 Обработка полных дубликатов\n",
    "        - 2.4.2 Обработка неявных дубликатов\n",
    "    - 2.5 Вывод по разделу\n",
    "\n",
    "\n",
    "- 3  Изучение и проверка данных\n",
    "    - 3.1 Подсчёт событий в логе\n",
    "    - 3.2 Подсчёт пользователей в логе\n",
    "    - 3.3 Подсчёт среднего числа событий на одного пользователя в логе\n",
    "    - 3.4 Анализ временного периода данных\n",
    "        - 3.4.1 Максимальная дата\n",
    "        - 3.4.2 Минимальная дата\n",
    "        - 3.4.3 Анализ изменения количества данных с течением времени\n",
    "        - 3.4.4 Отсечение неполных и устаревших данных\n",
    "    - 3.5 Анализ доли утраченных пользователей и данных после отсечения\n",
    "    - 3.6 Проверка наличия пользователей из всех трёх экспериментальных групп\n",
    "    - 3.7 Вывод по разделу\n",
    "\n",
    "\n",
    "- 4 Изучение воронки событий\n",
    "    - 4.1 Сортировка событий по частоте\n",
    "    - 4.2 Изучение вовлечённости пользователей\n",
    "        - 4.2.1 Сортировка событий по числу пользователей\n",
    "        - 4.2.2 Расчёт доли пользователей, которые хоть раз совершали событие\n",
    "    - 4.3 Исследование воронки событий\n",
    "        - 4.3.1 Построение воронки событий \n",
    "        - 4.3.2 Расчёт конверсии по ступеням воронки событий \n",
    "        - 4.3.3 Анализ потерь пользователей на этапах воронки событий\n",
    "        - 4.3.4 Расчёт доли пользователей, полностью прошедших воронку событий \n",
    "    - 4.4 Вывод по разделу \n",
    "\n",
    "\n",
    "- 5 Исследование результатов эксперимента\n",
    "    - 5.1 Проверка аномалий и выбросов\n",
    "        - 5.1.1 Проверка пересечений пользователей между группами\n",
    "        - 5.1.2 проверка и удаление аномалий и выбросов\n",
    "            - 5.1.2.1 Пользователи, совершившие слишком много событий\n",
    "    - 5.2 Анализ А/А теста \n",
    "    - 5.3 А/Б тест для обеих контрольных групп\n",
    "    - 5.4 А/Б тест для объединённой контрольной группы\n",
    "    - 5.5 Оценка необходимого уровня значимости \n",
    "    - 5.6 Вывод по разделу\n",
    "\n",
    "- 6 Вывод по проделанной работе \n",
    "\n",
    "- 7 Итоги и рекомендации"
   ]
  },
  {
   "cell_type": "markdown",
   "metadata": {},
   "source": [
    "## Подготовка рабочей среды и загрузка данных"
   ]
  },
  {
   "cell_type": "markdown",
   "metadata": {},
   "source": [
    "### Импорт библиотек и подготовка рабочей среды"
   ]
  },
  {
   "cell_type": "code",
   "execution_count": 157,
   "metadata": {},
   "outputs": [],
   "source": [
    "import pandas as pd\n",
    "import matplotlib.pyplot as plt\n",
    "import seaborn as sns\n",
    "sns.set(rc={'figure.figsize':(12, 8)})\n",
    "import scipy.stats as st\n",
    "import datetime as dt\n",
    "import math \n",
    "from plotly import graph_objects as go\n",
    "import numpy as np\n",
    "pd.options.display.max_colwidth = 1\n",
    "pd.options.display.float_format = '{:,.3f}'.format"
   ]
  },
  {
   "cell_type": "markdown",
   "metadata": {},
   "source": [
    "### Загрузка данных"
   ]
  },
  {
   "cell_type": "code",
   "execution_count": 158,
   "metadata": {},
   "outputs": [],
   "source": [
    "data = pd.read_csv('logs_exp.csv', sep='\\t')"
   ]
  },
  {
   "cell_type": "markdown",
   "metadata": {},
   "source": [
    "### Проверка содержимого"
   ]
  },
  {
   "cell_type": "code",
   "execution_count": 159,
   "metadata": {},
   "outputs": [
    {
     "data": {
      "text/html": [
       "<div>\n",
       "<style scoped>\n",
       "    .dataframe tbody tr th:only-of-type {\n",
       "        vertical-align: middle;\n",
       "    }\n",
       "\n",
       "    .dataframe tbody tr th {\n",
       "        vertical-align: top;\n",
       "    }\n",
       "\n",
       "    .dataframe thead th {\n",
       "        text-align: right;\n",
       "    }\n",
       "</style>\n",
       "<table border=\"1\" class=\"dataframe\">\n",
       "  <thead>\n",
       "    <tr style=\"text-align: right;\">\n",
       "      <th></th>\n",
       "      <th>EventName</th>\n",
       "      <th>DeviceIDHash</th>\n",
       "      <th>EventTimestamp</th>\n",
       "      <th>ExpId</th>\n",
       "    </tr>\n",
       "  </thead>\n",
       "  <tbody>\n",
       "    <tr>\n",
       "      <th>0</th>\n",
       "      <td>MainScreenAppear</td>\n",
       "      <td>4575588528974610257</td>\n",
       "      <td>1564029816</td>\n",
       "      <td>246</td>\n",
       "    </tr>\n",
       "    <tr>\n",
       "      <th>1</th>\n",
       "      <td>MainScreenAppear</td>\n",
       "      <td>7416695313311560658</td>\n",
       "      <td>1564053102</td>\n",
       "      <td>246</td>\n",
       "    </tr>\n",
       "    <tr>\n",
       "      <th>2</th>\n",
       "      <td>PaymentScreenSuccessful</td>\n",
       "      <td>3518123091307005509</td>\n",
       "      <td>1564054127</td>\n",
       "      <td>248</td>\n",
       "    </tr>\n",
       "    <tr>\n",
       "      <th>3</th>\n",
       "      <td>CartScreenAppear</td>\n",
       "      <td>3518123091307005509</td>\n",
       "      <td>1564054127</td>\n",
       "      <td>248</td>\n",
       "    </tr>\n",
       "    <tr>\n",
       "      <th>4</th>\n",
       "      <td>PaymentScreenSuccessful</td>\n",
       "      <td>6217807653094995999</td>\n",
       "      <td>1564055322</td>\n",
       "      <td>248</td>\n",
       "    </tr>\n",
       "  </tbody>\n",
       "</table>\n",
       "</div>"
      ],
      "text/plain": [
       "                 EventName         DeviceIDHash  EventTimestamp  ExpId\n",
       "0  MainScreenAppear         4575588528974610257  1564029816      246  \n",
       "1  MainScreenAppear         7416695313311560658  1564053102      246  \n",
       "2  PaymentScreenSuccessful  3518123091307005509  1564054127      248  \n",
       "3  CartScreenAppear         3518123091307005509  1564054127      248  \n",
       "4  PaymentScreenSuccessful  6217807653094995999  1564055322      248  "
      ]
     },
     "execution_count": 159,
     "metadata": {},
     "output_type": "execute_result"
    }
   ],
   "source": [
    "data.head()"
   ]
  },
  {
   "cell_type": "markdown",
   "metadata": {},
   "source": [
    "### Изучение полученных данных"
   ]
  },
  {
   "cell_type": "code",
   "execution_count": 160,
   "metadata": {},
   "outputs": [
    {
     "name": "stdout",
     "output_type": "stream",
     "text": [
      "<class 'pandas.core.frame.DataFrame'>\n",
      "RangeIndex: 244126 entries, 0 to 244125\n",
      "Data columns (total 4 columns):\n",
      " #   Column          Non-Null Count   Dtype \n",
      "---  ------          --------------   ----- \n",
      " 0   EventName       244126 non-null  object\n",
      " 1   DeviceIDHash    244126 non-null  int64 \n",
      " 2   EventTimestamp  244126 non-null  int64 \n",
      " 3   ExpId           244126 non-null  int64 \n",
      "dtypes: int64(3), object(1)\n",
      "memory usage: 7.5+ MB\n"
     ]
    }
   ],
   "source": [
    "data.info()"
   ]
  },
  {
   "cell_type": "markdown",
   "metadata": {},
   "source": [
    "EventName - поле текстового типа. \n",
    "Содержит название события.\n",
    "\n",
    "DeviceIDHash - целочисленное поле.\n",
    "Идентификатор пользователя.\n",
    "\n",
    "EventTimestamp - целочисленное поле.\n",
    "Время события. Тип необходимо изменить на дату.\n",
    "\n",
    "ExpId - целочисленное поле.\n",
    "Номер группы."
   ]
  },
  {
   "cell_type": "markdown",
   "metadata": {},
   "source": [
    "### Вывод по разделу"
   ]
  },
  {
   "cell_type": "markdown",
   "metadata": {},
   "source": [
    "Явных пропусков в таблицах не обнаружено. Численные переменные заданы верно. Данные, касающиеся даты и времени необходимо преобразовать в соответствующий формат из текстового."
   ]
  },
  {
   "cell_type": "markdown",
   "metadata": {},
   "source": [
    "## Подготовка данных"
   ]
  },
  {
   "cell_type": "markdown",
   "metadata": {},
   "source": [
    "### Приведение названий столбцов к правилам хорошего тона"
   ]
  },
  {
   "cell_type": "code",
   "execution_count": 161,
   "metadata": {},
   "outputs": [],
   "source": [
    "data.columns = ['event', 'user_id', 'timestamp', 'group']"
   ]
  },
  {
   "cell_type": "markdown",
   "metadata": {},
   "source": [
    "### Обработка пропусков"
   ]
  },
  {
   "cell_type": "code",
   "execution_count": 162,
   "metadata": {},
   "outputs": [
    {
     "data": {
      "text/plain": [
       "event        0\n",
       "user_id      0\n",
       "timestamp    0\n",
       "group        0\n",
       "dtype: int64"
      ]
     },
     "execution_count": 162,
     "metadata": {},
     "output_type": "execute_result"
    }
   ],
   "source": [
    "data.isna().sum()"
   ]
  },
  {
   "cell_type": "markdown",
   "metadata": {},
   "source": [
    "Явных пропусков нет"
   ]
  },
  {
   "cell_type": "markdown",
   "metadata": {},
   "source": [
    "### Приведение типов данных"
   ]
  },
  {
   "cell_type": "markdown",
   "metadata": {},
   "source": [
    "#### Добавление столбца даты и времени"
   ]
  },
  {
   "cell_type": "code",
   "execution_count": 163,
   "metadata": {},
   "outputs": [],
   "source": [
    "data['date_time'] = pd.to_datetime(data['timestamp'], unit='s') "
   ]
  },
  {
   "cell_type": "markdown",
   "metadata": {},
   "source": [
    "#### Добавление столбца дат"
   ]
  },
  {
   "cell_type": "code",
   "execution_count": 164,
   "metadata": {},
   "outputs": [],
   "source": [
    "data['date'] = data['date_time'].dt.date"
   ]
  },
  {
   "cell_type": "markdown",
   "metadata": {},
   "source": [
    "### Обработка дубликатов"
   ]
  },
  {
   "cell_type": "markdown",
   "metadata": {},
   "source": [
    "#### Обработка полных дубликатов"
   ]
  },
  {
   "cell_type": "code",
   "execution_count": 165,
   "metadata": {
    "scrolled": true
   },
   "outputs": [
    {
     "data": {
      "text/plain": [
       "413"
      ]
     },
     "execution_count": 165,
     "metadata": {},
     "output_type": "execute_result"
    }
   ],
   "source": [
    "data.duplicated().sum()"
   ]
  },
  {
   "cell_type": "code",
   "execution_count": 166,
   "metadata": {},
   "outputs": [
    {
     "data": {
      "text/plain": [
       "0.0016917493425526163"
      ]
     },
     "execution_count": 166,
     "metadata": {},
     "output_type": "execute_result"
    }
   ],
   "source": [
    "data.duplicated().sum()/data['user_id'].count()"
   ]
  },
  {
   "cell_type": "markdown",
   "metadata": {},
   "source": [
    "Число полных дубликатов крайне мало. Их можно удалить."
   ]
  },
  {
   "cell_type": "code",
   "execution_count": 167,
   "metadata": {},
   "outputs": [],
   "source": [
    "data=data.drop_duplicates().reset_index(drop=True);"
   ]
  },
  {
   "cell_type": "markdown",
   "metadata": {},
   "source": [
    "#### Обработка неявных дубликатов"
   ]
  },
  {
   "cell_type": "code",
   "execution_count": 168,
   "metadata": {
    "scrolled": true
   },
   "outputs": [
    {
     "name": "stdout",
     "output_type": "stream",
     "text": [
      "<class 'pandas.core.frame.DataFrame'>\n",
      "RangeIndex: 243713 entries, 0 to 243712\n",
      "Data columns (total 6 columns):\n",
      " #   Column     Non-Null Count   Dtype         \n",
      "---  ------     --------------   -----         \n",
      " 0   event      243713 non-null  object        \n",
      " 1   user_id    243713 non-null  int64         \n",
      " 2   timestamp  243713 non-null  int64         \n",
      " 3   group      243713 non-null  int64         \n",
      " 4   date_time  243713 non-null  datetime64[ns]\n",
      " 5   date       243713 non-null  object        \n",
      "dtypes: datetime64[ns](1), int64(3), object(2)\n",
      "memory usage: 11.2+ MB\n"
     ]
    }
   ],
   "source": [
    "data.info()"
   ]
  },
  {
   "cell_type": "code",
   "execution_count": 169,
   "metadata": {},
   "outputs": [
    {
     "data": {
      "text/plain": [
       "0"
      ]
     },
     "execution_count": 169,
     "metadata": {},
     "output_type": "execute_result"
    }
   ],
   "source": [
    "data.duplicated(['event','user_id','timestamp']).sum()"
   ]
  },
  {
   "cell_type": "markdown",
   "metadata": {},
   "source": [
    "Единственным вариантом неявных дубликатов может быть запись одного события одновременно в две группы.\n",
    "Неявные дубликаты в данных отсутствуют."
   ]
  },
  {
   "cell_type": "markdown",
   "metadata": {},
   "source": [
    "### Вывод по разделу"
   ]
  },
  {
   "cell_type": "markdown",
   "metadata": {},
   "source": [
    "Названия столбцов были приведены к правилам хорошего тона.\n",
    "\n",
    "Пропусков в данных не обнаружено.\n",
    "\n",
    "Были добавлены поля с датой и датой и временем события.\n",
    "\n",
    "Из данных было удалено 413 дубликатов.\n",
    "\n",
    "Неявные дубликаты в данных выявлены не были."
   ]
  },
  {
   "cell_type": "markdown",
   "metadata": {},
   "source": [
    "## Изучение и проверка данных"
   ]
  },
  {
   "cell_type": "markdown",
   "metadata": {},
   "source": [
    "### Подсчёт событий в логе"
   ]
  },
  {
   "cell_type": "code",
   "execution_count": 170,
   "metadata": {},
   "outputs": [
    {
     "name": "stdout",
     "output_type": "stream",
     "text": [
      "В данных представлено 5 типов событий\n"
     ]
    }
   ],
   "source": [
    "print(f'В данных представлено {data.event.nunique()} типов событий')"
   ]
  },
  {
   "cell_type": "markdown",
   "metadata": {},
   "source": [
    "Количество событий каждого типа"
   ]
  },
  {
   "cell_type": "code",
   "execution_count": 171,
   "metadata": {},
   "outputs": [
    {
     "data": {
      "text/plain": [
       "event\n",
       "MainScreenAppear           119101\n",
       "OffersScreenAppear         46808 \n",
       "CartScreenAppear           42668 \n",
       "PaymentScreenSuccessful    34118 \n",
       "Tutorial                   1018  \n",
       "Name: count, dtype: int64"
      ]
     },
     "execution_count": 171,
     "metadata": {},
     "output_type": "execute_result"
    }
   ],
   "source": [
    "data['event'].value_counts()"
   ]
  },
  {
   "cell_type": "markdown",
   "metadata": {},
   "source": [
    "Наибольшее число у посещения главной страницы.\n",
    "Оно вдвое больше чем суммарное число любого из остальных событий.\n",
    "\n",
    "На втором месте число посещений страницы предложений, далее, страница ввода данных карты.\n",
    "\n",
    "На четвёртом месте экран успешной оплаты.\n",
    "\n",
    "Замыкает руководство пользователя с минимальным числом событий, составляющим менее процента от числа посещений главной страницы."
   ]
  },
  {
   "cell_type": "markdown",
   "metadata": {},
   "source": [
    "### Подсчёт пользователей в логе"
   ]
  },
  {
   "cell_type": "code",
   "execution_count": 172,
   "metadata": {},
   "outputs": [
    {
     "name": "stdout",
     "output_type": "stream",
     "text": [
      "В данных представлено 7551 уникальных пользователя\n"
     ]
    }
   ],
   "source": [
    "print(f'В данных представлено {data.user_id.nunique()} уникальных пользователя')"
   ]
  },
  {
   "cell_type": "markdown",
   "metadata": {},
   "source": [
    "### Подсчёт среднего числа событий на одного пользователя в логе"
   ]
  },
  {
   "cell_type": "code",
   "execution_count": 173,
   "metadata": {},
   "outputs": [
    {
     "name": "stdout",
     "output_type": "stream",
     "text": [
      "Среднее число событий на пользователя: 32.3\n"
     ]
    }
   ],
   "source": [
    "print('Среднее число событий на пользователя:', round(data.groupby('user_id').agg({'event':'count'}).reset_index(drop=True).mean()['event'],1));"
   ]
  },
  {
   "cell_type": "markdown",
   "metadata": {},
   "source": [
    "### Анализ временного периода данных"
   ]
  },
  {
   "cell_type": "markdown",
   "metadata": {},
   "source": [
    "#### Максимальная дата"
   ]
  },
  {
   "cell_type": "code",
   "execution_count": 174,
   "metadata": {},
   "outputs": [
    {
     "name": "stdout",
     "output_type": "stream",
     "text": [
      "Конец рассматриваемого периода: 2019-08-07\n"
     ]
    }
   ],
   "source": [
    "print('Конец рассматриваемого периода:', data.date.max())"
   ]
  },
  {
   "cell_type": "markdown",
   "metadata": {},
   "source": [
    "#### Минимальная дата"
   ]
  },
  {
   "cell_type": "code",
   "execution_count": 175,
   "metadata": {},
   "outputs": [
    {
     "name": "stdout",
     "output_type": "stream",
     "text": [
      "Начало рассматриваемого периода: 2019-07-25\n"
     ]
    }
   ],
   "source": [
    "print('Начало рассматриваемого периода:', data.date.min());"
   ]
  },
  {
   "cell_type": "markdown",
   "metadata": {},
   "source": [
    "#### Анализ изменения количества данных с течением времени"
   ]
  },
  {
   "cell_type": "markdown",
   "metadata": {},
   "source": [
    "Группировка данных по дате и типу события и подсчет количества событий"
   ]
  },
  {
   "cell_type": "code",
   "execution_count": 176,
   "metadata": {},
   "outputs": [],
   "source": [
    "events_per_day_per_group = (data\n",
    "                        .groupby(['date', 'group'])\n",
    "                        .size()\n",
    "                        .unstack(fill_value=0)\n",
    "                       )"
   ]
  },
  {
   "cell_type": "code",
   "execution_count": 177,
   "metadata": {},
   "outputs": [
    {
     "data": {
      "image/png": "[encoded data removed]",
      "text/plain": [
       "<Figure size 1500x600 with 1 Axes>"
      ]
     },
     "metadata": {},
     "output_type": "display_data"
    }
   ],
   "source": [
    "events_per_day_per_group.plot(kind='bar',\n",
    "                          stacked=True,\n",
    "                          figsize=(15, 6))\n",
    "\n",
    "\n",
    "plt.title('Распределение числа событий по дням', fontsize=18, weight='bold')\n",
    "plt.xlabel('Дата', fontsize=14, weight='bold')\n",
    "plt.ylabel('Количество событий', fontsize=14, weight='bold')\n",
    "plt.xticks(rotation=45)\n",
    "plt.legend(title='Группа')\n",
    "\n",
    "plt.show()"
   ]
  },
  {
   "cell_type": "markdown",
   "metadata": {},
   "source": [
    "До 31.07.2019 число событий крайне мало относительно последующего периода.\n",
    "По графику также хорошо видно составляющие воронки событий."
   ]
  },
  {
   "cell_type": "markdown",
   "metadata": {},
   "source": [
    "#### Отсечение неполных и устаревших данных"
   ]
  },
  {
   "cell_type": "code",
   "execution_count": 178,
   "metadata": {},
   "outputs": [
    {
     "name": "stdout",
     "output_type": "stream",
     "text": [
      "Доля событий, произошедших до 31.07.2019: 0.003 %\n"
     ]
    }
   ],
   "source": [
    "print('Доля событий, произошедших до 31.07.2019: {:,.3f} %'.format(\n",
    "    data[data['date']<pd.to_datetime('2019-07-31', format = '%Y-%m-%d').date()]['date'].count()/data['date'].count()\n",
    ")\n",
    ")"
   ]
  },
  {
   "cell_type": "markdown",
   "metadata": {},
   "source": [
    "Все дни до 31.07.2019 включительно содержат очень мало событий, относительно последующих дней до конца рассматриваемого периода.\n",
    "\n",
    "Учёт их в анализе нецелесообразен т.к. их удельный вес крайне мал. "
   ]
  },
  {
   "cell_type": "code",
   "execution_count": 179,
   "metadata": {},
   "outputs": [],
   "source": [
    "datasize=[[],[]]"
   ]
  },
  {
   "cell_type": "markdown",
   "metadata": {},
   "source": [
    "Сохранение числа пользователей и событий до отсечения по дате."
   ]
  },
  {
   "cell_type": "code",
   "execution_count": 180,
   "metadata": {},
   "outputs": [],
   "source": [
    "datasize[0]=data.event.count()\n",
    "datasize[1]=data.user_id.nunique()"
   ]
  },
  {
   "cell_type": "code",
   "execution_count": 181,
   "metadata": {},
   "outputs": [],
   "source": [
    "data=data[data.date>pd.to_datetime('2019-07-31', format = '%Y-%m-%d').date()]"
   ]
  },
  {
   "cell_type": "markdown",
   "metadata": {},
   "source": [
    "### Анализ доли утраченных пользователей и данных после отсечения"
   ]
  },
  {
   "cell_type": "markdown",
   "metadata": {},
   "source": [
    "Доля утраченных событий"
   ]
  },
  {
   "cell_type": "code",
   "execution_count": 182,
   "metadata": {},
   "outputs": [
    {
     "name": "stdout",
     "output_type": "stream",
     "text": [
      "Из данных было удалено 2826 записей.\n",
      " Это 1.16% всех данных.\n"
     ]
    }
   ],
   "source": [
    "print(f'Из данных было удалено {datasize[0]-data.event.count()} записей.\\n Это {(1-data.event.count()/datasize[0]):.2%} всех данных.')"
   ]
  },
  {
   "cell_type": "markdown",
   "metadata": {},
   "source": [
    "Доля утраченных пользователей"
   ]
  },
  {
   "cell_type": "code",
   "execution_count": 183,
   "metadata": {},
   "outputs": [
    {
     "name": "stdout",
     "output_type": "stream",
     "text": [
      "Из данных было удалено 17 уникальных пользователей.\n",
      " Это 0.23% всех уникальных пользователей.\n"
     ]
    }
   ],
   "source": [
    "print(f'Из данных было удалено {datasize[1]-data.user_id.nunique()} уникальных пользователей.\\n Это {(1-data.user_id.nunique()/datasize[1]):.2%} всех уникальных пользователей.')"
   ]
  },
  {
   "cell_type": "markdown",
   "metadata": {},
   "source": [
    "Этот объём не должен оказать существенного влияния на результаты анализа."
   ]
  },
  {
   "cell_type": "markdown",
   "metadata": {},
   "source": [
    "### Проверка наличия пользователей из всех трёх экспериментальных групп"
   ]
  },
  {
   "cell_type": "markdown",
   "metadata": {},
   "source": [
    "Число пользователей в каждой из групп"
   ]
  },
  {
   "cell_type": "code",
   "execution_count": 184,
   "metadata": {},
   "outputs": [
    {
     "data": {
      "text/plain": [
       "group\n",
       "246    2484\n",
       "247    2513\n",
       "248    2537\n",
       "Name: user_id, dtype: int64"
      ]
     },
     "execution_count": 184,
     "metadata": {},
     "output_type": "execute_result"
    }
   ],
   "source": [
    "data.groupby('group')['user_id'].nunique()"
   ]
  },
  {
   "cell_type": "markdown",
   "metadata": {},
   "source": [
    "Соотношение размеров групп, приведённое к доле от наибольшего значения."
   ]
  },
  {
   "cell_type": "code",
   "execution_count": 185,
   "metadata": {},
   "outputs": [
    {
     "data": {
      "text/plain": [
       "group\n",
       "246   0.979\n",
       "247   0.991\n",
       "248   1.000\n",
       "Name: user_id, dtype: float64"
      ]
     },
     "execution_count": 185,
     "metadata": {},
     "output_type": "execute_result"
    }
   ],
   "source": [
    "data.groupby('group')['user_id'].nunique()/max(data.groupby('group')['user_id'].nunique())"
   ]
  },
  {
   "cell_type": "markdown",
   "metadata": {},
   "source": [
    "Соотношение размеров группы 246 не удовлетворяет требованиям корректности проведения А/Б тестов.\n",
    "\n",
    "Допустимое отклонение - 1%."
   ]
  },
  {
   "cell_type": "markdown",
   "metadata": {},
   "source": [
    "Проверим соотношение долей пользователей в группах 246 и 247"
   ]
  },
  {
   "cell_type": "code",
   "execution_count": 186,
   "metadata": {},
   "outputs": [
    {
     "name": "stdout",
     "output_type": "stream",
     "text": [
      "H0: доли пользователей групп А1 и А2 равны\n",
      "H1: доли пользователей групп А1 и А2 различаются\n",
      "p-value = 0.562\n",
      "уровень значимости = 0.05\n",
      "Нулевая гипотеза не отвергается\n",
      "========================================\n",
      "H0: вероятность попасть в группу А1 составляет 50%\n",
      "H1: вероятность попасть в группу А1 отличается от 50%\n",
      "p-value = 0.682\n",
      "уровень значимости = 0.05\n",
      "Нулевая гипотеза не отвергается\n"
     ]
    }
   ],
   "source": [
    "from statsmodels.stats.proportion import proportions_ztest\n",
    "# Проведем несколько тестов:\n",
    "count = np.array([data.query('event != \"Tutorial\" and group == 246')['user_id'].nunique(),\n",
    "                 data.query('event != \"Tutorial\" and group == 247')['user_id'].nunique()])\n",
    "nobs = np.array([data.query('event != \"Tutorial\" and group in (246, 247)')['user_id'].nunique(),\n",
    "                 data.query('event != \"Tutorial\" and group in (246, 247)')['user_id'].nunique()])\n",
    "stat, pval = proportions_ztest(count, nobs)\n",
    "alpha = 0.05\n",
    "\n",
    "print('H0: доли пользователей групп А1 и А2 равны')\n",
    "print('H1: доли пользователей групп А1 и А2 различаются')\n",
    "\n",
    "print('p-value = {:0.3f}'.format(pval))\n",
    "print('уровень значимости = {:0.2f}'.format(alpha))\n",
    "if pval >= alpha: print('Нулевая гипотеза не отвергается')\n",
    "else: print('Нулевая гипотеза отвергается')\n",
    "\n",
    "print('='*40)\n",
    "\n",
    "count = data.query('event != \"Tutorial\" and group == 246')['user_id'].nunique()\n",
    "nobs = data.query('event != \"Tutorial\" and group in (246, 247)')['user_id'].nunique()\n",
    "value = .5\n",
    "stat, pval = proportions_ztest(count, nobs, value)\n",
    "alpha = 0.05\n",
    "\n",
    "print('H0: вероятность попасть в группу А1 составляет 50%')\n",
    "print('H1: вероятность попасть в группу А1 отличается от 50%')\n",
    "\n",
    "print('p-value = {:0.3f}'.format(pval))\n",
    "print('уровень значимости = {:0.2f}'.format(alpha))\n",
    "if pval >= alpha: print('Нулевая гипотеза не отвергается')\n",
    "else: print('Нулевая гипотеза отвергается')"
   ]
  },
  {
   "cell_type": "markdown",
   "metadata": {},
   "source": [
    "Различие в числе пользователей между группами 246 и 247 несущественно для результатов тестирования."
   ]
  },
  {
   "cell_type": "markdown",
   "metadata": {},
   "source": [
    "### Вывод по разделу"
   ]
  },
  {
   "cell_type": "markdown",
   "metadata": {},
   "source": [
    "В данных представлено 5 видов событий. По числу событий каждого типа хорошо видно составляющие воронки событий.\n",
    "\n",
    "Число уникальных пользователей - 7551.\n",
    "\n",
    "Среднее число событий на пользователя - 32.\n",
    "\n",
    "Полный период, представленный в данных:\n",
    "С 25.07.2019 по 07.08.2019 т.е. 14 дней.\n",
    "\n",
    "После анализа распределения числа событий по датам, данные до 31.07.2019 включительно, были удалены т.к. общее число событий, произошедшее в эти даты составило менее 1.2% от всех.\n",
    "\n",
    "Анализ событий за эти даты нецелесообразен и не может оказать существенного влияния на результаты тестов.\n",
    "\n",
    "Таким образом в дальнейшем будет рассматриваться период в 6 дней: с 31.07.2019 по 07.08.2019."
   ]
  },
  {
   "cell_type": "markdown",
   "metadata": {},
   "source": [
    "## Изучение воронки событий"
   ]
  },
  {
   "cell_type": "markdown",
   "metadata": {},
   "source": [
    "### Сортировка событий по частоте"
   ]
  },
  {
   "cell_type": "code",
   "execution_count": 187,
   "metadata": {},
   "outputs": [
    {
     "data": {
      "text/plain": [
       "event\n",
       "MainScreenAppear           117328\n",
       "OffersScreenAppear         46333 \n",
       "CartScreenAppear           42303 \n",
       "PaymentScreenSuccessful    33918 \n",
       "Tutorial                   1005  \n",
       "Name: count, dtype: int64"
      ]
     },
     "execution_count": 187,
     "metadata": {},
     "output_type": "execute_result"
    }
   ],
   "source": [
    "data['event'].value_counts().sort_values(ascending=False)"
   ]
  },
  {
   "cell_type": "markdown",
   "metadata": {},
   "source": [
    "Наиболее посещаемая страница - главная.\n",
    "\n",
    "За ней идёт страница предложений, следом страница покупок, потом экран успешной оплаты.\n",
    "\n",
    "Самая низкая посещаемость у руководства пользователя."
   ]
  },
  {
   "cell_type": "markdown",
   "metadata": {},
   "source": [
    "### Изучение вовлечённости пользователей"
   ]
  },
  {
   "cell_type": "markdown",
   "metadata": {},
   "source": [
    "#### Сортировка событий по числу пользователей"
   ]
  },
  {
   "cell_type": "code",
   "execution_count": 188,
   "metadata": {},
   "outputs": [
    {
     "name": "stdout",
     "output_type": "stream",
     "text": [
      "                     event  user_nums\n",
      "0  MainScreenAppear         7419     \n",
      "1  OffersScreenAppear       4593     \n",
      "2  CartScreenAppear         3734     \n",
      "3  PaymentScreenSuccessful  3539     \n",
      "4  Tutorial                 840      \n"
     ]
    }
   ],
   "source": [
    "events_grouped=data.groupby('event')\\\n",
    ".agg({'user_id':'nunique'})\\\n",
    ".reset_index()\\\n",
    ".sort_values(by='user_id',ascending=False )\\\n",
    ".reset_index(drop=True)\n",
    "events_grouped.columns = ['event', 'user_nums']\n",
    "print(events_grouped)"
   ]
  },
  {
   "cell_type": "markdown",
   "metadata": {},
   "source": [
    "Число уникальных пользователей на каждое из событий пропорционально числу каждого из событий."
   ]
  },
  {
   "cell_type": "markdown",
   "metadata": {},
   "source": [
    "#### Расчёт доли пользователей, которые хоть раз совершали событие"
   ]
  },
  {
   "cell_type": "markdown",
   "metadata": {},
   "source": [
    "Процент пользователей, совершивших хотя бы одно событие."
   ]
  },
  {
   "cell_type": "code",
   "execution_count": 189,
   "metadata": {},
   "outputs": [
    {
     "name": "stdout",
     "output_type": "stream",
     "text": [
      "                     event  user_nums  user_ratio\n",
      "0  MainScreenAppear         7419      0.985      \n",
      "1  OffersScreenAppear       4593      0.610      \n",
      "2  CartScreenAppear         3734      0.496      \n",
      "3  PaymentScreenSuccessful  3539      0.470      \n",
      "4  Tutorial                 840       0.111      \n"
     ]
    }
   ],
   "source": [
    "events_grouped['user_ratio']=events_grouped['user_nums']/(data.user_id.nunique())\n",
    "print(events_grouped)"
   ]
  },
  {
   "cell_type": "markdown",
   "metadata": {},
   "source": [
    "Практически все пользователи посещали главный экран (~99%).\n",
    "\n",
    "61% пользователей посетил страницу предложений.\n",
    "\n",
    "Почти 50% пользователей посетили экран ввода данных карты.\n",
    "\n",
    "47% пользователей увидели экран успешной оплаты.\n",
    "\n",
    "Только 11% пользователей воспользовались руководством пользователя."
   ]
  },
  {
   "cell_type": "markdown",
   "metadata": {},
   "source": [
    "### Исследование воронки событий"
   ]
  },
  {
   "cell_type": "markdown",
   "metadata": {},
   "source": [
    "#### Построение воронки событий "
   ]
  },
  {
   "cell_type": "markdown",
   "metadata": {},
   "source": [
    "Из пункта выше следует, что воронка событий выглядит следующим образом:\n",
    "- 1) MainScreenAppear\n",
    "- 2) OffersScreenAppear\n",
    "- 3) CartScreenAppear\n",
    "- 4) PaymentScreenSuccessful\n",
    "\n",
    "Событие \"Показ руководства пользователя\" не входит в воронку событий т.к. его доля значительно меньше, чем у прочих событий и оно не участвует в продажах, являясь сервисом помощи для заблудившихся и запутавшихся пользователей.\n",
    "\n",
    "Показатель в 11% пользователей, обратившихся за помощью говорит что сайт понятен, но не интуитивен.\n",
    "Падение конверсии с по мере продвижения пользователя по воронке событий может быть вызвано тем, что пользователи не справлялись с интерфейсом."
   ]
  },
  {
   "cell_type": "markdown",
   "metadata": {},
   "source": [
    "#### Проверка на последовательность действий пользователей."
   ]
  },
  {
   "cell_type": "code",
   "execution_count": 190,
   "metadata": {},
   "outputs": [],
   "source": [
    "# Создание таблицы 5*5 с отношением числа уникальных пользователей в каждом событии\n",
    "#с целью впоследтвии присоединить её к events_grouped\n",
    "intersection_ratios=pd.DataFrame()\n",
    "intersection_ratios['event']=events_grouped['event']\n",
    "for ev in events_grouped['event']:\n",
    "    intersection_ratios[ev]=0\n",
    "intersection_ratios['funnel']=0\n",
    "intersection_ratios['conversion']=0"
   ]
  },
  {
   "cell_type": "code",
   "execution_count": 191,
   "metadata": {},
   "outputs": [],
   "source": [
    "# Создание списка, содержащего списки уникальных пользователей для каждого из событий\n",
    "sets_list=[[],[],[],[],[]]\n",
    "for event_num, event_name in enumerate(events_grouped['event']):\n",
    "    sets_list[event_num]=set(data[data[\"event\"] == event_name][\"user_id\"].unique())"
   ]
  },
  {
   "cell_type": "code",
   "execution_count": 192,
   "metadata": {
    "scrolled": true
   },
   "outputs": [
    {
     "name": "stderr",
     "output_type": "stream",
     "text": [
      "C:\\Users\\mihai\\AppData\\Local\\Temp\\ipykernel_7888\\1377557986.py:8: FutureWarning: Setting an item of incompatible dtype is deprecated and will raise in a future error of pandas. Value '[0.60412455]' has dtype incompatible with int64, please explicitly cast to a compatible dtype first.\n",
      "  intersection_ratios.loc[intersection_ratios[\"event\"]==event_name1,event_name2]\\\n",
      "C:\\Users\\mihai\\AppData\\Local\\Temp\\ipykernel_7888\\1377557986.py:8: FutureWarning: Setting an item of incompatible dtype is deprecated and will raise in a future error of pandas. Value '[0.48995822]' has dtype incompatible with int64, please explicitly cast to a compatible dtype first.\n",
      "  intersection_ratios.loc[intersection_ratios[\"event\"]==event_name1,event_name2]\\\n",
      "C:\\Users\\mihai\\AppData\\Local\\Temp\\ipykernel_7888\\1377557986.py:8: FutureWarning: Setting an item of incompatible dtype is deprecated and will raise in a future error of pandas. Value '[0.46380914]' has dtype incompatible with int64, please explicitly cast to a compatible dtype first.\n",
      "  intersection_ratios.loc[intersection_ratios[\"event\"]==event_name1,event_name2]\\\n",
      "C:\\Users\\mihai\\AppData\\Local\\Temp\\ipykernel_7888\\1377557986.py:8: FutureWarning: Setting an item of incompatible dtype is deprecated and will raise in a future error of pandas. Value '[0.11268365]' has dtype incompatible with int64, please explicitly cast to a compatible dtype first.\n",
      "  intersection_ratios.loc[intersection_ratios[\"event\"]==event_name1,event_name2]\\\n",
      "C:\\Users\\mihai\\AppData\\Local\\Temp\\ipykernel_7888\\1377557986.py:8: FutureWarning: Setting an item of incompatible dtype is deprecated and will raise in a future error of pandas. Value '[0.97583279]' has dtype incompatible with int64, please explicitly cast to a compatible dtype first.\n",
      "  intersection_ratios.loc[intersection_ratios[\"event\"]==event_name1,event_name2]\\\n"
     ]
    }
   ],
   "source": [
    "# Расчёт доли пересекающихся пользователей для каждого из событий.\n",
    "# Доля считается для основного события в сравнении поэтому значения \n",
    "# сверху и снизу от главной диагонали отличаются.\n",
    "\n",
    "for event_num1, event_name1 in enumerate(events_grouped[\"event\"]):\n",
    "    for event_num2, event_name2 in enumerate(events_grouped[\"event\"]):\n",
    "\n",
    "        intersection_ratios.loc[intersection_ratios[\"event\"]==event_name1,event_name2]\\\n",
    "        =len(sets_list[event_num1].intersection(sets_list[event_num2]))/\\\n",
    "        events_grouped.loc[events_grouped['event']==event_name1,'user_nums']"
   ]
  },
  {
   "cell_type": "code",
   "execution_count": 193,
   "metadata": {},
   "outputs": [
    {
     "name": "stderr",
     "output_type": "stream",
     "text": [
      "C:\\Users\\mihai\\AppData\\Local\\Temp\\ipykernel_7888\\4184249240.py:5: FutureWarning: Setting an item of incompatible dtype is deprecated and will raise in a future error of pandas. Value '0.6041245450869389' has dtype incompatible with int64, please explicitly cast to a compatible dtype first.\n",
      "  intersection_ratios.loc[intersection_ratios['event']==event_name1,'funnel']=intersection_ratios[event_name1].iloc[event_num2];\n"
     ]
    }
   ],
   "source": [
    "# Выделение последовательной конверсий по воронке событий в поле 'funnel'\n",
    "for event_num1, event_name1 in enumerate(events_grouped[\"event\"]):\n",
    "    for event_num2, event_name2 in enumerate(events_grouped[\"event\"]):\n",
    "         if event_num2+1==event_num1:\n",
    "            intersection_ratios.loc[intersection_ratios['event']==event_name1,'funnel']=intersection_ratios[event_name1].iloc[event_num2];"
   ]
  },
  {
   "cell_type": "code",
   "execution_count": 194,
   "metadata": {},
   "outputs": [
    {
     "data": {
      "text/html": [
       "<div>\n",
       "<style scoped>\n",
       "    .dataframe tbody tr th:only-of-type {\n",
       "        vertical-align: middle;\n",
       "    }\n",
       "\n",
       "    .dataframe tbody tr th {\n",
       "        vertical-align: top;\n",
       "    }\n",
       "\n",
       "    .dataframe thead th {\n",
       "        text-align: right;\n",
       "    }\n",
       "</style>\n",
       "<table border=\"1\" class=\"dataframe\">\n",
       "  <thead>\n",
       "    <tr style=\"text-align: right;\">\n",
       "      <th></th>\n",
       "      <th>event</th>\n",
       "      <th>MainScreenAppear</th>\n",
       "      <th>OffersScreenAppear</th>\n",
       "      <th>CartScreenAppear</th>\n",
       "      <th>PaymentScreenSuccessful</th>\n",
       "      <th>Tutorial</th>\n",
       "      <th>funnel</th>\n",
       "      <th>conversion</th>\n",
       "    </tr>\n",
       "  </thead>\n",
       "  <tbody>\n",
       "    <tr>\n",
       "      <th>0</th>\n",
       "      <td>MainScreenAppear</td>\n",
       "      <td>1.000</td>\n",
       "      <td>0.604</td>\n",
       "      <td>0.490</td>\n",
       "      <td>0.464</td>\n",
       "      <td>0.113</td>\n",
       "      <td>0.000</td>\n",
       "      <td>0</td>\n",
       "    </tr>\n",
       "    <tr>\n",
       "      <th>1</th>\n",
       "      <td>OffersScreenAppear</td>\n",
       "      <td>0.976</td>\n",
       "      <td>1.000</td>\n",
       "      <td>0.801</td>\n",
       "      <td>0.769</td>\n",
       "      <td>0.140</td>\n",
       "      <td>0.604</td>\n",
       "      <td>0</td>\n",
       "    </tr>\n",
       "    <tr>\n",
       "      <th>2</th>\n",
       "      <td>CartScreenAppear</td>\n",
       "      <td>0.973</td>\n",
       "      <td>0.985</td>\n",
       "      <td>1.000</td>\n",
       "      <td>0.946</td>\n",
       "      <td>0.145</td>\n",
       "      <td>0.801</td>\n",
       "      <td>0</td>\n",
       "    </tr>\n",
       "    <tr>\n",
       "      <th>3</th>\n",
       "      <td>PaymentScreenSuccessful</td>\n",
       "      <td>0.972</td>\n",
       "      <td>0.998</td>\n",
       "      <td>0.999</td>\n",
       "      <td>1.000</td>\n",
       "      <td>0.132</td>\n",
       "      <td>0.946</td>\n",
       "      <td>0</td>\n",
       "    </tr>\n",
       "    <tr>\n",
       "      <th>4</th>\n",
       "      <td>Tutorial</td>\n",
       "      <td>0.995</td>\n",
       "      <td>0.767</td>\n",
       "      <td>0.645</td>\n",
       "      <td>0.556</td>\n",
       "      <td>1.000</td>\n",
       "      <td>0.132</td>\n",
       "      <td>0</td>\n",
       "    </tr>\n",
       "  </tbody>\n",
       "</table>\n",
       "</div>"
      ],
      "text/plain": [
       "                     event  MainScreenAppear  OffersScreenAppear  \\\n",
       "0  MainScreenAppear        1.000             0.604                 \n",
       "1  OffersScreenAppear      0.976             1.000                 \n",
       "2  CartScreenAppear        0.973             0.985                 \n",
       "3  PaymentScreenSuccessful 0.972             0.998                 \n",
       "4  Tutorial                0.995             0.767                 \n",
       "\n",
       "   CartScreenAppear  PaymentScreenSuccessful  Tutorial  funnel  conversion  \n",
       "0 0.490             0.464                    0.113     0.000    0           \n",
       "1 0.801             0.769                    0.140     0.604    0           \n",
       "2 1.000             0.946                    0.145     0.801    0           \n",
       "3 0.999             1.000                    0.132     0.946    0           \n",
       "4 0.645             0.556                    1.000     0.132    0           "
      ]
     },
     "execution_count": 194,
     "metadata": {},
     "output_type": "execute_result"
    }
   ],
   "source": [
    "intersection_ratios"
   ]
  },
  {
   "cell_type": "markdown",
   "metadata": {},
   "source": [
    "Из данных следует что пользователи иногда пропускали этапы воронки событий, но число таких пользователей относительно невелико.\n",
    "\n",
    "Это также говорит о некорректности проведения А/Б теста."
   ]
  },
  {
   "cell_type": "markdown",
   "metadata": {},
   "source": [
    "#### Расчёт конверсии по ступеням воронки событий"
   ]
  },
  {
   "cell_type": "code",
   "execution_count": 195,
   "metadata": {
    "scrolled": true
   },
   "outputs": [
    {
     "name": "stderr",
     "output_type": "stream",
     "text": [
      "C:\\Users\\mihai\\AppData\\Local\\Temp\\ipykernel_7888\\3893292763.py:2: FutureWarning: Setting an item of incompatible dtype is deprecated and will raise in a future error of pandas. Value '0.6041245450869389' has dtype incompatible with int64, please explicitly cast to a compatible dtype first.\n",
      "  intersection_ratios.loc[intersection_ratios['event']==event_name1,'conversion']\\\n"
     ]
    }
   ],
   "source": [
    "for event_num1, event_name1 in enumerate(events_grouped[\"event\"]):\n",
    "    intersection_ratios.loc[intersection_ratios['event']==event_name1,'conversion']\\\n",
    "    =intersection_ratios[event_name1].iloc[0]"
   ]
  },
  {
   "cell_type": "code",
   "execution_count": 196,
   "metadata": {},
   "outputs": [],
   "source": [
    "events_grouped['funnel']=intersection_ratios['funnel']\n",
    "events_grouped['conversion']=intersection_ratios['conversion']               \n",
    "events_grouped=events_grouped.loc[[0,1,2,3],:]"
   ]
  },
  {
   "cell_type": "code",
   "execution_count": 197,
   "metadata": {},
   "outputs": [
    {
     "data": {
      "text/html": [
       "<div>\n",
       "<style scoped>\n",
       "    .dataframe tbody tr th:only-of-type {\n",
       "        vertical-align: middle;\n",
       "    }\n",
       "\n",
       "    .dataframe tbody tr th {\n",
       "        vertical-align: top;\n",
       "    }\n",
       "\n",
       "    .dataframe thead th {\n",
       "        text-align: right;\n",
       "    }\n",
       "</style>\n",
       "<table border=\"1\" class=\"dataframe\">\n",
       "  <thead>\n",
       "    <tr style=\"text-align: right;\">\n",
       "      <th></th>\n",
       "      <th>event</th>\n",
       "      <th>user_nums</th>\n",
       "      <th>user_ratio</th>\n",
       "      <th>funnel</th>\n",
       "      <th>conversion</th>\n",
       "    </tr>\n",
       "  </thead>\n",
       "  <tbody>\n",
       "    <tr>\n",
       "      <th>0</th>\n",
       "      <td>MainScreenAppear</td>\n",
       "      <td>7419</td>\n",
       "      <td>0.985</td>\n",
       "      <td>0.000</td>\n",
       "      <td>1.000</td>\n",
       "    </tr>\n",
       "    <tr>\n",
       "      <th>1</th>\n",
       "      <td>OffersScreenAppear</td>\n",
       "      <td>4593</td>\n",
       "      <td>0.610</td>\n",
       "      <td>0.604</td>\n",
       "      <td>0.604</td>\n",
       "    </tr>\n",
       "    <tr>\n",
       "      <th>2</th>\n",
       "      <td>CartScreenAppear</td>\n",
       "      <td>3734</td>\n",
       "      <td>0.496</td>\n",
       "      <td>0.801</td>\n",
       "      <td>0.490</td>\n",
       "    </tr>\n",
       "    <tr>\n",
       "      <th>3</th>\n",
       "      <td>PaymentScreenSuccessful</td>\n",
       "      <td>3539</td>\n",
       "      <td>0.470</td>\n",
       "      <td>0.946</td>\n",
       "      <td>0.464</td>\n",
       "    </tr>\n",
       "  </tbody>\n",
       "</table>\n",
       "</div>"
      ],
      "text/plain": [
       "                     event  user_nums  user_ratio  funnel  conversion\n",
       "0  MainScreenAppear         7419      0.985       0.000   1.000      \n",
       "1  OffersScreenAppear       4593      0.610       0.604   0.604      \n",
       "2  CartScreenAppear         3734      0.496       0.801   0.490      \n",
       "3  PaymentScreenSuccessful  3539      0.470       0.946   0.464      "
      ]
     },
     "execution_count": 197,
     "metadata": {},
     "output_type": "execute_result"
    }
   ],
   "source": [
    "events_grouped"
   ]
  },
  {
   "cell_type": "markdown",
   "metadata": {},
   "source": [
    "#### Анализ потерь пользователей на этапах воронки событий"
   ]
  },
  {
   "cell_type": "code",
   "execution_count": 198,
   "metadata": {
    "scrolled": true
   },
   "outputs": [
    {
     "data": {
      "text/html": [
       "<div>\n",
       "<style scoped>\n",
       "    .dataframe tbody tr th:only-of-type {\n",
       "        vertical-align: middle;\n",
       "    }\n",
       "\n",
       "    .dataframe tbody tr th {\n",
       "        vertical-align: top;\n",
       "    }\n",
       "\n",
       "    .dataframe thead th {\n",
       "        text-align: right;\n",
       "    }\n",
       "</style>\n",
       "<table border=\"1\" class=\"dataframe\">\n",
       "  <thead>\n",
       "    <tr style=\"text-align: right;\">\n",
       "      <th></th>\n",
       "      <th>event</th>\n",
       "      <th>funnel</th>\n",
       "    </tr>\n",
       "  </thead>\n",
       "  <tbody>\n",
       "    <tr>\n",
       "      <th>0</th>\n",
       "      <td>MainScreenAppear</td>\n",
       "      <td>0.000</td>\n",
       "    </tr>\n",
       "    <tr>\n",
       "      <th>1</th>\n",
       "      <td>OffersScreenAppear</td>\n",
       "      <td>0.604</td>\n",
       "    </tr>\n",
       "    <tr>\n",
       "      <th>2</th>\n",
       "      <td>CartScreenAppear</td>\n",
       "      <td>0.801</td>\n",
       "    </tr>\n",
       "    <tr>\n",
       "      <th>3</th>\n",
       "      <td>PaymentScreenSuccessful</td>\n",
       "      <td>0.946</td>\n",
       "    </tr>\n",
       "  </tbody>\n",
       "</table>\n",
       "</div>"
      ],
      "text/plain": [
       "                     event  funnel\n",
       "0  MainScreenAppear        0.000  \n",
       "1  OffersScreenAppear      0.604  \n",
       "2  CartScreenAppear        0.801  \n",
       "3  PaymentScreenSuccessful 0.946  "
      ]
     },
     "execution_count": 198,
     "metadata": {},
     "output_type": "execute_result"
    }
   ],
   "source": [
    "events_grouped[['event','funnel']]"
   ]
  },
  {
   "cell_type": "markdown",
   "metadata": {},
   "source": [
    "Наибольшие потери происходят при переходе на экран предложений (OffersScreenAppear) - 60% всех пользователей. На данном этапе возможна проблема с интуитивностью расположения кнопки выбора предложения (покупки) товара. Но нельзя исключать того что пользователям просто что то не понравилось и они передумали или вообще открыли страницу ошибочно. Т.к. информации о наличии цен на главной странице нет, предположение о том что пользователям не понравилась цена - мы не можем.\n",
    "\n",
    "Потери при переходе пользователей на этап ввода данных карты составляют 20%, причём судя по результатам сравнений групп пользователей, на этап успешной оплаты переходит примерно такое же количество пользователей, следовательно, этап ввода данных карты пользователи пропустить не могут.\n",
    "Причины этих потерь может быть неудволетворённость пользователей предложением (цены) или проблемы с интерфейсом.\n",
    "\n",
    "Потери при переходе на этап успешной покупки минимальны и составляют 5%. Полагаю у пользователей практически не возникает проблем с вводом данных карты и оплатой.\n",
    "\n",
    "Отдельно необходимо отметить что более 13% пользователей, совершивших успешную оплату пользовались руководством пользователя, причём это значение ±неизменно для всех этапов воронки событий. \n",
    "Половина пользователей, которые воспользоватись руководством успешно завершили оплату.\n",
    "\n",
    "Это означает что пользователям приходится нередко прибегать к руководству пользователя для того чтобы разобраться в интерфейсе. Это косвенно подтверждает наличие проблем не технического характера, приводящих к падению конверсии на некоторых этапах воронки событий.\n",
    "Наибольшее подозрение вызывает относительно низкая конверсия с главной страницы на страницу предложений."
   ]
  },
  {
   "cell_type": "markdown",
   "metadata": {},
   "source": [
    "#### Расчёт доли пользователей, полностью прошедших воронку событий"
   ]
  },
  {
   "cell_type": "code",
   "execution_count": 199,
   "metadata": {},
   "outputs": [
    {
     "data": {
      "text/html": [
       "<div>\n",
       "<style scoped>\n",
       "    .dataframe tbody tr th:only-of-type {\n",
       "        vertical-align: middle;\n",
       "    }\n",
       "\n",
       "    .dataframe tbody tr th {\n",
       "        vertical-align: top;\n",
       "    }\n",
       "\n",
       "    .dataframe thead th {\n",
       "        text-align: right;\n",
       "    }\n",
       "</style>\n",
       "<table border=\"1\" class=\"dataframe\">\n",
       "  <thead>\n",
       "    <tr style=\"text-align: right;\">\n",
       "      <th></th>\n",
       "      <th>event</th>\n",
       "      <th>conversion</th>\n",
       "    </tr>\n",
       "  </thead>\n",
       "  <tbody>\n",
       "    <tr>\n",
       "      <th>0</th>\n",
       "      <td>MainScreenAppear</td>\n",
       "      <td>1.000</td>\n",
       "    </tr>\n",
       "    <tr>\n",
       "      <th>1</th>\n",
       "      <td>OffersScreenAppear</td>\n",
       "      <td>0.604</td>\n",
       "    </tr>\n",
       "    <tr>\n",
       "      <th>2</th>\n",
       "      <td>CartScreenAppear</td>\n",
       "      <td>0.490</td>\n",
       "    </tr>\n",
       "    <tr>\n",
       "      <th>3</th>\n",
       "      <td>PaymentScreenSuccessful</td>\n",
       "      <td>0.464</td>\n",
       "    </tr>\n",
       "  </tbody>\n",
       "</table>\n",
       "</div>"
      ],
      "text/plain": [
       "                     event  conversion\n",
       "0  MainScreenAppear        1.000      \n",
       "1  OffersScreenAppear      0.604      \n",
       "2  CartScreenAppear        0.490      \n",
       "3  PaymentScreenSuccessful 0.464      "
      ]
     },
     "execution_count": 199,
     "metadata": {},
     "output_type": "execute_result"
    }
   ],
   "source": [
    "events_grouped[['event','conversion']]"
   ]
  },
  {
   "cell_type": "markdown",
   "metadata": {},
   "source": [
    "Из пользователей, посетивших главную страницу только чуть больше 46% успешно оплатили заказ."
   ]
  },
  {
   "cell_type": "markdown",
   "metadata": {},
   "source": [
    "### Вывод по разделу "
   ]
  },
  {
   "cell_type": "markdown",
   "metadata": {},
   "source": [
    "Наиболее посещаемая страница - главная.\n",
    "\n",
    "За ней идёт страница предложений, следом страница покупок, потом экран успешной оплаты.\n",
    "\n",
    "Самая низкая посещаемость у руководства пользователя.\n",
    "\n",
    "По всем возможным количественным оценкам события сохраняют порядок следования.\n",
    "\n",
    "Воронка событий состоит из 4 первых перечисленных выше событий:\n",
    "Открытие главной страницы  открытие страницы предложений -> \n",
    "открытие страницы ввода данных карты -> экран успешной оплаты.\n",
    "\n",
    "Конверсия по этапам воронки событий составила:\n",
    "\n",
    "\tMainScreenAppear -> OffersScreenAppear\t60%\n",
    "\tOffersScreenAppear -> CartScreenAppear\t80%\n",
    "\tCartScreenAppear -> PaymentScreenSuccessful\t95%\n",
    "\n",
    "Наибольшие потери при переходе с главной страницы на страницу предложений - 40%.\n",
    "Потери при переходе со страницы предложений на страницу ввода карты тоже существенные - 20%.\n",
    "\n",
    "Из пользователей, посетивших главную страницу только чуть больше 46% успешно оплатили заказ.\n",
    "\n",
    "Отдельно необходимо обратить внимание что воронка событий не всегда соблюдается строго: менее 3% пользователей в каждом событии посещали любую другую страницу не открывая главной.\n",
    "Это может исказить данные эксперимента.\n",
    "\n",
    "Также необходимо отметить что порядка 13% пользователей посетили страницу с руководством пользователя, причём доля посетителей, успешно оплативших заказ среди посетителей, открывших страницу с руководством пользователя составляет более 55%.\n",
    "\n",
    "Это может говорить о наличии проблем с понятностью и интуитивностью интерфейса для пользователей."
   ]
  },
  {
   "cell_type": "markdown",
   "metadata": {},
   "source": [
    "## Исследование результатов эксперимента"
   ]
  },
  {
   "cell_type": "markdown",
   "metadata": {},
   "source": [
    "### Проверка аномалий и выбросов"
   ]
  },
  {
   "cell_type": "markdown",
   "metadata": {},
   "source": [
    "#### Проверка пересечений пользователей между группами"
   ]
  },
  {
   "cell_type": "code",
   "execution_count": 200,
   "metadata": {},
   "outputs": [
    {
     "data": {
      "text/html": [
       "<div>\n",
       "<style scoped>\n",
       "    .dataframe tbody tr th:only-of-type {\n",
       "        vertical-align: middle;\n",
       "    }\n",
       "\n",
       "    .dataframe tbody tr th {\n",
       "        vertical-align: top;\n",
       "    }\n",
       "\n",
       "    .dataframe thead th {\n",
       "        text-align: right;\n",
       "    }\n",
       "</style>\n",
       "<table border=\"1\" class=\"dataframe\">\n",
       "  <thead>\n",
       "    <tr style=\"text-align: right;\">\n",
       "      <th></th>\n",
       "      <th>group</th>\n",
       "    </tr>\n",
       "    <tr>\n",
       "      <th>user_id</th>\n",
       "      <th></th>\n",
       "    </tr>\n",
       "  </thead>\n",
       "  <tbody>\n",
       "  </tbody>\n",
       "</table>\n",
       "</div>"
      ],
      "text/plain": [
       "Empty DataFrame\n",
       "Columns: [group]\n",
       "Index: []"
      ]
     },
     "execution_count": 200,
     "metadata": {},
     "output_type": "execute_result"
    }
   ],
   "source": [
    "# Проверим пользователей, которые могли участвовать в двух или нескольких группах одновременно:\n",
    "data.groupby('user_id').agg({'group':'nunique'}).query('group > 1') "
   ]
  },
  {
   "cell_type": "markdown",
   "metadata": {},
   "source": [
    "Пересечений пользователей между группами не обнаружено"
   ]
  },
  {
   "cell_type": "markdown",
   "metadata": {},
   "source": [
    "#### Проверка и удаление аномалий и выбросов"
   ]
  },
  {
   "cell_type": "markdown",
   "metadata": {},
   "source": [
    "##### Пользователи, совершившие слишком много событий"
   ]
  },
  {
   "cell_type": "code",
   "execution_count": 201,
   "metadata": {},
   "outputs": [],
   "source": [
    "ordersByUsers = (\n",
    "    data.groupby('user_id', as_index=False)\n",
    "    .agg({'event': 'count'}))"
   ]
  },
  {
   "cell_type": "code",
   "execution_count": 202,
   "metadata": {},
   "outputs": [
    {
     "data": {
      "image/png": "[encoded data removed]",
      "text/plain": [
       "<Figure size 1200x800 with 1 Axes>"
      ]
     },
     "metadata": {},
     "output_type": "display_data"
    }
   ],
   "source": [
    "x_values = pd.Series(range(0,len(ordersByUsers)))\n",
    "\n",
    "plt.scatter(x_values, ordersByUsers['event']);"
   ]
  },
  {
   "cell_type": "markdown",
   "metadata": {},
   "source": [
    "Количество событий на пользователя в среднем не превышает 250.\n",
    "\n",
    "Для более точной оценки посчитаем перцентили"
   ]
  },
  {
   "cell_type": "code",
   "execution_count": 203,
   "metadata": {},
   "outputs": [
    {
     "name": "stdout",
     "output_type": "stream",
     "text": [
      "[ 64.    88.   201.01]\n"
     ]
    }
   ],
   "source": [
    "print(np.percentile(ordersByUsers['event'], [90, 95, 99]))"
   ]
  },
  {
   "cell_type": "markdown",
   "metadata": {},
   "source": [
    "Менее 1% всех пользователей совершали более 200 действий.\n",
    "\n",
    "Пользователи, совершившие более 201 действия будут отсеяны."
   ]
  },
  {
   "cell_type": "markdown",
   "metadata": {},
   "source": [
    "Это могут быть боты или корпоративные покупатели. Их поведение отличается от поведения обычных пользователей, которое рассматривается в данном исследовании."
   ]
  },
  {
   "cell_type": "code",
   "execution_count": 204,
   "metadata": {},
   "outputs": [],
   "source": [
    "data=data[~data['user_id'].isin(ordersByUsers.loc[ordersByUsers['event']>201,'user_id'])]"
   ]
  },
  {
   "cell_type": "markdown",
   "metadata": {},
   "source": [
    "### Анализ А/А теста"
   ]
  },
  {
   "cell_type": "code",
   "execution_count": 220,
   "metadata": {},
   "outputs": [
    {
     "data": {
      "text/html": [
       "<div>\n",
       "<style scoped>\n",
       "    .dataframe tbody tr th:only-of-type {\n",
       "        vertical-align: middle;\n",
       "    }\n",
       "\n",
       "    .dataframe tbody tr th {\n",
       "        vertical-align: top;\n",
       "    }\n",
       "\n",
       "    .dataframe thead th {\n",
       "        text-align: right;\n",
       "    }\n",
       "</style>\n",
       "<table border=\"1\" class=\"dataframe\">\n",
       "  <thead>\n",
       "    <tr style=\"text-align: right;\">\n",
       "      <th></th>\n",
       "      <th>group_num</th>\n",
       "      <th>MainScreenAppear</th>\n",
       "      <th>OffersScreenAppear</th>\n",
       "      <th>CartScreenAppear</th>\n",
       "      <th>PaymentScreenSuccessful</th>\n",
       "      <th>user_nums</th>\n",
       "      <th>ratio</th>\n",
       "    </tr>\n",
       "  </thead>\n",
       "  <tbody>\n",
       "    <tr>\n",
       "      <th>0</th>\n",
       "      <td>246</td>\n",
       "      <td>2423</td>\n",
       "      <td>1514</td>\n",
       "      <td>1238</td>\n",
       "      <td>1172</td>\n",
       "      <td>2456</td>\n",
       "      <td>0.978</td>\n",
       "    </tr>\n",
       "    <tr>\n",
       "      <th>1</th>\n",
       "      <td>247</td>\n",
       "      <td>2454</td>\n",
       "      <td>1498</td>\n",
       "      <td>1216</td>\n",
       "      <td>1136</td>\n",
       "      <td>2491</td>\n",
       "      <td>0.992</td>\n",
       "    </tr>\n",
       "    <tr>\n",
       "      <th>2</th>\n",
       "      <td>248</td>\n",
       "      <td>2467</td>\n",
       "      <td>1505</td>\n",
       "      <td>1204</td>\n",
       "      <td>1155</td>\n",
       "      <td>2511</td>\n",
       "      <td>1.000</td>\n",
       "    </tr>\n",
       "  </tbody>\n",
       "</table>\n",
       "</div>"
      ],
      "text/plain": [
       "   group_num  MainScreenAppear  OffersScreenAppear  CartScreenAppear  \\\n",
       "0  246        2423              1514                1238               \n",
       "1  247        2454              1498                1216               \n",
       "2  248        2467              1505                1204               \n",
       "\n",
       "   PaymentScreenSuccessful  user_nums  ratio  \n",
       "0  1172                     2456      0.978   \n",
       "1  1136                     2491      0.992   \n",
       "2  1155                     2511      1.000   "
      ]
     },
     "execution_count": 220,
     "metadata": {},
     "output_type": "execute_result"
    }
   ],
   "source": [
    "groups_info"
   ]
  },
  {
   "cell_type": "code",
   "execution_count": 221,
   "metadata": {},
   "outputs": [],
   "source": [
    "groups_info.loc[len(groups_info.index)]=groups_info.loc[0]+groups_info.loc[1]"
   ]
  },
  {
   "cell_type": "markdown",
   "metadata": {},
   "source": [
    "Так как размеры выборок различны, применим Z - тест."
   ]
  },
  {
   "cell_type": "markdown",
   "metadata": {},
   "source": [
    "В воронке 4 события и 4 группы (Включая объединённую), следовательно, необходимо провести 16 тестов.\n",
    "\n",
    "При проведении множественных тестов в целях уменьшения ошибки первого рода необходимо применить поправку.\n",
    "\n",
    "Применим поправку Бонферрони, тогда, при базовом уровне значимости alpha = 0.05:"
   ]
  },
  {
   "cell_type": "code",
   "execution_count": 222,
   "metadata": {},
   "outputs": [],
   "source": [
    "alpha=0.05/16"
   ]
  },
  {
   "cell_type": "code",
   "execution_count": 223,
   "metadata": {},
   "outputs": [],
   "source": [
    "def z_test(groups, alpha):\n",
    "# Число пользователй в группе не меняется и его всегда можно получить по индексу группы в списке.    \n",
    "    trials=[groups_info.loc[groups_info.group_num==groups[0],'user_nums'].values[0],\\\n",
    "                   groups_info.loc[groups_info.group_num==groups[1],'user_nums'].values[0]]\n",
    "#    groups_info.loc[groups_info.group_num==groups[0],'user_nums'].values[0] \n",
    "\n",
    "# Проходим по событиям\n",
    "    for event_num in range(1,5,1):\n",
    "        successes=np.array([groups_info.loc[groups_info['group_num']==groups[0]\\\n",
    "                                   ,groups_info.columns[event_num]].values[0],\\\n",
    "                      groups_info.loc[groups_info['group_num']==groups[1]\\\n",
    "                                   ,groups_info.columns[event_num]].values[0]])\n",
    "\n",
    "        p1 = successes[0]/trials[0]\n",
    "\n",
    "# пропорция успехов во второй группе:\n",
    "        p2 = successes[1]/trials[1]\n",
    "\n",
    "# пропорция успехов в комбинированном датасете:\n",
    "        p_combined = (successes[0] + successes[1]) / (trials[0] + trials[1])\n",
    "\n",
    "# разница пропорций в датасетах\n",
    "        difference = p1 - p2 \n",
    "# считаем статистику в ст.отклонениях стандартного нормального распределения\n",
    "        z_value = difference / math.sqrt(p_combined * (1 - p_combined) * (1/trials[0] + 1/trials[1]))\n",
    "\n",
    "# задаем стандартное нормальное распределение (среднее 0, ст.отклонение 1)\n",
    "        distr = st.norm(0, 1)     \n",
    "#Гипотеза двусторонняя    \n",
    "        p_value = (1 - distr.cdf(abs(z_value))) * 2\n",
    "\n",
    "        print('p-значение: ',(p_value),'\\nalpha:','{:,.4f}'.format(alpha))\n",
    "        print('Группы:',groups)\n",
    "        print('Событие:', groups_info.columns[event_num])\n",
    "        if p_value < alpha:\n",
    "            print('Отвергаем нулевую гипотезу: между долями есть значимая разница')\n",
    "        else:\n",
    "            print(\n",
    "        'Не получилось отвергнуть нулевую гипотезу, нет оснований считать доли разными\\n'\n",
    "    ) "
   ]
  },
  {
   "cell_type": "code",
   "execution_count": 225,
   "metadata": {},
   "outputs": [],
   "source": [
    "#Отдельно выделим А группы\n",
    "groupsA=[246,247,493]"
   ]
  },
  {
   "cell_type": "code",
   "execution_count": 226,
   "metadata": {},
   "outputs": [
    {
     "name": "stdout",
     "output_type": "stream",
     "text": [
      "p-значение:  0.6730951807208485 \n",
      "alpha: 0.0031\n",
      "Группы: [246, 247]\n",
      "Событие: MainScreenAppear\n",
      "Не получилось отвергнуть нулевую гипотезу, нет оснований считать доли разными\n",
      "\n",
      "p-значение:  0.27702771700769824 \n",
      "alpha: 0.0031\n",
      "Группы: [246, 247]\n",
      "Событие: OffersScreenAppear\n",
      "Не получилось отвергнуть нулевую гипотезу, нет оснований считать доли разными\n",
      "\n",
      "p-значение:  0.26299626637167783 \n",
      "alpha: 0.0031\n",
      "Группы: [246, 247]\n",
      "Событие: CartScreenAppear\n",
      "Не получилось отвергнуть нулевую гипотезу, нет оснований считать доли разными\n",
      "\n",
      "p-значение:  0.13586258367273985 \n",
      "alpha: 0.0031\n",
      "Группы: [246, 247]\n",
      "Событие: PaymentScreenSuccessful\n",
      "Не получилось отвергнуть нулевую гипотезу, нет оснований считать доли разными\n",
      "\n",
      "p-значение:  0.809963827747165 \n",
      "alpha: 0.0031\n",
      "Группы: [247, 493]\n",
      "Событие: MainScreenAppear\n",
      "Не получилось отвергнуть нулевую гипотезу, нет оснований считать доли разными\n",
      "\n",
      "p-значение:  0.5326769394479234 \n",
      "alpha: 0.0031\n",
      "Группы: [247, 493]\n",
      "Событие: OffersScreenAppear\n",
      "Не получилось отвергнуть нулевую гипотезу, нет оснований считать доли разными\n",
      "\n",
      "p-значение:  0.5200700807402778 \n",
      "alpha: 0.0031\n",
      "Группы: [247, 493]\n",
      "Событие: CartScreenAppear\n",
      "Не получилось отвергнуть нулевую гипотезу, нет оснований считать доли разными\n",
      "\n",
      "p-значение:  0.39121701995450975 \n",
      "alpha: 0.0031\n",
      "Группы: [247, 493]\n",
      "Событие: PaymentScreenSuccessful\n",
      "Не получилось отвергнуть нулевую гипотезу, нет оснований считать доли разными\n",
      "\n",
      "p-значение:  0.8050794839407605 \n",
      "alpha: 0.0031\n",
      "Группы: [246, 493]\n",
      "Событие: MainScreenAppear\n",
      "Не получилось отвергнуть нулевую гипотезу, нет оснований считать доли разными\n",
      "\n",
      "p-значение:  0.5278524017652395 \n",
      "alpha: 0.0031\n",
      "Группы: [246, 493]\n",
      "Событие: OffersScreenAppear\n",
      "Не получилось отвергнуть нулевую гипотезу, нет оснований считать доли разными\n",
      "\n",
      "p-значение:  0.5161575303069097 \n",
      "alpha: 0.0031\n",
      "Группы: [246, 493]\n",
      "Событие: CartScreenAppear\n",
      "Не получилось отвергнуть нулевую гипотезу, нет оснований считать доли разными\n",
      "\n",
      "p-значение:  0.3871929903526703 \n",
      "alpha: 0.0031\n",
      "Группы: [246, 493]\n",
      "Событие: PaymentScreenSuccessful\n",
      "Не получилось отвергнуть нулевую гипотезу, нет оснований считать доли разными\n",
      "\n"
     ]
    }
   ],
   "source": [
    "for i in range(0,len(groupsA),1):\n",
    "    if i == len(groupsA)-1:\n",
    "        z_test([groupsA[0],groupsA[i]],alpha)\n",
    "    else:\n",
    "        z_test([groupsA[i],groupsA[i+1]],alpha)"
   ]
  },
  {
   "cell_type": "markdown",
   "metadata": {},
   "source": [
    "Статистически значимых различий между группами нет.\n",
    "Все группы А/А теста можно считать контрольными."
   ]
  },
  {
   "cell_type": "markdown",
   "metadata": {},
   "source": [
    "### А/Б тест для контрольной группы 246"
   ]
  },
  {
   "cell_type": "code",
   "execution_count": 227,
   "metadata": {},
   "outputs": [
    {
     "name": "stdout",
     "output_type": "stream",
     "text": [
      "p-значение:  0.24380010740478975 \n",
      "alpha: 0.0031\n",
      "Группы: [248, 246]\n",
      "Событие: MainScreenAppear\n",
      "Не получилось отвергнуть нулевую гипотезу, нет оснований считать доли разными\n",
      "\n",
      "p-значение:  0.21751867407994285 \n",
      "alpha: 0.0031\n",
      "Группы: [248, 246]\n",
      "Событие: OffersScreenAppear\n",
      "Не получилось отвергнуть нулевую гипотезу, нет оснований считать доли разными\n",
      "\n",
      "p-значение:  0.08317408116828573 \n",
      "alpha: 0.0031\n",
      "Группы: [248, 246]\n",
      "Событие: CartScreenAppear\n",
      "Не получилось отвергнуть нулевую гипотезу, нет оснований считать доли разными\n",
      "\n",
      "p-значение:  0.2239322340682175 \n",
      "alpha: 0.0031\n",
      "Группы: [248, 246]\n",
      "Событие: PaymentScreenSuccessful\n",
      "Не получилось отвергнуть нулевую гипотезу, нет оснований считать доли разными\n",
      "\n"
     ]
    }
   ],
   "source": [
    "z_test([248,246],alpha)"
   ]
  },
  {
   "cell_type": "markdown",
   "metadata": {},
   "source": [
    "Статистически значимой разницы между контрольной группой 246 и экспериментальной группой 248 не выявлено."
   ]
  },
  {
   "cell_type": "markdown",
   "metadata": {},
   "source": [
    "### А/Б тест для контрольной группы 247"
   ]
  },
  {
   "cell_type": "code",
   "execution_count": 228,
   "metadata": {},
   "outputs": [
    {
     "name": "stdout",
     "output_type": "stream",
     "text": [
      "p-значение:  0.4545336230756303 \n",
      "alpha: 0.0031\n",
      "Группы: [248, 247]\n",
      "Событие: MainScreenAppear\n",
      "Не получилось отвергнуть нулевую гипотезу, нет оснований считать доли разными\n",
      "\n",
      "p-значение:  0.8850746269495819 \n",
      "alpha: 0.0031\n",
      "Группы: [248, 247]\n",
      "Событие: OffersScreenAppear\n",
      "Не получилось отвергнуть нулевую гипотезу, нет оснований считать доли разными\n",
      "\n",
      "p-значение:  0.539679592997024 \n",
      "alpha: 0.0031\n",
      "Группы: [248, 247]\n",
      "Событие: CartScreenAppear\n",
      "Не получилось отвергнуть нулевую гипотезу, нет оснований считать доли разными\n",
      "\n",
      "p-значение:  0.7800603242138475 \n",
      "alpha: 0.0031\n",
      "Группы: [248, 247]\n",
      "Событие: PaymentScreenSuccessful\n",
      "Не получилось отвергнуть нулевую гипотезу, нет оснований считать доли разными\n",
      "\n"
     ]
    }
   ],
   "source": [
    "z_test([248,247],alpha)"
   ]
  },
  {
   "cell_type": "markdown",
   "metadata": {},
   "source": [
    "Статистически значимой разницы между контрольной группой 247 и экспериментальной группой 248 не выявлено."
   ]
  },
  {
   "cell_type": "markdown",
   "metadata": {},
   "source": [
    "###  А/Б тест для объединённой контрольной группы"
   ]
  },
  {
   "cell_type": "code",
   "execution_count": 229,
   "metadata": {},
   "outputs": [
    {
     "name": "stdout",
     "output_type": "stream",
     "text": [
      "p-значение:  0.26186402859555846 \n",
      "alpha: 0.0031\n",
      "Группы: [248, 493]\n",
      "Событие: MainScreenAppear\n",
      "Не получилось отвергнуть нулевую гипотезу, нет оснований считать доли разными\n",
      "\n",
      "p-значение:  0.42801834712141273 \n",
      "alpha: 0.0031\n",
      "Группы: [248, 493]\n",
      "Событие: OffersScreenAppear\n",
      "Не получилось отвергнуть нулевую гипотезу, нет оснований считать доли разными\n",
      "\n",
      "p-значение:  0.17619153820927536 \n",
      "alpha: 0.0031\n",
      "Группы: [248, 493]\n",
      "Событие: CartScreenAppear\n",
      "Не получилось отвергнуть нулевую гипотезу, нет оснований считать доли разными\n",
      "\n",
      "p-значение:  0.5908710902173984 \n",
      "alpha: 0.0031\n",
      "Группы: [248, 493]\n",
      "Событие: PaymentScreenSuccessful\n",
      "Не получилось отвергнуть нулевую гипотезу, нет оснований считать доли разными\n",
      "\n"
     ]
    }
   ],
   "source": [
    "z_test([248,493],alpha)"
   ]
  },
  {
   "cell_type": "markdown",
   "metadata": {},
   "source": [
    "Статистически значимой разницы между объединённой контрольной группой и экспериментальной группой 248 не выявлено."
   ]
  },
  {
   "cell_type": "markdown",
   "metadata": {},
   "source": [
    "### Оценка необходимого уровня значимости "
   ]
  },
  {
   "cell_type": "markdown",
   "metadata": {},
   "source": [
    "Все тесты показали отсутствие статистически значимых различий между группами.\n",
    "Если бы изначально уровень статистической значимости alpha был принят в 10%, то alpha с учётом поправки составила бы 0.00625, что не изменило бы результаты теста."
   ]
  },
  {
   "cell_type": "markdown",
   "metadata": {},
   "source": [
    "Минимальное значение alpha для получения хотя бы одного (ложно)положительного результата с учётом поправки составило бы 128% для групп 248 и 246, события CartScreenAppear.\n",
    "\n",
    "При учёте того что alpha это вероятность получения ложного результата, такое значение уровня статистической значимости неадекватно."
   ]
  },
  {
   "cell_type": "markdown",
   "metadata": {},
   "source": [
    "### Вывод по разделу"
   ]
  },
  {
   "cell_type": "markdown",
   "metadata": {},
   "source": [
    "Пересечений пользователей между группами не было обнаружено.\n",
    "\n",
    "Пользователи, совершившие более 201 действия были отсеяны как аномальные.\n",
    "Это значение было выбрано как равное одному перцентилю от всех пользователей.\n",
    "Это могли быть боты или корпоративные покупатели.\n",
    "\n",
    "Было обнаружено что множество пользователей перескакивали этапы воронки, причём это касается любых этапов в любой последовательности. Это может быть результатом технического сбоя, или технической ошибки на этапе технической реализации А/Б теста со стороны заказчика.\n",
    "\n",
    "Число уникальных пользователей по группам:\n",
    "- Группа А1: 2456\n",
    "- Группа А2: 2491\n",
    "- Группа B: 2511\n",
    " \n",
    "Соотношение числа пользователей по группам к наибольшей группе:\n",
    "- \tГруппа\tСоотношение\n",
    "-\t246 ------ 0.978\n",
    "-\t247 ------ 0.992\n",
    "-\t248 ------ 1.000\n",
    "    \n",
    "Из этих данных вижно что контрольная группа 246 не удовлетворяет требованию по разнице в числе пользователей между группами в 1%.\n",
    "\n",
    "Для статистических тестов был принят Z-тест т.к. размеры выборок различны, а оцениваемые параметры количественные, а не качественные.\n",
    "\n",
    "Выбранный уровень статистической значимости alpha = 0.05.\n",
    "\n",
    "При проведении тестов была использована поправка Бонферрони.\n",
    "- Число тестов 16:\n",
    "- 4 А/А теста\n",
    "- 12 А/Б тестов\n",
    "\n",
    "Статистически значимых различий между обеими контрольными группами и объединённой контрольной групой не наблюдается. Все группы А/А были приняты как контрольные.\n",
    "\n",
    "При проведении А/Б тестов была использована поправка Бонферрони.\n",
    "Число тестов 16.\n",
    "Статистически значимых различий выявлено не было.\n",
    "\n",
    "При выбранной уровне статистической значимости alpha = 0.05 cтатистически значимых различий выявлено не было. Если бы принятый уровень статистической значимости был вдвое больше это не повлияло бы на результат."
   ]
  },
  {
   "cell_type": "markdown",
   "metadata": {},
   "source": [
    "## Вывод по проделанной работе "
   ]
  },
  {
   "cell_type": "markdown",
   "metadata": {},
   "source": [
    "При предобработке данных названия столбцов были приведены к правилам хорошего тона.\n",
    "Также были добавлены столбцы даты и даты и времени.\n",
    "\n",
    "Пропусков в данных обнаружено не было.\n",
    "\n",
    "В данных было обнаружено 413 полных дубликатов. Они были удалены.\n",
    "Неполные дубликаты в данных обнаружены не были.\n",
    "\n",
    "В данных представлено 5 типов событий.\n",
    "\n",
    "Количество событий каждого типа:\n",
    "\n",
    "- MainScreenAppear           119101\n",
    "- OffersScreenAppear         46808 \n",
    "- CartScreenAppear           42668 \n",
    "- PaymentScreenSuccessful    34118 \n",
    "- Tutorial                   1018  \n",
    "\n",
    "Среднее число событий на пользователя: 32.3.\n",
    "\n",
    "Данные представлены с 2019-07-25 по 2019-08-07.\n",
    "\n",
    "После оценки плотности данных на временном промежутке, все данные ранее до 31.07.2019 включительно были отсеяны. Из данных было удалено 2826 записей. Это 1.16% всех данных.\n",
    "\n",
    "Число пользователей в каждой из групп\n",
    "\n",
    "- Группа Число\n",
    "- 246 ---- 2484\n",
    "- 247 ---- 2513\n",
    "- 248 ---- 2537\n",
    "\n",
    "Соотношение числа пользователей по группам\n",
    "- Группа Отношение\n",
    "- 246 ---- 0.979\n",
    "- 247 ---- 0.991\n",
    "- 248 ---- 1.000\n",
    "\n",
    "Согласно требованиям к распределению числа пользователей по группам, группа 246 не удовлетворяет требованиям к различию в числе пользователей между группами в 1%.\n",
    "\n",
    "Число уникальных пользователей для каждого из событий и их доля от общего числа пользователей:\n",
    "-   Событие                  Число     Доля\n",
    "-   MainScreenAppear         7419      0.985      \n",
    "-   OffersScreenAppear       4593      0.610      \n",
    "-   CartScreenAppear         3734      0.496      \n",
    "-   PaymentScreenSuccessful  3539      0.470      \n",
    "-   Tutorial                 840       0.111  \n",
    "\n",
    "Наиболее посещаемая страница - главная.\n",
    "За ней идёт страница предложений, следом страница покупок, потом экран успешной оплаты.\n",
    "Самая низкая посещаемость у руководства пользователя.\n",
    "\n",
    "Согласно полученным данным, за воронку событий была принята следующая последовательность событий:\n",
    "1) MainScreenAppear\n",
    "2) OffersScreenAppear\n",
    "3) CartScreenAppear\n",
    "4) PaymentScreenSuccessful\n",
    "\n",
    "Из данных следует что пользователи иногда пропускали этапы воронки событий, но число таких пользователей относительно невелико. При дальнейшем анализе было выявлено что доля пользователей, полностью прошедших воронку событий составляет 54%, что полностью дискредитирует имеющиеся данные.\n",
    "\n",
    "Конверсия на этапах воронки:\n",
    "\n",
    "- \tMainScreenAppear -> OffersScreenAppear\t0.604\n",
    "- \tOffersScreenAppear -> CartScreenAppear\t0.801\n",
    "- \tCartScreenAppear -> PaymentScreenSuccessful\t0.946\n",
    "\n",
    "Наибольшие потери наблюдаются на этапе перехода на страницу предложений - порядка 40%.\n",
    "Потери при переходе на страницу ввода данных карты тоже существенные - порядка 20%.\n",
    "Потери при переходе на страницу успешной оплаты небольшие и составляют чуть больше 5%.\n",
    "\n",
    "Из пользователей, посетивших главную страницу только чуть больше 46% успешно оплатили заказ.\n",
    "\n",
    "Отдельно необходимо отметить что более 13% пользователей, совершивших успешную оплату пользовались руководством пользователя, причём это значение ±неизменно для всех этапов воронки событий. Половина пользователей, которые воспользоватись руководством успешно завершили оплату.\n",
    "\n",
    "Это означает что пользователям приходится нередко прибегать к руководству пользователя для того чтобы разобраться в интерфейсе. Это косвенно подтверждает наличие проблем не технического характера, приводящих к падению конверсии на некоторых этапах воронки событий. Наибольшее подозрение вызывает относительно низкая конверсия с главной страницы на страницу предложений.\n",
    "\n",
    "При проверке аномалий и ошибок в данных пересечений пользователей между группами не обнаружено.\n",
    "\n",
    "Пользователи, совершившие более 201 действия были отсеяны как аномальные. Это значение было выбрано как равное одному перцентилю от всех пользователей. Это могли быть боты или корпоративные покупатели.\n",
    "\n",
    "Для статистических тестов был принят Z-тест т.к. размеры выборок различны, а оцениваемые параметры количественные, а не качественные.\n",
    "\n",
    "Выбранный уровень статистической значимости alpha = 0.05.\n",
    "\n",
    "При проведении тестов была использована поправка Бонферрони.\n",
    "Число тестов 16.\n",
    "\n",
    "Статистически значимых различий между А/А группами нет. Все группы А/А были приняты как контрольные.\n",
    "\n",
    "Статистически значимых различий между А/Б группами выявлено не было.\n",
    "\n",
    "При выбранной уровне статистической значимости alpha = 0.05 cтатистически значимых различий выявлено не было. Если бы принятый уровень статистической значимости был вдвое больше это не повлияло бы на результат."
   ]
  },
  {
   "cell_type": "markdown",
   "metadata": {},
   "source": [
    "## Итоги и рекомендации"
   ]
  },
  {
   "cell_type": "markdown",
   "metadata": {},
   "source": [
    "По результатам исследования статистически значимых отличий в поведении пользователей контрольных и экспериментальной групп не найдено.\n",
    "\n",
    "Качество предоставленных данных крайне низко, присутствуют многочисленные ошибки как при разбиении пользователей по группам, так и в фиксации действий пользователей на сайте. Результаты А/Б тесты не могут быть признаны действительными так как присутствовали грубые нарушения.\n",
    "\n",
    "Вероятно имел место технический сбой, или порядок взаимодействия пользователей с сайтом имеет значительно более сложную структуру, нежели предположенная по воронке событий. Для верификации результатов, внесения правок и оценки возможности корректно проанализировать имеющиеся данные необходима консультация с представителем заказчика.\n",
    "\n",
    "Конверсия с главной страницы очень низкая. Конверсия с предложения на оплату также испытывает определённые проблемы. Нельзя однозначно выявить проблему т.к. эти страницы предполагают ознакомление пользователя с продукцией и ценами, которые могут не удовлетворить его запросы. \n",
    "\n",
    "Однако половина пользователей, воспользовавшихся руководством успешно завершили заказ.\n",
    "Вероятно пользователи испытывают некоторые проблемы с интерфейсом при использовании сервиса."
   ]
  }
 ],
 "metadata": {
  "ExecuteTimeLog": [
   {
    "duration": 49,
    "start_time": "2023-11-24T20:02:27.886Z"
   },
   {
    "duration": 426,
    "start_time": "2023-11-24T20:02:42.504Z"
   },
   {
    "duration": 856,
    "start_time": "2023-11-24T20:02:44.865Z"
   },
   {
    "duration": 22,
    "start_time": "2023-11-24T20:02:52.702Z"
   },
   {
    "duration": 29,
    "start_time": "2023-11-24T20:03:16.475Z"
   },
   {
    "duration": 1489,
    "start_time": "2023-11-24T20:03:27.334Z"
   },
   {
    "duration": 12,
    "start_time": "2023-11-24T20:03:42.410Z"
   },
   {
    "duration": 1153,
    "start_time": "2023-11-24T20:05:46.802Z"
   },
   {
    "duration": 21,
    "start_time": "2023-11-24T20:05:50.058Z"
   },
   {
    "duration": 6,
    "start_time": "2023-11-24T20:05:52.277Z"
   },
   {
    "duration": 6,
    "start_time": "2023-11-24T20:06:01.175Z"
   },
   {
    "duration": 169,
    "start_time": "2023-11-24T20:07:57.640Z"
   },
   {
    "duration": 23,
    "start_time": "2023-11-24T20:08:00.003Z"
   },
   {
    "duration": 7,
    "start_time": "2023-11-24T20:08:17.751Z"
   },
   {
    "duration": 31,
    "start_time": "2023-11-24T20:08:21.506Z"
   },
   {
    "duration": 18,
    "start_time": "2023-11-24T20:10:35.600Z"
   },
   {
    "duration": 881,
    "start_time": "2023-11-24T22:41:32.561Z"
   },
   {
    "duration": 10,
    "start_time": "2023-11-24T22:42:20.542Z"
   },
   {
    "duration": 35,
    "start_time": "2023-11-24T22:42:55.005Z"
   },
   {
    "duration": 4,
    "start_time": "2023-11-24T22:49:37.273Z"
   },
   {
    "duration": 68,
    "start_time": "2023-11-24T22:49:53.703Z"
   },
   {
    "duration": 39,
    "start_time": "2023-11-24T22:51:57.061Z"
   },
   {
    "duration": 18,
    "start_time": "2023-11-24T22:52:02.224Z"
   },
   {
    "duration": 21,
    "start_time": "2023-11-24T23:02:03.119Z"
   },
   {
    "duration": 3,
    "start_time": "2023-11-24T23:02:44.796Z"
   },
   {
    "duration": 23,
    "start_time": "2023-11-24T23:02:47.937Z"
   },
   {
    "duration": 27,
    "start_time": "2023-11-24T23:03:07.339Z"
   },
   {
    "duration": 12,
    "start_time": "2023-11-24T23:05:05.527Z"
   },
   {
    "duration": 9,
    "start_time": "2023-11-24T23:05:14.776Z"
   },
   {
    "duration": 1548,
    "start_time": "2023-11-24T23:05:21.473Z"
   },
   {
    "duration": 143,
    "start_time": "2023-11-24T23:05:36.482Z"
   },
   {
    "duration": 370,
    "start_time": "2023-11-24T23:05:43.738Z"
   },
   {
    "duration": 3,
    "start_time": "2023-11-24T23:05:59.999Z"
   },
   {
    "duration": 246,
    "start_time": "2023-11-24T23:06:00.005Z"
   },
   {
    "duration": 8,
    "start_time": "2023-11-24T23:06:00.253Z"
   },
   {
    "duration": 58,
    "start_time": "2023-11-24T23:06:00.263Z"
   },
   {
    "duration": 40,
    "start_time": "2023-11-24T23:06:00.323Z"
   },
   {
    "duration": 3,
    "start_time": "2023-11-24T23:06:02.044Z"
   },
   {
    "duration": 3,
    "start_time": "2023-11-24T23:06:12.244Z"
   },
   {
    "duration": 33,
    "start_time": "2023-11-24T23:06:13.770Z"
   },
   {
    "duration": 1523,
    "start_time": "2023-11-24T23:06:16.645Z"
   },
   {
    "duration": 113,
    "start_time": "2023-11-24T23:06:27.041Z"
   },
   {
    "duration": 11,
    "start_time": "2023-11-24T23:06:34.422Z"
   },
   {
    "duration": 84,
    "start_time": "2023-11-24T23:06:50.331Z"
   },
   {
    "duration": 9,
    "start_time": "2023-11-24T23:06:52.615Z"
   },
   {
    "duration": 20,
    "start_time": "2023-11-24T23:07:43.738Z"
   },
   {
    "duration": 15,
    "start_time": "2023-11-24T23:07:53.456Z"
   },
   {
    "duration": 14,
    "start_time": "2023-11-24T23:07:59.593Z"
   },
   {
    "duration": 9,
    "start_time": "2023-11-24T23:46:08.049Z"
   },
   {
    "duration": 91,
    "start_time": "2023-11-24T23:46:13.995Z"
   },
   {
    "duration": 145,
    "start_time": "2023-11-24T23:54:22.964Z"
   },
   {
    "duration": 116,
    "start_time": "2023-11-24T23:55:12.752Z"
   },
   {
    "duration": 101,
    "start_time": "2023-11-24T23:59:59.650Z"
   },
   {
    "duration": 49,
    "start_time": "2023-11-25T00:00:51.272Z"
   },
   {
    "duration": 3,
    "start_time": "2023-11-25T00:01:03.323Z"
   },
   {
    "duration": 183,
    "start_time": "2023-11-25T00:01:03.328Z"
   },
   {
    "duration": 7,
    "start_time": "2023-11-25T00:01:03.513Z"
   },
   {
    "duration": 30,
    "start_time": "2023-11-25T00:01:03.522Z"
   },
   {
    "duration": 3,
    "start_time": "2023-11-25T00:01:03.554Z"
   },
   {
    "duration": 21,
    "start_time": "2023-11-25T00:01:03.558Z"
   },
   {
    "duration": 7,
    "start_time": "2023-11-25T00:01:03.581Z"
   },
   {
    "duration": 95,
    "start_time": "2023-11-25T00:01:03.589Z"
   },
   {
    "duration": 100,
    "start_time": "2023-11-25T00:01:03.686Z"
   },
   {
    "duration": 109,
    "start_time": "2023-11-25T00:01:03.788Z"
   },
   {
    "duration": 38,
    "start_time": "2023-11-25T00:01:03.900Z"
   },
   {
    "duration": 57,
    "start_time": "2023-11-25T00:01:03.939Z"
   },
   {
    "duration": 4,
    "start_time": "2023-11-25T00:01:06.743Z"
   },
   {
    "duration": 184,
    "start_time": "2023-11-25T00:01:06.748Z"
   },
   {
    "duration": 8,
    "start_time": "2023-11-25T00:01:06.934Z"
   },
   {
    "duration": 24,
    "start_time": "2023-11-25T00:01:06.944Z"
   },
   {
    "duration": 8,
    "start_time": "2023-11-25T00:01:06.970Z"
   },
   {
    "duration": 35,
    "start_time": "2023-11-25T00:01:06.980Z"
   },
   {
    "duration": 7,
    "start_time": "2023-11-25T00:01:07.017Z"
   },
   {
    "duration": 93,
    "start_time": "2023-11-25T00:01:07.026Z"
   },
   {
    "duration": 111,
    "start_time": "2023-11-25T00:01:07.121Z"
   },
   {
    "duration": 108,
    "start_time": "2023-11-25T00:01:07.234Z"
   },
   {
    "duration": 33,
    "start_time": "2023-11-25T00:01:07.344Z"
   },
   {
    "duration": 66,
    "start_time": "2023-11-25T00:01:07.379Z"
   },
   {
    "duration": 93,
    "start_time": "2023-11-25T00:01:25.865Z"
   },
   {
    "duration": 32,
    "start_time": "2023-11-25T00:01:28.199Z"
   },
   {
    "duration": 51,
    "start_time": "2023-11-25T00:01:30.924Z"
   },
   {
    "duration": 38,
    "start_time": "2023-11-25T00:10:31.324Z"
   },
   {
    "duration": 32,
    "start_time": "2023-11-25T00:10:50.204Z"
   },
   {
    "duration": 32,
    "start_time": "2023-11-25T00:10:59.904Z"
   },
   {
    "duration": 43,
    "start_time": "2023-11-25T00:11:03.529Z"
   },
   {
    "duration": 7,
    "start_time": "2023-11-25T00:12:20.624Z"
   },
   {
    "duration": 30,
    "start_time": "2023-11-25T00:14:06.321Z"
   },
   {
    "duration": 29,
    "start_time": "2023-11-25T00:14:18.577Z"
   },
   {
    "duration": 43,
    "start_time": "2023-11-25T00:14:40.552Z"
   },
   {
    "duration": 7,
    "start_time": "2023-11-25T00:14:58.468Z"
   },
   {
    "duration": 9,
    "start_time": "2023-11-25T00:15:05.638Z"
   },
   {
    "duration": 7,
    "start_time": "2023-11-25T00:15:19.153Z"
   },
   {
    "duration": 23,
    "start_time": "2023-11-25T00:16:19.326Z"
   },
   {
    "duration": 33,
    "start_time": "2023-11-25T00:16:41.060Z"
   },
   {
    "duration": 22,
    "start_time": "2023-11-25T00:17:27.696Z"
   },
   {
    "duration": 1767,
    "start_time": "2023-11-25T00:17:47.690Z"
   },
   {
    "duration": 21,
    "start_time": "2023-11-25T00:17:51.401Z"
   },
   {
    "duration": 10,
    "start_time": "2023-11-25T00:18:18.734Z"
   },
   {
    "duration": 3,
    "start_time": "2023-11-25T00:18:58.574Z"
   },
   {
    "duration": 32,
    "start_time": "2023-11-25T00:18:59.259Z"
   },
   {
    "duration": 35,
    "start_time": "2023-11-25T00:19:08.034Z"
   },
   {
    "duration": 99,
    "start_time": "2023-11-25T00:22:28.183Z"
   },
   {
    "duration": 92,
    "start_time": "2023-11-25T00:23:16.313Z"
   },
   {
    "duration": 98,
    "start_time": "2023-11-25T00:23:54.101Z"
   },
   {
    "duration": 33,
    "start_time": "2023-11-25T00:24:11.996Z"
   },
   {
    "duration": 5,
    "start_time": "2023-11-25T00:24:17.055Z"
   },
   {
    "duration": 5,
    "start_time": "2023-11-25T00:24:18.663Z"
   },
   {
    "duration": 9,
    "start_time": "2023-11-25T00:24:23.366Z"
   },
   {
    "duration": 11,
    "start_time": "2023-11-25T00:24:33.517Z"
   },
   {
    "duration": 4,
    "start_time": "2023-11-25T00:24:40.785Z"
   },
   {
    "duration": 4,
    "start_time": "2023-11-25T00:24:53.868Z"
   },
   {
    "duration": 86,
    "start_time": "2023-11-25T00:24:57.326Z"
   },
   {
    "duration": 4,
    "start_time": "2023-11-25T00:26:15.919Z"
   },
   {
    "duration": 23,
    "start_time": "2023-11-25T00:26:33.986Z"
   },
   {
    "duration": 77,
    "start_time": "2023-11-25T00:26:43.162Z"
   },
   {
    "duration": 22,
    "start_time": "2023-11-25T00:27:00.962Z"
   },
   {
    "duration": 22,
    "start_time": "2023-11-25T00:27:09.358Z"
   },
   {
    "duration": 35,
    "start_time": "2023-11-25T00:27:53.916Z"
   },
   {
    "duration": 19,
    "start_time": "2023-11-25T00:28:31.992Z"
   },
   {
    "duration": 18,
    "start_time": "2023-11-25T00:28:50.344Z"
   },
   {
    "duration": 18,
    "start_time": "2023-11-25T00:28:55.258Z"
   },
   {
    "duration": 10,
    "start_time": "2023-11-25T00:29:07.627Z"
   },
   {
    "duration": 26,
    "start_time": "2023-11-25T00:29:10.521Z"
   },
   {
    "duration": 4,
    "start_time": "2023-11-25T00:35:15.127Z"
   },
   {
    "duration": 11,
    "start_time": "2023-11-25T00:35:27.981Z"
   },
   {
    "duration": 12,
    "start_time": "2023-11-25T00:35:37.908Z"
   },
   {
    "duration": 11,
    "start_time": "2023-11-25T00:35:51.917Z"
   },
   {
    "duration": 41,
    "start_time": "2023-11-25T00:36:00.899Z"
   },
   {
    "duration": 9,
    "start_time": "2023-11-25T00:36:02.234Z"
   },
   {
    "duration": 372,
    "start_time": "2023-11-25T00:36:07.583Z"
   },
   {
    "duration": 43,
    "start_time": "2023-11-25T00:49:59.623Z"
   },
   {
    "duration": 1975,
    "start_time": "2023-11-25T00:50:01.406Z"
   },
   {
    "duration": 1864,
    "start_time": "2023-11-25T00:50:15.848Z"
   },
   {
    "duration": 40,
    "start_time": "2023-11-25T00:53:12.360Z"
   },
   {
    "duration": 360,
    "start_time": "2023-11-25T00:53:13.314Z"
   },
   {
    "duration": 411,
    "start_time": "2023-11-25T00:58:01.821Z"
   },
   {
    "duration": 11,
    "start_time": "2023-11-25T00:58:17.133Z"
   },
   {
    "duration": 6,
    "start_time": "2023-11-25T00:58:56.247Z"
   },
   {
    "duration": 6,
    "start_time": "2023-11-25T00:59:03.945Z"
   },
   {
    "duration": 8,
    "start_time": "2023-11-25T01:01:02.798Z"
   },
   {
    "duration": 26,
    "start_time": "2023-11-25T01:01:10.788Z"
   },
   {
    "duration": 26,
    "start_time": "2023-11-25T01:03:35.279Z"
   },
   {
    "duration": 7,
    "start_time": "2023-11-25T01:04:20.648Z"
   },
   {
    "duration": 3,
    "start_time": "2023-11-25T01:04:27.900Z"
   },
   {
    "duration": 4,
    "start_time": "2023-11-25T01:04:32.105Z"
   },
   {
    "duration": 26,
    "start_time": "2023-11-25T01:05:31.893Z"
   },
   {
    "duration": 5,
    "start_time": "2023-11-25T01:05:32.625Z"
   },
   {
    "duration": 13,
    "start_time": "2023-11-25T01:05:41.453Z"
   },
   {
    "duration": 4,
    "start_time": "2023-11-25T01:05:42.416Z"
   },
   {
    "duration": 30,
    "start_time": "2023-11-25T01:06:14.474Z"
   },
   {
    "duration": 15,
    "start_time": "2023-11-25T01:06:16.776Z"
   },
   {
    "duration": 4,
    "start_time": "2023-11-25T01:06:20.635Z"
   },
   {
    "duration": 179,
    "start_time": "2023-11-25T01:06:20.641Z"
   },
   {
    "duration": 7,
    "start_time": "2023-11-25T01:06:20.822Z"
   },
   {
    "duration": 31,
    "start_time": "2023-11-25T01:06:20.830Z"
   },
   {
    "duration": 22,
    "start_time": "2023-11-25T01:06:20.862Z"
   },
   {
    "duration": 36,
    "start_time": "2023-11-25T01:06:20.886Z"
   },
   {
    "duration": 21,
    "start_time": "2023-11-25T01:06:20.923Z"
   },
   {
    "duration": 73,
    "start_time": "2023-11-25T01:06:20.946Z"
   },
   {
    "duration": 90,
    "start_time": "2023-11-25T01:06:21.020Z"
   },
   {
    "duration": 102,
    "start_time": "2023-11-25T01:06:21.111Z"
   },
   {
    "duration": 32,
    "start_time": "2023-11-25T01:06:21.215Z"
   },
   {
    "duration": 46,
    "start_time": "2023-11-25T01:06:21.248Z"
   },
   {
    "duration": 29,
    "start_time": "2023-11-25T01:06:21.313Z"
   },
   {
    "duration": 27,
    "start_time": "2023-11-25T01:06:21.344Z"
   },
   {
    "duration": 7,
    "start_time": "2023-11-25T01:06:21.373Z"
   },
   {
    "duration": 45,
    "start_time": "2023-11-25T01:06:21.382Z"
   },
   {
    "duration": 18,
    "start_time": "2023-11-25T01:06:21.429Z"
   },
   {
    "duration": 19,
    "start_time": "2023-11-25T01:06:21.449Z"
   },
   {
    "duration": 57,
    "start_time": "2023-11-25T01:06:21.469Z"
   },
   {
    "duration": 372,
    "start_time": "2023-11-25T01:06:21.528Z"
   },
   {
    "duration": 24,
    "start_time": "2023-11-25T01:06:21.901Z"
   },
   {
    "duration": 36,
    "start_time": "2023-11-25T01:06:21.927Z"
   },
   {
    "duration": 23,
    "start_time": "2023-11-25T01:06:21.965Z"
   },
   {
    "duration": 35,
    "start_time": "2023-11-25T01:06:21.990Z"
   },
   {
    "duration": 21,
    "start_time": "2023-11-25T01:06:32.907Z"
   },
   {
    "duration": 41,
    "start_time": "2023-11-25T01:08:12.629Z"
   },
   {
    "duration": 28,
    "start_time": "2023-11-25T01:08:36.060Z"
   },
   {
    "duration": 35,
    "start_time": "2023-11-25T01:08:45.736Z"
   },
   {
    "duration": 24,
    "start_time": "2023-11-25T01:09:03.547Z"
   },
   {
    "duration": 36,
    "start_time": "2023-11-25T01:11:55.481Z"
   },
   {
    "duration": 21,
    "start_time": "2023-11-25T01:12:04.986Z"
   },
   {
    "duration": 33,
    "start_time": "2023-11-25T01:12:33.455Z"
   },
   {
    "duration": 18,
    "start_time": "2023-11-25T01:12:44.432Z"
   },
   {
    "duration": 4,
    "start_time": "2023-11-25T01:20:54.062Z"
   },
   {
    "duration": 192,
    "start_time": "2023-11-25T01:20:54.068Z"
   },
   {
    "duration": 10,
    "start_time": "2023-11-25T01:20:54.261Z"
   },
   {
    "duration": 36,
    "start_time": "2023-11-25T01:20:54.273Z"
   },
   {
    "duration": 2,
    "start_time": "2023-11-25T01:20:54.311Z"
   },
   {
    "duration": 48,
    "start_time": "2023-11-25T01:20:54.315Z"
   },
   {
    "duration": 22,
    "start_time": "2023-11-25T01:20:54.364Z"
   },
   {
    "duration": 68,
    "start_time": "2023-11-25T01:20:54.388Z"
   },
   {
    "duration": 86,
    "start_time": "2023-11-25T01:20:54.459Z"
   },
   {
    "duration": 100,
    "start_time": "2023-11-25T01:20:54.546Z"
   },
   {
    "duration": 31,
    "start_time": "2023-11-25T01:20:54.648Z"
   },
   {
    "duration": 66,
    "start_time": "2023-11-25T01:20:54.681Z"
   },
   {
    "duration": 35,
    "start_time": "2023-11-25T01:20:54.749Z"
   },
   {
    "duration": 43,
    "start_time": "2023-11-25T01:20:54.785Z"
   },
   {
    "duration": 27,
    "start_time": "2023-11-25T01:20:54.829Z"
   },
   {
    "duration": 13,
    "start_time": "2023-11-25T01:20:54.858Z"
   },
   {
    "duration": 45,
    "start_time": "2023-11-25T01:20:54.873Z"
   },
   {
    "duration": 19,
    "start_time": "2023-11-25T01:20:54.920Z"
   },
   {
    "duration": 26,
    "start_time": "2023-11-25T01:20:54.940Z"
   },
   {
    "duration": 53,
    "start_time": "2023-11-25T01:20:54.967Z"
   },
   {
    "duration": 365,
    "start_time": "2023-11-25T01:20:55.022Z"
   },
   {
    "duration": 13,
    "start_time": "2023-11-25T01:20:55.389Z"
   },
   {
    "duration": 38,
    "start_time": "2023-11-25T01:20:55.404Z"
   },
   {
    "duration": 25,
    "start_time": "2023-11-25T01:20:55.445Z"
   },
   {
    "duration": 44,
    "start_time": "2023-11-25T01:20:55.472Z"
   },
   {
    "duration": 32,
    "start_time": "2023-11-25T01:20:55.518Z"
   },
   {
    "duration": 33,
    "start_time": "2023-11-25T01:20:55.552Z"
   },
   {
    "duration": 29,
    "start_time": "2023-11-25T01:26:13.226Z"
   },
   {
    "duration": 24,
    "start_time": "2023-11-25T01:26:18.140Z"
   },
   {
    "duration": 21,
    "start_time": "2023-11-25T01:26:34.448Z"
   },
   {
    "duration": 27,
    "start_time": "2023-11-25T01:32:11.534Z"
   },
   {
    "duration": 47,
    "start_time": "2023-11-25T01:32:14.300Z"
   },
   {
    "duration": 26,
    "start_time": "2023-11-25T01:39:02.267Z"
   },
   {
    "duration": 37,
    "start_time": "2023-11-25T01:39:13.901Z"
   },
   {
    "duration": 51,
    "start_time": "2023-11-25T01:39:24.102Z"
   },
   {
    "duration": 41,
    "start_time": "2023-11-25T01:39:27.163Z"
   },
   {
    "duration": 27,
    "start_time": "2023-11-25T01:39:34.192Z"
   },
   {
    "duration": 31,
    "start_time": "2023-11-25T01:39:38.629Z"
   },
   {
    "duration": 25,
    "start_time": "2023-11-25T01:41:10.134Z"
   },
   {
    "duration": 26,
    "start_time": "2023-11-25T01:41:17.304Z"
   },
   {
    "duration": 27,
    "start_time": "2023-11-25T01:41:33.209Z"
   },
   {
    "duration": 25,
    "start_time": "2023-11-25T01:41:48.910Z"
   },
   {
    "duration": 27,
    "start_time": "2023-11-25T01:41:56.776Z"
   },
   {
    "duration": 26,
    "start_time": "2023-11-25T01:42:05.880Z"
   },
   {
    "duration": 76,
    "start_time": "2023-11-25T01:43:43.673Z"
   },
   {
    "duration": 8,
    "start_time": "2023-11-25T01:43:55.542Z"
   },
   {
    "duration": 26,
    "start_time": "2023-11-25T01:45:04.362Z"
   },
   {
    "duration": 25,
    "start_time": "2023-11-25T01:45:18.249Z"
   },
   {
    "duration": 7,
    "start_time": "2023-11-25T01:46:51.497Z"
   },
   {
    "duration": 9,
    "start_time": "2023-11-25T01:47:10.672Z"
   },
   {
    "duration": 29,
    "start_time": "2023-11-25T01:47:19.077Z"
   },
   {
    "duration": 5,
    "start_time": "2023-11-25T01:47:24.719Z"
   },
   {
    "duration": 8,
    "start_time": "2023-11-25T01:47:34.832Z"
   },
   {
    "duration": 8,
    "start_time": "2023-11-25T01:47:52.449Z"
   },
   {
    "duration": 10,
    "start_time": "2023-11-25T01:48:01.608Z"
   },
   {
    "duration": 26,
    "start_time": "2023-11-25T01:48:13.743Z"
   },
   {
    "duration": 10,
    "start_time": "2023-11-25T01:48:33.922Z"
   },
   {
    "duration": 25,
    "start_time": "2023-11-25T01:49:56.111Z"
   },
   {
    "duration": 10,
    "start_time": "2023-11-25T01:50:09.746Z"
   },
   {
    "duration": 32,
    "start_time": "2023-11-25T01:51:42.086Z"
   },
   {
    "duration": 60,
    "start_time": "2023-11-25T01:51:54.156Z"
   },
   {
    "duration": 4,
    "start_time": "2023-11-25T01:52:52.641Z"
   },
   {
    "duration": 60,
    "start_time": "2023-11-25T01:53:05.377Z"
   },
   {
    "duration": 39,
    "start_time": "2023-11-25T01:53:22.501Z"
   },
   {
    "duration": 53,
    "start_time": "2023-11-25T01:54:06.456Z"
   },
   {
    "duration": 8,
    "start_time": "2023-11-25T01:54:12.788Z"
   },
   {
    "duration": 67,
    "start_time": "2023-11-25T01:54:30.201Z"
   },
   {
    "duration": 9,
    "start_time": "2023-11-25T01:54:32.553Z"
   },
   {
    "duration": 53,
    "start_time": "2023-11-25T01:54:52.003Z"
   },
   {
    "duration": 54,
    "start_time": "2023-11-25T01:54:53.677Z"
   },
   {
    "duration": 12,
    "start_time": "2023-11-25T01:54:55.544Z"
   },
   {
    "duration": 4,
    "start_time": "2023-11-25T02:20:19.412Z"
   },
   {
    "duration": 3,
    "start_time": "2023-11-25T02:22:10.212Z"
   },
   {
    "duration": 3,
    "start_time": "2023-11-25T02:22:25.348Z"
   },
   {
    "duration": 71,
    "start_time": "2023-11-25T02:24:10.546Z"
   },
   {
    "duration": 120,
    "start_time": "2023-11-25T02:24:20.781Z"
   },
   {
    "duration": 83,
    "start_time": "2023-11-25T02:24:50.597Z"
   },
   {
    "duration": 4,
    "start_time": "2023-11-25T02:24:56.735Z"
   },
   {
    "duration": 7,
    "start_time": "2023-11-25T02:26:04.444Z"
   },
   {
    "duration": 8,
    "start_time": "2023-11-25T02:26:09.015Z"
   },
   {
    "duration": 8,
    "start_time": "2023-11-25T02:27:07.607Z"
   },
   {
    "duration": 7,
    "start_time": "2023-11-25T02:31:23.592Z"
   },
   {
    "duration": 95,
    "start_time": "2023-11-25T02:33:55.721Z"
   },
   {
    "duration": 9,
    "start_time": "2023-11-25T02:36:25.031Z"
   },
   {
    "duration": 4,
    "start_time": "2023-11-25T02:36:29.734Z"
   },
   {
    "duration": 174,
    "start_time": "2023-11-25T02:36:29.739Z"
   },
   {
    "duration": 8,
    "start_time": "2023-11-25T02:36:29.914Z"
   },
   {
    "duration": 21,
    "start_time": "2023-11-25T02:36:29.924Z"
   },
   {
    "duration": 3,
    "start_time": "2023-11-25T02:36:29.947Z"
   },
   {
    "duration": 18,
    "start_time": "2023-11-25T02:36:29.952Z"
   },
   {
    "duration": 6,
    "start_time": "2023-11-25T02:36:29.971Z"
   },
   {
    "duration": 99,
    "start_time": "2023-11-25T02:36:29.979Z"
   },
   {
    "duration": 93,
    "start_time": "2023-11-25T02:36:30.080Z"
   },
   {
    "duration": 107,
    "start_time": "2023-11-25T02:36:30.175Z"
   },
   {
    "duration": 39,
    "start_time": "2023-11-25T02:36:30.284Z"
   },
   {
    "duration": 54,
    "start_time": "2023-11-25T02:36:30.325Z"
   },
   {
    "duration": 38,
    "start_time": "2023-11-25T02:36:30.381Z"
   },
   {
    "duration": 27,
    "start_time": "2023-11-25T02:36:30.421Z"
   },
   {
    "duration": 20,
    "start_time": "2023-11-25T02:36:30.450Z"
   },
   {
    "duration": 39,
    "start_time": "2023-11-25T02:36:30.472Z"
   },
   {
    "duration": 21,
    "start_time": "2023-11-25T02:36:30.514Z"
   },
   {
    "duration": 38,
    "start_time": "2023-11-25T02:36:30.536Z"
   },
   {
    "duration": 60,
    "start_time": "2023-11-25T02:36:30.575Z"
   },
   {
    "duration": 396,
    "start_time": "2023-11-25T02:36:30.637Z"
   },
   {
    "duration": 13,
    "start_time": "2023-11-25T02:36:31.035Z"
   },
   {
    "duration": 131,
    "start_time": "2023-11-25T02:36:31.050Z"
   },
   {
    "duration": 58,
    "start_time": "2023-11-25T02:36:31.183Z"
   },
   {
    "duration": 100,
    "start_time": "2023-11-25T02:36:31.244Z"
   },
   {
    "duration": 81,
    "start_time": "2023-11-25T02:36:31.347Z"
   },
   {
    "duration": 26,
    "start_time": "2023-11-25T02:36:31.429Z"
   },
   {
    "duration": 68,
    "start_time": "2023-11-25T02:36:31.457Z"
   },
   {
    "duration": 9,
    "start_time": "2023-11-25T02:36:33.332Z"
   },
   {
    "duration": 101,
    "start_time": "2023-11-25T02:37:04.341Z"
   },
   {
    "duration": 72,
    "start_time": "2023-11-25T02:37:36.723Z"
   },
   {
    "duration": 97,
    "start_time": "2023-11-25T02:37:45.660Z"
   },
   {
    "duration": 7,
    "start_time": "2023-11-25T02:38:32.437Z"
   },
   {
    "duration": 5,
    "start_time": "2023-11-25T02:39:04.347Z"
   },
   {
    "duration": 64,
    "start_time": "2023-11-25T02:39:57.178Z"
   },
   {
    "duration": 9,
    "start_time": "2023-11-25T02:40:01.544Z"
   },
   {
    "duration": 7,
    "start_time": "2023-11-25T02:40:05.506Z"
   },
   {
    "duration": 7,
    "start_time": "2023-11-25T02:40:08.120Z"
   },
   {
    "duration": 6,
    "start_time": "2023-11-25T02:40:31.860Z"
   },
   {
    "duration": 233,
    "start_time": "2023-11-25T02:40:44.182Z"
   },
   {
    "duration": 6,
    "start_time": "2023-11-25T02:41:42.842Z"
   },
   {
    "duration": 4,
    "start_time": "2023-11-25T02:42:00.507Z"
   },
   {
    "duration": 4,
    "start_time": "2023-11-25T02:42:05.169Z"
   },
   {
    "duration": 10,
    "start_time": "2023-11-25T02:42:11.345Z"
   },
   {
    "duration": 5,
    "start_time": "2023-11-25T02:42:18.826Z"
   },
   {
    "duration": 4,
    "start_time": "2023-11-25T02:42:27.397Z"
   },
   {
    "duration": 4,
    "start_time": "2023-11-25T02:42:34.526Z"
   },
   {
    "duration": 81,
    "start_time": "2023-11-25T02:42:54.241Z"
   },
   {
    "duration": 93,
    "start_time": "2023-11-25T02:43:21.079Z"
   },
   {
    "duration": 100,
    "start_time": "2023-11-25T02:43:24.760Z"
   },
   {
    "duration": 96,
    "start_time": "2023-11-25T02:44:03.347Z"
   },
   {
    "duration": 98,
    "start_time": "2023-11-25T02:44:26.117Z"
   },
   {
    "duration": 1758,
    "start_time": "2023-11-25T02:46:08.863Z"
   },
   {
    "duration": 1945,
    "start_time": "2023-11-25T02:46:23.921Z"
   },
   {
    "duration": 100,
    "start_time": "2023-11-25T02:46:50.025Z"
   },
   {
    "duration": 1509,
    "start_time": "2023-11-25T02:46:55.520Z"
   },
   {
    "duration": 4,
    "start_time": "2023-11-25T02:47:27.720Z"
   },
   {
    "duration": 1696,
    "start_time": "2023-11-25T02:47:44.138Z"
   },
   {
    "duration": 4,
    "start_time": "2023-11-25T02:48:19.431Z"
   },
   {
    "duration": 1271,
    "start_time": "2023-11-25T14:44:50.727Z"
   },
   {
    "duration": 4,
    "start_time": "2023-11-25T14:44:53.398Z"
   },
   {
    "duration": 512,
    "start_time": "2023-11-25T14:44:53.404Z"
   },
   {
    "duration": 10,
    "start_time": "2023-11-25T14:44:53.918Z"
   },
   {
    "duration": 24,
    "start_time": "2023-11-25T14:44:53.930Z"
   },
   {
    "duration": 2,
    "start_time": "2023-11-25T14:44:53.956Z"
   },
   {
    "duration": 19,
    "start_time": "2023-11-25T14:44:53.960Z"
   },
   {
    "duration": 10,
    "start_time": "2023-11-25T14:44:53.980Z"
   },
   {
    "duration": 78,
    "start_time": "2023-11-25T14:44:53.992Z"
   },
   {
    "duration": 106,
    "start_time": "2023-11-25T14:44:54.072Z"
   },
   {
    "duration": 131,
    "start_time": "2023-11-25T14:44:54.180Z"
   },
   {
    "duration": 30,
    "start_time": "2023-11-25T14:44:54.314Z"
   },
   {
    "duration": 62,
    "start_time": "2023-11-25T14:44:54.345Z"
   },
   {
    "duration": 34,
    "start_time": "2023-11-25T14:44:54.408Z"
   },
   {
    "duration": 48,
    "start_time": "2023-11-25T14:44:54.444Z"
   },
   {
    "duration": 11,
    "start_time": "2023-11-25T14:44:54.494Z"
   },
   {
    "duration": 34,
    "start_time": "2023-11-25T14:44:54.507Z"
   },
   {
    "duration": 31,
    "start_time": "2023-11-25T14:44:54.542Z"
   },
   {
    "duration": 20,
    "start_time": "2023-11-25T14:44:54.574Z"
   },
   {
    "duration": 42,
    "start_time": "2023-11-25T14:44:54.595Z"
   },
   {
    "duration": 411,
    "start_time": "2023-11-25T14:44:54.638Z"
   },
   {
    "duration": 18,
    "start_time": "2023-11-25T14:44:55.050Z"
   },
   {
    "duration": 28,
    "start_time": "2023-11-25T14:44:55.070Z"
   },
   {
    "duration": 24,
    "start_time": "2023-11-25T14:44:55.100Z"
   },
   {
    "duration": 42,
    "start_time": "2023-11-25T14:44:55.125Z"
   },
   {
    "duration": 55,
    "start_time": "2023-11-25T14:44:55.169Z"
   },
   {
    "duration": 40,
    "start_time": "2023-11-25T14:44:55.226Z"
   },
   {
    "duration": 53,
    "start_time": "2023-11-25T14:44:55.268Z"
   },
   {
    "duration": 9,
    "start_time": "2023-11-25T14:44:55.322Z"
   },
   {
    "duration": 119,
    "start_time": "2023-11-25T14:44:55.334Z"
   },
   {
    "duration": 1686,
    "start_time": "2023-11-25T14:44:55.455Z"
   },
   {
    "duration": 0,
    "start_time": "2023-11-25T14:44:57.142Z"
   },
   {
    "duration": 0,
    "start_time": "2023-11-25T14:44:57.144Z"
   },
   {
    "duration": 0,
    "start_time": "2023-11-25T14:44:57.145Z"
   },
   {
    "duration": 0,
    "start_time": "2023-11-25T14:44:57.146Z"
   },
   {
    "duration": 0,
    "start_time": "2023-11-25T14:44:57.147Z"
   },
   {
    "duration": 0,
    "start_time": "2023-11-25T14:44:57.150Z"
   },
   {
    "duration": 0,
    "start_time": "2023-11-25T14:44:57.151Z"
   },
   {
    "duration": 0,
    "start_time": "2023-11-25T14:44:57.152Z"
   },
   {
    "duration": 98,
    "start_time": "2023-11-25T14:46:05.069Z"
   },
   {
    "duration": 97,
    "start_time": "2023-11-25T14:46:25.130Z"
   },
   {
    "duration": 97,
    "start_time": "2023-11-25T14:46:34.471Z"
   },
   {
    "duration": 11,
    "start_time": "2023-11-25T14:51:32.274Z"
   },
   {
    "duration": 5,
    "start_time": "2023-11-25T14:58:33.872Z"
   },
   {
    "duration": 7,
    "start_time": "2023-11-25T14:59:41.273Z"
   },
   {
    "duration": 11,
    "start_time": "2023-11-25T14:59:47.051Z"
   },
   {
    "duration": 92,
    "start_time": "2023-11-25T15:04:05.112Z"
   },
   {
    "duration": 3,
    "start_time": "2023-11-25T15:04:11.009Z"
   },
   {
    "duration": 4,
    "start_time": "2023-11-25T15:04:15.366Z"
   },
   {
    "duration": 3,
    "start_time": "2023-11-25T15:04:20.087Z"
   },
   {
    "duration": 4,
    "start_time": "2023-11-25T15:04:28.762Z"
   },
   {
    "duration": 4,
    "start_time": "2023-11-25T15:04:32.294Z"
   },
   {
    "duration": 3,
    "start_time": "2023-11-25T15:04:34.420Z"
   },
   {
    "duration": 4,
    "start_time": "2023-11-25T15:04:36.278Z"
   },
   {
    "duration": 4,
    "start_time": "2023-11-25T15:04:39.760Z"
   },
   {
    "duration": 117,
    "start_time": "2023-11-25T15:05:32.348Z"
   },
   {
    "duration": 107,
    "start_time": "2023-11-25T15:05:41.908Z"
   },
   {
    "duration": 105,
    "start_time": "2023-11-25T15:05:55.093Z"
   },
   {
    "duration": 87,
    "start_time": "2023-11-25T15:06:02.357Z"
   },
   {
    "duration": 14,
    "start_time": "2023-11-25T15:06:05.882Z"
   },
   {
    "duration": 115,
    "start_time": "2023-11-25T15:07:49.194Z"
   },
   {
    "duration": 149,
    "start_time": "2023-11-25T15:09:38.654Z"
   },
   {
    "duration": 146,
    "start_time": "2023-11-25T15:09:57.834Z"
   },
   {
    "duration": 154,
    "start_time": "2023-11-25T15:10:18.923Z"
   },
   {
    "duration": 139,
    "start_time": "2023-11-25T15:12:26.970Z"
   },
   {
    "duration": 23,
    "start_time": "2023-11-25T15:12:56.761Z"
   },
   {
    "duration": 4,
    "start_time": "2023-11-25T15:13:04.960Z"
   },
   {
    "duration": 161,
    "start_time": "2023-11-25T15:13:42.209Z"
   },
   {
    "duration": 107,
    "start_time": "2023-11-25T15:14:12.828Z"
   },
   {
    "duration": 15,
    "start_time": "2023-11-25T15:15:34.608Z"
   },
   {
    "duration": 11,
    "start_time": "2023-11-25T15:16:18.854Z"
   },
   {
    "duration": 812,
    "start_time": "2023-11-25T15:17:15.261Z"
   },
   {
    "duration": 8,
    "start_time": "2023-11-25T15:17:28.374Z"
   },
   {
    "duration": 5,
    "start_time": "2023-11-25T15:17:55.681Z"
   },
   {
    "duration": 16,
    "start_time": "2023-11-25T15:18:02.414Z"
   },
   {
    "duration": 8,
    "start_time": "2023-11-25T15:18:05.440Z"
   },
   {
    "duration": 24,
    "start_time": "2023-11-25T15:18:15.162Z"
   },
   {
    "duration": 23,
    "start_time": "2023-11-25T15:18:20.012Z"
   },
   {
    "duration": 7,
    "start_time": "2023-11-25T15:18:20.919Z"
   },
   {
    "duration": 109,
    "start_time": "2023-11-25T15:19:19.167Z"
   },
   {
    "duration": 7,
    "start_time": "2023-11-25T15:19:31.740Z"
   },
   {
    "duration": 1473,
    "start_time": "2023-11-25T15:20:46.591Z"
   },
   {
    "duration": 10,
    "start_time": "2023-11-25T15:21:19.810Z"
   },
   {
    "duration": 43,
    "start_time": "2023-11-25T15:21:28.236Z"
   },
   {
    "duration": 8,
    "start_time": "2023-11-25T15:21:30.249Z"
   },
   {
    "duration": 56,
    "start_time": "2023-11-25T15:22:13.720Z"
   },
   {
    "duration": 4,
    "start_time": "2023-11-25T15:22:40.230Z"
   },
   {
    "duration": 7,
    "start_time": "2023-11-25T15:22:52.951Z"
   },
   {
    "duration": 55,
    "start_time": "2023-11-25T15:23:41.985Z"
   },
   {
    "duration": 8,
    "start_time": "2023-11-25T15:23:45.186Z"
   },
   {
    "duration": 3,
    "start_time": "2023-11-25T15:24:55.467Z"
   },
   {
    "duration": 8,
    "start_time": "2023-11-25T15:25:33.368Z"
   },
   {
    "duration": 89,
    "start_time": "2023-11-25T15:25:35.306Z"
   },
   {
    "duration": 4,
    "start_time": "2023-11-25T15:25:37.720Z"
   },
   {
    "duration": 6,
    "start_time": "2023-11-25T15:25:53.167Z"
   },
   {
    "duration": 49,
    "start_time": "2023-11-25T15:25:55.868Z"
   },
   {
    "duration": 8,
    "start_time": "2023-11-25T15:25:58.308Z"
   },
   {
    "duration": 50,
    "start_time": "2023-11-25T15:26:13.654Z"
   },
   {
    "duration": 9,
    "start_time": "2023-11-25T15:26:16.876Z"
   },
   {
    "duration": 41,
    "start_time": "2023-11-25T15:26:28.678Z"
   },
   {
    "duration": 40,
    "start_time": "2023-11-25T15:30:35.410Z"
   },
   {
    "duration": 49,
    "start_time": "2023-11-25T15:31:46.145Z"
   },
   {
    "duration": 7,
    "start_time": "2023-11-25T15:32:49.395Z"
   },
   {
    "duration": 6,
    "start_time": "2023-11-25T15:34:45.404Z"
   },
   {
    "duration": 39,
    "start_time": "2023-11-25T15:34:59.321Z"
   },
   {
    "duration": 99,
    "start_time": "2023-11-25T15:35:31.689Z"
   },
   {
    "duration": 94,
    "start_time": "2023-11-25T15:35:38.083Z"
   },
   {
    "duration": 6,
    "start_time": "2023-11-25T15:35:50.423Z"
   },
   {
    "duration": 40,
    "start_time": "2023-11-25T15:37:18.834Z"
   },
   {
    "duration": 7,
    "start_time": "2023-11-25T15:39:59.378Z"
   },
   {
    "duration": 92,
    "start_time": "2023-11-25T15:40:01.920Z"
   },
   {
    "duration": 37,
    "start_time": "2023-11-25T15:40:03.942Z"
   },
   {
    "duration": 10,
    "start_time": "2023-11-25T15:40:05.517Z"
   },
   {
    "duration": 1600,
    "start_time": "2023-11-25T15:45:20.170Z"
   },
   {
    "duration": 0,
    "start_time": "2023-11-25T15:45:21.772Z"
   },
   {
    "duration": 1309,
    "start_time": "2023-11-25T15:45:39.120Z"
   },
   {
    "duration": 1207,
    "start_time": "2023-11-25T15:46:18.607Z"
   },
   {
    "duration": 8,
    "start_time": "2023-11-25T15:46:32.443Z"
   },
   {
    "duration": 23,
    "start_time": "2023-11-25T15:46:48.833Z"
   },
   {
    "duration": 16,
    "start_time": "2023-11-25T15:48:49.600Z"
   },
   {
    "duration": 12,
    "start_time": "2023-11-25T15:49:03.039Z"
   },
   {
    "duration": 4,
    "start_time": "2023-11-25T15:49:14.139Z"
   },
   {
    "duration": 37,
    "start_time": "2023-11-25T15:49:27.830Z"
   },
   {
    "duration": 8,
    "start_time": "2023-11-25T15:49:29.465Z"
   },
   {
    "duration": 50,
    "start_time": "2023-11-25T15:49:47.518Z"
   },
   {
    "duration": 39,
    "start_time": "2023-11-25T15:50:32.260Z"
   },
   {
    "duration": 8,
    "start_time": "2023-11-25T15:50:39.524Z"
   },
   {
    "duration": 37,
    "start_time": "2023-11-25T15:51:15.838Z"
   },
   {
    "duration": 40,
    "start_time": "2023-11-25T15:51:55.248Z"
   },
   {
    "duration": 45,
    "start_time": "2023-11-25T15:52:06.969Z"
   },
   {
    "duration": 10,
    "start_time": "2023-11-25T15:52:08.773Z"
   },
   {
    "duration": 42,
    "start_time": "2023-11-25T15:52:59.578Z"
   },
   {
    "duration": 43,
    "start_time": "2023-11-25T15:54:39.204Z"
   },
   {
    "duration": 52,
    "start_time": "2023-11-25T15:54:49.676Z"
   },
   {
    "duration": 57,
    "start_time": "2023-11-25T15:55:07.035Z"
   },
   {
    "duration": 61,
    "start_time": "2023-11-25T15:55:42.469Z"
   },
   {
    "duration": 39,
    "start_time": "2023-11-25T15:55:46.999Z"
   },
   {
    "duration": 13,
    "start_time": "2023-11-25T15:55:48.860Z"
   },
   {
    "duration": 8,
    "start_time": "2023-11-25T15:56:05.899Z"
   },
   {
    "duration": 116,
    "start_time": "2023-11-25T15:56:07.249Z"
   },
   {
    "duration": 5,
    "start_time": "2023-11-25T15:56:09.432Z"
   },
   {
    "duration": 46,
    "start_time": "2023-11-25T15:56:11.290Z"
   },
   {
    "duration": 11,
    "start_time": "2023-11-25T15:56:12.277Z"
   },
   {
    "duration": 14,
    "start_time": "2023-11-25T15:56:43.502Z"
   },
   {
    "duration": 7,
    "start_time": "2023-11-25T15:56:50.369Z"
   },
   {
    "duration": 88,
    "start_time": "2023-11-25T15:56:51.037Z"
   },
   {
    "duration": 4,
    "start_time": "2023-11-25T15:56:52.152Z"
   },
   {
    "duration": 24,
    "start_time": "2023-11-25T15:56:52.795Z"
   },
   {
    "duration": 25,
    "start_time": "2023-11-25T15:57:07.283Z"
   },
   {
    "duration": 52,
    "start_time": "2023-11-25T15:57:15.925Z"
   },
   {
    "duration": 9,
    "start_time": "2023-11-25T15:57:17.599Z"
   },
   {
    "duration": 43,
    "start_time": "2023-11-25T15:57:41.732Z"
   },
   {
    "duration": 42,
    "start_time": "2023-11-25T15:58:43.151Z"
   },
   {
    "duration": 42,
    "start_time": "2023-11-25T15:58:51.918Z"
   },
   {
    "duration": 9,
    "start_time": "2023-11-25T15:58:53.013Z"
   },
   {
    "duration": 1268,
    "start_time": "2023-11-26T16:56:48.484Z"
   },
   {
    "duration": 487,
    "start_time": "2023-11-26T16:56:49.754Z"
   },
   {
    "duration": 9,
    "start_time": "2023-11-26T16:56:50.243Z"
   },
   {
    "duration": 24,
    "start_time": "2023-11-26T16:56:50.254Z"
   },
   {
    "duration": 7,
    "start_time": "2023-11-26T16:56:50.280Z"
   },
   {
    "duration": 29,
    "start_time": "2023-11-26T16:56:50.289Z"
   },
   {
    "duration": 19,
    "start_time": "2023-11-26T16:56:50.319Z"
   },
   {
    "duration": 68,
    "start_time": "2023-11-26T16:56:50.340Z"
   },
   {
    "duration": 99,
    "start_time": "2023-11-26T16:56:50.410Z"
   },
   {
    "duration": 115,
    "start_time": "2023-11-26T16:56:50.511Z"
   },
   {
    "duration": 36,
    "start_time": "2023-11-26T16:56:50.628Z"
   },
   {
    "duration": 46,
    "start_time": "2023-11-26T16:56:50.665Z"
   },
   {
    "duration": 40,
    "start_time": "2023-11-26T16:56:50.712Z"
   },
   {
    "duration": 25,
    "start_time": "2023-11-26T16:56:50.755Z"
   },
   {
    "duration": 8,
    "start_time": "2023-11-26T16:56:50.781Z"
   },
   {
    "duration": 24,
    "start_time": "2023-11-26T16:56:50.791Z"
   },
   {
    "duration": 36,
    "start_time": "2023-11-26T16:56:50.817Z"
   },
   {
    "duration": 16,
    "start_time": "2023-11-26T16:56:50.854Z"
   },
   {
    "duration": 47,
    "start_time": "2023-11-26T16:56:50.872Z"
   },
   {
    "duration": 391,
    "start_time": "2023-11-26T16:56:50.920Z"
   },
   {
    "duration": 14,
    "start_time": "2023-11-26T16:56:51.312Z"
   },
   {
    "duration": 41,
    "start_time": "2023-11-26T16:56:51.328Z"
   },
   {
    "duration": 23,
    "start_time": "2023-11-26T16:56:51.370Z"
   },
   {
    "duration": 27,
    "start_time": "2023-11-26T16:56:51.394Z"
   },
   {
    "duration": 74,
    "start_time": "2023-11-26T16:56:51.422Z"
   },
   {
    "duration": 26,
    "start_time": "2023-11-26T16:56:51.498Z"
   },
   {
    "duration": 67,
    "start_time": "2023-11-26T16:56:51.525Z"
   },
   {
    "duration": 7,
    "start_time": "2023-11-26T16:56:51.593Z"
   },
   {
    "duration": 6,
    "start_time": "2023-11-26T16:56:51.602Z"
   },
   {
    "duration": 128,
    "start_time": "2023-11-26T16:56:51.609Z"
   },
   {
    "duration": 0,
    "start_time": "2023-11-26T16:56:51.738Z"
   },
   {
    "duration": 0,
    "start_time": "2023-11-26T16:56:51.739Z"
   },
   {
    "duration": 0,
    "start_time": "2023-11-26T16:56:51.740Z"
   },
   {
    "duration": 0,
    "start_time": "2023-11-26T16:56:51.751Z"
   },
   {
    "duration": 0,
    "start_time": "2023-11-26T16:56:51.753Z"
   },
   {
    "duration": 7,
    "start_time": "2023-11-26T16:56:57.198Z"
   },
   {
    "duration": 88,
    "start_time": "2023-11-26T16:57:36.747Z"
   },
   {
    "duration": 3,
    "start_time": "2023-11-26T16:57:40.259Z"
   },
   {
    "duration": 182,
    "start_time": "2023-11-26T16:57:40.264Z"
   },
   {
    "duration": 6,
    "start_time": "2023-11-26T16:57:40.447Z"
   },
   {
    "duration": 22,
    "start_time": "2023-11-26T16:57:40.455Z"
   },
   {
    "duration": 2,
    "start_time": "2023-11-26T16:57:40.479Z"
   },
   {
    "duration": 17,
    "start_time": "2023-11-26T16:57:40.482Z"
   },
   {
    "duration": 5,
    "start_time": "2023-11-26T16:57:40.501Z"
   },
   {
    "duration": 82,
    "start_time": "2023-11-26T16:57:40.507Z"
   },
   {
    "duration": 84,
    "start_time": "2023-11-26T16:57:40.591Z"
   },
   {
    "duration": 87,
    "start_time": "2023-11-26T16:57:40.676Z"
   },
   {
    "duration": 31,
    "start_time": "2023-11-26T16:57:40.764Z"
   },
   {
    "duration": 62,
    "start_time": "2023-11-26T16:57:40.797Z"
   },
   {
    "duration": 32,
    "start_time": "2023-11-26T16:57:40.861Z"
   },
   {
    "duration": 23,
    "start_time": "2023-11-26T16:57:40.897Z"
   },
   {
    "duration": 30,
    "start_time": "2023-11-26T16:57:40.922Z"
   },
   {
    "duration": 21,
    "start_time": "2023-11-26T16:57:40.954Z"
   },
   {
    "duration": 18,
    "start_time": "2023-11-26T16:57:40.976Z"
   },
   {
    "duration": 17,
    "start_time": "2023-11-26T16:57:40.995Z"
   },
   {
    "duration": 58,
    "start_time": "2023-11-26T16:57:41.014Z"
   },
   {
    "duration": 371,
    "start_time": "2023-11-26T16:57:41.074Z"
   },
   {
    "duration": 15,
    "start_time": "2023-11-26T16:57:41.447Z"
   },
   {
    "duration": 35,
    "start_time": "2023-11-26T16:57:41.464Z"
   },
   {
    "duration": 26,
    "start_time": "2023-11-26T16:57:41.500Z"
   },
   {
    "duration": 52,
    "start_time": "2023-11-26T16:57:41.527Z"
   },
   {
    "duration": 51,
    "start_time": "2023-11-26T16:57:41.581Z"
   },
   {
    "duration": 40,
    "start_time": "2023-11-26T16:57:41.634Z"
   },
   {
    "duration": 53,
    "start_time": "2023-11-26T16:57:41.675Z"
   },
   {
    "duration": 24,
    "start_time": "2023-11-26T16:57:41.730Z"
   },
   {
    "duration": 7,
    "start_time": "2023-11-26T16:57:41.755Z"
   },
   {
    "duration": 101,
    "start_time": "2023-11-26T16:57:41.763Z"
   },
   {
    "duration": 42,
    "start_time": "2023-11-26T16:57:41.866Z"
   },
   {
    "duration": 10,
    "start_time": "2023-11-26T16:57:41.910Z"
   },
   {
    "duration": 31,
    "start_time": "2023-11-26T16:57:41.922Z"
   },
   {
    "duration": 13,
    "start_time": "2023-11-26T16:57:41.955Z"
   },
   {
    "duration": 0,
    "start_time": "2023-11-26T16:57:41.970Z"
   },
   {
    "duration": 38,
    "start_time": "2023-11-26T16:59:49.886Z"
   },
   {
    "duration": 6,
    "start_time": "2023-11-26T16:59:58.087Z"
   },
   {
    "duration": 88,
    "start_time": "2023-11-26T16:59:58.812Z"
   },
   {
    "duration": 40,
    "start_time": "2023-11-26T16:59:59.617Z"
   },
   {
    "duration": 7,
    "start_time": "2023-11-26T17:00:01.216Z"
   },
   {
    "duration": 44,
    "start_time": "2023-11-26T17:00:33.397Z"
   },
   {
    "duration": 8,
    "start_time": "2023-11-26T17:00:53.293Z"
   },
   {
    "duration": 5,
    "start_time": "2023-11-26T17:03:50.376Z"
   },
   {
    "duration": 4,
    "start_time": "2023-11-26T17:03:54.534Z"
   },
   {
    "duration": 8,
    "start_time": "2023-11-26T17:03:56.738Z"
   },
   {
    "duration": 5,
    "start_time": "2023-11-26T17:04:03.025Z"
   },
   {
    "duration": 42,
    "start_time": "2023-11-26T17:04:32.075Z"
   },
   {
    "duration": 10,
    "start_time": "2023-11-26T17:04:43.145Z"
   },
   {
    "duration": 42,
    "start_time": "2023-11-26T17:05:31.684Z"
   },
   {
    "duration": 8,
    "start_time": "2023-11-26T17:05:37.076Z"
   },
   {
    "duration": 4,
    "start_time": "2023-11-26T17:05:55.270Z"
   },
   {
    "duration": 171,
    "start_time": "2023-11-26T17:05:55.276Z"
   },
   {
    "duration": 8,
    "start_time": "2023-11-26T17:05:55.449Z"
   },
   {
    "duration": 20,
    "start_time": "2023-11-26T17:05:55.458Z"
   },
   {
    "duration": 3,
    "start_time": "2023-11-26T17:05:55.480Z"
   },
   {
    "duration": 16,
    "start_time": "2023-11-26T17:05:55.484Z"
   },
   {
    "duration": 5,
    "start_time": "2023-11-26T17:05:55.501Z"
   },
   {
    "duration": 90,
    "start_time": "2023-11-26T17:05:55.508Z"
   },
   {
    "duration": 75,
    "start_time": "2023-11-26T17:05:55.599Z"
   },
   {
    "duration": 95,
    "start_time": "2023-11-26T17:05:55.675Z"
   },
   {
    "duration": 29,
    "start_time": "2023-11-26T17:05:55.771Z"
   },
   {
    "duration": 57,
    "start_time": "2023-11-26T17:05:55.801Z"
   },
   {
    "duration": 27,
    "start_time": "2023-11-26T17:05:55.860Z"
   },
   {
    "duration": 23,
    "start_time": "2023-11-26T17:05:55.889Z"
   },
   {
    "duration": 6,
    "start_time": "2023-11-26T17:05:55.914Z"
   },
   {
    "duration": 39,
    "start_time": "2023-11-26T17:05:55.921Z"
   },
   {
    "duration": 17,
    "start_time": "2023-11-26T17:05:55.962Z"
   },
   {
    "duration": 28,
    "start_time": "2023-11-26T17:05:55.981Z"
   },
   {
    "duration": 43,
    "start_time": "2023-11-26T17:05:56.011Z"
   },
   {
    "duration": 387,
    "start_time": "2023-11-26T17:05:56.055Z"
   },
   {
    "duration": 16,
    "start_time": "2023-11-26T17:05:56.443Z"
   },
   {
    "duration": 28,
    "start_time": "2023-11-26T17:05:56.460Z"
   },
   {
    "duration": 22,
    "start_time": "2023-11-26T17:05:56.490Z"
   },
   {
    "duration": 49,
    "start_time": "2023-11-26T17:05:56.514Z"
   },
   {
    "duration": 54,
    "start_time": "2023-11-26T17:05:56.564Z"
   },
   {
    "duration": 35,
    "start_time": "2023-11-26T17:05:56.619Z"
   },
   {
    "duration": 46,
    "start_time": "2023-11-26T17:05:56.656Z"
   },
   {
    "duration": 7,
    "start_time": "2023-11-26T17:05:56.704Z"
   },
   {
    "duration": 6,
    "start_time": "2023-11-26T17:05:56.713Z"
   },
   {
    "duration": 124,
    "start_time": "2023-11-26T17:05:56.720Z"
   },
   {
    "duration": 41,
    "start_time": "2023-11-26T17:05:56.846Z"
   },
   {
    "duration": 12,
    "start_time": "2023-11-26T17:05:56.889Z"
   },
   {
    "duration": 10,
    "start_time": "2023-11-26T17:05:56.903Z"
   },
   {
    "duration": 43,
    "start_time": "2023-11-26T17:06:08.889Z"
   },
   {
    "duration": 8,
    "start_time": "2023-11-26T17:06:12.340Z"
   },
   {
    "duration": 4,
    "start_time": "2023-11-26T17:06:20.276Z"
   },
   {
    "duration": 159,
    "start_time": "2023-11-26T17:06:20.283Z"
   },
   {
    "duration": 14,
    "start_time": "2023-11-26T17:06:20.444Z"
   },
   {
    "duration": 32,
    "start_time": "2023-11-26T17:06:20.460Z"
   },
   {
    "duration": 3,
    "start_time": "2023-11-26T17:06:20.494Z"
   },
   {
    "duration": 24,
    "start_time": "2023-11-26T17:06:20.498Z"
   },
   {
    "duration": 16,
    "start_time": "2023-11-26T17:06:20.523Z"
   },
   {
    "duration": 73,
    "start_time": "2023-11-26T17:06:20.541Z"
   },
   {
    "duration": 102,
    "start_time": "2023-11-26T17:06:20.615Z"
   },
   {
    "duration": 93,
    "start_time": "2023-11-26T17:06:20.719Z"
   },
   {
    "duration": 30,
    "start_time": "2023-11-26T17:06:20.814Z"
   },
   {
    "duration": 42,
    "start_time": "2023-11-26T17:06:20.851Z"
   },
   {
    "duration": 28,
    "start_time": "2023-11-26T17:06:20.895Z"
   },
   {
    "duration": 43,
    "start_time": "2023-11-26T17:06:20.925Z"
   },
   {
    "duration": 8,
    "start_time": "2023-11-26T17:06:20.970Z"
   },
   {
    "duration": 33,
    "start_time": "2023-11-26T17:06:20.979Z"
   },
   {
    "duration": 20,
    "start_time": "2023-11-26T17:06:21.013Z"
   },
   {
    "duration": 21,
    "start_time": "2023-11-26T17:06:21.034Z"
   },
   {
    "duration": 38,
    "start_time": "2023-11-26T17:06:21.057Z"
   },
   {
    "duration": 371,
    "start_time": "2023-11-26T17:06:21.096Z"
   },
   {
    "duration": 12,
    "start_time": "2023-11-26T17:06:21.469Z"
   },
   {
    "duration": 29,
    "start_time": "2023-11-26T17:06:21.482Z"
   },
   {
    "duration": 26,
    "start_time": "2023-11-26T17:06:21.513Z"
   },
   {
    "duration": 29,
    "start_time": "2023-11-26T17:06:21.551Z"
   },
   {
    "duration": 56,
    "start_time": "2023-11-26T17:06:21.581Z"
   },
   {
    "duration": 24,
    "start_time": "2023-11-26T17:06:21.651Z"
   },
   {
    "duration": 67,
    "start_time": "2023-11-26T17:06:21.677Z"
   },
   {
    "duration": 11,
    "start_time": "2023-11-26T17:06:21.745Z"
   },
   {
    "duration": 7,
    "start_time": "2023-11-26T17:06:21.757Z"
   },
   {
    "duration": 97,
    "start_time": "2023-11-26T17:06:21.765Z"
   },
   {
    "duration": 103,
    "start_time": "2023-11-26T17:06:21.863Z"
   },
   {
    "duration": 28,
    "start_time": "2023-11-26T17:06:21.968Z"
   },
   {
    "duration": 33,
    "start_time": "2023-11-26T17:06:21.997Z"
   },
   {
    "duration": 14,
    "start_time": "2023-11-26T17:06:22.032Z"
   },
   {
    "duration": 30,
    "start_time": "2023-11-26T17:06:22.048Z"
   },
   {
    "duration": 0,
    "start_time": "2023-11-26T17:06:22.079Z"
   },
   {
    "duration": 8,
    "start_time": "2023-11-26T17:06:29.810Z"
   },
   {
    "duration": 37,
    "start_time": "2023-11-26T17:06:33.789Z"
   },
   {
    "duration": 8,
    "start_time": "2023-11-26T17:06:35.700Z"
   },
   {
    "duration": 5,
    "start_time": "2023-11-26T17:07:25.571Z"
   },
   {
    "duration": 7,
    "start_time": "2023-11-26T17:07:26.600Z"
   },
   {
    "duration": 3,
    "start_time": "2023-11-26T17:07:32.199Z"
   },
   {
    "duration": 205,
    "start_time": "2023-11-26T17:07:32.204Z"
   },
   {
    "duration": 7,
    "start_time": "2023-11-26T17:07:32.410Z"
   },
   {
    "duration": 34,
    "start_time": "2023-11-26T17:07:32.419Z"
   },
   {
    "duration": 14,
    "start_time": "2023-11-26T17:07:32.455Z"
   },
   {
    "duration": 38,
    "start_time": "2023-11-26T17:07:32.470Z"
   },
   {
    "duration": 20,
    "start_time": "2023-11-26T17:07:32.510Z"
   },
   {
    "duration": 79,
    "start_time": "2023-11-26T17:07:32.531Z"
   },
   {
    "duration": 88,
    "start_time": "2023-11-26T17:07:32.612Z"
   },
   {
    "duration": 90,
    "start_time": "2023-11-26T17:07:32.702Z"
   },
   {
    "duration": 31,
    "start_time": "2023-11-26T17:07:32.794Z"
   },
   {
    "duration": 56,
    "start_time": "2023-11-26T17:07:32.827Z"
   },
   {
    "duration": 29,
    "start_time": "2023-11-26T17:07:32.884Z"
   },
   {
    "duration": 39,
    "start_time": "2023-11-26T17:07:32.916Z"
   },
   {
    "duration": 8,
    "start_time": "2023-11-26T17:07:32.956Z"
   },
   {
    "duration": 20,
    "start_time": "2023-11-26T17:07:32.966Z"
   },
   {
    "duration": 16,
    "start_time": "2023-11-26T17:07:32.987Z"
   },
   {
    "duration": 16,
    "start_time": "2023-11-26T17:07:33.005Z"
   },
   {
    "duration": 41,
    "start_time": "2023-11-26T17:07:33.051Z"
   },
   {
    "duration": 358,
    "start_time": "2023-11-26T17:07:33.094Z"
   },
   {
    "duration": 12,
    "start_time": "2023-11-26T17:07:33.453Z"
   },
   {
    "duration": 29,
    "start_time": "2023-11-26T17:07:33.466Z"
   },
   {
    "duration": 22,
    "start_time": "2023-11-26T17:07:33.497Z"
   },
   {
    "duration": 50,
    "start_time": "2023-11-26T17:07:33.521Z"
   },
   {
    "duration": 56,
    "start_time": "2023-11-26T17:07:33.572Z"
   },
   {
    "duration": 34,
    "start_time": "2023-11-26T17:07:33.629Z"
   },
   {
    "duration": 54,
    "start_time": "2023-11-26T17:07:33.665Z"
   },
   {
    "duration": 8,
    "start_time": "2023-11-26T17:07:33.721Z"
   },
   {
    "duration": 26,
    "start_time": "2023-11-26T17:07:33.731Z"
   },
   {
    "duration": 104,
    "start_time": "2023-11-26T17:07:33.758Z"
   },
   {
    "duration": 41,
    "start_time": "2023-11-26T17:07:33.864Z"
   },
   {
    "duration": 5,
    "start_time": "2023-11-26T17:07:33.907Z"
   },
   {
    "duration": 4,
    "start_time": "2023-11-26T17:07:33.914Z"
   },
   {
    "duration": 32,
    "start_time": "2023-11-26T17:07:33.920Z"
   },
   {
    "duration": 6,
    "start_time": "2023-11-26T17:08:23.970Z"
   },
   {
    "duration": 9,
    "start_time": "2023-11-26T17:08:28.803Z"
   },
   {
    "duration": 6,
    "start_time": "2023-11-26T17:15:25.366Z"
   },
   {
    "duration": 8,
    "start_time": "2023-11-26T17:15:37.917Z"
   },
   {
    "duration": 8,
    "start_time": "2023-11-26T17:15:44.635Z"
   },
   {
    "duration": 5,
    "start_time": "2023-11-26T17:18:32.397Z"
   },
   {
    "duration": 179,
    "start_time": "2023-11-26T17:18:32.403Z"
   },
   {
    "duration": 7,
    "start_time": "2023-11-26T17:18:32.584Z"
   },
   {
    "duration": 40,
    "start_time": "2023-11-26T17:18:32.592Z"
   },
   {
    "duration": 3,
    "start_time": "2023-11-26T17:18:32.635Z"
   },
   {
    "duration": 29,
    "start_time": "2023-11-26T17:18:32.639Z"
   },
   {
    "duration": 39,
    "start_time": "2023-11-26T17:18:32.669Z"
   },
   {
    "duration": 71,
    "start_time": "2023-11-26T17:18:32.709Z"
   },
   {
    "duration": 102,
    "start_time": "2023-11-26T17:18:32.781Z"
   },
   {
    "duration": 91,
    "start_time": "2023-11-26T17:18:32.884Z"
   },
   {
    "duration": 36,
    "start_time": "2023-11-26T17:18:32.976Z"
   },
   {
    "duration": 62,
    "start_time": "2023-11-26T17:18:33.014Z"
   },
   {
    "duration": 29,
    "start_time": "2023-11-26T17:18:33.078Z"
   },
   {
    "duration": 27,
    "start_time": "2023-11-26T17:18:33.109Z"
   },
   {
    "duration": 7,
    "start_time": "2023-11-26T17:18:33.151Z"
   },
   {
    "duration": 21,
    "start_time": "2023-11-26T17:18:33.159Z"
   },
   {
    "duration": 19,
    "start_time": "2023-11-26T17:18:33.181Z"
   },
   {
    "duration": 18,
    "start_time": "2023-11-26T17:18:33.201Z"
   },
   {
    "duration": 63,
    "start_time": "2023-11-26T17:18:33.220Z"
   },
   {
    "duration": 367,
    "start_time": "2023-11-26T17:18:33.285Z"
   },
   {
    "duration": 12,
    "start_time": "2023-11-26T17:18:33.653Z"
   },
   {
    "duration": 35,
    "start_time": "2023-11-26T17:18:33.666Z"
   },
   {
    "duration": 31,
    "start_time": "2023-11-26T17:18:33.703Z"
   },
   {
    "duration": 36,
    "start_time": "2023-11-26T17:18:33.736Z"
   },
   {
    "duration": 54,
    "start_time": "2023-11-26T17:18:33.773Z"
   },
   {
    "duration": 31,
    "start_time": "2023-11-26T17:18:33.829Z"
   },
   {
    "duration": 63,
    "start_time": "2023-11-26T17:18:33.861Z"
   },
   {
    "duration": 8,
    "start_time": "2023-11-26T17:18:33.926Z"
   },
   {
    "duration": 6,
    "start_time": "2023-11-26T17:18:33.935Z"
   },
   {
    "duration": 88,
    "start_time": "2023-11-26T17:18:33.952Z"
   },
   {
    "duration": 47,
    "start_time": "2023-11-26T17:18:34.042Z"
   },
   {
    "duration": 10,
    "start_time": "2023-11-26T17:18:34.090Z"
   },
   {
    "duration": 7,
    "start_time": "2023-11-26T17:18:34.102Z"
   },
   {
    "duration": 8,
    "start_time": "2023-11-26T17:18:34.111Z"
   },
   {
    "duration": 44,
    "start_time": "2023-11-26T17:18:34.121Z"
   },
   {
    "duration": 0,
    "start_time": "2023-11-26T17:18:34.166Z"
   },
   {
    "duration": 7,
    "start_time": "2023-11-26T17:21:24.856Z"
   },
   {
    "duration": 4,
    "start_time": "2023-11-26T17:22:09.992Z"
   },
   {
    "duration": 7,
    "start_time": "2023-11-26T17:22:14.293Z"
   },
   {
    "duration": 14,
    "start_time": "2023-11-26T17:23:36.216Z"
   },
   {
    "duration": 3,
    "start_time": "2023-11-26T17:24:22.478Z"
   },
   {
    "duration": 6,
    "start_time": "2023-11-26T17:24:28.790Z"
   },
   {
    "duration": 4,
    "start_time": "2023-11-26T17:24:49.947Z"
   },
   {
    "duration": 169,
    "start_time": "2023-11-26T17:24:49.953Z"
   },
   {
    "duration": 6,
    "start_time": "2023-11-26T17:24:50.123Z"
   },
   {
    "duration": 33,
    "start_time": "2023-11-26T17:24:50.131Z"
   },
   {
    "duration": 13,
    "start_time": "2023-11-26T17:24:50.166Z"
   },
   {
    "duration": 21,
    "start_time": "2023-11-26T17:24:50.181Z"
   },
   {
    "duration": 15,
    "start_time": "2023-11-26T17:24:50.203Z"
   },
   {
    "duration": 70,
    "start_time": "2023-11-26T17:24:50.219Z"
   },
   {
    "duration": 80,
    "start_time": "2023-11-26T17:24:50.291Z"
   },
   {
    "duration": 101,
    "start_time": "2023-11-26T17:24:50.373Z"
   },
   {
    "duration": 29,
    "start_time": "2023-11-26T17:24:50.475Z"
   },
   {
    "duration": 57,
    "start_time": "2023-11-26T17:24:50.505Z"
   },
   {
    "duration": 26,
    "start_time": "2023-11-26T17:24:50.563Z"
   },
   {
    "duration": 22,
    "start_time": "2023-11-26T17:24:50.592Z"
   },
   {
    "duration": 14,
    "start_time": "2023-11-26T17:24:50.615Z"
   },
   {
    "duration": 29,
    "start_time": "2023-11-26T17:24:50.630Z"
   },
   {
    "duration": 17,
    "start_time": "2023-11-26T17:24:50.661Z"
   },
   {
    "duration": 23,
    "start_time": "2023-11-26T17:24:50.680Z"
   },
   {
    "duration": 49,
    "start_time": "2023-11-26T17:24:50.704Z"
   },
   {
    "duration": 363,
    "start_time": "2023-11-26T17:24:50.755Z"
   },
   {
    "duration": 13,
    "start_time": "2023-11-26T17:24:51.119Z"
   },
   {
    "duration": 46,
    "start_time": "2023-11-26T17:24:51.133Z"
   },
   {
    "duration": 24,
    "start_time": "2023-11-26T17:24:51.181Z"
   },
   {
    "duration": 27,
    "start_time": "2023-11-26T17:24:51.206Z"
   },
   {
    "duration": 65,
    "start_time": "2023-11-26T17:24:51.234Z"
   },
   {
    "duration": 24,
    "start_time": "2023-11-26T17:24:51.300Z"
   },
   {
    "duration": 56,
    "start_time": "2023-11-26T17:24:51.326Z"
   },
   {
    "duration": 7,
    "start_time": "2023-11-26T17:24:51.384Z"
   },
   {
    "duration": 21,
    "start_time": "2023-11-26T17:24:51.392Z"
   },
   {
    "duration": 97,
    "start_time": "2023-11-26T17:24:51.415Z"
   },
   {
    "duration": 45,
    "start_time": "2023-11-26T17:24:51.513Z"
   },
   {
    "duration": 5,
    "start_time": "2023-11-26T17:24:51.559Z"
   },
   {
    "duration": 29,
    "start_time": "2023-11-26T17:24:51.566Z"
   },
   {
    "duration": 17,
    "start_time": "2023-11-26T17:24:51.597Z"
   },
   {
    "duration": 47,
    "start_time": "2023-11-26T17:24:51.615Z"
   },
   {
    "duration": 15,
    "start_time": "2023-11-26T17:24:51.663Z"
   },
   {
    "duration": 18,
    "start_time": "2023-11-26T17:24:51.679Z"
   },
   {
    "duration": 0,
    "start_time": "2023-11-26T17:24:51.698Z"
   },
   {
    "duration": 1196,
    "start_time": "2023-11-26T17:43:37.406Z"
   },
   {
    "duration": 10,
    "start_time": "2023-11-26T17:43:48.392Z"
   },
   {
    "duration": 169,
    "start_time": "2023-11-26T17:43:59.300Z"
   },
   {
    "duration": 11,
    "start_time": "2023-11-26T17:44:28.181Z"
   },
   {
    "duration": 4,
    "start_time": "2023-11-26T17:48:28.466Z"
   },
   {
    "duration": 163,
    "start_time": "2023-11-26T17:48:28.471Z"
   },
   {
    "duration": 7,
    "start_time": "2023-11-26T17:48:28.635Z"
   },
   {
    "duration": 17,
    "start_time": "2023-11-26T17:48:28.652Z"
   },
   {
    "duration": 3,
    "start_time": "2023-11-26T17:48:28.670Z"
   },
   {
    "duration": 14,
    "start_time": "2023-11-26T17:48:28.674Z"
   },
   {
    "duration": 5,
    "start_time": "2023-11-26T17:48:28.690Z"
   },
   {
    "duration": 82,
    "start_time": "2023-11-26T17:48:28.696Z"
   },
   {
    "duration": 84,
    "start_time": "2023-11-26T17:48:28.780Z"
   },
   {
    "duration": 96,
    "start_time": "2023-11-26T17:48:28.866Z"
   },
   {
    "duration": 29,
    "start_time": "2023-11-26T17:48:28.963Z"
   },
   {
    "duration": 59,
    "start_time": "2023-11-26T17:48:28.994Z"
   },
   {
    "duration": 37,
    "start_time": "2023-11-26T17:48:29.054Z"
   },
   {
    "duration": 23,
    "start_time": "2023-11-26T17:48:29.092Z"
   },
   {
    "duration": 7,
    "start_time": "2023-11-26T17:48:29.116Z"
   },
   {
    "duration": 40,
    "start_time": "2023-11-26T17:48:29.125Z"
   },
   {
    "duration": 18,
    "start_time": "2023-11-26T17:48:29.167Z"
   },
   {
    "duration": 17,
    "start_time": "2023-11-26T17:48:29.187Z"
   },
   {
    "duration": 66,
    "start_time": "2023-11-26T17:48:29.206Z"
   },
   {
    "duration": 353,
    "start_time": "2023-11-26T17:48:29.274Z"
   },
   {
    "duration": 12,
    "start_time": "2023-11-26T17:48:29.629Z"
   },
   {
    "duration": 37,
    "start_time": "2023-11-26T17:48:29.643Z"
   },
   {
    "duration": 22,
    "start_time": "2023-11-26T17:48:29.681Z"
   },
   {
    "duration": 47,
    "start_time": "2023-11-26T17:48:29.706Z"
   },
   {
    "duration": 49,
    "start_time": "2023-11-26T17:48:29.754Z"
   },
   {
    "duration": 24,
    "start_time": "2023-11-26T17:48:29.804Z"
   },
   {
    "duration": 62,
    "start_time": "2023-11-26T17:48:29.829Z"
   },
   {
    "duration": 7,
    "start_time": "2023-11-26T17:48:29.893Z"
   },
   {
    "duration": 5,
    "start_time": "2023-11-26T17:48:29.902Z"
   },
   {
    "duration": 97,
    "start_time": "2023-11-26T17:48:29.909Z"
   },
   {
    "duration": 45,
    "start_time": "2023-11-26T17:48:30.008Z"
   },
   {
    "duration": 30,
    "start_time": "2023-11-26T17:48:30.055Z"
   },
   {
    "duration": 29,
    "start_time": "2023-11-26T17:48:30.086Z"
   },
   {
    "duration": 22,
    "start_time": "2023-11-26T17:48:30.117Z"
   },
   {
    "duration": 24,
    "start_time": "2023-11-26T17:48:30.141Z"
   },
   {
    "duration": 22,
    "start_time": "2023-11-26T17:48:30.167Z"
   },
   {
    "duration": 5,
    "start_time": "2023-11-26T17:48:39.920Z"
   },
   {
    "duration": 7,
    "start_time": "2023-11-26T17:48:41.200Z"
   },
   {
    "duration": 8,
    "start_time": "2023-11-26T17:49:41.890Z"
   },
   {
    "duration": 73,
    "start_time": "2023-11-26T17:49:43.161Z"
   },
   {
    "duration": 27,
    "start_time": "2023-11-26T17:49:44.094Z"
   },
   {
    "duration": 6,
    "start_time": "2023-11-26T17:49:45.321Z"
   },
   {
    "duration": 6,
    "start_time": "2023-11-26T17:49:55.471Z"
   },
   {
    "duration": 9,
    "start_time": "2023-11-26T17:49:58.397Z"
   },
   {
    "duration": 7,
    "start_time": "2023-11-26T17:50:24.746Z"
   },
   {
    "duration": 7,
    "start_time": "2023-11-26T17:50:26.160Z"
   },
   {
    "duration": 7,
    "start_time": "2023-11-26T17:50:27.911Z"
   },
   {
    "duration": 27,
    "start_time": "2023-11-26T17:50:29.491Z"
   },
   {
    "duration": 9,
    "start_time": "2023-11-26T17:50:30.261Z"
   },
   {
    "duration": 8,
    "start_time": "2023-11-26T17:50:31.280Z"
   },
   {
    "duration": 7,
    "start_time": "2023-11-26T17:51:30.953Z"
   },
   {
    "duration": 8,
    "start_time": "2023-11-26T17:51:32.125Z"
   },
   {
    "duration": 9,
    "start_time": "2023-11-26T17:52:00.315Z"
   },
   {
    "duration": 8,
    "start_time": "2023-11-26T17:52:01.216Z"
   },
   {
    "duration": 4,
    "start_time": "2023-11-26T17:52:37.129Z"
   },
   {
    "duration": 179,
    "start_time": "2023-11-26T17:52:37.135Z"
   },
   {
    "duration": 8,
    "start_time": "2023-11-26T17:52:37.316Z"
   },
   {
    "duration": 26,
    "start_time": "2023-11-26T17:52:37.326Z"
   },
   {
    "duration": 3,
    "start_time": "2023-11-26T17:52:37.355Z"
   },
   {
    "duration": 18,
    "start_time": "2023-11-26T17:52:37.360Z"
   },
   {
    "duration": 6,
    "start_time": "2023-11-26T17:52:37.379Z"
   },
   {
    "duration": 78,
    "start_time": "2023-11-26T17:52:37.386Z"
   },
   {
    "duration": 81,
    "start_time": "2023-11-26T17:52:37.465Z"
   },
   {
    "duration": 85,
    "start_time": "2023-11-26T17:52:37.552Z"
   },
   {
    "duration": 38,
    "start_time": "2023-11-26T17:52:37.639Z"
   },
   {
    "duration": 41,
    "start_time": "2023-11-26T17:52:37.678Z"
   },
   {
    "duration": 46,
    "start_time": "2023-11-26T17:52:37.720Z"
   },
   {
    "duration": 23,
    "start_time": "2023-11-26T17:52:37.769Z"
   },
   {
    "duration": 6,
    "start_time": "2023-11-26T17:52:37.793Z"
   },
   {
    "duration": 19,
    "start_time": "2023-11-26T17:52:37.800Z"
   },
   {
    "duration": 37,
    "start_time": "2023-11-26T17:52:37.821Z"
   },
   {
    "duration": 17,
    "start_time": "2023-11-26T17:52:37.859Z"
   },
   {
    "duration": 38,
    "start_time": "2023-11-26T17:52:37.877Z"
   },
   {
    "duration": 463,
    "start_time": "2023-11-26T17:52:37.917Z"
   },
   {
    "duration": 13,
    "start_time": "2023-11-26T17:52:38.381Z"
   },
   {
    "duration": 38,
    "start_time": "2023-11-26T17:52:38.396Z"
   },
   {
    "duration": 29,
    "start_time": "2023-11-26T17:52:38.436Z"
   },
   {
    "duration": 30,
    "start_time": "2023-11-26T17:52:38.466Z"
   },
   {
    "duration": 67,
    "start_time": "2023-11-26T17:52:38.498Z"
   },
   {
    "duration": 24,
    "start_time": "2023-11-26T17:52:38.566Z"
   },
   {
    "duration": 60,
    "start_time": "2023-11-26T17:52:38.592Z"
   },
   {
    "duration": 8,
    "start_time": "2023-11-26T17:52:38.653Z"
   },
   {
    "duration": 6,
    "start_time": "2023-11-26T17:52:38.663Z"
   },
   {
    "duration": 107,
    "start_time": "2023-11-26T17:52:38.670Z"
   },
   {
    "duration": 39,
    "start_time": "2023-11-26T17:52:38.779Z"
   },
   {
    "duration": 8,
    "start_time": "2023-11-26T17:52:38.820Z"
   },
   {
    "duration": 17,
    "start_time": "2023-11-26T17:52:38.829Z"
   },
   {
    "duration": 11,
    "start_time": "2023-11-26T17:53:53.593Z"
   },
   {
    "duration": 13,
    "start_time": "2023-11-26T17:55:04.520Z"
   },
   {
    "duration": 12,
    "start_time": "2023-11-26T17:55:19.358Z"
   },
   {
    "duration": 1202,
    "start_time": "2023-11-26T17:56:07.305Z"
   },
   {
    "duration": 15,
    "start_time": "2023-11-26T17:56:20.627Z"
   },
   {
    "duration": 10,
    "start_time": "2023-11-26T17:56:31.451Z"
   },
   {
    "duration": 10,
    "start_time": "2023-11-26T17:56:43.158Z"
   },
   {
    "duration": 10,
    "start_time": "2023-11-26T17:57:31.579Z"
   },
   {
    "duration": 8,
    "start_time": "2023-11-26T17:57:33.360Z"
   },
   {
    "duration": 4,
    "start_time": "2023-11-26T17:57:52.556Z"
   },
   {
    "duration": 3,
    "start_time": "2023-11-26T17:57:58.230Z"
   },
   {
    "duration": 13,
    "start_time": "2023-11-26T17:59:38.992Z"
   },
   {
    "duration": 6,
    "start_time": "2023-11-26T18:00:12.836Z"
   },
   {
    "duration": 9,
    "start_time": "2023-11-26T18:00:15.348Z"
   },
   {
    "duration": 7,
    "start_time": "2023-11-26T18:03:58.650Z"
   },
   {
    "duration": 6,
    "start_time": "2023-11-26T18:04:30.874Z"
   },
   {
    "duration": 6,
    "start_time": "2023-11-26T18:05:38.281Z"
   },
   {
    "duration": 79,
    "start_time": "2023-11-26T18:06:15.856Z"
   },
   {
    "duration": 4,
    "start_time": "2023-11-26T18:06:38.107Z"
   },
   {
    "duration": 3,
    "start_time": "2023-11-26T18:07:05.083Z"
   },
   {
    "duration": 3,
    "start_time": "2023-11-26T18:07:12.316Z"
   },
   {
    "duration": 4,
    "start_time": "2023-11-26T18:08:16.285Z"
   },
   {
    "duration": 5,
    "start_time": "2023-11-26T18:08:33.095Z"
   },
   {
    "duration": 8,
    "start_time": "2023-11-26T18:08:35.231Z"
   },
   {
    "duration": 4,
    "start_time": "2023-11-26T18:08:49.621Z"
   },
   {
    "duration": 186,
    "start_time": "2023-11-26T18:08:49.628Z"
   },
   {
    "duration": 8,
    "start_time": "2023-11-26T18:08:49.815Z"
   },
   {
    "duration": 34,
    "start_time": "2023-11-26T18:08:49.825Z"
   },
   {
    "duration": 3,
    "start_time": "2023-11-26T18:08:49.861Z"
   },
   {
    "duration": 18,
    "start_time": "2023-11-26T18:08:49.866Z"
   },
   {
    "duration": 6,
    "start_time": "2023-11-26T18:08:49.886Z"
   },
   {
    "duration": 88,
    "start_time": "2023-11-26T18:08:49.894Z"
   },
   {
    "duration": 84,
    "start_time": "2023-11-26T18:08:49.984Z"
   },
   {
    "duration": 94,
    "start_time": "2023-11-26T18:08:50.069Z"
   },
   {
    "duration": 29,
    "start_time": "2023-11-26T18:08:50.164Z"
   },
   {
    "duration": 57,
    "start_time": "2023-11-26T18:08:50.195Z"
   },
   {
    "duration": 27,
    "start_time": "2023-11-26T18:08:50.254Z"
   },
   {
    "duration": 24,
    "start_time": "2023-11-26T18:08:50.282Z"
   },
   {
    "duration": 10,
    "start_time": "2023-11-26T18:08:50.308Z"
   },
   {
    "duration": 33,
    "start_time": "2023-11-26T18:08:50.319Z"
   },
   {
    "duration": 17,
    "start_time": "2023-11-26T18:08:50.353Z"
   },
   {
    "duration": 23,
    "start_time": "2023-11-26T18:08:50.372Z"
   },
   {
    "duration": 35,
    "start_time": "2023-11-26T18:08:50.397Z"
   },
   {
    "duration": 367,
    "start_time": "2023-11-26T18:08:50.433Z"
   },
   {
    "duration": 12,
    "start_time": "2023-11-26T18:08:50.801Z"
   },
   {
    "duration": 39,
    "start_time": "2023-11-26T18:08:50.814Z"
   },
   {
    "duration": 22,
    "start_time": "2023-11-26T18:08:50.855Z"
   },
   {
    "duration": 32,
    "start_time": "2023-11-26T18:08:50.881Z"
   },
   {
    "duration": 66,
    "start_time": "2023-11-26T18:08:50.915Z"
   },
   {
    "duration": 23,
    "start_time": "2023-11-26T18:08:50.983Z"
   },
   {
    "duration": 61,
    "start_time": "2023-11-26T18:08:51.007Z"
   },
   {
    "duration": 7,
    "start_time": "2023-11-26T18:08:51.069Z"
   },
   {
    "duration": 10,
    "start_time": "2023-11-26T18:08:51.078Z"
   },
   {
    "duration": 113,
    "start_time": "2023-11-26T18:08:51.089Z"
   },
   {
    "duration": 39,
    "start_time": "2023-11-26T18:08:51.203Z"
   },
   {
    "duration": 6,
    "start_time": "2023-11-26T18:08:51.251Z"
   },
   {
    "duration": 21,
    "start_time": "2023-11-26T18:08:51.258Z"
   },
   {
    "duration": 16,
    "start_time": "2023-11-26T18:08:51.280Z"
   },
   {
    "duration": 13,
    "start_time": "2023-11-26T18:08:51.297Z"
   },
   {
    "duration": 8,
    "start_time": "2023-11-26T18:08:51.311Z"
   },
   {
    "duration": 1202,
    "start_time": "2023-11-26T18:08:51.320Z"
   },
   {
    "duration": 5,
    "start_time": "2023-11-26T18:09:14.676Z"
   },
   {
    "duration": 9,
    "start_time": "2023-11-26T18:09:16.375Z"
   },
   {
    "duration": 67,
    "start_time": "2023-11-26T18:10:50.811Z"
   },
   {
    "duration": 6,
    "start_time": "2023-11-26T18:11:18.300Z"
   },
   {
    "duration": 7,
    "start_time": "2023-11-26T18:11:20.906Z"
   },
   {
    "duration": 11,
    "start_time": "2023-11-26T18:13:46.108Z"
   },
   {
    "duration": 35,
    "start_time": "2023-11-26T18:14:12.090Z"
   },
   {
    "duration": 8,
    "start_time": "2023-11-26T18:15:02.731Z"
   },
   {
    "duration": 10,
    "start_time": "2023-11-26T18:15:20.858Z"
   },
   {
    "duration": 31,
    "start_time": "2023-11-26T18:32:48.148Z"
   },
   {
    "duration": 10,
    "start_time": "2023-11-26T18:33:20.928Z"
   },
   {
    "duration": 9,
    "start_time": "2023-11-26T18:33:29.151Z"
   },
   {
    "duration": 5,
    "start_time": "2023-11-26T18:33:34.682Z"
   },
   {
    "duration": 4,
    "start_time": "2023-11-26T18:33:53.477Z"
   },
   {
    "duration": 28,
    "start_time": "2023-11-26T18:35:55.441Z"
   },
   {
    "duration": 9,
    "start_time": "2023-11-26T18:36:19.710Z"
   },
   {
    "duration": 16,
    "start_time": "2023-11-26T18:36:33.491Z"
   },
   {
    "duration": 17,
    "start_time": "2023-11-26T18:36:53.011Z"
   },
   {
    "duration": 22,
    "start_time": "2023-11-26T18:37:36.825Z"
   },
   {
    "duration": 116,
    "start_time": "2023-11-26T18:37:52.455Z"
   },
   {
    "duration": 10,
    "start_time": "2023-11-26T18:37:57.156Z"
   },
   {
    "duration": 82,
    "start_time": "2023-11-26T18:38:54.961Z"
   },
   {
    "duration": 10,
    "start_time": "2023-11-26T18:40:14.318Z"
   },
   {
    "duration": 10,
    "start_time": "2023-11-26T18:40:19.359Z"
   },
   {
    "duration": 69,
    "start_time": "2023-11-26T18:40:31.337Z"
   },
   {
    "duration": 20,
    "start_time": "2023-11-26T18:41:09.517Z"
   },
   {
    "duration": 9,
    "start_time": "2023-11-26T18:41:57.878Z"
   },
   {
    "duration": 9,
    "start_time": "2023-11-26T18:42:01.315Z"
   },
   {
    "duration": 3,
    "start_time": "2023-11-26T18:42:24.012Z"
   },
   {
    "duration": 15,
    "start_time": "2023-11-26T18:43:47.426Z"
   },
   {
    "duration": 6,
    "start_time": "2023-11-26T18:43:52.035Z"
   },
   {
    "duration": 4,
    "start_time": "2023-11-26T18:44:16.131Z"
   },
   {
    "duration": 163,
    "start_time": "2023-11-26T18:44:16.136Z"
   },
   {
    "duration": 6,
    "start_time": "2023-11-26T18:44:16.301Z"
   },
   {
    "duration": 21,
    "start_time": "2023-11-26T18:44:16.308Z"
   },
   {
    "duration": 3,
    "start_time": "2023-11-26T18:44:16.331Z"
   },
   {
    "duration": 31,
    "start_time": "2023-11-26T18:44:16.336Z"
   },
   {
    "duration": 7,
    "start_time": "2023-11-26T18:44:16.369Z"
   },
   {
    "duration": 87,
    "start_time": "2023-11-26T18:44:16.377Z"
   },
   {
    "duration": 95,
    "start_time": "2023-11-26T18:44:16.466Z"
   },
   {
    "duration": 103,
    "start_time": "2023-11-26T18:44:16.563Z"
   },
   {
    "duration": 30,
    "start_time": "2023-11-26T18:44:16.667Z"
   },
   {
    "duration": 58,
    "start_time": "2023-11-26T18:44:16.699Z"
   },
   {
    "duration": 29,
    "start_time": "2023-11-26T18:44:16.759Z"
   },
   {
    "duration": 25,
    "start_time": "2023-11-26T18:44:16.792Z"
   },
   {
    "duration": 35,
    "start_time": "2023-11-26T18:44:16.819Z"
   },
   {
    "duration": 20,
    "start_time": "2023-11-26T18:44:16.855Z"
   },
   {
    "duration": 16,
    "start_time": "2023-11-26T18:44:16.876Z"
   },
   {
    "duration": 17,
    "start_time": "2023-11-26T18:44:16.894Z"
   },
   {
    "duration": 55,
    "start_time": "2023-11-26T18:44:16.912Z"
   },
   {
    "duration": 381,
    "start_time": "2023-11-26T18:44:16.969Z"
   },
   {
    "duration": 13,
    "start_time": "2023-11-26T18:44:17.352Z"
   },
   {
    "duration": 30,
    "start_time": "2023-11-26T18:44:17.366Z"
   },
   {
    "duration": 22,
    "start_time": "2023-11-26T18:44:17.398Z"
   },
   {
    "duration": 48,
    "start_time": "2023-11-26T18:44:17.421Z"
   },
   {
    "duration": 48,
    "start_time": "2023-11-26T18:44:17.470Z"
   },
   {
    "duration": 36,
    "start_time": "2023-11-26T18:44:17.519Z"
   },
   {
    "duration": 48,
    "start_time": "2023-11-26T18:44:17.556Z"
   },
   {
    "duration": 8,
    "start_time": "2023-11-26T18:44:17.605Z"
   },
   {
    "duration": 7,
    "start_time": "2023-11-26T18:44:17.614Z"
   },
   {
    "duration": 111,
    "start_time": "2023-11-26T18:44:17.622Z"
   },
   {
    "duration": 45,
    "start_time": "2023-11-26T18:44:17.734Z"
   },
   {
    "duration": 6,
    "start_time": "2023-11-26T18:44:17.780Z"
   },
   {
    "duration": 6,
    "start_time": "2023-11-26T18:44:17.787Z"
   },
   {
    "duration": 19,
    "start_time": "2023-11-26T18:44:17.794Z"
   },
   {
    "duration": 11,
    "start_time": "2023-11-26T18:44:17.815Z"
   },
   {
    "duration": 14,
    "start_time": "2023-11-26T18:44:17.827Z"
   },
   {
    "duration": 12,
    "start_time": "2023-11-26T18:44:17.843Z"
   },
   {
    "duration": 23,
    "start_time": "2023-11-26T18:44:17.857Z"
   },
   {
    "duration": 20,
    "start_time": "2023-11-26T18:44:17.882Z"
   },
   {
    "duration": 14,
    "start_time": "2023-11-26T18:44:17.903Z"
   },
   {
    "duration": 20,
    "start_time": "2023-11-26T18:44:17.920Z"
   },
   {
    "duration": 20,
    "start_time": "2023-11-26T18:45:00.098Z"
   },
   {
    "duration": 52,
    "start_time": "2023-11-29T19:39:08.570Z"
   },
   {
    "duration": 1429,
    "start_time": "2023-11-29T19:39:12.359Z"
   },
   {
    "duration": 520,
    "start_time": "2023-11-29T19:39:13.790Z"
   },
   {
    "duration": 11,
    "start_time": "2023-11-29T19:39:14.311Z"
   },
   {
    "duration": 25,
    "start_time": "2023-11-29T19:39:14.324Z"
   },
   {
    "duration": 3,
    "start_time": "2023-11-29T19:39:14.350Z"
   },
   {
    "duration": 36,
    "start_time": "2023-11-29T19:39:14.355Z"
   },
   {
    "duration": 13,
    "start_time": "2023-11-29T19:39:14.393Z"
   },
   {
    "duration": 75,
    "start_time": "2023-11-29T19:39:14.408Z"
   },
   {
    "duration": 106,
    "start_time": "2023-11-29T19:39:14.485Z"
   },
   {
    "duration": 129,
    "start_time": "2023-11-29T19:39:14.595Z"
   },
   {
    "duration": 33,
    "start_time": "2023-11-29T19:39:14.726Z"
   },
   {
    "duration": 68,
    "start_time": "2023-11-29T19:39:14.761Z"
   },
   {
    "duration": 31,
    "start_time": "2023-11-29T19:39:14.830Z"
   },
   {
    "duration": 27,
    "start_time": "2023-11-29T19:39:14.862Z"
   },
   {
    "duration": 7,
    "start_time": "2023-11-29T19:39:14.907Z"
   },
   {
    "duration": 24,
    "start_time": "2023-11-29T19:39:14.915Z"
   },
   {
    "duration": 19,
    "start_time": "2023-11-29T19:39:14.940Z"
   },
   {
    "duration": 46,
    "start_time": "2023-11-29T19:39:14.961Z"
   },
   {
    "duration": 42,
    "start_time": "2023-11-29T19:39:15.009Z"
   },
   {
    "duration": 454,
    "start_time": "2023-11-29T19:39:15.053Z"
   },
   {
    "duration": 14,
    "start_time": "2023-11-29T19:39:15.509Z"
   },
   {
    "duration": 41,
    "start_time": "2023-11-29T19:39:15.524Z"
   },
   {
    "duration": 25,
    "start_time": "2023-11-29T19:39:15.566Z"
   },
   {
    "duration": 44,
    "start_time": "2023-11-29T19:39:15.592Z"
   },
   {
    "duration": 72,
    "start_time": "2023-11-29T19:39:15.638Z"
   },
   {
    "duration": 28,
    "start_time": "2023-11-29T19:39:15.711Z"
   },
   {
    "duration": 83,
    "start_time": "2023-11-29T19:39:15.741Z"
   },
   {
    "duration": 8,
    "start_time": "2023-11-29T19:39:15.827Z"
   },
   {
    "duration": 14,
    "start_time": "2023-11-29T19:39:15.837Z"
   },
   {
    "duration": 129,
    "start_time": "2023-11-29T19:39:15.853Z"
   },
   {
    "duration": 46,
    "start_time": "2023-11-29T19:39:15.984Z"
   },
   {
    "duration": 28,
    "start_time": "2023-11-29T19:39:16.032Z"
   },
   {
    "duration": 8,
    "start_time": "2023-11-29T19:39:16.061Z"
   },
   {
    "duration": 27,
    "start_time": "2023-11-29T19:39:16.071Z"
   },
   {
    "duration": 18,
    "start_time": "2023-11-29T19:39:16.100Z"
   },
   {
    "duration": 10,
    "start_time": "2023-11-29T19:39:16.119Z"
   },
   {
    "duration": 10,
    "start_time": "2023-11-29T19:39:16.131Z"
   },
   {
    "duration": 13,
    "start_time": "2023-11-29T19:39:16.143Z"
   },
   {
    "duration": 21,
    "start_time": "2023-11-29T19:39:16.158Z"
   },
   {
    "duration": 4,
    "start_time": "2023-11-29T19:39:16.181Z"
   },
   {
    "duration": 80,
    "start_time": "2023-11-29T19:39:16.187Z"
   },
   {
    "duration": 38,
    "start_time": "2023-11-29T19:40:01.292Z"
   },
   {
    "duration": 41,
    "start_time": "2023-11-29T19:40:17.260Z"
   },
   {
    "duration": 13,
    "start_time": "2023-11-29T19:40:31.379Z"
   },
   {
    "duration": 17,
    "start_time": "2023-11-29T19:40:55.944Z"
   },
   {
    "duration": 19,
    "start_time": "2023-11-29T19:41:00.465Z"
   },
   {
    "duration": 17,
    "start_time": "2023-11-29T19:45:21.139Z"
   },
   {
    "duration": 20,
    "start_time": "2023-11-29T19:45:27.617Z"
   },
   {
    "duration": 28,
    "start_time": "2023-11-29T19:48:36.738Z"
   },
   {
    "duration": 17,
    "start_time": "2023-11-29T19:48:57.470Z"
   },
   {
    "duration": 10,
    "start_time": "2023-11-29T19:49:14.746Z"
   },
   {
    "duration": 18,
    "start_time": "2023-11-29T19:49:20.689Z"
   },
   {
    "duration": 10,
    "start_time": "2023-11-29T19:49:21.632Z"
   },
   {
    "duration": 5,
    "start_time": "2023-11-29T19:49:52.616Z"
   },
   {
    "duration": 4,
    "start_time": "2023-11-29T19:50:18.430Z"
   },
   {
    "duration": 10,
    "start_time": "2023-11-29T19:50:46.994Z"
   },
   {
    "duration": 16,
    "start_time": "2023-11-29T19:51:18.591Z"
   },
   {
    "duration": 6,
    "start_time": "2023-11-29T19:51:29.184Z"
   },
   {
    "duration": 18,
    "start_time": "2023-11-29T19:51:43.208Z"
   },
   {
    "duration": 15,
    "start_time": "2023-11-29T19:51:43.254Z"
   },
   {
    "duration": 17,
    "start_time": "2023-11-29T19:51:45.544Z"
   },
   {
    "duration": 14,
    "start_time": "2023-11-29T19:51:53.578Z"
   },
   {
    "duration": 6,
    "start_time": "2023-11-29T19:51:56.364Z"
   },
   {
    "duration": 11,
    "start_time": "2023-11-29T19:53:06.604Z"
   },
   {
    "duration": 11,
    "start_time": "2023-11-29T19:53:42.426Z"
   },
   {
    "duration": 5,
    "start_time": "2023-11-29T19:53:52.513Z"
   },
   {
    "duration": 672,
    "start_time": "2023-11-29T19:53:58.526Z"
   },
   {
    "duration": 5,
    "start_time": "2023-11-29T19:54:07.286Z"
   },
   {
    "duration": 5,
    "start_time": "2023-11-29T19:54:22.208Z"
   },
   {
    "duration": 6,
    "start_time": "2023-11-29T19:55:19.392Z"
   },
   {
    "duration": 6,
    "start_time": "2023-11-29T19:55:25.090Z"
   },
   {
    "duration": 11,
    "start_time": "2023-11-29T19:55:39.754Z"
   },
   {
    "duration": 4,
    "start_time": "2023-11-29T19:56:02.820Z"
   },
   {
    "duration": 13,
    "start_time": "2023-11-29T19:56:11.158Z"
   },
   {
    "duration": 12,
    "start_time": "2023-11-29T19:56:22.763Z"
   },
   {
    "duration": 13,
    "start_time": "2023-11-29T19:56:40.281Z"
   },
   {
    "duration": 19,
    "start_time": "2023-11-29T19:58:24.229Z"
   },
   {
    "duration": 23,
    "start_time": "2023-11-29T19:58:34.783Z"
   },
   {
    "duration": 5,
    "start_time": "2023-11-29T20:00:21.992Z"
   },
   {
    "duration": 12,
    "start_time": "2023-11-29T20:11:45.243Z"
   },
   {
    "duration": 5,
    "start_time": "2023-11-29T20:27:50.952Z"
   },
   {
    "duration": 45,
    "start_time": "2023-11-29T20:29:23.012Z"
   },
   {
    "duration": 199,
    "start_time": "2023-11-29T20:29:34.394Z"
   },
   {
    "duration": 8,
    "start_time": "2023-11-29T20:29:47.413Z"
   },
   {
    "duration": 5,
    "start_time": "2023-11-29T20:30:34.862Z"
   },
   {
    "duration": 195,
    "start_time": "2023-11-29T20:30:34.869Z"
   },
   {
    "duration": 7,
    "start_time": "2023-11-29T20:30:35.066Z"
   },
   {
    "duration": 43,
    "start_time": "2023-11-29T20:30:35.075Z"
   },
   {
    "duration": 4,
    "start_time": "2023-11-29T20:30:35.120Z"
   },
   {
    "duration": 19,
    "start_time": "2023-11-29T20:30:35.126Z"
   },
   {
    "duration": 19,
    "start_time": "2023-11-29T20:30:35.146Z"
   },
   {
    "duration": 94,
    "start_time": "2023-11-29T20:30:35.167Z"
   },
   {
    "duration": 103,
    "start_time": "2023-11-29T20:30:35.263Z"
   },
   {
    "duration": 122,
    "start_time": "2023-11-29T20:30:35.368Z"
   },
   {
    "duration": 39,
    "start_time": "2023-11-29T20:30:35.493Z"
   },
   {
    "duration": 55,
    "start_time": "2023-11-29T20:30:35.533Z"
   },
   {
    "duration": 45,
    "start_time": "2023-11-29T20:30:35.590Z"
   },
   {
    "duration": 28,
    "start_time": "2023-11-29T20:30:35.637Z"
   },
   {
    "duration": 20,
    "start_time": "2023-11-29T20:30:35.667Z"
   },
   {
    "duration": 47,
    "start_time": "2023-11-29T20:30:35.689Z"
   },
   {
    "duration": 30,
    "start_time": "2023-11-29T20:30:35.738Z"
   },
   {
    "duration": 51,
    "start_time": "2023-11-29T20:30:35.770Z"
   },
   {
    "duration": 68,
    "start_time": "2023-11-29T20:30:35.823Z"
   },
   {
    "duration": 509,
    "start_time": "2023-11-29T20:30:35.894Z"
   },
   {
    "duration": 13,
    "start_time": "2023-11-29T20:30:36.404Z"
   },
   {
    "duration": 60,
    "start_time": "2023-11-29T20:30:36.419Z"
   },
   {
    "duration": 26,
    "start_time": "2023-11-29T20:30:36.481Z"
   },
   {
    "duration": 45,
    "start_time": "2023-11-29T20:30:36.509Z"
   },
   {
    "duration": 58,
    "start_time": "2023-11-29T20:30:36.557Z"
   },
   {
    "duration": 29,
    "start_time": "2023-11-29T20:30:36.617Z"
   },
   {
    "duration": 79,
    "start_time": "2023-11-29T20:30:36.648Z"
   },
   {
    "duration": 10,
    "start_time": "2023-11-29T20:30:36.729Z"
   },
   {
    "duration": 8,
    "start_time": "2023-11-29T20:30:36.742Z"
   },
   {
    "duration": 113,
    "start_time": "2023-11-29T20:30:36.752Z"
   },
   {
    "duration": 53,
    "start_time": "2023-11-29T20:30:36.867Z"
   },
   {
    "duration": 9,
    "start_time": "2023-11-29T20:30:36.921Z"
   },
   {
    "duration": 18,
    "start_time": "2023-11-29T20:30:36.931Z"
   },
   {
    "duration": 21,
    "start_time": "2023-11-29T20:30:36.951Z"
   },
   {
    "duration": 8,
    "start_time": "2023-11-29T20:30:36.973Z"
   },
   {
    "duration": 25,
    "start_time": "2023-11-29T20:30:36.982Z"
   },
   {
    "duration": 11,
    "start_time": "2023-11-29T20:30:37.008Z"
   },
   {
    "duration": 14,
    "start_time": "2023-11-29T20:30:37.021Z"
   },
   {
    "duration": 23,
    "start_time": "2023-11-29T20:30:37.037Z"
   },
   {
    "duration": 3,
    "start_time": "2023-11-29T20:30:37.062Z"
   },
   {
    "duration": 17,
    "start_time": "2023-11-29T20:30:37.066Z"
   },
   {
    "duration": 23,
    "start_time": "2023-11-29T20:30:37.085Z"
   },
   {
    "duration": 204,
    "start_time": "2023-11-29T20:30:37.110Z"
   },
   {
    "duration": 7,
    "start_time": "2023-11-29T20:30:37.316Z"
   },
   {
    "duration": 27,
    "start_time": "2023-11-29T20:30:37.324Z"
   },
   {
    "duration": 18,
    "start_time": "2023-11-29T20:30:37.353Z"
   },
   {
    "duration": 48,
    "start_time": "2023-11-29T20:30:37.373Z"
   },
   {
    "duration": 16,
    "start_time": "2023-11-29T20:31:03.144Z"
   },
   {
    "duration": 14,
    "start_time": "2023-11-29T20:31:04.935Z"
   },
   {
    "duration": 5,
    "start_time": "2023-11-29T20:31:06.469Z"
   },
   {
    "duration": 199,
    "start_time": "2023-11-29T20:31:07.169Z"
   },
   {
    "duration": 8,
    "start_time": "2023-11-29T20:31:08.788Z"
   },
   {
    "duration": 112,
    "start_time": "2023-11-29T20:46:34.028Z"
   },
   {
    "duration": 4,
    "start_time": "2023-11-29T20:46:42.592Z"
   },
   {
    "duration": 212,
    "start_time": "2023-11-29T20:47:27.864Z"
   },
   {
    "duration": 8,
    "start_time": "2023-11-29T20:47:54.232Z"
   },
   {
    "duration": 4,
    "start_time": "2023-11-29T20:50:27.419Z"
   },
   {
    "duration": 205,
    "start_time": "2023-11-29T20:50:27.425Z"
   },
   {
    "duration": 8,
    "start_time": "2023-11-29T20:50:27.632Z"
   },
   {
    "duration": 34,
    "start_time": "2023-11-29T20:50:27.641Z"
   },
   {
    "duration": 3,
    "start_time": "2023-11-29T20:50:27.677Z"
   },
   {
    "duration": 25,
    "start_time": "2023-11-29T20:50:27.682Z"
   },
   {
    "duration": 6,
    "start_time": "2023-11-29T20:50:27.709Z"
   },
   {
    "duration": 96,
    "start_time": "2023-11-29T20:50:27.717Z"
   },
   {
    "duration": 92,
    "start_time": "2023-11-29T20:50:27.815Z"
   },
   {
    "duration": 113,
    "start_time": "2023-11-29T20:50:27.909Z"
   },
   {
    "duration": 39,
    "start_time": "2023-11-29T20:50:28.026Z"
   },
   {
    "duration": 80,
    "start_time": "2023-11-29T20:50:28.067Z"
   },
   {
    "duration": 31,
    "start_time": "2023-11-29T20:50:28.149Z"
   },
   {
    "duration": 34,
    "start_time": "2023-11-29T20:50:28.182Z"
   },
   {
    "duration": 20,
    "start_time": "2023-11-29T20:50:28.218Z"
   },
   {
    "duration": 31,
    "start_time": "2023-11-29T20:50:28.240Z"
   },
   {
    "duration": 20,
    "start_time": "2023-11-29T20:50:28.273Z"
   },
   {
    "duration": 32,
    "start_time": "2023-11-29T20:50:28.294Z"
   },
   {
    "duration": 59,
    "start_time": "2023-11-29T20:50:28.328Z"
   },
   {
    "duration": 426,
    "start_time": "2023-11-29T20:50:28.389Z"
   },
   {
    "duration": 15,
    "start_time": "2023-11-29T20:50:28.817Z"
   },
   {
    "duration": 32,
    "start_time": "2023-11-29T20:50:28.833Z"
   },
   {
    "duration": 43,
    "start_time": "2023-11-29T20:50:28.867Z"
   },
   {
    "duration": 32,
    "start_time": "2023-11-29T20:50:28.912Z"
   },
   {
    "duration": 71,
    "start_time": "2023-11-29T20:50:28.946Z"
   },
   {
    "duration": 27,
    "start_time": "2023-11-29T20:50:29.019Z"
   },
   {
    "duration": 74,
    "start_time": "2023-11-29T20:50:29.047Z"
   },
   {
    "duration": 9,
    "start_time": "2023-11-29T20:50:29.122Z"
   },
   {
    "duration": 7,
    "start_time": "2023-11-29T20:50:29.135Z"
   },
   {
    "duration": 115,
    "start_time": "2023-11-29T20:50:29.144Z"
   },
   {
    "duration": 48,
    "start_time": "2023-11-29T20:50:29.261Z"
   },
   {
    "duration": 8,
    "start_time": "2023-11-29T20:50:29.310Z"
   },
   {
    "duration": 8,
    "start_time": "2023-11-29T20:50:29.319Z"
   },
   {
    "duration": 22,
    "start_time": "2023-11-29T20:50:29.329Z"
   },
   {
    "duration": 20,
    "start_time": "2023-11-29T20:50:29.353Z"
   },
   {
    "duration": 15,
    "start_time": "2023-11-29T20:50:29.374Z"
   },
   {
    "duration": 10,
    "start_time": "2023-11-29T20:50:29.390Z"
   },
   {
    "duration": 5,
    "start_time": "2023-11-29T20:50:29.402Z"
   },
   {
    "duration": 18,
    "start_time": "2023-11-29T20:50:29.409Z"
   },
   {
    "duration": 2,
    "start_time": "2023-11-29T20:50:29.429Z"
   },
   {
    "duration": 21,
    "start_time": "2023-11-29T20:50:29.433Z"
   },
   {
    "duration": 93,
    "start_time": "2023-11-29T20:50:29.456Z"
   },
   {
    "duration": 0,
    "start_time": "2023-11-29T20:50:29.551Z"
   },
   {
    "duration": 0,
    "start_time": "2023-11-29T20:50:29.552Z"
   },
   {
    "duration": 0,
    "start_time": "2023-11-29T20:50:29.553Z"
   },
   {
    "duration": 0,
    "start_time": "2023-11-29T20:50:29.554Z"
   },
   {
    "duration": 0,
    "start_time": "2023-11-29T20:50:29.556Z"
   },
   {
    "duration": 1,
    "start_time": "2023-11-29T20:50:29.556Z"
   },
   {
    "duration": 0,
    "start_time": "2023-11-29T20:50:29.558Z"
   },
   {
    "duration": 1,
    "start_time": "2023-11-29T20:50:29.558Z"
   },
   {
    "duration": 4,
    "start_time": "2023-11-29T20:50:41.973Z"
   },
   {
    "duration": 204,
    "start_time": "2023-11-29T20:50:41.979Z"
   },
   {
    "duration": 23,
    "start_time": "2023-11-29T20:50:42.185Z"
   },
   {
    "duration": 34,
    "start_time": "2023-11-29T20:50:42.209Z"
   },
   {
    "duration": 26,
    "start_time": "2023-11-29T20:50:42.245Z"
   },
   {
    "duration": 30,
    "start_time": "2023-11-29T20:50:42.273Z"
   },
   {
    "duration": 6,
    "start_time": "2023-11-29T20:50:42.306Z"
   },
   {
    "duration": 74,
    "start_time": "2023-11-29T20:50:42.314Z"
   },
   {
    "duration": 99,
    "start_time": "2023-11-29T20:50:42.390Z"
   },
   {
    "duration": 103,
    "start_time": "2023-11-29T20:50:42.491Z"
   },
   {
    "duration": 37,
    "start_time": "2023-11-29T20:50:42.597Z"
   },
   {
    "duration": 50,
    "start_time": "2023-11-29T20:50:42.636Z"
   },
   {
    "duration": 45,
    "start_time": "2023-11-29T20:50:42.688Z"
   },
   {
    "duration": 27,
    "start_time": "2023-11-29T20:50:42.735Z"
   },
   {
    "duration": 15,
    "start_time": "2023-11-29T20:50:42.764Z"
   },
   {
    "duration": 42,
    "start_time": "2023-11-29T20:50:42.780Z"
   },
   {
    "duration": 23,
    "start_time": "2023-11-29T20:50:42.824Z"
   },
   {
    "duration": 21,
    "start_time": "2023-11-29T20:50:42.849Z"
   },
   {
    "duration": 59,
    "start_time": "2023-11-29T20:50:42.871Z"
   },
   {
    "duration": 426,
    "start_time": "2023-11-29T20:50:42.932Z"
   },
   {
    "duration": 14,
    "start_time": "2023-11-29T20:50:43.360Z"
   },
   {
    "duration": 43,
    "start_time": "2023-11-29T20:50:43.376Z"
   },
   {
    "duration": 27,
    "start_time": "2023-11-29T20:50:43.421Z"
   },
   {
    "duration": 33,
    "start_time": "2023-11-29T20:50:43.450Z"
   },
   {
    "duration": 79,
    "start_time": "2023-11-29T20:50:43.485Z"
   },
   {
    "duration": 46,
    "start_time": "2023-11-29T20:50:43.567Z"
   },
   {
    "duration": 54,
    "start_time": "2023-11-29T20:50:43.615Z"
   },
   {
    "duration": 8,
    "start_time": "2023-11-29T20:50:43.671Z"
   },
   {
    "duration": 26,
    "start_time": "2023-11-29T20:50:43.683Z"
   },
   {
    "duration": 102,
    "start_time": "2023-11-29T20:50:43.711Z"
   },
   {
    "duration": 41,
    "start_time": "2023-11-29T20:50:43.815Z"
   },
   {
    "duration": 22,
    "start_time": "2023-11-29T20:50:43.858Z"
   },
   {
    "duration": 11,
    "start_time": "2023-11-29T20:50:43.881Z"
   },
   {
    "duration": 13,
    "start_time": "2023-11-29T20:50:43.894Z"
   },
   {
    "duration": 5,
    "start_time": "2023-11-29T20:50:43.909Z"
   },
   {
    "duration": 8,
    "start_time": "2023-11-29T20:50:43.916Z"
   },
   {
    "duration": 9,
    "start_time": "2023-11-29T20:50:43.925Z"
   },
   {
    "duration": 4,
    "start_time": "2023-11-29T20:50:43.936Z"
   },
   {
    "duration": 15,
    "start_time": "2023-11-29T20:50:43.942Z"
   },
   {
    "duration": 3,
    "start_time": "2023-11-29T20:50:43.958Z"
   },
   {
    "duration": 44,
    "start_time": "2023-11-29T20:50:43.962Z"
   },
   {
    "duration": 4,
    "start_time": "2023-11-29T20:50:44.008Z"
   },
   {
    "duration": 10,
    "start_time": "2023-11-29T20:50:44.013Z"
   },
   {
    "duration": 9,
    "start_time": "2023-11-29T20:50:44.024Z"
   },
   {
    "duration": 210,
    "start_time": "2023-11-29T20:50:44.035Z"
   },
   {
    "duration": 195,
    "start_time": "2023-11-29T20:50:44.246Z"
   },
   {
    "duration": 7,
    "start_time": "2023-11-29T20:50:44.443Z"
   },
   {
    "duration": 28,
    "start_time": "2023-11-29T20:50:44.451Z"
   },
   {
    "duration": 33,
    "start_time": "2023-11-29T20:50:44.480Z"
   },
   {
    "duration": 32,
    "start_time": "2023-11-29T20:50:44.514Z"
   },
   {
    "duration": 199,
    "start_time": "2023-11-29T20:51:25.323Z"
   },
   {
    "duration": 200,
    "start_time": "2023-11-29T20:51:36.019Z"
   },
   {
    "duration": 208,
    "start_time": "2023-11-29T20:51:42.508Z"
   },
   {
    "duration": 46,
    "start_time": "2023-11-30T18:36:45.871Z"
   },
   {
    "duration": 1293,
    "start_time": "2023-11-30T18:36:50.245Z"
   },
   {
    "duration": 505,
    "start_time": "2023-11-30T18:36:51.539Z"
   },
   {
    "duration": 10,
    "start_time": "2023-11-30T18:36:52.046Z"
   },
   {
    "duration": 28,
    "start_time": "2023-11-30T18:36:52.057Z"
   },
   {
    "duration": 7,
    "start_time": "2023-11-30T18:36:52.086Z"
   },
   {
    "duration": 39,
    "start_time": "2023-11-30T18:36:52.094Z"
   },
   {
    "duration": 19,
    "start_time": "2023-11-30T18:36:52.135Z"
   },
   {
    "duration": 70,
    "start_time": "2023-11-30T18:36:52.155Z"
   },
   {
    "duration": 129,
    "start_time": "2023-11-30T18:36:52.227Z"
   },
   {
    "duration": 114,
    "start_time": "2023-11-30T18:36:52.358Z"
   },
   {
    "duration": 31,
    "start_time": "2023-11-30T18:36:52.474Z"
   },
   {
    "duration": 64,
    "start_time": "2023-11-30T18:36:52.507Z"
   },
   {
    "duration": 28,
    "start_time": "2023-11-30T18:36:52.573Z"
   },
   {
    "duration": 32,
    "start_time": "2023-11-30T18:36:52.602Z"
   },
   {
    "duration": 19,
    "start_time": "2023-11-30T18:36:52.636Z"
   },
   {
    "duration": 24,
    "start_time": "2023-11-30T18:36:52.657Z"
   },
   {
    "duration": 18,
    "start_time": "2023-11-30T18:36:52.683Z"
   },
   {
    "duration": 68,
    "start_time": "2023-11-30T18:36:52.703Z"
   },
   {
    "duration": 51,
    "start_time": "2023-11-30T18:36:52.772Z"
   },
   {
    "duration": 381,
    "start_time": "2023-11-30T18:36:52.824Z"
   },
   {
    "duration": 12,
    "start_time": "2023-11-30T18:36:53.207Z"
   },
   {
    "duration": 35,
    "start_time": "2023-11-30T18:36:53.220Z"
   },
   {
    "duration": 22,
    "start_time": "2023-11-30T18:36:53.257Z"
   },
   {
    "duration": 43,
    "start_time": "2023-11-30T18:36:53.280Z"
   },
   {
    "duration": 61,
    "start_time": "2023-11-30T18:36:53.325Z"
   },
   {
    "duration": 22,
    "start_time": "2023-11-30T18:36:53.388Z"
   },
   {
    "duration": 70,
    "start_time": "2023-11-30T18:36:53.411Z"
   },
   {
    "duration": 9,
    "start_time": "2023-11-30T18:36:53.485Z"
   },
   {
    "duration": 7,
    "start_time": "2023-11-30T18:36:53.496Z"
   },
   {
    "duration": 112,
    "start_time": "2023-11-30T18:36:53.505Z"
   },
   {
    "duration": 46,
    "start_time": "2023-11-30T18:36:53.618Z"
   },
   {
    "duration": 6,
    "start_time": "2023-11-30T18:36:53.665Z"
   },
   {
    "duration": 9,
    "start_time": "2023-11-30T18:36:53.672Z"
   },
   {
    "duration": 10,
    "start_time": "2023-11-30T18:36:53.682Z"
   },
   {
    "duration": 7,
    "start_time": "2023-11-30T18:36:53.693Z"
   },
   {
    "duration": 8,
    "start_time": "2023-11-30T18:36:53.702Z"
   },
   {
    "duration": 8,
    "start_time": "2023-11-30T18:36:53.711Z"
   },
   {
    "duration": 55,
    "start_time": "2023-11-30T18:36:53.720Z"
   },
   {
    "duration": 4,
    "start_time": "2023-11-30T18:36:53.777Z"
   },
   {
    "duration": 18,
    "start_time": "2023-11-30T18:36:53.782Z"
   },
   {
    "duration": 10,
    "start_time": "2023-11-30T18:36:53.801Z"
   },
   {
    "duration": 14,
    "start_time": "2023-11-30T18:36:53.812Z"
   },
   {
    "duration": 4,
    "start_time": "2023-11-30T18:36:53.827Z"
   },
   {
    "duration": 7,
    "start_time": "2023-11-30T18:36:53.832Z"
   },
   {
    "duration": 181,
    "start_time": "2023-11-30T18:36:53.852Z"
   },
   {
    "duration": 34,
    "start_time": "2023-11-30T18:36:54.034Z"
   },
   {
    "duration": 2,
    "start_time": "2023-11-30T18:39:49.690Z"
   },
   {
    "duration": 5,
    "start_time": "2023-11-30T18:40:34.446Z"
   },
   {
    "duration": 66,
    "start_time": "2023-11-30T18:41:42.678Z"
   },
   {
    "duration": 4,
    "start_time": "2023-11-30T18:42:12.448Z"
   },
   {
    "duration": 24,
    "start_time": "2023-11-30T18:42:36.631Z"
   },
   {
    "duration": 2,
    "start_time": "2023-11-30T18:43:08.337Z"
   },
   {
    "duration": 3,
    "start_time": "2023-11-30T18:43:52.166Z"
   },
   {
    "duration": 5,
    "start_time": "2023-11-30T18:44:14.956Z"
   },
   {
    "duration": 6,
    "start_time": "2023-11-30T18:44:19.075Z"
   },
   {
    "duration": 26,
    "start_time": "2023-11-30T18:45:26.546Z"
   },
   {
    "duration": 6,
    "start_time": "2023-11-30T18:45:29.552Z"
   },
   {
    "duration": 25,
    "start_time": "2023-11-30T18:47:59.381Z"
   },
   {
    "duration": 69,
    "start_time": "2023-11-30T18:48:02.253Z"
   },
   {
    "duration": 12,
    "start_time": "2023-11-30T18:49:12.218Z"
   },
   {
    "duration": 99,
    "start_time": "2023-11-30T18:50:37.376Z"
   },
   {
    "duration": 1228,
    "start_time": "2023-11-30T18:50:43.965Z"
   },
   {
    "duration": 14,
    "start_time": "2023-11-30T18:51:02.950Z"
   },
   {
    "duration": 22,
    "start_time": "2023-11-30T18:51:17.139Z"
   },
   {
    "duration": 67,
    "start_time": "2023-11-30T18:59:15.429Z"
   },
   {
    "duration": 23,
    "start_time": "2023-11-30T18:59:20.472Z"
   },
   {
    "duration": 180,
    "start_time": "2023-11-30T18:59:34.893Z"
   },
   {
    "duration": 181,
    "start_time": "2023-11-30T18:59:48.074Z"
   },
   {
    "duration": 1254,
    "start_time": "2023-11-30T19:01:14.940Z"
   },
   {
    "duration": 5,
    "start_time": "2023-11-30T19:01:24.569Z"
   },
   {
    "duration": 10,
    "start_time": "2023-11-30T19:04:02.711Z"
   },
   {
    "duration": 10,
    "start_time": "2023-11-30T19:05:19.291Z"
   },
   {
    "duration": 6,
    "start_time": "2023-11-30T19:05:54.854Z"
   },
   {
    "duration": 15,
    "start_time": "2023-11-30T19:06:32.543Z"
   },
   {
    "duration": 11,
    "start_time": "2023-11-30T19:06:54.890Z"
   },
   {
    "duration": 5,
    "start_time": "2023-11-30T19:11:37.964Z"
   },
   {
    "duration": 8,
    "start_time": "2023-11-30T19:11:52.726Z"
   },
   {
    "duration": 6,
    "start_time": "2023-11-30T19:12:01.706Z"
   },
   {
    "duration": 11,
    "start_time": "2023-11-30T19:12:12.537Z"
   },
   {
    "duration": 12,
    "start_time": "2023-11-30T19:13:02.582Z"
   },
   {
    "duration": 3,
    "start_time": "2023-11-30T19:14:08.502Z"
   },
   {
    "duration": 102,
    "start_time": "2023-11-30T19:15:07.612Z"
   },
   {
    "duration": 19,
    "start_time": "2023-11-30T19:15:19.998Z"
   },
   {
    "duration": 14,
    "start_time": "2023-11-30T19:15:24.829Z"
   },
   {
    "duration": 4,
    "start_time": "2023-11-30T19:15:37.746Z"
   },
   {
    "duration": 21,
    "start_time": "2023-11-30T19:15:45.014Z"
   },
   {
    "duration": 211,
    "start_time": "2023-11-30T19:15:47.090Z"
   },
   {
    "duration": 5,
    "start_time": "2023-11-30T19:16:16.134Z"
   },
   {
    "duration": 12,
    "start_time": "2023-11-30T19:16:18.521Z"
   },
   {
    "duration": 11,
    "start_time": "2023-11-30T19:16:19.651Z"
   },
   {
    "duration": 3,
    "start_time": "2023-11-30T19:16:23.145Z"
   },
   {
    "duration": 6,
    "start_time": "2023-11-30T19:16:23.847Z"
   },
   {
    "duration": 170,
    "start_time": "2023-11-30T19:16:24.734Z"
   },
   {
    "duration": 13,
    "start_time": "2023-11-30T19:33:25.924Z"
   },
   {
    "duration": 3,
    "start_time": "2023-11-30T19:33:38.125Z"
   },
   {
    "duration": 4,
    "start_time": "2023-11-30T19:33:46.691Z"
   },
   {
    "duration": 210,
    "start_time": "2023-11-30T19:33:46.697Z"
   },
   {
    "duration": 7,
    "start_time": "2023-11-30T19:33:46.909Z"
   },
   {
    "duration": 47,
    "start_time": "2023-11-30T19:33:46.918Z"
   },
   {
    "duration": 2,
    "start_time": "2023-11-30T19:33:46.967Z"
   },
   {
    "duration": 32,
    "start_time": "2023-11-30T19:33:46.971Z"
   },
   {
    "duration": 11,
    "start_time": "2023-11-30T19:33:47.004Z"
   },
   {
    "duration": 75,
    "start_time": "2023-11-30T19:33:47.016Z"
   },
   {
    "duration": 99,
    "start_time": "2023-11-30T19:33:47.093Z"
   },
   {
    "duration": 109,
    "start_time": "2023-11-30T19:33:47.193Z"
   },
   {
    "duration": 33,
    "start_time": "2023-11-30T19:33:47.306Z"
   },
   {
    "duration": 48,
    "start_time": "2023-11-30T19:33:47.351Z"
   },
   {
    "duration": 55,
    "start_time": "2023-11-30T19:33:47.401Z"
   },
   {
    "duration": 24,
    "start_time": "2023-11-30T19:33:47.458Z"
   },
   {
    "duration": 7,
    "start_time": "2023-11-30T19:33:47.484Z"
   },
   {
    "duration": 30,
    "start_time": "2023-11-30T19:33:47.493Z"
   },
   {
    "duration": 33,
    "start_time": "2023-11-30T19:33:47.525Z"
   },
   {
    "duration": 18,
    "start_time": "2023-11-30T19:33:47.560Z"
   },
   {
    "duration": 50,
    "start_time": "2023-11-30T19:33:47.579Z"
   },
   {
    "duration": 378,
    "start_time": "2023-11-30T19:33:47.630Z"
   },
   {
    "duration": 12,
    "start_time": "2023-11-30T19:33:48.009Z"
   },
   {
    "duration": 42,
    "start_time": "2023-11-30T19:33:48.022Z"
   },
   {
    "duration": 25,
    "start_time": "2023-11-30T19:33:48.066Z"
   },
   {
    "duration": 29,
    "start_time": "2023-11-30T19:33:48.092Z"
   },
   {
    "duration": 69,
    "start_time": "2023-11-30T19:33:48.123Z"
   },
   {
    "duration": 24,
    "start_time": "2023-11-30T19:33:48.193Z"
   },
   {
    "duration": 64,
    "start_time": "2023-11-30T19:33:48.219Z"
   },
   {
    "duration": 8,
    "start_time": "2023-11-30T19:33:48.284Z"
   },
   {
    "duration": 88,
    "start_time": "2023-11-30T19:33:48.297Z"
   },
   {
    "duration": 188,
    "start_time": "2023-11-30T19:33:48.387Z"
   },
   {
    "duration": 58,
    "start_time": "2023-11-30T19:33:48.577Z"
   },
   {
    "duration": 60,
    "start_time": "2023-11-30T19:33:48.637Z"
   },
   {
    "duration": 174,
    "start_time": "2023-11-30T19:33:48.698Z"
   },
   {
    "duration": 128,
    "start_time": "2023-11-30T19:33:48.874Z"
   },
   {
    "duration": 9,
    "start_time": "2023-11-30T19:33:49.004Z"
   },
   {
    "duration": 18,
    "start_time": "2023-11-30T19:33:49.014Z"
   },
   {
    "duration": 13,
    "start_time": "2023-11-30T19:33:49.033Z"
   },
   {
    "duration": 109,
    "start_time": "2023-11-30T19:33:49.048Z"
   },
   {
    "duration": 55,
    "start_time": "2023-11-30T19:33:49.159Z"
   },
   {
    "duration": 81,
    "start_time": "2023-11-30T19:33:49.216Z"
   },
   {
    "duration": 278,
    "start_time": "2023-11-30T19:33:49.299Z"
   },
   {
    "duration": 306,
    "start_time": "2023-11-30T19:33:49.579Z"
   },
   {
    "duration": 4,
    "start_time": "2023-11-30T19:33:49.887Z"
   },
   {
    "duration": 39,
    "start_time": "2023-11-30T19:33:49.893Z"
   },
   {
    "duration": 3,
    "start_time": "2023-11-30T19:33:49.934Z"
   },
   {
    "duration": 5,
    "start_time": "2023-11-30T19:33:49.938Z"
   },
   {
    "duration": 4,
    "start_time": "2023-11-30T19:33:49.945Z"
   },
   {
    "duration": 5,
    "start_time": "2023-11-30T19:33:49.950Z"
   },
   {
    "duration": 166,
    "start_time": "2023-11-30T19:33:49.956Z"
   },
   {
    "duration": 3,
    "start_time": "2023-11-30T19:33:50.123Z"
   },
   {
    "duration": 47,
    "start_time": "2023-11-30T19:33:50.127Z"
   },
   {
    "duration": 4,
    "start_time": "2023-11-30T19:33:50.176Z"
   },
   {
    "duration": 13,
    "start_time": "2023-11-30T19:33:50.182Z"
   },
   {
    "duration": 3,
    "start_time": "2023-11-30T19:33:50.196Z"
   },
   {
    "duration": 25,
    "start_time": "2023-11-30T19:33:50.200Z"
   },
   {
    "duration": 34,
    "start_time": "2023-11-30T19:33:50.226Z"
   },
   {
    "duration": 17,
    "start_time": "2023-11-30T19:33:57.773Z"
   },
   {
    "duration": 9,
    "start_time": "2023-11-30T19:34:02.009Z"
   },
   {
    "duration": 70,
    "start_time": "2023-11-30T19:34:07.387Z"
   },
   {
    "duration": 9,
    "start_time": "2023-11-30T19:34:10.822Z"
   },
   {
    "duration": 9,
    "start_time": "2023-11-30T19:34:19.467Z"
   },
   {
    "duration": 12,
    "start_time": "2023-11-30T19:36:02.915Z"
   },
   {
    "duration": 7,
    "start_time": "2023-11-30T19:36:14.751Z"
   },
   {
    "duration": 14,
    "start_time": "2023-11-30T19:36:18.841Z"
   },
   {
    "duration": 11,
    "start_time": "2023-11-30T19:36:29.290Z"
   },
   {
    "duration": 3,
    "start_time": "2023-11-30T19:39:58.269Z"
   },
   {
    "duration": 3,
    "start_time": "2023-11-30T19:40:01.564Z"
   },
   {
    "duration": 3,
    "start_time": "2023-11-30T19:41:06.113Z"
   },
   {
    "duration": 6,
    "start_time": "2023-11-30T19:46:58.714Z"
   },
   {
    "duration": 44,
    "start_time": "2023-11-30T19:47:02.358Z"
   },
   {
    "duration": 4,
    "start_time": "2023-11-30T19:47:09.311Z"
   },
   {
    "duration": 8,
    "start_time": "2023-11-30T19:47:17.367Z"
   },
   {
    "duration": 4,
    "start_time": "2023-11-30T19:47:42.926Z"
   },
   {
    "duration": 3,
    "start_time": "2023-11-30T19:47:49.490Z"
   },
   {
    "duration": 3,
    "start_time": "2023-11-30T19:47:52.414Z"
   },
   {
    "duration": 11,
    "start_time": "2023-11-30T19:47:54.819Z"
   },
   {
    "duration": 4,
    "start_time": "2023-11-30T19:47:57.976Z"
   },
   {
    "duration": 5,
    "start_time": "2023-11-30T19:51:01.610Z"
   },
   {
    "duration": 253,
    "start_time": "2023-11-30T19:51:01.617Z"
   },
   {
    "duration": 10,
    "start_time": "2023-11-30T19:51:01.872Z"
   },
   {
    "duration": 58,
    "start_time": "2023-11-30T19:51:01.883Z"
   },
   {
    "duration": 3,
    "start_time": "2023-11-30T19:51:01.944Z"
   },
   {
    "duration": 41,
    "start_time": "2023-11-30T19:51:01.949Z"
   },
   {
    "duration": 48,
    "start_time": "2023-11-30T19:51:01.992Z"
   },
   {
    "duration": 94,
    "start_time": "2023-11-30T19:51:02.041Z"
   },
   {
    "duration": 81,
    "start_time": "2023-11-30T19:51:02.136Z"
   },
   {
    "duration": 91,
    "start_time": "2023-11-30T19:51:02.218Z"
   },
   {
    "duration": 122,
    "start_time": "2023-11-30T19:51:02.313Z"
   },
   {
    "duration": 44,
    "start_time": "2023-11-30T19:51:02.436Z"
   },
   {
    "duration": 27,
    "start_time": "2023-11-30T19:51:02.482Z"
   },
   {
    "duration": 43,
    "start_time": "2023-11-30T19:51:02.510Z"
   },
   {
    "duration": 6,
    "start_time": "2023-11-30T19:51:02.555Z"
   },
   {
    "duration": 44,
    "start_time": "2023-11-30T19:51:02.563Z"
   },
   {
    "duration": 26,
    "start_time": "2023-11-30T19:51:02.608Z"
   },
   {
    "duration": 52,
    "start_time": "2023-11-30T19:51:02.636Z"
   },
   {
    "duration": 50,
    "start_time": "2023-11-30T19:51:02.689Z"
   },
   {
    "duration": 387,
    "start_time": "2023-11-30T19:51:02.741Z"
   },
   {
    "duration": 12,
    "start_time": "2023-11-30T19:51:03.131Z"
   },
   {
    "duration": 36,
    "start_time": "2023-11-30T19:51:03.152Z"
   },
   {
    "duration": 34,
    "start_time": "2023-11-30T19:51:03.190Z"
   },
   {
    "duration": 33,
    "start_time": "2023-11-30T19:51:03.226Z"
   },
   {
    "duration": 53,
    "start_time": "2023-11-30T19:51:03.260Z"
   },
   {
    "duration": 38,
    "start_time": "2023-11-30T19:51:03.315Z"
   },
   {
    "duration": 57,
    "start_time": "2023-11-30T19:51:03.354Z"
   },
   {
    "duration": 8,
    "start_time": "2023-11-30T19:51:03.413Z"
   },
   {
    "duration": 28,
    "start_time": "2023-11-30T19:51:03.424Z"
   },
   {
    "duration": 118,
    "start_time": "2023-11-30T19:51:03.454Z"
   },
   {
    "duration": 40,
    "start_time": "2023-11-30T19:51:03.574Z"
   },
   {
    "duration": 6,
    "start_time": "2023-11-30T19:51:03.615Z"
   },
   {
    "duration": 6,
    "start_time": "2023-11-30T19:51:03.623Z"
   },
   {
    "duration": 29,
    "start_time": "2023-11-30T19:51:03.630Z"
   },
   {
    "duration": 4,
    "start_time": "2023-11-30T19:51:03.661Z"
   },
   {
    "duration": 12,
    "start_time": "2023-11-30T19:51:03.667Z"
   },
   {
    "duration": 7,
    "start_time": "2023-11-30T19:51:03.681Z"
   },
   {
    "duration": 6,
    "start_time": "2023-11-30T19:51:03.690Z"
   },
   {
    "duration": 55,
    "start_time": "2023-11-30T19:51:03.697Z"
   },
   {
    "duration": 21,
    "start_time": "2023-11-30T19:51:03.754Z"
   },
   {
    "duration": 19,
    "start_time": "2023-11-30T19:51:03.776Z"
   },
   {
    "duration": 217,
    "start_time": "2023-11-30T19:51:03.796Z"
   },
   {
    "duration": 4,
    "start_time": "2023-11-30T19:51:04.015Z"
   },
   {
    "duration": 31,
    "start_time": "2023-11-30T19:51:04.021Z"
   },
   {
    "duration": 3,
    "start_time": "2023-11-30T19:51:04.053Z"
   },
   {
    "duration": 4,
    "start_time": "2023-11-30T19:51:04.058Z"
   },
   {
    "duration": 4,
    "start_time": "2023-11-30T19:51:04.063Z"
   },
   {
    "duration": 6,
    "start_time": "2023-11-30T19:51:04.068Z"
   },
   {
    "duration": 205,
    "start_time": "2023-11-30T19:51:04.075Z"
   },
   {
    "duration": 2,
    "start_time": "2023-11-30T19:51:04.282Z"
   },
   {
    "duration": 2,
    "start_time": "2023-11-30T19:51:43.190Z"
   },
   {
    "duration": 5,
    "start_time": "2023-11-30T19:51:51.097Z"
   },
   {
    "duration": 3,
    "start_time": "2023-11-30T19:52:02.281Z"
   },
   {
    "duration": 9,
    "start_time": "2023-11-30T19:52:12.346Z"
   },
   {
    "duration": 9,
    "start_time": "2023-11-30T19:52:22.055Z"
   },
   {
    "duration": 2,
    "start_time": "2023-11-30T19:52:26.939Z"
   },
   {
    "duration": 10,
    "start_time": "2023-11-30T19:52:34.353Z"
   },
   {
    "duration": 4,
    "start_time": "2023-11-30T19:53:19.023Z"
   },
   {
    "duration": 65,
    "start_time": "2023-11-30T19:54:09.732Z"
   },
   {
    "duration": 76,
    "start_time": "2023-11-30T19:54:16.015Z"
   },
   {
    "duration": 5,
    "start_time": "2023-11-30T19:54:19.949Z"
   },
   {
    "duration": 6,
    "start_time": "2023-11-30T19:54:33.398Z"
   },
   {
    "duration": 9,
    "start_time": "2023-11-30T19:54:53.078Z"
   },
   {
    "duration": 8,
    "start_time": "2023-11-30T19:55:02.854Z"
   },
   {
    "duration": 14,
    "start_time": "2023-11-30T19:55:09.254Z"
   },
   {
    "duration": 3,
    "start_time": "2023-11-30T19:55:15.487Z"
   },
   {
    "duration": 7,
    "start_time": "2023-11-30T19:56:17.226Z"
   },
   {
    "duration": 7,
    "start_time": "2023-11-30T19:56:25.735Z"
   },
   {
    "duration": 5,
    "start_time": "2023-11-30T19:59:28.565Z"
   },
   {
    "duration": 13,
    "start_time": "2023-11-30T19:59:29.274Z"
   },
   {
    "duration": 12,
    "start_time": "2023-11-30T19:59:31.324Z"
   },
   {
    "duration": 5,
    "start_time": "2023-11-30T20:00:17.210Z"
   },
   {
    "duration": 180,
    "start_time": "2023-11-30T20:00:17.217Z"
   },
   {
    "duration": 1296,
    "start_time": "2023-11-30T20:00:17.399Z"
   },
   {
    "duration": 0,
    "start_time": "2023-11-30T20:00:18.699Z"
   },
   {
    "duration": 0,
    "start_time": "2023-11-30T20:00:18.701Z"
   },
   {
    "duration": 0,
    "start_time": "2023-11-30T20:00:18.702Z"
   },
   {
    "duration": 0,
    "start_time": "2023-11-30T20:00:18.703Z"
   },
   {
    "duration": 0,
    "start_time": "2023-11-30T20:00:18.704Z"
   },
   {
    "duration": 0,
    "start_time": "2023-11-30T20:00:18.705Z"
   },
   {
    "duration": 0,
    "start_time": "2023-11-30T20:00:18.707Z"
   },
   {
    "duration": 0,
    "start_time": "2023-11-30T20:00:18.708Z"
   },
   {
    "duration": 0,
    "start_time": "2023-11-30T20:00:18.709Z"
   },
   {
    "duration": 0,
    "start_time": "2023-11-30T20:00:18.710Z"
   },
   {
    "duration": 0,
    "start_time": "2023-11-30T20:00:18.711Z"
   },
   {
    "duration": 0,
    "start_time": "2023-11-30T20:00:18.713Z"
   },
   {
    "duration": 0,
    "start_time": "2023-11-30T20:00:18.714Z"
   },
   {
    "duration": 0,
    "start_time": "2023-11-30T20:00:18.715Z"
   },
   {
    "duration": 0,
    "start_time": "2023-11-30T20:00:18.716Z"
   },
   {
    "duration": 0,
    "start_time": "2023-11-30T20:00:18.717Z"
   },
   {
    "duration": 0,
    "start_time": "2023-11-30T20:00:18.718Z"
   },
   {
    "duration": 0,
    "start_time": "2023-11-30T20:00:18.719Z"
   },
   {
    "duration": 0,
    "start_time": "2023-11-30T20:00:18.720Z"
   },
   {
    "duration": 0,
    "start_time": "2023-11-30T20:00:18.721Z"
   },
   {
    "duration": 0,
    "start_time": "2023-11-30T20:00:18.722Z"
   },
   {
    "duration": 0,
    "start_time": "2023-11-30T20:00:18.723Z"
   },
   {
    "duration": 0,
    "start_time": "2023-11-30T20:00:18.724Z"
   },
   {
    "duration": 0,
    "start_time": "2023-11-30T20:00:18.725Z"
   },
   {
    "duration": 0,
    "start_time": "2023-11-30T20:00:18.726Z"
   },
   {
    "duration": 0,
    "start_time": "2023-11-30T20:00:18.727Z"
   },
   {
    "duration": 0,
    "start_time": "2023-11-30T20:00:18.728Z"
   },
   {
    "duration": 0,
    "start_time": "2023-11-30T20:00:18.729Z"
   },
   {
    "duration": 0,
    "start_time": "2023-11-30T20:00:18.730Z"
   },
   {
    "duration": 0,
    "start_time": "2023-11-30T20:00:18.731Z"
   },
   {
    "duration": 0,
    "start_time": "2023-11-30T20:00:18.732Z"
   },
   {
    "duration": 0,
    "start_time": "2023-11-30T20:00:18.733Z"
   },
   {
    "duration": 0,
    "start_time": "2023-11-30T20:00:18.734Z"
   },
   {
    "duration": 0,
    "start_time": "2023-11-30T20:00:18.752Z"
   },
   {
    "duration": 0,
    "start_time": "2023-11-30T20:00:18.753Z"
   },
   {
    "duration": 0,
    "start_time": "2023-11-30T20:00:18.754Z"
   },
   {
    "duration": 0,
    "start_time": "2023-11-30T20:00:18.755Z"
   },
   {
    "duration": 0,
    "start_time": "2023-11-30T20:00:18.755Z"
   },
   {
    "duration": 0,
    "start_time": "2023-11-30T20:00:18.756Z"
   },
   {
    "duration": 0,
    "start_time": "2023-11-30T20:00:18.757Z"
   },
   {
    "duration": 0,
    "start_time": "2023-11-30T20:00:18.758Z"
   },
   {
    "duration": 0,
    "start_time": "2023-11-30T20:00:18.759Z"
   },
   {
    "duration": 0,
    "start_time": "2023-11-30T20:00:18.760Z"
   },
   {
    "duration": 0,
    "start_time": "2023-11-30T20:00:18.761Z"
   },
   {
    "duration": 0,
    "start_time": "2023-11-30T20:00:18.762Z"
   },
   {
    "duration": 0,
    "start_time": "2023-11-30T20:00:18.763Z"
   },
   {
    "duration": 0,
    "start_time": "2023-11-30T20:00:18.764Z"
   },
   {
    "duration": 0,
    "start_time": "2023-11-30T20:00:18.765Z"
   },
   {
    "duration": 0,
    "start_time": "2023-11-30T20:00:18.766Z"
   },
   {
    "duration": 0,
    "start_time": "2023-11-30T20:00:18.767Z"
   },
   {
    "duration": 0,
    "start_time": "2023-11-30T20:00:18.768Z"
   },
   {
    "duration": 0,
    "start_time": "2023-11-30T20:00:18.769Z"
   },
   {
    "duration": 0,
    "start_time": "2023-11-30T20:00:18.770Z"
   },
   {
    "duration": 0,
    "start_time": "2023-11-30T20:00:18.771Z"
   },
   {
    "duration": 0,
    "start_time": "2023-11-30T20:00:18.772Z"
   },
   {
    "duration": 0,
    "start_time": "2023-11-30T20:00:18.773Z"
   },
   {
    "duration": 24,
    "start_time": "2023-11-30T20:00:27.690Z"
   },
   {
    "duration": 4,
    "start_time": "2023-11-30T20:00:56.410Z"
   },
   {
    "duration": 175,
    "start_time": "2023-11-30T20:00:56.416Z"
   },
   {
    "duration": 7,
    "start_time": "2023-11-30T20:00:56.593Z"
   },
   {
    "duration": 20,
    "start_time": "2023-11-30T20:00:56.602Z"
   },
   {
    "duration": 3,
    "start_time": "2023-11-30T20:00:56.624Z"
   },
   {
    "duration": 30,
    "start_time": "2023-11-30T20:00:56.628Z"
   },
   {
    "duration": 28,
    "start_time": "2023-11-30T20:00:56.659Z"
   },
   {
    "duration": 6,
    "start_time": "2023-11-30T20:00:56.689Z"
   },
   {
    "duration": 82,
    "start_time": "2023-11-30T20:00:56.697Z"
   },
   {
    "duration": 99,
    "start_time": "2023-11-30T20:00:56.781Z"
   },
   {
    "duration": 101,
    "start_time": "2023-11-30T20:00:56.883Z"
   },
   {
    "duration": 29,
    "start_time": "2023-11-30T20:00:56.986Z"
   },
   {
    "duration": 59,
    "start_time": "2023-11-30T20:00:57.017Z"
   },
   {
    "duration": 28,
    "start_time": "2023-11-30T20:00:57.078Z"
   },
   {
    "duration": 25,
    "start_time": "2023-11-30T20:00:57.107Z"
   },
   {
    "duration": 25,
    "start_time": "2023-11-30T20:00:57.133Z"
   },
   {
    "duration": 20,
    "start_time": "2023-11-30T20:00:57.159Z"
   },
   {
    "duration": 20,
    "start_time": "2023-11-30T20:00:57.180Z"
   },
   {
    "duration": 33,
    "start_time": "2023-11-30T20:00:57.201Z"
   },
   {
    "duration": 51,
    "start_time": "2023-11-30T20:00:57.235Z"
   },
   {
    "duration": 412,
    "start_time": "2023-11-30T20:00:57.288Z"
   },
   {
    "duration": 12,
    "start_time": "2023-11-30T20:00:57.702Z"
   },
   {
    "duration": 42,
    "start_time": "2023-11-30T20:00:57.715Z"
   },
   {
    "duration": 24,
    "start_time": "2023-11-30T20:00:57.759Z"
   },
   {
    "duration": 27,
    "start_time": "2023-11-30T20:00:57.785Z"
   },
   {
    "duration": 69,
    "start_time": "2023-11-30T20:00:57.814Z"
   },
   {
    "duration": 24,
    "start_time": "2023-11-30T20:00:57.885Z"
   },
   {
    "duration": 62,
    "start_time": "2023-11-30T20:00:57.911Z"
   },
   {
    "duration": 12,
    "start_time": "2023-11-30T20:00:57.978Z"
   },
   {
    "duration": 8,
    "start_time": "2023-11-30T20:00:57.991Z"
   },
   {
    "duration": 121,
    "start_time": "2023-11-30T20:00:58.001Z"
   },
   {
    "duration": 46,
    "start_time": "2023-11-30T20:00:58.124Z"
   },
   {
    "duration": 12,
    "start_time": "2023-11-30T20:00:58.171Z"
   },
   {
    "duration": 6,
    "start_time": "2023-11-30T20:00:58.184Z"
   },
   {
    "duration": 18,
    "start_time": "2023-11-30T20:00:58.191Z"
   },
   {
    "duration": 6,
    "start_time": "2023-11-30T20:00:58.211Z"
   },
   {
    "duration": 11,
    "start_time": "2023-11-30T20:00:58.219Z"
   },
   {
    "duration": 10,
    "start_time": "2023-11-30T20:00:58.232Z"
   },
   {
    "duration": 4,
    "start_time": "2023-11-30T20:00:58.252Z"
   },
   {
    "duration": 40,
    "start_time": "2023-11-30T20:00:58.258Z"
   },
   {
    "duration": 17,
    "start_time": "2023-11-30T20:00:58.299Z"
   },
   {
    "duration": 19,
    "start_time": "2023-11-30T20:00:58.317Z"
   },
   {
    "duration": 181,
    "start_time": "2023-11-30T20:00:58.337Z"
   },
   {
    "duration": 4,
    "start_time": "2023-11-30T20:00:58.519Z"
   },
   {
    "duration": 28,
    "start_time": "2023-11-30T20:00:58.525Z"
   },
   {
    "duration": 2,
    "start_time": "2023-11-30T20:00:58.555Z"
   },
   {
    "duration": 17,
    "start_time": "2023-11-30T20:00:58.559Z"
   },
   {
    "duration": 5,
    "start_time": "2023-11-30T20:00:58.577Z"
   },
   {
    "duration": 7,
    "start_time": "2023-11-30T20:00:58.584Z"
   },
   {
    "duration": 152,
    "start_time": "2023-11-30T20:00:58.592Z"
   },
   {
    "duration": 6,
    "start_time": "2023-11-30T20:00:58.746Z"
   },
   {
    "duration": 6,
    "start_time": "2023-11-30T20:00:58.754Z"
   },
   {
    "duration": 14,
    "start_time": "2023-11-30T20:00:58.761Z"
   },
   {
    "duration": 8,
    "start_time": "2023-11-30T20:00:58.776Z"
   },
   {
    "duration": 6,
    "start_time": "2023-11-30T20:00:58.785Z"
   },
   {
    "duration": 15,
    "start_time": "2023-11-30T20:00:58.792Z"
   },
   {
    "duration": 2,
    "start_time": "2023-11-30T20:00:58.809Z"
   },
   {
    "duration": 12,
    "start_time": "2023-11-30T20:00:58.813Z"
   },
   {
    "duration": 41,
    "start_time": "2023-11-30T20:00:58.826Z"
   },
   {
    "duration": 7,
    "start_time": "2023-11-30T20:01:30.228Z"
   },
   {
    "duration": 4,
    "start_time": "2023-11-30T20:02:16.855Z"
   },
   {
    "duration": 6,
    "start_time": "2023-11-30T20:02:25.151Z"
   },
   {
    "duration": 5,
    "start_time": "2023-11-30T20:03:22.879Z"
   },
   {
    "duration": 6,
    "start_time": "2023-11-30T20:03:54.849Z"
   },
   {
    "duration": 8,
    "start_time": "2023-11-30T20:04:05.522Z"
   },
   {
    "duration": 5,
    "start_time": "2023-11-30T20:05:16.118Z"
   },
   {
    "duration": 1317,
    "start_time": "2023-11-30T22:22:19.363Z"
   },
   {
    "duration": 692,
    "start_time": "2023-11-30T22:22:20.682Z"
   },
   {
    "duration": 10,
    "start_time": "2023-11-30T22:22:21.376Z"
   },
   {
    "duration": 24,
    "start_time": "2023-11-30T22:22:21.387Z"
   },
   {
    "duration": 3,
    "start_time": "2023-11-30T22:22:21.413Z"
   },
   {
    "duration": 21,
    "start_time": "2023-11-30T22:22:21.417Z"
   },
   {
    "duration": 32,
    "start_time": "2023-11-30T22:22:21.440Z"
   },
   {
    "duration": 86,
    "start_time": "2023-11-30T22:22:21.473Z"
   },
   {
    "duration": 95,
    "start_time": "2023-11-30T22:22:21.560Z"
   },
   {
    "duration": 125,
    "start_time": "2023-11-30T22:22:21.656Z"
   },
   {
    "duration": 30,
    "start_time": "2023-11-30T22:22:21.782Z"
   },
   {
    "duration": 61,
    "start_time": "2023-11-30T22:22:21.814Z"
   },
   {
    "duration": 29,
    "start_time": "2023-11-30T22:22:21.877Z"
   },
   {
    "duration": 24,
    "start_time": "2023-11-30T22:22:21.909Z"
   },
   {
    "duration": 25,
    "start_time": "2023-11-30T22:22:21.935Z"
   },
   {
    "duration": 35,
    "start_time": "2023-11-30T22:22:21.961Z"
   },
   {
    "duration": 21,
    "start_time": "2023-11-30T22:22:21.997Z"
   },
   {
    "duration": 38,
    "start_time": "2023-11-30T22:22:22.020Z"
   },
   {
    "duration": 93,
    "start_time": "2023-11-30T22:22:22.059Z"
   },
   {
    "duration": 394,
    "start_time": "2023-11-30T22:22:22.154Z"
   },
   {
    "duration": 12,
    "start_time": "2023-11-30T22:22:22.550Z"
   },
   {
    "duration": 58,
    "start_time": "2023-11-30T22:22:22.573Z"
   },
   {
    "duration": 54,
    "start_time": "2023-11-30T22:22:22.632Z"
   },
   {
    "duration": 31,
    "start_time": "2023-11-30T22:22:22.688Z"
   },
   {
    "duration": 61,
    "start_time": "2023-11-30T22:22:22.720Z"
   },
   {
    "duration": 25,
    "start_time": "2023-11-30T22:22:22.782Z"
   },
   {
    "duration": 56,
    "start_time": "2023-11-30T22:22:22.808Z"
   },
   {
    "duration": 8,
    "start_time": "2023-11-30T22:22:22.872Z"
   },
   {
    "duration": 17,
    "start_time": "2023-11-30T22:22:22.881Z"
   },
   {
    "duration": 101,
    "start_time": "2023-11-30T22:22:22.899Z"
   },
   {
    "duration": 37,
    "start_time": "2023-11-30T22:22:23.002Z"
   },
   {
    "duration": 33,
    "start_time": "2023-11-30T22:22:23.040Z"
   },
   {
    "duration": 41,
    "start_time": "2023-11-30T22:22:23.075Z"
   },
   {
    "duration": 16,
    "start_time": "2023-11-30T22:22:23.117Z"
   },
   {
    "duration": 26,
    "start_time": "2023-11-30T22:22:23.134Z"
   },
   {
    "duration": 32,
    "start_time": "2023-11-30T22:22:23.162Z"
   },
   {
    "duration": 32,
    "start_time": "2023-11-30T22:22:23.195Z"
   },
   {
    "duration": 23,
    "start_time": "2023-11-30T22:22:23.228Z"
   },
   {
    "duration": 46,
    "start_time": "2023-11-30T22:22:23.252Z"
   },
   {
    "duration": 17,
    "start_time": "2023-11-30T22:22:23.299Z"
   },
   {
    "duration": 19,
    "start_time": "2023-11-30T22:22:23.320Z"
   },
   {
    "duration": 217,
    "start_time": "2023-11-30T22:22:23.340Z"
   },
   {
    "duration": 4,
    "start_time": "2023-11-30T22:22:23.558Z"
   },
   {
    "duration": 18,
    "start_time": "2023-11-30T22:22:23.572Z"
   },
   {
    "duration": 3,
    "start_time": "2023-11-30T22:22:23.591Z"
   },
   {
    "duration": 13,
    "start_time": "2023-11-30T22:22:23.595Z"
   },
   {
    "duration": 15,
    "start_time": "2023-11-30T22:22:23.610Z"
   },
   {
    "duration": 23,
    "start_time": "2023-11-30T22:22:23.626Z"
   },
   {
    "duration": 189,
    "start_time": "2023-11-30T22:22:23.651Z"
   },
   {
    "duration": 2,
    "start_time": "2023-11-30T22:22:23.842Z"
   },
   {
    "duration": 24,
    "start_time": "2023-11-30T22:22:23.845Z"
   },
   {
    "duration": 21,
    "start_time": "2023-11-30T22:22:23.871Z"
   },
   {
    "duration": 12,
    "start_time": "2023-11-30T22:22:23.894Z"
   },
   {
    "duration": 7,
    "start_time": "2023-11-30T22:22:23.907Z"
   },
   {
    "duration": 35,
    "start_time": "2023-11-30T22:22:23.916Z"
   },
   {
    "duration": 12,
    "start_time": "2023-11-30T22:22:23.953Z"
   },
   {
    "duration": 27,
    "start_time": "2023-11-30T22:22:23.967Z"
   },
   {
    "duration": 11,
    "start_time": "2023-11-30T22:22:23.995Z"
   },
   {
    "duration": 50,
    "start_time": "2023-11-30T22:22:24.008Z"
   },
   {
    "duration": 173,
    "start_time": "2023-11-30T23:17:05.872Z"
   },
   {
    "duration": 4,
    "start_time": "2023-11-30T23:17:18.471Z"
   },
   {
    "duration": 172,
    "start_time": "2023-11-30T23:17:18.479Z"
   },
   {
    "duration": 21,
    "start_time": "2023-11-30T23:17:18.653Z"
   },
   {
    "duration": 27,
    "start_time": "2023-11-30T23:17:18.675Z"
   },
   {
    "duration": 3,
    "start_time": "2023-11-30T23:17:18.704Z"
   },
   {
    "duration": 18,
    "start_time": "2023-11-30T23:17:18.709Z"
   },
   {
    "duration": 18,
    "start_time": "2023-11-30T23:17:18.728Z"
   },
   {
    "duration": 85,
    "start_time": "2023-11-30T23:17:18.748Z"
   },
   {
    "duration": 91,
    "start_time": "2023-11-30T23:17:18.834Z"
   },
   {
    "duration": 98,
    "start_time": "2023-11-30T23:17:18.927Z"
   },
   {
    "duration": 30,
    "start_time": "2023-11-30T23:17:19.026Z"
   },
   {
    "duration": 52,
    "start_time": "2023-11-30T23:17:19.058Z"
   },
   {
    "duration": 28,
    "start_time": "2023-11-30T23:17:19.111Z"
   },
   {
    "duration": 37,
    "start_time": "2023-11-30T23:17:19.140Z"
   },
   {
    "duration": 8,
    "start_time": "2023-11-30T23:17:19.180Z"
   },
   {
    "duration": 22,
    "start_time": "2023-11-30T23:17:19.189Z"
   },
   {
    "duration": 24,
    "start_time": "2023-11-30T23:17:19.212Z"
   },
   {
    "duration": 26,
    "start_time": "2023-11-30T23:17:19.237Z"
   },
   {
    "duration": 43,
    "start_time": "2023-11-30T23:17:19.272Z"
   },
   {
    "duration": 368,
    "start_time": "2023-11-30T23:17:19.317Z"
   },
   {
    "duration": 13,
    "start_time": "2023-11-30T23:17:19.686Z"
   },
   {
    "duration": 29,
    "start_time": "2023-11-30T23:17:19.700Z"
   },
   {
    "duration": 23,
    "start_time": "2023-11-30T23:17:19.731Z"
   },
   {
    "duration": 30,
    "start_time": "2023-11-30T23:17:19.773Z"
   },
   {
    "duration": 71,
    "start_time": "2023-11-30T23:17:19.804Z"
   },
   {
    "duration": 26,
    "start_time": "2023-11-30T23:17:19.877Z"
   },
   {
    "duration": 57,
    "start_time": "2023-11-30T23:17:19.904Z"
   },
   {
    "duration": 15,
    "start_time": "2023-11-30T23:17:19.963Z"
   },
   {
    "duration": 7,
    "start_time": "2023-11-30T23:17:19.979Z"
   },
   {
    "duration": 125,
    "start_time": "2023-11-30T23:17:19.988Z"
   },
   {
    "duration": 38,
    "start_time": "2023-11-30T23:17:20.114Z"
   },
   {
    "duration": 20,
    "start_time": "2023-11-30T23:17:20.153Z"
   },
   {
    "duration": 6,
    "start_time": "2023-11-30T23:17:20.174Z"
   },
   {
    "duration": 28,
    "start_time": "2023-11-30T23:17:20.181Z"
   },
   {
    "duration": 20,
    "start_time": "2023-11-30T23:17:20.211Z"
   },
   {
    "duration": 27,
    "start_time": "2023-11-30T23:17:20.233Z"
   },
   {
    "duration": 19,
    "start_time": "2023-11-30T23:17:20.261Z"
   },
   {
    "duration": 11,
    "start_time": "2023-11-30T23:17:20.282Z"
   },
   {
    "duration": 25,
    "start_time": "2023-11-30T23:17:20.294Z"
   },
   {
    "duration": 17,
    "start_time": "2023-11-30T23:17:20.320Z"
   },
   {
    "duration": 19,
    "start_time": "2023-11-30T23:17:20.338Z"
   },
   {
    "duration": 182,
    "start_time": "2023-11-30T23:17:20.372Z"
   },
   {
    "duration": 4,
    "start_time": "2023-11-30T23:17:20.555Z"
   },
   {
    "duration": 30,
    "start_time": "2023-11-30T23:17:20.561Z"
   },
   {
    "duration": 3,
    "start_time": "2023-11-30T23:17:20.592Z"
   },
   {
    "duration": 21,
    "start_time": "2023-11-30T23:17:20.597Z"
   },
   {
    "duration": 20,
    "start_time": "2023-11-30T23:17:20.619Z"
   },
   {
    "duration": 46,
    "start_time": "2023-11-30T23:17:20.641Z"
   },
   {
    "duration": 177,
    "start_time": "2023-11-30T23:17:20.689Z"
   },
   {
    "duration": 3,
    "start_time": "2023-11-30T23:17:20.872Z"
   },
   {
    "duration": 9,
    "start_time": "2023-11-30T23:17:20.877Z"
   },
   {
    "duration": 43,
    "start_time": "2023-11-30T23:17:20.888Z"
   },
   {
    "duration": 22,
    "start_time": "2023-11-30T23:17:20.933Z"
   },
   {
    "duration": 18,
    "start_time": "2023-11-30T23:17:20.956Z"
   },
   {
    "duration": 16,
    "start_time": "2023-11-30T23:17:20.975Z"
   },
   {
    "duration": 5,
    "start_time": "2023-11-30T23:17:20.992Z"
   },
   {
    "duration": 22,
    "start_time": "2023-11-30T23:17:20.998Z"
   },
   {
    "duration": 8,
    "start_time": "2023-11-30T23:17:21.022Z"
   },
   {
    "duration": 97,
    "start_time": "2023-11-30T23:17:21.032Z"
   },
   {
    "duration": 0,
    "start_time": "2023-11-30T23:17:21.130Z"
   },
   {
    "duration": 8,
    "start_time": "2023-11-30T23:17:56.589Z"
   },
   {
    "duration": 3,
    "start_time": "2023-11-30T23:23:44.393Z"
   },
   {
    "duration": 2,
    "start_time": "2023-11-30T23:23:56.878Z"
   },
   {
    "duration": 3,
    "start_time": "2023-11-30T23:24:02.738Z"
   },
   {
    "duration": 3,
    "start_time": "2023-11-30T23:24:06.139Z"
   },
   {
    "duration": 7,
    "start_time": "2023-11-30T23:25:57.020Z"
   },
   {
    "duration": 5,
    "start_time": "2023-11-30T23:27:03.070Z"
   },
   {
    "duration": 3,
    "start_time": "2023-11-30T23:27:11.510Z"
   },
   {
    "duration": 10,
    "start_time": "2023-11-30T23:37:54.330Z"
   },
   {
    "duration": 8,
    "start_time": "2023-11-30T23:38:16.139Z"
   },
   {
    "duration": 10,
    "start_time": "2023-11-30T23:38:18.921Z"
   },
   {
    "duration": 80,
    "start_time": "2023-11-30T23:40:41.290Z"
   },
   {
    "duration": 68,
    "start_time": "2023-11-30T23:40:52.519Z"
   },
   {
    "duration": 6,
    "start_time": "2023-11-30T23:40:58.383Z"
   },
   {
    "duration": 7,
    "start_time": "2023-11-30T23:41:15.313Z"
   },
   {
    "duration": 94,
    "start_time": "2023-11-30T23:41:46.807Z"
   },
   {
    "duration": 12,
    "start_time": "2023-11-30T23:41:56.139Z"
   },
   {
    "duration": 6,
    "start_time": "2023-11-30T23:42:33.841Z"
   },
   {
    "duration": 6,
    "start_time": "2023-11-30T23:43:05.412Z"
   },
   {
    "duration": 7,
    "start_time": "2023-11-30T23:43:08.584Z"
   },
   {
    "duration": 7,
    "start_time": "2023-11-30T23:43:48.800Z"
   },
   {
    "duration": 3,
    "start_time": "2023-11-30T23:43:52.229Z"
   },
   {
    "duration": 8,
    "start_time": "2023-11-30T23:45:30.642Z"
   },
   {
    "duration": 8,
    "start_time": "2023-11-30T23:45:32.274Z"
   },
   {
    "duration": 69,
    "start_time": "2023-11-30T23:46:02.650Z"
   },
   {
    "duration": 60,
    "start_time": "2023-11-30T23:46:06.454Z"
   },
   {
    "duration": 6,
    "start_time": "2023-11-30T23:46:08.354Z"
   },
   {
    "duration": 14,
    "start_time": "2023-11-30T23:46:10.537Z"
   },
   {
    "duration": 6,
    "start_time": "2023-11-30T23:46:27.371Z"
   },
   {
    "duration": 7,
    "start_time": "2023-11-30T23:46:32.834Z"
   },
   {
    "duration": 4,
    "start_time": "2023-11-30T23:48:00.113Z"
   },
   {
    "duration": 7,
    "start_time": "2023-11-30T23:48:07.140Z"
   },
   {
    "duration": 4,
    "start_time": "2023-11-30T23:48:17.379Z"
   },
   {
    "duration": 4,
    "start_time": "2023-11-30T23:48:22.422Z"
   },
   {
    "duration": 67,
    "start_time": "2023-11-30T23:48:38.790Z"
   },
   {
    "duration": 4,
    "start_time": "2023-11-30T23:48:43.874Z"
   },
   {
    "duration": 60,
    "start_time": "2023-11-30T23:48:58.751Z"
   },
   {
    "duration": 3,
    "start_time": "2023-11-30T23:49:59.329Z"
   },
   {
    "duration": 3,
    "start_time": "2023-11-30T23:50:18.467Z"
   },
   {
    "duration": 9,
    "start_time": "2023-11-30T23:51:16.198Z"
   },
   {
    "duration": 8,
    "start_time": "2023-12-01T00:17:48.264Z"
   },
   {
    "duration": 146,
    "start_time": "2023-12-01T00:17:51.174Z"
   },
   {
    "duration": 3,
    "start_time": "2023-12-01T00:18:21.021Z"
   },
   {
    "duration": 73,
    "start_time": "2023-12-01T00:18:40.596Z"
   },
   {
    "duration": 13,
    "start_time": "2023-12-01T00:18:49.699Z"
   },
   {
    "duration": 6,
    "start_time": "2023-12-01T00:20:00.022Z"
   },
   {
    "duration": 14,
    "start_time": "2023-12-01T00:20:01.239Z"
   },
   {
    "duration": 5,
    "start_time": "2023-12-01T00:20:38.454Z"
   },
   {
    "duration": 15,
    "start_time": "2023-12-01T00:20:39.270Z"
   },
   {
    "duration": 15,
    "start_time": "2023-12-01T00:46:09.096Z"
   },
   {
    "duration": 15,
    "start_time": "2023-12-01T00:47:00.589Z"
   },
   {
    "duration": 73,
    "start_time": "2023-12-01T00:47:51.585Z"
   },
   {
    "duration": 73,
    "start_time": "2023-12-01T00:47:54.956Z"
   },
   {
    "duration": 14,
    "start_time": "2023-12-01T00:49:27.657Z"
   },
   {
    "duration": 3,
    "start_time": "2023-12-01T00:49:47.106Z"
   },
   {
    "duration": 2,
    "start_time": "2023-12-01T00:50:14.332Z"
   },
   {
    "duration": 5,
    "start_time": "2023-12-01T00:50:33.549Z"
   },
   {
    "duration": 7,
    "start_time": "2023-12-01T00:50:36.767Z"
   },
   {
    "duration": 5,
    "start_time": "2023-12-01T00:50:53.859Z"
   },
   {
    "duration": 9,
    "start_time": "2023-12-01T00:51:08.926Z"
   },
   {
    "duration": 6,
    "start_time": "2023-12-01T00:51:23.195Z"
   },
   {
    "duration": 8,
    "start_time": "2023-12-01T00:51:25.244Z"
   },
   {
    "duration": 14,
    "start_time": "2023-12-01T00:52:37.367Z"
   },
   {
    "duration": 1504,
    "start_time": "2023-12-01T00:53:13.954Z"
   },
   {
    "duration": 1554,
    "start_time": "2023-12-01T00:53:23.988Z"
   },
   {
    "duration": 1402,
    "start_time": "2023-12-01T00:53:36.175Z"
   },
   {
    "duration": 75,
    "start_time": "2023-12-01T00:54:15.368Z"
   },
   {
    "duration": 6,
    "start_time": "2023-12-01T00:54:20.247Z"
   },
   {
    "duration": 15,
    "start_time": "2023-12-01T00:54:23.588Z"
   },
   {
    "duration": 6,
    "start_time": "2023-12-01T00:54:34.696Z"
   },
   {
    "duration": 14,
    "start_time": "2023-12-01T00:54:36.383Z"
   },
   {
    "duration": 13,
    "start_time": "2023-12-01T00:54:41.673Z"
   },
   {
    "duration": 5,
    "start_time": "2023-12-01T00:55:28.666Z"
   },
   {
    "duration": 17,
    "start_time": "2023-12-01T00:55:30.231Z"
   },
   {
    "duration": 79,
    "start_time": "2023-12-01T00:56:18.228Z"
   },
   {
    "duration": 6,
    "start_time": "2023-12-01T00:56:29.280Z"
   },
   {
    "duration": 17,
    "start_time": "2023-12-01T00:56:30.950Z"
   },
   {
    "duration": 2,
    "start_time": "2023-12-01T00:57:57.428Z"
   },
   {
    "duration": 15,
    "start_time": "2023-12-01T00:57:58.451Z"
   },
   {
    "duration": 14,
    "start_time": "2023-12-01T00:58:06.271Z"
   },
   {
    "duration": 14,
    "start_time": "2023-12-01T00:59:05.107Z"
   },
   {
    "duration": 3,
    "start_time": "2023-12-01T01:00:09.095Z"
   },
   {
    "duration": 14,
    "start_time": "2023-12-01T01:00:10.143Z"
   },
   {
    "duration": 14,
    "start_time": "2023-12-01T01:00:15.991Z"
   },
   {
    "duration": 14,
    "start_time": "2023-12-01T01:00:21.925Z"
   },
   {
    "duration": 3,
    "start_time": "2023-12-01T01:00:30.269Z"
   },
   {
    "duration": 15,
    "start_time": "2023-12-01T01:00:31.215Z"
   },
   {
    "duration": 19,
    "start_time": "2023-12-01T01:00:33.488Z"
   },
   {
    "duration": 14,
    "start_time": "2023-12-01T01:00:36.299Z"
   },
   {
    "duration": 14,
    "start_time": "2023-12-01T01:03:17.039Z"
   },
   {
    "duration": 2,
    "start_time": "2023-12-01T01:03:25.048Z"
   },
   {
    "duration": 14,
    "start_time": "2023-12-01T01:03:26.640Z"
   },
   {
    "duration": 14,
    "start_time": "2023-12-01T01:03:28.932Z"
   },
   {
    "duration": 16,
    "start_time": "2023-12-01T01:03:35.715Z"
   },
   {
    "duration": 21,
    "start_time": "2023-12-01T01:45:39.105Z"
   },
   {
    "duration": 23,
    "start_time": "2023-12-01T01:45:41.718Z"
   },
   {
    "duration": 11,
    "start_time": "2023-12-01T01:48:21.442Z"
   },
   {
    "duration": 382,
    "start_time": "2023-12-01T01:50:09.754Z"
   },
   {
    "duration": 399,
    "start_time": "2023-12-01T01:50:11.987Z"
   },
   {
    "duration": 20,
    "start_time": "2023-12-01T01:54:35.884Z"
   },
   {
    "duration": 4,
    "start_time": "2023-12-01T01:54:41.554Z"
   },
   {
    "duration": 179,
    "start_time": "2023-12-01T01:54:41.559Z"
   },
   {
    "duration": 6,
    "start_time": "2023-12-01T01:54:41.740Z"
   },
   {
    "duration": 36,
    "start_time": "2023-12-01T01:54:41.747Z"
   },
   {
    "duration": 2,
    "start_time": "2023-12-01T01:54:41.785Z"
   },
   {
    "duration": 20,
    "start_time": "2023-12-01T01:54:41.789Z"
   },
   {
    "duration": 11,
    "start_time": "2023-12-01T01:54:41.810Z"
   },
   {
    "duration": 89,
    "start_time": "2023-12-01T01:54:41.823Z"
   },
   {
    "duration": 88,
    "start_time": "2023-12-01T01:54:41.914Z"
   },
   {
    "duration": 111,
    "start_time": "2023-12-01T01:54:42.003Z"
   },
   {
    "duration": 29,
    "start_time": "2023-12-01T01:54:42.116Z"
   },
   {
    "duration": 51,
    "start_time": "2023-12-01T01:54:42.147Z"
   },
   {
    "duration": 28,
    "start_time": "2023-12-01T01:54:42.200Z"
   },
   {
    "duration": 45,
    "start_time": "2023-12-01T01:54:42.229Z"
   },
   {
    "duration": 8,
    "start_time": "2023-12-01T01:54:42.275Z"
   },
   {
    "duration": 19,
    "start_time": "2023-12-01T01:54:42.284Z"
   },
   {
    "duration": 18,
    "start_time": "2023-12-01T01:54:42.304Z"
   },
   {
    "duration": 23,
    "start_time": "2023-12-01T01:54:42.323Z"
   },
   {
    "duration": 58,
    "start_time": "2023-12-01T01:54:42.347Z"
   },
   {
    "duration": 447,
    "start_time": "2023-12-01T01:54:42.407Z"
   },
   {
    "duration": 33,
    "start_time": "2023-12-01T01:54:42.855Z"
   },
   {
    "duration": 12,
    "start_time": "2023-12-01T01:54:42.889Z"
   },
   {
    "duration": 31,
    "start_time": "2023-12-01T01:54:42.903Z"
   },
   {
    "duration": 41,
    "start_time": "2023-12-01T01:54:42.935Z"
   },
   {
    "duration": 29,
    "start_time": "2023-12-01T01:54:42.977Z"
   },
   {
    "duration": 66,
    "start_time": "2023-12-01T01:54:43.008Z"
   },
   {
    "duration": 26,
    "start_time": "2023-12-01T01:54:43.075Z"
   },
   {
    "duration": 50,
    "start_time": "2023-12-01T01:54:43.102Z"
   },
   {
    "duration": 9,
    "start_time": "2023-12-01T01:54:43.175Z"
   },
   {
    "duration": 7,
    "start_time": "2023-12-01T01:54:43.186Z"
   },
   {
    "duration": 99,
    "start_time": "2023-12-01T01:54:43.194Z"
   },
   {
    "duration": 37,
    "start_time": "2023-12-01T01:54:43.294Z"
   },
   {
    "duration": 6,
    "start_time": "2023-12-01T01:54:43.332Z"
   },
   {
    "duration": 8,
    "start_time": "2023-12-01T01:54:43.339Z"
   },
   {
    "duration": 29,
    "start_time": "2023-12-01T01:54:43.348Z"
   },
   {
    "duration": 6,
    "start_time": "2023-12-01T01:54:43.378Z"
   },
   {
    "duration": 7,
    "start_time": "2023-12-01T01:54:43.386Z"
   },
   {
    "duration": 7,
    "start_time": "2023-12-01T01:54:43.394Z"
   },
   {
    "duration": 7,
    "start_time": "2023-12-01T01:54:43.402Z"
   },
   {
    "duration": 27,
    "start_time": "2023-12-01T01:54:43.410Z"
   },
   {
    "duration": 46,
    "start_time": "2023-12-01T01:54:43.439Z"
   },
   {
    "duration": 24,
    "start_time": "2023-12-01T01:54:43.487Z"
   },
   {
    "duration": 192,
    "start_time": "2023-12-01T01:54:43.512Z"
   },
   {
    "duration": 4,
    "start_time": "2023-12-01T01:54:43.706Z"
   },
   {
    "duration": 17,
    "start_time": "2023-12-01T01:54:43.711Z"
   },
   {
    "duration": 3,
    "start_time": "2023-12-01T01:54:43.729Z"
   },
   {
    "duration": 5,
    "start_time": "2023-12-01T01:54:43.734Z"
   },
   {
    "duration": 4,
    "start_time": "2023-12-01T01:54:43.741Z"
   },
   {
    "duration": 28,
    "start_time": "2023-12-01T01:54:43.746Z"
   },
   {
    "duration": 165,
    "start_time": "2023-12-01T01:54:43.776Z"
   },
   {
    "duration": 2,
    "start_time": "2023-12-01T01:54:43.943Z"
   },
   {
    "duration": 31,
    "start_time": "2023-12-01T01:54:43.946Z"
   },
   {
    "duration": 32,
    "start_time": "2023-12-01T01:54:43.978Z"
   },
   {
    "duration": 28,
    "start_time": "2023-12-01T01:54:44.011Z"
   },
   {
    "duration": 26,
    "start_time": "2023-12-01T01:54:44.041Z"
   },
   {
    "duration": 35,
    "start_time": "2023-12-01T01:54:44.068Z"
   },
   {
    "duration": 23,
    "start_time": "2023-12-01T01:54:44.104Z"
   },
   {
    "duration": 32,
    "start_time": "2023-12-01T01:54:44.128Z"
   },
   {
    "duration": 9,
    "start_time": "2023-12-01T01:54:44.162Z"
   },
   {
    "duration": 39,
    "start_time": "2023-12-01T01:54:44.173Z"
   },
   {
    "duration": 37,
    "start_time": "2023-12-01T01:54:44.214Z"
   },
   {
    "duration": 18,
    "start_time": "2023-12-01T01:54:44.252Z"
   },
   {
    "duration": 17,
    "start_time": "2023-12-01T01:54:44.272Z"
   },
   {
    "duration": 3,
    "start_time": "2023-12-01T01:54:44.290Z"
   },
   {
    "duration": 35,
    "start_time": "2023-12-01T01:54:44.294Z"
   },
   {
    "duration": 16,
    "start_time": "2023-12-01T01:54:44.331Z"
   },
   {
    "duration": 4,
    "start_time": "2023-12-01T01:54:44.349Z"
   },
   {
    "duration": 12,
    "start_time": "2023-12-01T01:54:44.355Z"
   },
   {
    "duration": 8,
    "start_time": "2023-12-01T01:54:44.369Z"
   },
   {
    "duration": 29,
    "start_time": "2023-12-01T01:54:44.378Z"
   },
   {
    "duration": 20,
    "start_time": "2023-12-01T01:54:57.297Z"
   },
   {
    "duration": 4,
    "start_time": "2023-12-01T01:55:18.198Z"
   },
   {
    "duration": 175,
    "start_time": "2023-12-01T01:55:18.204Z"
   },
   {
    "duration": 7,
    "start_time": "2023-12-01T01:55:18.380Z"
   },
   {
    "duration": 26,
    "start_time": "2023-12-01T01:55:18.388Z"
   },
   {
    "duration": 5,
    "start_time": "2023-12-01T01:55:18.415Z"
   },
   {
    "duration": 17,
    "start_time": "2023-12-01T01:55:18.421Z"
   },
   {
    "duration": 8,
    "start_time": "2023-12-01T01:55:18.439Z"
   },
   {
    "duration": 90,
    "start_time": "2023-12-01T01:55:18.448Z"
   },
   {
    "duration": 97,
    "start_time": "2023-12-01T01:55:18.539Z"
   },
   {
    "duration": 101,
    "start_time": "2023-12-01T01:55:18.637Z"
   },
   {
    "duration": 37,
    "start_time": "2023-12-01T01:55:18.741Z"
   },
   {
    "duration": 45,
    "start_time": "2023-12-01T01:55:18.779Z"
   },
   {
    "duration": 28,
    "start_time": "2023-12-01T01:55:18.825Z"
   },
   {
    "duration": 40,
    "start_time": "2023-12-01T01:55:18.855Z"
   },
   {
    "duration": 6,
    "start_time": "2023-12-01T01:55:18.896Z"
   },
   {
    "duration": 30,
    "start_time": "2023-12-01T01:55:18.903Z"
   },
   {
    "duration": 26,
    "start_time": "2023-12-01T01:55:18.934Z"
   },
   {
    "duration": 20,
    "start_time": "2023-12-01T01:55:18.961Z"
   },
   {
    "duration": 39,
    "start_time": "2023-12-01T01:55:18.982Z"
   },
   {
    "duration": 376,
    "start_time": "2023-12-01T01:55:19.023Z"
   },
   {
    "duration": 33,
    "start_time": "2023-12-01T01:55:19.401Z"
   },
   {
    "duration": 12,
    "start_time": "2023-12-01T01:55:19.435Z"
   },
   {
    "duration": 46,
    "start_time": "2023-12-01T01:55:19.449Z"
   },
   {
    "duration": 22,
    "start_time": "2023-12-01T01:55:19.496Z"
   },
   {
    "duration": 28,
    "start_time": "2023-12-01T01:55:19.520Z"
   },
   {
    "duration": 67,
    "start_time": "2023-12-01T01:55:19.550Z"
   },
   {
    "duration": 24,
    "start_time": "2023-12-01T01:55:19.619Z"
   },
   {
    "duration": 66,
    "start_time": "2023-12-01T01:55:19.645Z"
   },
   {
    "duration": 8,
    "start_time": "2023-12-01T01:55:19.715Z"
   },
   {
    "duration": 7,
    "start_time": "2023-12-01T01:55:19.724Z"
   },
   {
    "duration": 107,
    "start_time": "2023-12-01T01:55:19.732Z"
   },
   {
    "duration": 47,
    "start_time": "2023-12-01T01:55:19.840Z"
   },
   {
    "duration": 6,
    "start_time": "2023-12-01T01:55:19.888Z"
   },
   {
    "duration": 8,
    "start_time": "2023-12-01T01:55:19.895Z"
   },
   {
    "duration": 24,
    "start_time": "2023-12-01T01:55:19.904Z"
   },
   {
    "duration": 4,
    "start_time": "2023-12-01T01:55:19.930Z"
   },
   {
    "duration": 7,
    "start_time": "2023-12-01T01:55:19.936Z"
   },
   {
    "duration": 7,
    "start_time": "2023-12-01T01:55:19.944Z"
   },
   {
    "duration": 20,
    "start_time": "2023-12-01T01:55:19.953Z"
   },
   {
    "duration": 25,
    "start_time": "2023-12-01T01:55:19.974Z"
   },
   {
    "duration": 16,
    "start_time": "2023-12-01T01:55:20.000Z"
   },
   {
    "duration": 21,
    "start_time": "2023-12-01T01:55:20.018Z"
   },
   {
    "duration": 200,
    "start_time": "2023-12-01T01:55:20.040Z"
   },
   {
    "duration": 4,
    "start_time": "2023-12-01T01:55:20.242Z"
   },
   {
    "duration": 29,
    "start_time": "2023-12-01T01:55:20.247Z"
   },
   {
    "duration": 3,
    "start_time": "2023-12-01T01:55:20.278Z"
   },
   {
    "duration": 4,
    "start_time": "2023-12-01T01:55:20.282Z"
   },
   {
    "duration": 3,
    "start_time": "2023-12-01T01:55:20.288Z"
   },
   {
    "duration": 14,
    "start_time": "2023-12-01T01:55:20.292Z"
   },
   {
    "duration": 164,
    "start_time": "2023-12-01T01:55:20.307Z"
   },
   {
    "duration": 2,
    "start_time": "2023-12-01T01:55:20.473Z"
   },
   {
    "duration": 30,
    "start_time": "2023-12-01T01:55:20.476Z"
   },
   {
    "duration": 26,
    "start_time": "2023-12-01T01:55:20.508Z"
   },
   {
    "duration": 9,
    "start_time": "2023-12-01T01:55:20.535Z"
   },
   {
    "duration": 32,
    "start_time": "2023-12-01T01:55:20.545Z"
   },
   {
    "duration": 26,
    "start_time": "2023-12-01T01:55:20.579Z"
   },
   {
    "duration": 3,
    "start_time": "2023-12-01T01:55:20.606Z"
   },
   {
    "duration": 14,
    "start_time": "2023-12-01T01:55:20.611Z"
   },
   {
    "duration": 8,
    "start_time": "2023-12-01T01:55:20.626Z"
   },
   {
    "duration": 6,
    "start_time": "2023-12-01T01:55:20.635Z"
   },
   {
    "duration": 10,
    "start_time": "2023-12-01T01:55:20.643Z"
   },
   {
    "duration": 13,
    "start_time": "2023-12-01T01:55:20.655Z"
   },
   {
    "duration": 30,
    "start_time": "2023-12-01T01:55:20.669Z"
   },
   {
    "duration": 4,
    "start_time": "2023-12-01T01:55:20.701Z"
   },
   {
    "duration": 19,
    "start_time": "2023-12-01T01:55:20.707Z"
   },
   {
    "duration": 23,
    "start_time": "2023-12-01T01:55:20.728Z"
   },
   {
    "duration": 4,
    "start_time": "2023-12-01T01:55:20.753Z"
   },
   {
    "duration": 11,
    "start_time": "2023-12-01T01:55:20.758Z"
   },
   {
    "duration": 25,
    "start_time": "2023-12-01T01:55:20.771Z"
   },
   {
    "duration": 18,
    "start_time": "2023-12-01T01:55:20.797Z"
   },
   {
    "duration": 4,
    "start_time": "2023-12-01T01:55:35.784Z"
   },
   {
    "duration": 169,
    "start_time": "2023-12-01T01:55:35.790Z"
   },
   {
    "duration": 15,
    "start_time": "2023-12-01T01:55:35.961Z"
   },
   {
    "duration": 27,
    "start_time": "2023-12-01T01:55:35.977Z"
   },
   {
    "duration": 2,
    "start_time": "2023-12-01T01:55:36.006Z"
   },
   {
    "duration": 18,
    "start_time": "2023-12-01T01:55:36.010Z"
   },
   {
    "duration": 20,
    "start_time": "2023-12-01T01:55:36.029Z"
   },
   {
    "duration": 92,
    "start_time": "2023-12-01T01:55:36.050Z"
   },
   {
    "duration": 88,
    "start_time": "2023-12-01T01:55:36.143Z"
   },
   {
    "duration": 105,
    "start_time": "2023-12-01T01:55:36.233Z"
   },
   {
    "duration": 36,
    "start_time": "2023-12-01T01:55:36.340Z"
   },
   {
    "duration": 45,
    "start_time": "2023-12-01T01:55:36.377Z"
   },
   {
    "duration": 30,
    "start_time": "2023-12-01T01:55:36.423Z"
   },
   {
    "duration": 43,
    "start_time": "2023-12-01T01:55:36.454Z"
   },
   {
    "duration": 21,
    "start_time": "2023-12-01T01:55:36.498Z"
   },
   {
    "duration": 23,
    "start_time": "2023-12-01T01:55:36.520Z"
   },
   {
    "duration": 33,
    "start_time": "2023-12-01T01:55:36.544Z"
   },
   {
    "duration": 21,
    "start_time": "2023-12-01T01:55:36.579Z"
   },
   {
    "duration": 60,
    "start_time": "2023-12-01T01:55:36.601Z"
   },
   {
    "duration": 387,
    "start_time": "2023-12-01T01:55:36.662Z"
   },
   {
    "duration": 45,
    "start_time": "2023-12-01T01:55:37.050Z"
   },
   {
    "duration": 12,
    "start_time": "2023-12-01T01:55:37.097Z"
   },
   {
    "duration": 33,
    "start_time": "2023-12-01T01:55:37.111Z"
   },
   {
    "duration": 35,
    "start_time": "2023-12-01T01:55:37.145Z"
   },
   {
    "duration": 29,
    "start_time": "2023-12-01T01:55:37.181Z"
   },
   {
    "duration": 68,
    "start_time": "2023-12-01T01:55:37.212Z"
   },
   {
    "duration": 25,
    "start_time": "2023-12-01T01:55:37.282Z"
   },
   {
    "duration": 64,
    "start_time": "2023-12-01T01:55:37.309Z"
   },
   {
    "duration": 8,
    "start_time": "2023-12-01T01:55:37.377Z"
   },
   {
    "duration": 7,
    "start_time": "2023-12-01T01:55:37.387Z"
   },
   {
    "duration": 107,
    "start_time": "2023-12-01T01:55:37.396Z"
   },
   {
    "duration": 41,
    "start_time": "2023-12-01T01:55:37.505Z"
   },
   {
    "duration": 6,
    "start_time": "2023-12-01T01:55:37.548Z"
   },
   {
    "duration": 22,
    "start_time": "2023-12-01T01:55:37.555Z"
   },
   {
    "duration": 12,
    "start_time": "2023-12-01T01:55:37.578Z"
   },
   {
    "duration": 10,
    "start_time": "2023-12-01T01:55:37.592Z"
   },
   {
    "duration": 24,
    "start_time": "2023-12-01T01:55:37.603Z"
   },
   {
    "duration": 13,
    "start_time": "2023-12-01T01:55:37.629Z"
   },
   {
    "duration": 9,
    "start_time": "2023-12-01T01:55:37.643Z"
   },
   {
    "duration": 28,
    "start_time": "2023-12-01T01:55:37.653Z"
   },
   {
    "duration": 18,
    "start_time": "2023-12-01T01:55:37.683Z"
   },
   {
    "duration": 21,
    "start_time": "2023-12-01T01:55:37.702Z"
   },
   {
    "duration": 202,
    "start_time": "2023-12-01T01:55:37.725Z"
   },
   {
    "duration": 4,
    "start_time": "2023-12-01T01:55:37.929Z"
   },
   {
    "duration": 18,
    "start_time": "2023-12-01T01:55:37.934Z"
   },
   {
    "duration": 20,
    "start_time": "2023-12-01T01:55:37.953Z"
   },
   {
    "duration": 4,
    "start_time": "2023-12-01T01:55:37.975Z"
   },
   {
    "duration": 4,
    "start_time": "2023-12-01T01:55:37.981Z"
   },
   {
    "duration": 6,
    "start_time": "2023-12-01T01:55:37.986Z"
   },
   {
    "duration": 187,
    "start_time": "2023-12-01T01:55:37.993Z"
   },
   {
    "duration": 3,
    "start_time": "2023-12-01T01:55:38.181Z"
   },
   {
    "duration": 4,
    "start_time": "2023-12-01T01:55:38.185Z"
   },
   {
    "duration": 16,
    "start_time": "2023-12-01T01:55:38.190Z"
   },
   {
    "duration": 7,
    "start_time": "2023-12-01T01:55:38.207Z"
   },
   {
    "duration": 2,
    "start_time": "2023-12-01T01:55:38.216Z"
   },
   {
    "duration": 14,
    "start_time": "2023-12-01T01:55:38.220Z"
   },
   {
    "duration": 2,
    "start_time": "2023-12-01T01:55:38.235Z"
   },
   {
    "duration": 13,
    "start_time": "2023-12-01T01:55:38.238Z"
   },
   {
    "duration": 8,
    "start_time": "2023-12-01T01:55:38.274Z"
   },
   {
    "duration": 6,
    "start_time": "2023-12-01T01:55:38.283Z"
   },
   {
    "duration": 8,
    "start_time": "2023-12-01T01:55:38.290Z"
   },
   {
    "duration": 11,
    "start_time": "2023-12-01T01:55:38.299Z"
   },
   {
    "duration": 19,
    "start_time": "2023-12-01T01:55:38.312Z"
   },
   {
    "duration": 4,
    "start_time": "2023-12-01T01:55:38.332Z"
   },
   {
    "duration": 15,
    "start_time": "2023-12-01T01:55:38.337Z"
   },
   {
    "duration": 30,
    "start_time": "2023-12-01T01:55:38.354Z"
   },
   {
    "duration": 5,
    "start_time": "2023-12-01T01:55:38.385Z"
   },
   {
    "duration": 14,
    "start_time": "2023-12-01T01:55:38.391Z"
   },
   {
    "duration": 11,
    "start_time": "2023-12-01T01:55:38.406Z"
   },
   {
    "duration": 23,
    "start_time": "2023-12-01T01:55:38.418Z"
   },
   {
    "duration": 5,
    "start_time": "2023-12-01T02:55:31.046Z"
   },
   {
    "duration": 70,
    "start_time": "2023-12-01T02:55:41.361Z"
   },
   {
    "duration": 1217,
    "start_time": "2023-12-01T04:28:42.098Z"
   },
   {
    "duration": 180,
    "start_time": "2023-12-01T04:28:43.317Z"
   },
   {
    "duration": 11,
    "start_time": "2023-12-01T04:28:43.498Z"
   },
   {
    "duration": 23,
    "start_time": "2023-12-01T04:28:43.516Z"
   },
   {
    "duration": 3,
    "start_time": "2023-12-01T04:28:43.541Z"
   },
   {
    "duration": 32,
    "start_time": "2023-12-01T04:28:43.545Z"
   },
   {
    "duration": 10,
    "start_time": "2023-12-01T04:28:43.579Z"
   },
   {
    "duration": 85,
    "start_time": "2023-12-01T04:28:43.591Z"
   },
   {
    "duration": 109,
    "start_time": "2023-12-01T04:28:43.677Z"
   },
   {
    "duration": 103,
    "start_time": "2023-12-01T04:28:43.788Z"
   },
   {
    "duration": 127,
    "start_time": "2023-12-01T04:28:43.892Z"
   },
   {
    "duration": 37,
    "start_time": "2023-12-01T04:28:44.021Z"
   },
   {
    "duration": 70,
    "start_time": "2023-12-01T04:28:44.061Z"
   },
   {
    "duration": 30,
    "start_time": "2023-12-01T04:28:44.132Z"
   },
   {
    "duration": 26,
    "start_time": "2023-12-01T04:28:44.163Z"
   },
   {
    "duration": 24,
    "start_time": "2023-12-01T04:28:44.191Z"
   },
   {
    "duration": 22,
    "start_time": "2023-12-01T04:28:44.216Z"
   },
   {
    "duration": 20,
    "start_time": "2023-12-01T04:28:44.239Z"
   },
   {
    "duration": 23,
    "start_time": "2023-12-01T04:28:44.260Z"
   },
   {
    "duration": 59,
    "start_time": "2023-12-01T04:28:44.285Z"
   },
   {
    "duration": 404,
    "start_time": "2023-12-01T04:28:44.345Z"
   },
   {
    "duration": 34,
    "start_time": "2023-12-01T04:28:44.750Z"
   },
   {
    "duration": 31,
    "start_time": "2023-12-01T04:28:44.785Z"
   },
   {
    "duration": 44,
    "start_time": "2023-12-01T04:28:44.817Z"
   },
   {
    "duration": 26,
    "start_time": "2023-12-01T04:28:44.863Z"
   },
   {
    "duration": 34,
    "start_time": "2023-12-01T04:28:44.890Z"
   },
   {
    "duration": 65,
    "start_time": "2023-12-01T04:28:44.925Z"
   },
   {
    "duration": 58,
    "start_time": "2023-12-01T04:28:44.996Z"
   },
   {
    "duration": 81,
    "start_time": "2023-12-01T04:28:45.057Z"
   },
   {
    "duration": 9,
    "start_time": "2023-12-01T04:28:45.140Z"
   },
   {
    "duration": 21,
    "start_time": "2023-12-01T04:28:45.150Z"
   },
   {
    "duration": 99,
    "start_time": "2023-12-01T04:28:45.172Z"
   },
   {
    "duration": 48,
    "start_time": "2023-12-01T04:28:45.272Z"
   },
   {
    "duration": 7,
    "start_time": "2023-12-01T04:28:45.322Z"
   },
   {
    "duration": 13,
    "start_time": "2023-12-01T04:28:45.331Z"
   },
   {
    "duration": 9,
    "start_time": "2023-12-01T04:28:45.345Z"
   },
   {
    "duration": 25,
    "start_time": "2023-12-01T04:28:45.356Z"
   },
   {
    "duration": 11,
    "start_time": "2023-12-01T04:28:45.383Z"
   },
   {
    "duration": 13,
    "start_time": "2023-12-01T04:28:45.402Z"
   },
   {
    "duration": 9,
    "start_time": "2023-12-01T04:28:45.417Z"
   },
   {
    "duration": 36,
    "start_time": "2023-12-01T04:28:45.428Z"
   },
   {
    "duration": 17,
    "start_time": "2023-12-01T04:28:45.465Z"
   },
   {
    "duration": 40,
    "start_time": "2023-12-01T04:28:45.484Z"
   },
   {
    "duration": 188,
    "start_time": "2023-12-01T04:28:45.526Z"
   },
   {
    "duration": 4,
    "start_time": "2023-12-01T04:28:45.715Z"
   },
   {
    "duration": 19,
    "start_time": "2023-12-01T04:28:45.721Z"
   },
   {
    "duration": 3,
    "start_time": "2023-12-01T04:28:45.742Z"
   },
   {
    "duration": 5,
    "start_time": "2023-12-01T04:28:45.746Z"
   },
   {
    "duration": 8,
    "start_time": "2023-12-01T04:28:45.753Z"
   },
   {
    "duration": 9,
    "start_time": "2023-12-01T04:28:45.763Z"
   },
   {
    "duration": 188,
    "start_time": "2023-12-01T04:28:45.773Z"
   },
   {
    "duration": 3,
    "start_time": "2023-12-01T04:28:45.962Z"
   },
   {
    "duration": 6,
    "start_time": "2023-12-01T04:28:45.966Z"
   },
   {
    "duration": 7,
    "start_time": "2023-12-01T04:28:45.974Z"
   },
   {
    "duration": 18,
    "start_time": "2023-12-01T04:28:45.982Z"
   },
   {
    "duration": 14,
    "start_time": "2023-12-01T04:28:46.001Z"
   },
   {
    "duration": 13,
    "start_time": "2023-12-01T04:28:46.016Z"
   },
   {
    "duration": 3,
    "start_time": "2023-12-01T04:28:46.030Z"
   },
   {
    "duration": 12,
    "start_time": "2023-12-01T04:28:46.034Z"
   },
   {
    "duration": 8,
    "start_time": "2023-12-01T04:28:46.047Z"
   },
   {
    "duration": 3,
    "start_time": "2023-12-01T04:28:46.057Z"
   },
   {
    "duration": 4,
    "start_time": "2023-12-01T04:28:46.061Z"
   },
   {
    "duration": 22,
    "start_time": "2023-12-01T04:28:46.066Z"
   },
   {
    "duration": 37,
    "start_time": "2023-12-01T04:28:46.089Z"
   },
   {
    "duration": 7,
    "start_time": "2023-12-01T04:28:46.128Z"
   },
   {
    "duration": 19,
    "start_time": "2023-12-01T04:28:46.136Z"
   },
   {
    "duration": 15,
    "start_time": "2023-12-01T04:28:46.157Z"
   },
   {
    "duration": 5,
    "start_time": "2023-12-01T04:28:46.173Z"
   },
   {
    "duration": 6,
    "start_time": "2023-12-01T04:28:46.180Z"
   },
   {
    "duration": 32,
    "start_time": "2023-12-01T04:28:46.188Z"
   },
   {
    "duration": 32,
    "start_time": "2023-12-01T04:28:46.221Z"
   },
   {
    "duration": 147,
    "start_time": "2023-12-01T05:16:19.756Z"
   },
   {
    "duration": 1080,
    "start_time": "2023-12-01T05:17:07.751Z"
   },
   {
    "duration": 187,
    "start_time": "2023-12-01T05:17:10.595Z"
   },
   {
    "duration": 10,
    "start_time": "2023-12-01T05:17:11.618Z"
   },
   {
    "duration": 23,
    "start_time": "2023-12-01T05:17:12.618Z"
   },
   {
    "duration": 3,
    "start_time": "2023-12-01T05:17:15.374Z"
   },
   {
    "duration": 17,
    "start_time": "2023-12-01T05:17:16.345Z"
   },
   {
    "duration": 11,
    "start_time": "2023-12-01T05:17:17.944Z"
   },
   {
    "duration": 83,
    "start_time": "2023-12-01T05:17:18.829Z"
   },
   {
    "duration": 103,
    "start_time": "2023-12-01T05:17:19.988Z"
   },
   {
    "duration": 88,
    "start_time": "2023-12-01T05:17:20.467Z"
   },
   {
    "duration": 135,
    "start_time": "2023-12-01T05:17:21.528Z"
   },
   {
    "duration": 32,
    "start_time": "2023-12-01T05:17:22.566Z"
   },
   {
    "duration": 58,
    "start_time": "2023-12-01T05:17:23.024Z"
   },
   {
    "duration": 46,
    "start_time": "2023-12-01T05:17:25.401Z"
   },
   {
    "duration": 26,
    "start_time": "2023-12-01T05:17:26.129Z"
   },
   {
    "duration": 9,
    "start_time": "2023-12-01T05:17:27.043Z"
   },
   {
    "duration": 34,
    "start_time": "2023-12-01T05:17:27.797Z"
   },
   {
    "duration": 34,
    "start_time": "2023-12-01T05:17:28.796Z"
   },
   {
    "duration": 24,
    "start_time": "2023-12-01T05:17:29.606Z"
   },
   {
    "duration": 39,
    "start_time": "2023-12-01T05:17:30.652Z"
   },
   {
    "duration": 392,
    "start_time": "2023-12-01T05:17:31.077Z"
   },
   {
    "duration": 33,
    "start_time": "2023-12-01T05:17:35.117Z"
   },
   {
    "duration": 14,
    "start_time": "2023-12-01T05:17:36.746Z"
   },
   {
    "duration": 28,
    "start_time": "2023-12-01T05:17:37.370Z"
   },
   {
    "duration": 24,
    "start_time": "2023-12-01T05:17:38.542Z"
   },
   {
    "duration": 31,
    "start_time": "2023-12-01T05:17:40.877Z"
   },
   {
    "duration": 60,
    "start_time": "2023-12-01T05:17:41.827Z"
   },
   {
    "duration": 25,
    "start_time": "2023-12-01T05:17:46.749Z"
   },
   {
    "duration": 53,
    "start_time": "2023-12-01T05:17:48.896Z"
   },
   {
    "duration": 9,
    "start_time": "2023-12-01T05:17:50.899Z"
   },
   {
    "duration": 6,
    "start_time": "2023-12-01T05:17:54.097Z"
   },
   {
    "duration": 93,
    "start_time": "2023-12-01T05:17:54.589Z"
   },
   {
    "duration": 41,
    "start_time": "2023-12-01T05:17:55.070Z"
   },
   {
    "duration": 6,
    "start_time": "2023-12-01T05:17:55.497Z"
   },
   {
    "duration": 9,
    "start_time": "2023-12-01T05:17:55.956Z"
   },
   {
    "duration": 7,
    "start_time": "2023-12-01T05:17:57.430Z"
   },
   {
    "duration": 6,
    "start_time": "2023-12-01T05:17:57.955Z"
   },
   {
    "duration": 7,
    "start_time": "2023-12-01T05:17:59.173Z"
   },
   {
    "duration": 1225,
    "start_time": "2023-12-01T05:26:19.181Z"
   },
   {
    "duration": 177,
    "start_time": "2023-12-01T05:26:20.408Z"
   },
   {
    "duration": 10,
    "start_time": "2023-12-01T05:26:20.586Z"
   },
   {
    "duration": 31,
    "start_time": "2023-12-01T05:26:20.598Z"
   },
   {
    "duration": 3,
    "start_time": "2023-12-01T05:26:20.630Z"
   },
   {
    "duration": 27,
    "start_time": "2023-12-01T05:26:20.635Z"
   },
   {
    "duration": 31,
    "start_time": "2023-12-01T05:26:20.663Z"
   },
   {
    "duration": 78,
    "start_time": "2023-12-01T05:26:20.695Z"
   },
   {
    "duration": 99,
    "start_time": "2023-12-01T05:26:20.775Z"
   },
   {
    "duration": 94,
    "start_time": "2023-12-01T05:26:20.877Z"
   },
   {
    "duration": 148,
    "start_time": "2023-12-01T05:26:20.973Z"
   },
   {
    "duration": 30,
    "start_time": "2023-12-01T05:26:21.123Z"
   },
   {
    "duration": 67,
    "start_time": "2023-12-01T05:26:21.154Z"
   },
   {
    "duration": 30,
    "start_time": "2023-12-01T05:26:21.222Z"
   },
   {
    "duration": 26,
    "start_time": "2023-12-01T05:26:21.254Z"
   },
   {
    "duration": 34,
    "start_time": "2023-12-01T05:26:21.281Z"
   },
   {
    "duration": 20,
    "start_time": "2023-12-01T05:26:21.317Z"
   },
   {
    "duration": 18,
    "start_time": "2023-12-01T05:26:21.339Z"
   },
   {
    "duration": 23,
    "start_time": "2023-12-01T05:26:21.358Z"
   },
   {
    "duration": 82,
    "start_time": "2023-12-01T05:26:21.382Z"
   },
   {
    "duration": 417,
    "start_time": "2023-12-01T05:26:21.466Z"
   },
   {
    "duration": 33,
    "start_time": "2023-12-01T05:26:21.884Z"
   },
   {
    "duration": 12,
    "start_time": "2023-12-01T05:26:21.918Z"
   },
   {
    "duration": 29,
    "start_time": "2023-12-01T05:26:21.932Z"
   },
   {
    "duration": 21,
    "start_time": "2023-12-01T05:26:21.962Z"
   },
   {
    "duration": 52,
    "start_time": "2023-12-01T05:26:21.985Z"
   },
   {
    "duration": 55,
    "start_time": "2023-12-01T05:26:22.038Z"
   },
   {
    "duration": 42,
    "start_time": "2023-12-01T05:26:22.097Z"
   },
   {
    "duration": 74,
    "start_time": "2023-12-01T05:26:22.141Z"
   },
   {
    "duration": 9,
    "start_time": "2023-12-01T05:26:22.217Z"
   },
   {
    "duration": 10,
    "start_time": "2023-12-01T05:26:22.227Z"
   },
   {
    "duration": 102,
    "start_time": "2023-12-01T05:26:22.239Z"
   },
   {
    "duration": 40,
    "start_time": "2023-12-01T05:26:22.343Z"
   },
   {
    "duration": 7,
    "start_time": "2023-12-01T05:26:22.385Z"
   },
   {
    "duration": 33,
    "start_time": "2023-12-01T05:26:22.393Z"
   },
   {
    "duration": 7,
    "start_time": "2023-12-01T05:26:22.428Z"
   },
   {
    "duration": 6,
    "start_time": "2023-12-01T05:26:22.436Z"
   },
   {
    "duration": 17,
    "start_time": "2023-12-01T05:26:22.443Z"
   },
   {
    "duration": 11,
    "start_time": "2023-12-01T05:26:22.461Z"
   },
   {
    "duration": 8,
    "start_time": "2023-12-01T05:26:22.474Z"
   },
   {
    "duration": 44,
    "start_time": "2023-12-01T05:26:22.484Z"
   },
   {
    "duration": 20,
    "start_time": "2023-12-01T05:26:22.529Z"
   },
   {
    "duration": 160,
    "start_time": "2023-12-01T05:26:22.551Z"
   },
   {
    "duration": 0,
    "start_time": "2023-12-01T05:26:22.714Z"
   },
   {
    "duration": 0,
    "start_time": "2023-12-01T05:26:22.716Z"
   },
   {
    "duration": 0,
    "start_time": "2023-12-01T05:26:22.717Z"
   },
   {
    "duration": 0,
    "start_time": "2023-12-01T05:26:22.719Z"
   },
   {
    "duration": 0,
    "start_time": "2023-12-01T05:26:22.720Z"
   },
   {
    "duration": 0,
    "start_time": "2023-12-01T05:26:22.721Z"
   },
   {
    "duration": 0,
    "start_time": "2023-12-01T05:26:22.723Z"
   },
   {
    "duration": 0,
    "start_time": "2023-12-01T05:26:22.724Z"
   },
   {
    "duration": 0,
    "start_time": "2023-12-01T05:26:22.726Z"
   },
   {
    "duration": 0,
    "start_time": "2023-12-01T05:26:22.727Z"
   },
   {
    "duration": 0,
    "start_time": "2023-12-01T05:26:22.729Z"
   },
   {
    "duration": 0,
    "start_time": "2023-12-01T05:26:22.730Z"
   },
   {
    "duration": 0,
    "start_time": "2023-12-01T05:26:22.731Z"
   },
   {
    "duration": 0,
    "start_time": "2023-12-01T05:26:22.733Z"
   },
   {
    "duration": 0,
    "start_time": "2023-12-01T05:26:22.734Z"
   },
   {
    "duration": 0,
    "start_time": "2023-12-01T05:26:22.736Z"
   },
   {
    "duration": 0,
    "start_time": "2023-12-01T05:26:22.737Z"
   },
   {
    "duration": 0,
    "start_time": "2023-12-01T05:26:22.739Z"
   },
   {
    "duration": 0,
    "start_time": "2023-12-01T05:26:22.740Z"
   },
   {
    "duration": 0,
    "start_time": "2023-12-01T05:26:22.742Z"
   },
   {
    "duration": 0,
    "start_time": "2023-12-01T05:26:22.743Z"
   },
   {
    "duration": 0,
    "start_time": "2023-12-01T05:26:22.745Z"
   },
   {
    "duration": 0,
    "start_time": "2023-12-01T05:26:22.746Z"
   },
   {
    "duration": 0,
    "start_time": "2023-12-01T05:26:22.747Z"
   },
   {
    "duration": 0,
    "start_time": "2023-12-01T05:26:22.749Z"
   },
   {
    "duration": 0,
    "start_time": "2023-12-01T05:26:22.750Z"
   },
   {
    "duration": 0,
    "start_time": "2023-12-01T05:26:22.752Z"
   },
   {
    "duration": 0,
    "start_time": "2023-12-01T05:26:22.753Z"
   },
   {
    "duration": 0,
    "start_time": "2023-12-01T05:26:22.815Z"
   },
   {
    "duration": 37,
    "start_time": "2023-12-01T05:26:39.221Z"
   },
   {
    "duration": 33,
    "start_time": "2023-12-01T05:27:08.040Z"
   },
   {
    "duration": 205,
    "start_time": "2023-12-01T05:27:08.814Z"
   },
   {
    "duration": 6,
    "start_time": "2023-12-01T05:27:11.076Z"
   },
   {
    "duration": 22,
    "start_time": "2023-12-01T05:27:14.055Z"
   },
   {
    "duration": 3,
    "start_time": "2023-12-01T05:27:21.824Z"
   },
   {
    "duration": 5,
    "start_time": "2023-12-01T05:27:22.298Z"
   },
   {
    "duration": 5,
    "start_time": "2023-12-01T05:27:22.805Z"
   },
   {
    "duration": 7,
    "start_time": "2023-12-01T05:27:23.285Z"
   },
   {
    "duration": 177,
    "start_time": "2023-12-01T05:27:23.811Z"
   },
   {
    "duration": 3,
    "start_time": "2023-12-01T05:27:30.183Z"
   },
   {
    "duration": 2,
    "start_time": "2023-12-01T05:27:30.727Z"
   },
   {
    "duration": 4,
    "start_time": "2023-12-01T05:27:31.384Z"
   },
   {
    "duration": 8,
    "start_time": "2023-12-01T05:27:31.957Z"
   },
   {
    "duration": 4,
    "start_time": "2023-12-01T05:30:18.405Z"
   },
   {
    "duration": 15,
    "start_time": "2023-12-01T05:30:18.864Z"
   },
   {
    "duration": 3,
    "start_time": "2023-12-01T05:30:19.353Z"
   },
   {
    "duration": 12,
    "start_time": "2023-12-01T05:30:19.994Z"
   },
   {
    "duration": 8,
    "start_time": "2023-12-01T05:30:20.653Z"
   },
   {
    "duration": 3,
    "start_time": "2023-12-01T05:31:56.423Z"
   },
   {
    "duration": 2,
    "start_time": "2023-12-01T05:31:56.914Z"
   },
   {
    "duration": 6,
    "start_time": "2023-12-01T05:31:57.593Z"
   },
   {
    "duration": 16,
    "start_time": "2023-12-01T05:31:58.355Z"
   },
   {
    "duration": 1436,
    "start_time": "2023-12-02T13:54:21.086Z"
   },
   {
    "duration": 503,
    "start_time": "2023-12-02T13:54:22.525Z"
   },
   {
    "duration": 13,
    "start_time": "2023-12-02T13:54:23.030Z"
   },
   {
    "duration": 26,
    "start_time": "2023-12-02T13:54:23.045Z"
   },
   {
    "duration": 3,
    "start_time": "2023-12-02T13:54:23.081Z"
   },
   {
    "duration": 24,
    "start_time": "2023-12-02T13:54:23.086Z"
   },
   {
    "duration": 25,
    "start_time": "2023-12-02T13:54:23.113Z"
   },
   {
    "duration": 97,
    "start_time": "2023-12-02T13:54:23.140Z"
   },
   {
    "duration": 113,
    "start_time": "2023-12-02T13:54:23.238Z"
   },
   {
    "duration": 100,
    "start_time": "2023-12-02T13:54:23.354Z"
   },
   {
    "duration": 130,
    "start_time": "2023-12-02T13:54:23.456Z"
   },
   {
    "duration": 33,
    "start_time": "2023-12-02T13:54:23.588Z"
   },
   {
    "duration": 61,
    "start_time": "2023-12-02T13:54:23.623Z"
   },
   {
    "duration": 29,
    "start_time": "2023-12-02T13:54:23.686Z"
   },
   {
    "duration": 26,
    "start_time": "2023-12-02T13:54:23.716Z"
   },
   {
    "duration": 22,
    "start_time": "2023-12-02T13:54:23.744Z"
   },
   {
    "duration": 34,
    "start_time": "2023-12-02T13:54:23.767Z"
   },
   {
    "duration": 20,
    "start_time": "2023-12-02T13:54:23.802Z"
   },
   {
    "duration": 30,
    "start_time": "2023-12-02T13:54:23.824Z"
   },
   {
    "duration": 65,
    "start_time": "2023-12-02T13:54:23.857Z"
   },
   {
    "duration": 452,
    "start_time": "2023-12-02T13:54:23.924Z"
   },
   {
    "duration": 35,
    "start_time": "2023-12-02T13:54:24.378Z"
   },
   {
    "duration": 20,
    "start_time": "2023-12-02T13:54:24.415Z"
   },
   {
    "duration": 46,
    "start_time": "2023-12-02T13:54:24.436Z"
   },
   {
    "duration": 26,
    "start_time": "2023-12-02T13:54:24.483Z"
   },
   {
    "duration": 32,
    "start_time": "2023-12-02T13:54:24.510Z"
   },
   {
    "duration": 81,
    "start_time": "2023-12-02T13:54:24.544Z"
   },
   {
    "duration": 27,
    "start_time": "2023-12-02T13:54:24.629Z"
   },
   {
    "duration": 74,
    "start_time": "2023-12-02T13:54:24.658Z"
   },
   {
    "duration": 14,
    "start_time": "2023-12-02T13:54:24.734Z"
   },
   {
    "duration": 8,
    "start_time": "2023-12-02T13:54:24.750Z"
   },
   {
    "duration": 128,
    "start_time": "2023-12-02T13:54:24.760Z"
   },
   {
    "duration": 44,
    "start_time": "2023-12-02T13:54:24.889Z"
   },
   {
    "duration": 31,
    "start_time": "2023-12-02T13:54:24.935Z"
   },
   {
    "duration": 10,
    "start_time": "2023-12-02T13:54:24.984Z"
   },
   {
    "duration": 30,
    "start_time": "2023-12-02T13:54:24.995Z"
   },
   {
    "duration": 12,
    "start_time": "2023-12-02T13:54:25.027Z"
   },
   {
    "duration": 45,
    "start_time": "2023-12-02T13:54:25.041Z"
   },
   {
    "duration": 12,
    "start_time": "2023-12-02T13:54:25.088Z"
   },
   {
    "duration": 13,
    "start_time": "2023-12-02T13:54:25.102Z"
   },
   {
    "duration": 83,
    "start_time": "2023-12-02T13:54:25.117Z"
   },
   {
    "duration": 84,
    "start_time": "2023-12-02T13:54:25.204Z"
   },
   {
    "duration": 99,
    "start_time": "2023-12-02T13:54:25.290Z"
   },
   {
    "duration": 21,
    "start_time": "2023-12-02T13:54:25.390Z"
   },
   {
    "duration": 393,
    "start_time": "2023-12-02T13:54:25.413Z"
   },
   {
    "duration": 4,
    "start_time": "2023-12-02T13:54:25.808Z"
   },
   {
    "duration": 68,
    "start_time": "2023-12-02T13:54:25.814Z"
   },
   {
    "duration": 3,
    "start_time": "2023-12-02T13:54:25.884Z"
   },
   {
    "duration": 5,
    "start_time": "2023-12-02T13:54:25.888Z"
   },
   {
    "duration": 3,
    "start_time": "2023-12-02T13:54:25.894Z"
   },
   {
    "duration": 4,
    "start_time": "2023-12-02T13:54:25.898Z"
   },
   {
    "duration": 316,
    "start_time": "2023-12-02T13:54:25.903Z"
   },
   {
    "duration": 2,
    "start_time": "2023-12-02T13:54:26.220Z"
   },
   {
    "duration": 5,
    "start_time": "2023-12-02T13:54:26.224Z"
   },
   {
    "duration": 4,
    "start_time": "2023-12-02T13:54:26.281Z"
   },
   {
    "duration": 8,
    "start_time": "2023-12-02T13:54:26.287Z"
   },
   {
    "duration": 2,
    "start_time": "2023-12-02T13:54:26.297Z"
   },
   {
    "duration": 28,
    "start_time": "2023-12-02T13:54:26.300Z"
   },
   {
    "duration": 3,
    "start_time": "2023-12-02T13:54:26.330Z"
   },
   {
    "duration": 16,
    "start_time": "2023-12-02T13:54:26.381Z"
   },
   {
    "duration": 11,
    "start_time": "2023-12-02T13:54:26.399Z"
   },
   {
    "duration": 3,
    "start_time": "2023-12-02T13:54:26.411Z"
   },
   {
    "duration": 3,
    "start_time": "2023-12-02T13:54:26.416Z"
   },
   {
    "duration": 63,
    "start_time": "2023-12-02T13:54:26.420Z"
   },
   {
    "duration": 27,
    "start_time": "2023-12-02T13:54:26.485Z"
   },
   {
    "duration": 3,
    "start_time": "2023-12-02T13:54:26.514Z"
   },
   {
    "duration": 66,
    "start_time": "2023-12-02T13:54:26.518Z"
   },
   {
    "duration": 19,
    "start_time": "2023-12-02T13:54:26.586Z"
   },
   {
    "duration": 6,
    "start_time": "2023-12-02T13:54:26.607Z"
   },
   {
    "duration": 8,
    "start_time": "2023-12-02T13:54:26.615Z"
   },
   {
    "duration": 64,
    "start_time": "2023-12-02T13:54:26.625Z"
   },
   {
    "duration": 18,
    "start_time": "2023-12-02T13:54:26.690Z"
   },
   {
    "duration": 21,
    "start_time": "2023-12-02T13:57:07.421Z"
   },
   {
    "duration": 231,
    "start_time": "2023-12-02T13:57:08.027Z"
   },
   {
    "duration": 5,
    "start_time": "2023-12-02T13:57:16.288Z"
   },
   {
    "duration": 174,
    "start_time": "2023-12-02T13:57:16.295Z"
   },
   {
    "duration": 7,
    "start_time": "2023-12-02T13:57:16.471Z"
   },
   {
    "duration": 20,
    "start_time": "2023-12-02T13:57:16.481Z"
   },
   {
    "duration": 3,
    "start_time": "2023-12-02T13:57:16.502Z"
   },
   {
    "duration": 16,
    "start_time": "2023-12-02T13:57:16.506Z"
   },
   {
    "duration": 5,
    "start_time": "2023-12-02T13:57:16.524Z"
   },
   {
    "duration": 82,
    "start_time": "2023-12-02T13:57:16.530Z"
   },
   {
    "duration": 87,
    "start_time": "2023-12-02T13:57:16.614Z"
   },
   {
    "duration": 86,
    "start_time": "2023-12-02T13:57:16.703Z"
   },
   {
    "duration": 107,
    "start_time": "2023-12-02T13:57:16.791Z"
   },
   {
    "duration": 29,
    "start_time": "2023-12-02T13:57:16.900Z"
   },
   {
    "duration": 53,
    "start_time": "2023-12-02T13:57:16.930Z"
   },
   {
    "duration": 28,
    "start_time": "2023-12-02T13:57:16.984Z"
   },
   {
    "duration": 25,
    "start_time": "2023-12-02T13:57:17.013Z"
   },
   {
    "duration": 15,
    "start_time": "2023-12-02T13:57:17.039Z"
   },
   {
    "duration": 40,
    "start_time": "2023-12-02T13:57:17.055Z"
   },
   {
    "duration": 18,
    "start_time": "2023-12-02T13:57:17.096Z"
   },
   {
    "duration": 26,
    "start_time": "2023-12-02T13:57:17.115Z"
   },
   {
    "duration": 27,
    "start_time": "2023-12-02T13:57:17.142Z"
   },
   {
    "duration": 4,
    "start_time": "2023-12-02T13:57:25.946Z"
   },
   {
    "duration": 174,
    "start_time": "2023-12-02T13:57:25.952Z"
   },
   {
    "duration": 7,
    "start_time": "2023-12-02T13:57:26.128Z"
   },
   {
    "duration": 37,
    "start_time": "2023-12-02T13:57:26.136Z"
   },
   {
    "duration": 3,
    "start_time": "2023-12-02T13:57:26.174Z"
   },
   {
    "duration": 23,
    "start_time": "2023-12-02T13:57:26.178Z"
   },
   {
    "duration": 6,
    "start_time": "2023-12-02T13:57:26.202Z"
   },
   {
    "duration": 74,
    "start_time": "2023-12-02T13:57:26.210Z"
   },
   {
    "duration": 88,
    "start_time": "2023-12-02T13:57:26.285Z"
   },
   {
    "duration": 79,
    "start_time": "2023-12-02T13:57:26.382Z"
   },
   {
    "duration": 108,
    "start_time": "2023-12-02T13:57:26.463Z"
   },
   {
    "duration": 36,
    "start_time": "2023-12-02T13:57:26.573Z"
   },
   {
    "duration": 44,
    "start_time": "2023-12-02T13:57:26.611Z"
   },
   {
    "duration": 42,
    "start_time": "2023-12-02T13:57:26.656Z"
   },
   {
    "duration": 23,
    "start_time": "2023-12-02T13:57:26.699Z"
   },
   {
    "duration": 9,
    "start_time": "2023-12-02T13:57:26.723Z"
   },
   {
    "duration": 25,
    "start_time": "2023-12-02T13:57:26.733Z"
   },
   {
    "duration": 18,
    "start_time": "2023-12-02T13:57:26.781Z"
   },
   {
    "duration": 17,
    "start_time": "2023-12-02T13:57:26.800Z"
   },
   {
    "duration": 39,
    "start_time": "2023-12-02T13:57:26.819Z"
   },
   {
    "duration": 1226,
    "start_time": "2023-12-02T13:57:42.076Z"
   },
   {
    "duration": 182,
    "start_time": "2023-12-02T13:57:43.304Z"
   },
   {
    "duration": 11,
    "start_time": "2023-12-02T13:57:43.488Z"
   },
   {
    "duration": 22,
    "start_time": "2023-12-02T13:57:43.501Z"
   },
   {
    "duration": 9,
    "start_time": "2023-12-02T13:57:43.525Z"
   },
   {
    "duration": 32,
    "start_time": "2023-12-02T13:57:43.535Z"
   },
   {
    "duration": 36,
    "start_time": "2023-12-02T13:57:43.570Z"
   },
   {
    "duration": 80,
    "start_time": "2023-12-02T13:57:43.608Z"
   },
   {
    "duration": 108,
    "start_time": "2023-12-02T13:57:43.689Z"
   },
   {
    "duration": 105,
    "start_time": "2023-12-02T13:57:43.799Z"
   },
   {
    "duration": 134,
    "start_time": "2023-12-02T13:57:43.906Z"
   },
   {
    "duration": 44,
    "start_time": "2023-12-02T13:57:44.042Z"
   },
   {
    "duration": 51,
    "start_time": "2023-12-02T13:57:44.087Z"
   },
   {
    "duration": 42,
    "start_time": "2023-12-02T13:57:44.140Z"
   },
   {
    "duration": 27,
    "start_time": "2023-12-02T13:57:44.183Z"
   },
   {
    "duration": 18,
    "start_time": "2023-12-02T13:57:44.211Z"
   },
   {
    "duration": 24,
    "start_time": "2023-12-02T13:57:44.230Z"
   },
   {
    "duration": 50,
    "start_time": "2023-12-02T13:57:44.255Z"
   },
   {
    "duration": 44,
    "start_time": "2023-12-02T13:57:44.307Z"
   },
   {
    "duration": 52,
    "start_time": "2023-12-02T13:57:44.353Z"
   },
   {
    "duration": 1030,
    "start_time": "2023-12-02T13:58:06.239Z"
   },
   {
    "duration": 167,
    "start_time": "2023-12-02T13:58:07.271Z"
   },
   {
    "duration": 9,
    "start_time": "2023-12-02T13:58:07.440Z"
   },
   {
    "duration": 31,
    "start_time": "2023-12-02T13:58:07.451Z"
   },
   {
    "duration": 2,
    "start_time": "2023-12-02T13:58:07.483Z"
   },
   {
    "duration": 16,
    "start_time": "2023-12-02T13:58:07.487Z"
   },
   {
    "duration": 9,
    "start_time": "2023-12-02T13:58:07.504Z"
   },
   {
    "duration": 84,
    "start_time": "2023-12-02T13:58:07.514Z"
   },
   {
    "duration": 94,
    "start_time": "2023-12-02T13:58:07.600Z"
   },
   {
    "duration": 87,
    "start_time": "2023-12-02T13:58:07.696Z"
   },
   {
    "duration": 130,
    "start_time": "2023-12-02T13:58:07.784Z"
   },
   {
    "duration": 29,
    "start_time": "2023-12-02T13:58:07.915Z"
   },
   {
    "duration": 62,
    "start_time": "2023-12-02T13:58:07.946Z"
   },
   {
    "duration": 28,
    "start_time": "2023-12-02T13:58:08.010Z"
   },
   {
    "duration": 24,
    "start_time": "2023-12-02T13:58:08.039Z"
   },
   {
    "duration": 7,
    "start_time": "2023-12-02T13:58:08.081Z"
   },
   {
    "duration": 19,
    "start_time": "2023-12-02T13:58:08.089Z"
   },
   {
    "duration": 16,
    "start_time": "2023-12-02T13:58:08.110Z"
   },
   {
    "duration": 25,
    "start_time": "2023-12-02T13:58:14.385Z"
   },
   {
    "duration": 328,
    "start_time": "2023-12-02T13:58:15.594Z"
   },
   {
    "duration": 29,
    "start_time": "2023-12-02T14:02:08.889Z"
   },
   {
    "duration": 101,
    "start_time": "2023-12-02T14:02:20.530Z"
   },
   {
    "duration": 3,
    "start_time": "2023-12-02T14:02:25.007Z"
   },
   {
    "duration": 15,
    "start_time": "2023-12-02T14:02:26.422Z"
   },
   {
    "duration": 26,
    "start_time": "2023-12-02T14:02:39.731Z"
   },
   {
    "duration": 26,
    "start_time": "2023-12-02T14:02:51.609Z"
   },
   {
    "duration": 4,
    "start_time": "2023-12-02T14:03:00.140Z"
   },
   {
    "duration": 24,
    "start_time": "2023-12-02T14:03:08.377Z"
   },
   {
    "duration": 4,
    "start_time": "2023-12-02T14:03:15.821Z"
   },
   {
    "duration": 13,
    "start_time": "2023-12-02T14:03:16.919Z"
   },
   {
    "duration": 30,
    "start_time": "2023-12-02T14:03:25.008Z"
   },
   {
    "duration": 22,
    "start_time": "2023-12-02T14:03:26.840Z"
   },
   {
    "duration": 3,
    "start_time": "2023-12-02T14:03:34.013Z"
   },
   {
    "duration": 10,
    "start_time": "2023-12-02T14:05:06.370Z"
   },
   {
    "duration": 3,
    "start_time": "2023-12-02T14:14:28.794Z"
   },
   {
    "duration": 10,
    "start_time": "2023-12-02T14:15:43.679Z"
   },
   {
    "duration": 4,
    "start_time": "2023-12-02T14:15:48.602Z"
   },
   {
    "duration": 195,
    "start_time": "2023-12-02T14:15:48.609Z"
   },
   {
    "duration": 6,
    "start_time": "2023-12-02T14:15:48.806Z"
   },
   {
    "duration": 20,
    "start_time": "2023-12-02T14:15:48.814Z"
   },
   {
    "duration": 2,
    "start_time": "2023-12-02T14:15:48.836Z"
   },
   {
    "duration": 44,
    "start_time": "2023-12-02T14:15:48.839Z"
   },
   {
    "duration": 6,
    "start_time": "2023-12-02T14:15:48.884Z"
   },
   {
    "duration": 64,
    "start_time": "2023-12-02T14:15:48.892Z"
   },
   {
    "duration": 98,
    "start_time": "2023-12-02T14:15:48.957Z"
   },
   {
    "duration": 82,
    "start_time": "2023-12-02T14:15:49.056Z"
   },
   {
    "duration": 103,
    "start_time": "2023-12-02T14:15:49.141Z"
   },
   {
    "duration": 38,
    "start_time": "2023-12-02T14:15:49.245Z"
   },
   {
    "duration": 44,
    "start_time": "2023-12-02T14:15:49.284Z"
   },
   {
    "duration": 55,
    "start_time": "2023-12-02T14:15:49.330Z"
   },
   {
    "duration": 39,
    "start_time": "2023-12-02T14:15:49.387Z"
   },
   {
    "duration": 11,
    "start_time": "2023-12-02T14:15:49.427Z"
   },
   {
    "duration": 44,
    "start_time": "2023-12-02T14:15:49.439Z"
   },
   {
    "duration": 19,
    "start_time": "2023-12-02T14:15:49.484Z"
   },
   {
    "duration": 28,
    "start_time": "2023-12-02T14:15:49.504Z"
   },
   {
    "duration": 30,
    "start_time": "2023-12-02T14:15:49.534Z"
   },
   {
    "duration": 329,
    "start_time": "2023-12-02T14:15:49.566Z"
   },
   {
    "duration": 31,
    "start_time": "2023-12-02T14:15:49.897Z"
   },
   {
    "duration": 3,
    "start_time": "2023-12-02T14:15:49.930Z"
   },
   {
    "duration": 17,
    "start_time": "2023-12-02T14:15:49.934Z"
   },
   {
    "duration": 45,
    "start_time": "2023-12-02T14:15:49.953Z"
   },
   {
    "duration": 23,
    "start_time": "2023-12-02T14:15:50.000Z"
   },
   {
    "duration": 9,
    "start_time": "2023-12-02T14:15:50.025Z"
   },
   {
    "duration": 49,
    "start_time": "2023-12-02T14:15:50.036Z"
   },
   {
    "duration": 54,
    "start_time": "2023-12-02T14:15:50.089Z"
   },
   {
    "duration": 40,
    "start_time": "2023-12-02T14:15:50.144Z"
   },
   {
    "duration": 66,
    "start_time": "2023-12-02T14:15:50.186Z"
   },
   {
    "duration": 8,
    "start_time": "2023-12-02T14:15:50.254Z"
   },
   {
    "duration": 9,
    "start_time": "2023-12-02T14:15:50.264Z"
   },
   {
    "duration": 111,
    "start_time": "2023-12-02T14:15:50.274Z"
   },
   {
    "duration": 41,
    "start_time": "2023-12-02T14:15:50.387Z"
   },
   {
    "duration": 11,
    "start_time": "2023-12-02T14:15:50.429Z"
   },
   {
    "duration": 12,
    "start_time": "2023-12-02T14:15:50.441Z"
   },
   {
    "duration": 6,
    "start_time": "2023-12-02T14:15:50.455Z"
   },
   {
    "duration": 21,
    "start_time": "2023-12-02T14:15:50.463Z"
   },
   {
    "duration": 25,
    "start_time": "2023-12-02T14:15:50.485Z"
   },
   {
    "duration": 7,
    "start_time": "2023-12-02T14:15:50.511Z"
   },
   {
    "duration": 5,
    "start_time": "2023-12-02T14:15:50.519Z"
   },
   {
    "duration": 28,
    "start_time": "2023-12-02T14:15:50.525Z"
   },
   {
    "duration": 16,
    "start_time": "2023-12-02T14:15:50.554Z"
   },
   {
    "duration": 41,
    "start_time": "2023-12-02T14:15:50.572Z"
   },
   {
    "duration": 18,
    "start_time": "2023-12-02T14:15:50.615Z"
   },
   {
    "duration": 187,
    "start_time": "2023-12-02T14:15:50.634Z"
   },
   {
    "duration": 4,
    "start_time": "2023-12-02T14:15:50.822Z"
   },
   {
    "duration": 23,
    "start_time": "2023-12-02T14:15:50.828Z"
   },
   {
    "duration": 3,
    "start_time": "2023-12-02T14:15:50.852Z"
   },
   {
    "duration": 11,
    "start_time": "2023-12-02T14:15:50.856Z"
   },
   {
    "duration": 15,
    "start_time": "2023-12-02T14:15:50.868Z"
   },
   {
    "duration": 6,
    "start_time": "2023-12-02T14:15:50.884Z"
   },
   {
    "duration": 175,
    "start_time": "2023-12-02T14:15:50.891Z"
   },
   {
    "duration": 2,
    "start_time": "2023-12-02T14:15:51.067Z"
   },
   {
    "duration": 5,
    "start_time": "2023-12-02T14:15:51.071Z"
   },
   {
    "duration": 4,
    "start_time": "2023-12-02T14:15:51.082Z"
   },
   {
    "duration": 7,
    "start_time": "2023-12-02T14:15:51.087Z"
   },
   {
    "duration": 4,
    "start_time": "2023-12-02T14:15:51.095Z"
   },
   {
    "duration": 17,
    "start_time": "2023-12-02T14:15:51.100Z"
   },
   {
    "duration": 2,
    "start_time": "2023-12-02T14:15:51.119Z"
   },
   {
    "duration": 20,
    "start_time": "2023-12-02T14:15:51.123Z"
   },
   {
    "duration": 8,
    "start_time": "2023-12-02T14:15:51.145Z"
   },
   {
    "duration": 28,
    "start_time": "2023-12-02T14:15:51.154Z"
   },
   {
    "duration": 11,
    "start_time": "2023-12-02T14:15:51.183Z"
   },
   {
    "duration": 8,
    "start_time": "2023-12-02T14:15:51.195Z"
   },
   {
    "duration": 7,
    "start_time": "2023-12-02T14:15:51.205Z"
   },
   {
    "duration": 3,
    "start_time": "2023-12-02T14:15:51.213Z"
   },
   {
    "duration": 25,
    "start_time": "2023-12-02T14:15:51.217Z"
   },
   {
    "duration": 11,
    "start_time": "2023-12-02T14:15:51.243Z"
   },
   {
    "duration": 16,
    "start_time": "2023-12-02T14:15:51.255Z"
   },
   {
    "duration": 0,
    "start_time": "2023-12-02T14:15:51.273Z"
   },
   {
    "duration": 0,
    "start_time": "2023-12-02T14:15:51.274Z"
   },
   {
    "duration": 0,
    "start_time": "2023-12-02T14:15:51.276Z"
   },
   {
    "duration": 0,
    "start_time": "2023-12-02T14:15:51.277Z"
   },
   {
    "duration": 4,
    "start_time": "2023-12-02T14:17:14.746Z"
   },
   {
    "duration": 4,
    "start_time": "2023-12-02T14:17:24.764Z"
   },
   {
    "duration": 4,
    "start_time": "2023-12-02T14:17:46.022Z"
   },
   {
    "duration": 5,
    "start_time": "2023-12-02T14:17:51.293Z"
   },
   {
    "duration": 5,
    "start_time": "2023-12-02T14:17:58.252Z"
   },
   {
    "duration": 8,
    "start_time": "2023-12-02T14:21:20.350Z"
   },
   {
    "duration": 18,
    "start_time": "2023-12-02T14:21:38.029Z"
   },
   {
    "duration": 6,
    "start_time": "2023-12-02T14:25:40.877Z"
   },
   {
    "duration": 13,
    "start_time": "2023-12-02T14:25:44.160Z"
   },
   {
    "duration": 8,
    "start_time": "2023-12-02T14:26:02.940Z"
   },
   {
    "duration": 22,
    "start_time": "2023-12-02T14:26:04.213Z"
   },
   {
    "duration": 11,
    "start_time": "2023-12-02T14:28:25.650Z"
   },
   {
    "duration": 1340,
    "start_time": "2023-12-02T14:29:06.472Z"
   },
   {
    "duration": 1315,
    "start_time": "2023-12-02T14:29:28.043Z"
   },
   {
    "duration": 5,
    "start_time": "2023-12-02T14:29:44.727Z"
   },
   {
    "duration": 179,
    "start_time": "2023-12-02T14:29:44.734Z"
   },
   {
    "duration": 7,
    "start_time": "2023-12-02T14:29:44.915Z"
   },
   {
    "duration": 33,
    "start_time": "2023-12-02T14:29:44.923Z"
   },
   {
    "duration": 3,
    "start_time": "2023-12-02T14:29:44.957Z"
   },
   {
    "duration": 15,
    "start_time": "2023-12-02T14:29:44.981Z"
   },
   {
    "duration": 6,
    "start_time": "2023-12-02T14:29:44.997Z"
   },
   {
    "duration": 134,
    "start_time": "2023-12-02T14:29:45.004Z"
   },
   {
    "duration": 109,
    "start_time": "2023-12-02T14:29:45.140Z"
   },
   {
    "duration": 90,
    "start_time": "2023-12-02T14:29:45.251Z"
   },
   {
    "duration": 103,
    "start_time": "2023-12-02T14:29:45.343Z"
   },
   {
    "duration": 35,
    "start_time": "2023-12-02T14:29:45.448Z"
   },
   {
    "duration": 45,
    "start_time": "2023-12-02T14:29:45.484Z"
   },
   {
    "duration": 29,
    "start_time": "2023-12-02T14:29:45.530Z"
   },
   {
    "duration": 42,
    "start_time": "2023-12-02T14:29:45.561Z"
   },
   {
    "duration": 6,
    "start_time": "2023-12-02T14:29:45.604Z"
   },
   {
    "duration": 20,
    "start_time": "2023-12-02T14:29:45.611Z"
   },
   {
    "duration": 18,
    "start_time": "2023-12-02T14:29:45.632Z"
   },
   {
    "duration": 41,
    "start_time": "2023-12-02T14:29:45.651Z"
   },
   {
    "duration": 25,
    "start_time": "2023-12-02T14:29:45.694Z"
   },
   {
    "duration": 324,
    "start_time": "2023-12-02T14:29:45.721Z"
   },
   {
    "duration": 38,
    "start_time": "2023-12-02T14:29:46.047Z"
   },
   {
    "duration": 3,
    "start_time": "2023-12-02T14:29:46.086Z"
   },
   {
    "duration": 16,
    "start_time": "2023-12-02T14:29:46.090Z"
   },
   {
    "duration": 28,
    "start_time": "2023-12-02T14:29:46.108Z"
   },
   {
    "duration": 45,
    "start_time": "2023-12-02T14:29:46.137Z"
   },
   {
    "duration": 8,
    "start_time": "2023-12-02T14:29:46.184Z"
   },
   {
    "duration": 27,
    "start_time": "2023-12-02T14:29:46.194Z"
   },
   {
    "duration": 71,
    "start_time": "2023-12-02T14:29:46.224Z"
   },
   {
    "duration": 25,
    "start_time": "2023-12-02T14:29:46.297Z"
   },
   {
    "duration": 69,
    "start_time": "2023-12-02T14:29:46.323Z"
   },
   {
    "duration": 8,
    "start_time": "2023-12-02T14:29:46.394Z"
   },
   {
    "duration": 7,
    "start_time": "2023-12-02T14:29:46.403Z"
   },
   {
    "duration": 106,
    "start_time": "2023-12-02T14:29:46.412Z"
   },
   {
    "duration": 36,
    "start_time": "2023-12-02T14:29:46.519Z"
   },
   {
    "duration": 6,
    "start_time": "2023-12-02T14:29:46.556Z"
   },
   {
    "duration": 25,
    "start_time": "2023-12-02T14:29:46.563Z"
   },
   {
    "duration": 6,
    "start_time": "2023-12-02T14:29:46.589Z"
   },
   {
    "duration": 5,
    "start_time": "2023-12-02T14:29:46.596Z"
   },
   {
    "duration": 8,
    "start_time": "2023-12-02T14:29:46.602Z"
   },
   {
    "duration": 9,
    "start_time": "2023-12-02T14:29:46.611Z"
   },
   {
    "duration": 7,
    "start_time": "2023-12-02T14:29:46.621Z"
   },
   {
    "duration": 53,
    "start_time": "2023-12-02T14:29:46.629Z"
   },
   {
    "duration": 17,
    "start_time": "2023-12-02T14:29:46.683Z"
   },
   {
    "duration": 38,
    "start_time": "2023-12-02T14:29:46.702Z"
   },
   {
    "duration": 41,
    "start_time": "2023-12-02T14:29:46.742Z"
   },
   {
    "duration": 191,
    "start_time": "2023-12-02T14:29:46.785Z"
   },
   {
    "duration": 6,
    "start_time": "2023-12-02T14:29:46.978Z"
   },
   {
    "duration": 29,
    "start_time": "2023-12-02T14:29:46.986Z"
   },
   {
    "duration": 3,
    "start_time": "2023-12-02T14:29:47.017Z"
   },
   {
    "duration": 4,
    "start_time": "2023-12-02T14:29:47.022Z"
   },
   {
    "duration": 3,
    "start_time": "2023-12-02T14:29:47.028Z"
   },
   {
    "duration": 5,
    "start_time": "2023-12-02T14:29:47.033Z"
   },
   {
    "duration": 197,
    "start_time": "2023-12-02T14:29:47.039Z"
   },
   {
    "duration": 3,
    "start_time": "2023-12-02T14:29:47.237Z"
   },
   {
    "duration": 4,
    "start_time": "2023-12-02T14:29:47.241Z"
   },
   {
    "duration": 5,
    "start_time": "2023-12-02T14:29:47.247Z"
   },
   {
    "duration": 11,
    "start_time": "2023-12-02T14:29:47.253Z"
   },
   {
    "duration": 17,
    "start_time": "2023-12-02T14:29:47.265Z"
   },
   {
    "duration": 17,
    "start_time": "2023-12-02T14:29:47.284Z"
   },
   {
    "duration": 3,
    "start_time": "2023-12-02T14:29:47.302Z"
   },
   {
    "duration": 12,
    "start_time": "2023-12-02T14:29:47.306Z"
   },
   {
    "duration": 8,
    "start_time": "2023-12-02T14:29:47.319Z"
   },
   {
    "duration": 6,
    "start_time": "2023-12-02T14:29:47.329Z"
   },
   {
    "duration": 8,
    "start_time": "2023-12-02T14:29:47.337Z"
   },
   {
    "duration": 102,
    "start_time": "2023-12-02T14:29:47.346Z"
   },
   {
    "duration": 2,
    "start_time": "2023-12-02T14:29:47.451Z"
   },
   {
    "duration": 2,
    "start_time": "2023-12-02T14:29:50.788Z"
   },
   {
    "duration": 5,
    "start_time": "2023-12-02T14:29:53.960Z"
   },
   {
    "duration": 1277,
    "start_time": "2023-12-02T14:30:13.051Z"
   },
   {
    "duration": 1395,
    "start_time": "2023-12-02T14:30:35.103Z"
   },
   {
    "duration": 4,
    "start_time": "2023-12-02T14:30:46.532Z"
   },
   {
    "duration": 73,
    "start_time": "2023-12-02T14:31:18.528Z"
   },
   {
    "duration": 1210,
    "start_time": "2023-12-02T14:31:23.892Z"
   },
   {
    "duration": 7,
    "start_time": "2023-12-02T14:31:44.014Z"
   },
   {
    "duration": 10,
    "start_time": "2023-12-02T14:31:50.662Z"
   },
   {
    "duration": 4,
    "start_time": "2023-12-02T14:32:14.908Z"
   },
   {
    "duration": 5,
    "start_time": "2023-12-02T14:33:38.084Z"
   },
   {
    "duration": 6,
    "start_time": "2023-12-02T14:33:44.139Z"
   },
   {
    "duration": 9,
    "start_time": "2023-12-02T14:34:09.864Z"
   },
   {
    "duration": 8,
    "start_time": "2023-12-02T14:34:14.427Z"
   },
   {
    "duration": 5,
    "start_time": "2023-12-02T14:34:17.629Z"
   },
   {
    "duration": 5,
    "start_time": "2023-12-02T14:38:04.660Z"
   },
   {
    "duration": 157,
    "start_time": "2023-12-02T14:38:04.671Z"
   },
   {
    "duration": 7,
    "start_time": "2023-12-02T14:38:04.830Z"
   },
   {
    "duration": 28,
    "start_time": "2023-12-02T14:38:04.838Z"
   },
   {
    "duration": 3,
    "start_time": "2023-12-02T14:38:04.881Z"
   },
   {
    "duration": 18,
    "start_time": "2023-12-02T14:38:04.886Z"
   },
   {
    "duration": 11,
    "start_time": "2023-12-02T14:38:04.905Z"
   },
   {
    "duration": 93,
    "start_time": "2023-12-02T14:38:04.917Z"
   },
   {
    "duration": 104,
    "start_time": "2023-12-02T14:38:05.012Z"
   },
   {
    "duration": 87,
    "start_time": "2023-12-02T14:38:05.117Z"
   },
   {
    "duration": 107,
    "start_time": "2023-12-02T14:38:05.206Z"
   },
   {
    "duration": 29,
    "start_time": "2023-12-02T14:38:05.315Z"
   },
   {
    "duration": 54,
    "start_time": "2023-12-02T14:38:05.346Z"
   },
   {
    "duration": 27,
    "start_time": "2023-12-02T14:38:05.401Z"
   },
   {
    "duration": 23,
    "start_time": "2023-12-02T14:38:05.431Z"
   },
   {
    "duration": 19,
    "start_time": "2023-12-02T14:38:05.455Z"
   },
   {
    "duration": 19,
    "start_time": "2023-12-02T14:38:05.482Z"
   },
   {
    "duration": 18,
    "start_time": "2023-12-02T14:38:05.502Z"
   },
   {
    "duration": 19,
    "start_time": "2023-12-02T14:38:05.522Z"
   },
   {
    "duration": 42,
    "start_time": "2023-12-02T14:38:05.543Z"
   },
   {
    "duration": 317,
    "start_time": "2023-12-02T14:38:05.586Z"
   },
   {
    "duration": 33,
    "start_time": "2023-12-02T14:38:05.904Z"
   },
   {
    "duration": 9,
    "start_time": "2023-12-02T14:38:05.938Z"
   },
   {
    "duration": 16,
    "start_time": "2023-12-02T14:38:05.948Z"
   },
   {
    "duration": 39,
    "start_time": "2023-12-02T14:38:05.966Z"
   },
   {
    "duration": 25,
    "start_time": "2023-12-02T14:38:06.006Z"
   },
   {
    "duration": 22,
    "start_time": "2023-12-02T14:38:06.033Z"
   },
   {
    "duration": 29,
    "start_time": "2023-12-02T14:38:06.057Z"
   },
   {
    "duration": 51,
    "start_time": "2023-12-02T14:38:06.087Z"
   },
   {
    "duration": 27,
    "start_time": "2023-12-02T14:38:06.139Z"
   },
   {
    "duration": 50,
    "start_time": "2023-12-02T14:38:06.181Z"
   },
   {
    "duration": 7,
    "start_time": "2023-12-02T14:38:06.233Z"
   },
   {
    "duration": 6,
    "start_time": "2023-12-02T14:38:06.242Z"
   },
   {
    "duration": 108,
    "start_time": "2023-12-02T14:38:06.250Z"
   },
   {
    "duration": 43,
    "start_time": "2023-12-02T14:38:06.359Z"
   },
   {
    "duration": 35,
    "start_time": "2023-12-02T14:38:06.404Z"
   },
   {
    "duration": 37,
    "start_time": "2023-12-02T14:38:06.440Z"
   },
   {
    "duration": 6,
    "start_time": "2023-12-02T14:38:06.478Z"
   },
   {
    "duration": 12,
    "start_time": "2023-12-02T14:38:06.485Z"
   },
   {
    "duration": 10,
    "start_time": "2023-12-02T14:38:06.499Z"
   },
   {
    "duration": 14,
    "start_time": "2023-12-02T14:38:06.510Z"
   },
   {
    "duration": 8,
    "start_time": "2023-12-02T14:38:06.527Z"
   },
   {
    "duration": 24,
    "start_time": "2023-12-02T14:38:06.536Z"
   },
   {
    "duration": 27,
    "start_time": "2023-12-02T14:38:06.562Z"
   },
   {
    "duration": 35,
    "start_time": "2023-12-02T14:38:06.590Z"
   },
   {
    "duration": 17,
    "start_time": "2023-12-02T14:38:06.626Z"
   },
   {
    "duration": 191,
    "start_time": "2023-12-02T14:38:06.644Z"
   },
   {
    "duration": 4,
    "start_time": "2023-12-02T14:38:06.836Z"
   },
   {
    "duration": 20,
    "start_time": "2023-12-02T14:38:06.841Z"
   },
   {
    "duration": 3,
    "start_time": "2023-12-02T14:38:06.862Z"
   },
   {
    "duration": 4,
    "start_time": "2023-12-02T14:38:06.881Z"
   },
   {
    "duration": 6,
    "start_time": "2023-12-02T14:38:06.886Z"
   },
   {
    "duration": 5,
    "start_time": "2023-12-02T14:38:06.893Z"
   },
   {
    "duration": 191,
    "start_time": "2023-12-02T14:38:06.899Z"
   },
   {
    "duration": 3,
    "start_time": "2023-12-02T14:38:07.091Z"
   },
   {
    "duration": 8,
    "start_time": "2023-12-02T14:38:07.095Z"
   },
   {
    "duration": 12,
    "start_time": "2023-12-02T14:38:07.104Z"
   },
   {
    "duration": 18,
    "start_time": "2023-12-02T14:38:07.118Z"
   },
   {
    "duration": 12,
    "start_time": "2023-12-02T14:38:07.137Z"
   },
   {
    "duration": 21,
    "start_time": "2023-12-02T14:38:07.150Z"
   },
   {
    "duration": 2,
    "start_time": "2023-12-02T14:38:07.172Z"
   },
   {
    "duration": 13,
    "start_time": "2023-12-02T14:38:07.176Z"
   },
   {
    "duration": 8,
    "start_time": "2023-12-02T14:38:07.190Z"
   },
   {
    "duration": 6,
    "start_time": "2023-12-02T14:38:07.199Z"
   },
   {
    "duration": 4,
    "start_time": "2023-12-02T14:38:07.207Z"
   },
   {
    "duration": 12,
    "start_time": "2023-12-02T14:38:07.212Z"
   },
   {
    "duration": 13,
    "start_time": "2023-12-02T14:38:07.226Z"
   },
   {
    "duration": 8,
    "start_time": "2023-12-02T14:38:07.241Z"
   },
   {
    "duration": 18,
    "start_time": "2023-12-02T14:38:07.250Z"
   },
   {
    "duration": 13,
    "start_time": "2023-12-02T14:38:07.270Z"
   },
   {
    "duration": 5,
    "start_time": "2023-12-02T14:38:07.285Z"
   },
   {
    "duration": 71,
    "start_time": "2023-12-02T14:38:07.292Z"
   },
   {
    "duration": 0,
    "start_time": "2023-12-02T14:38:07.364Z"
   },
   {
    "duration": 0,
    "start_time": "2023-12-02T14:38:07.366Z"
   },
   {
    "duration": 0,
    "start_time": "2023-12-02T14:38:07.367Z"
   },
   {
    "duration": 0,
    "start_time": "2023-12-02T14:38:07.368Z"
   },
   {
    "duration": 0,
    "start_time": "2023-12-02T14:38:07.369Z"
   },
   {
    "duration": 47,
    "start_time": "2023-12-02T14:42:23.701Z"
   },
   {
    "duration": 7,
    "start_time": "2023-12-02T14:42:50.712Z"
   },
   {
    "duration": 1146,
    "start_time": "2023-12-02T14:42:58.864Z"
   },
   {
    "duration": 3,
    "start_time": "2023-12-02T14:43:03.783Z"
   },
   {
    "duration": 59,
    "start_time": "2023-12-02T14:43:05.840Z"
   },
   {
    "duration": 4,
    "start_time": "2023-12-02T14:43:11.946Z"
   },
   {
    "duration": 184,
    "start_time": "2023-12-02T14:43:11.952Z"
   },
   {
    "duration": 10,
    "start_time": "2023-12-02T14:43:12.137Z"
   },
   {
    "duration": 44,
    "start_time": "2023-12-02T14:43:12.149Z"
   },
   {
    "duration": 3,
    "start_time": "2023-12-02T14:43:12.195Z"
   },
   {
    "duration": 17,
    "start_time": "2023-12-02T14:43:12.199Z"
   },
   {
    "duration": 9,
    "start_time": "2023-12-02T14:43:12.217Z"
   },
   {
    "duration": 90,
    "start_time": "2023-12-02T14:43:12.228Z"
   },
   {
    "duration": 105,
    "start_time": "2023-12-02T14:43:12.320Z"
   },
   {
    "duration": 99,
    "start_time": "2023-12-02T14:43:12.426Z"
   },
   {
    "duration": 137,
    "start_time": "2023-12-02T14:43:12.527Z"
   },
   {
    "duration": 40,
    "start_time": "2023-12-02T14:43:12.666Z"
   },
   {
    "duration": 53,
    "start_time": "2023-12-02T14:43:12.708Z"
   },
   {
    "duration": 44,
    "start_time": "2023-12-02T14:43:12.764Z"
   },
   {
    "duration": 25,
    "start_time": "2023-12-02T14:43:12.810Z"
   },
   {
    "duration": 7,
    "start_time": "2023-12-02T14:43:12.836Z"
   },
   {
    "duration": 41,
    "start_time": "2023-12-02T14:43:12.845Z"
   },
   {
    "duration": 20,
    "start_time": "2023-12-02T14:43:12.888Z"
   },
   {
    "duration": 30,
    "start_time": "2023-12-02T14:43:12.909Z"
   },
   {
    "duration": 42,
    "start_time": "2023-12-02T14:43:12.940Z"
   },
   {
    "duration": 344,
    "start_time": "2023-12-02T14:43:12.983Z"
   },
   {
    "duration": 32,
    "start_time": "2023-12-02T14:43:13.329Z"
   },
   {
    "duration": 13,
    "start_time": "2023-12-02T14:43:13.362Z"
   },
   {
    "duration": 15,
    "start_time": "2023-12-02T14:43:13.383Z"
   },
   {
    "duration": 29,
    "start_time": "2023-12-02T14:43:13.399Z"
   },
   {
    "duration": 22,
    "start_time": "2023-12-02T14:43:13.429Z"
   },
   {
    "duration": 20,
    "start_time": "2023-12-02T14:43:13.452Z"
   },
   {
    "duration": 35,
    "start_time": "2023-12-02T14:43:13.474Z"
   },
   {
    "duration": 53,
    "start_time": "2023-12-02T14:43:13.510Z"
   },
   {
    "duration": 41,
    "start_time": "2023-12-02T14:43:13.564Z"
   },
   {
    "duration": 61,
    "start_time": "2023-12-02T14:43:13.606Z"
   },
   {
    "duration": 14,
    "start_time": "2023-12-02T14:43:13.668Z"
   },
   {
    "duration": 7,
    "start_time": "2023-12-02T14:43:13.683Z"
   },
   {
    "duration": 104,
    "start_time": "2023-12-02T14:43:13.691Z"
   },
   {
    "duration": 39,
    "start_time": "2023-12-02T14:43:13.797Z"
   },
   {
    "duration": 8,
    "start_time": "2023-12-02T14:43:13.838Z"
   },
   {
    "duration": 18,
    "start_time": "2023-12-02T14:43:13.847Z"
   },
   {
    "duration": 6,
    "start_time": "2023-12-02T14:43:13.881Z"
   },
   {
    "duration": 20,
    "start_time": "2023-12-02T14:43:13.888Z"
   },
   {
    "duration": 16,
    "start_time": "2023-12-02T14:43:13.910Z"
   },
   {
    "duration": 17,
    "start_time": "2023-12-02T14:43:13.930Z"
   },
   {
    "duration": 9,
    "start_time": "2023-12-02T14:43:13.949Z"
   },
   {
    "duration": 26,
    "start_time": "2023-12-02T14:43:13.959Z"
   },
   {
    "duration": 17,
    "start_time": "2023-12-02T14:43:13.987Z"
   },
   {
    "duration": 38,
    "start_time": "2023-12-02T14:43:14.006Z"
   },
   {
    "duration": 36,
    "start_time": "2023-12-02T14:43:14.046Z"
   },
   {
    "duration": 181,
    "start_time": "2023-12-02T14:43:14.083Z"
   },
   {
    "duration": 5,
    "start_time": "2023-12-02T14:43:14.266Z"
   },
   {
    "duration": 17,
    "start_time": "2023-12-02T14:43:14.281Z"
   },
   {
    "duration": 3,
    "start_time": "2023-12-02T14:43:14.299Z"
   },
   {
    "duration": 5,
    "start_time": "2023-12-02T14:43:14.304Z"
   },
   {
    "duration": 5,
    "start_time": "2023-12-02T14:43:14.310Z"
   },
   {
    "duration": 5,
    "start_time": "2023-12-02T14:43:14.316Z"
   },
   {
    "duration": 185,
    "start_time": "2023-12-02T14:43:14.323Z"
   },
   {
    "duration": 2,
    "start_time": "2023-12-02T14:43:14.509Z"
   },
   {
    "duration": 4,
    "start_time": "2023-12-02T14:43:14.513Z"
   },
   {
    "duration": 6,
    "start_time": "2023-12-02T14:43:14.518Z"
   },
   {
    "duration": 10,
    "start_time": "2023-12-02T14:43:14.525Z"
   },
   {
    "duration": 3,
    "start_time": "2023-12-02T14:43:14.536Z"
   },
   {
    "duration": 16,
    "start_time": "2023-12-02T14:43:14.541Z"
   },
   {
    "duration": 23,
    "start_time": "2023-12-02T14:43:14.559Z"
   },
   {
    "duration": 13,
    "start_time": "2023-12-02T14:43:14.583Z"
   },
   {
    "duration": 9,
    "start_time": "2023-12-02T14:43:14.598Z"
   },
   {
    "duration": 10,
    "start_time": "2023-12-02T14:43:14.609Z"
   },
   {
    "duration": 2,
    "start_time": "2023-12-02T14:43:14.622Z"
   },
   {
    "duration": 3,
    "start_time": "2023-12-02T14:43:14.626Z"
   },
   {
    "duration": 4,
    "start_time": "2023-12-02T14:43:14.631Z"
   },
   {
    "duration": 1315,
    "start_time": "2023-12-02T14:43:14.636Z"
   },
   {
    "duration": 0,
    "start_time": "2023-12-02T14:43:15.953Z"
   },
   {
    "duration": 0,
    "start_time": "2023-12-02T14:43:15.954Z"
   },
   {
    "duration": 0,
    "start_time": "2023-12-02T14:43:15.956Z"
   },
   {
    "duration": 0,
    "start_time": "2023-12-02T14:43:15.957Z"
   },
   {
    "duration": 0,
    "start_time": "2023-12-02T14:43:15.959Z"
   },
   {
    "duration": 0,
    "start_time": "2023-12-02T14:43:15.960Z"
   },
   {
    "duration": 0,
    "start_time": "2023-12-02T14:43:15.961Z"
   },
   {
    "duration": 0,
    "start_time": "2023-12-02T14:43:15.963Z"
   },
   {
    "duration": 0,
    "start_time": "2023-12-02T14:43:15.964Z"
   },
   {
    "duration": 0,
    "start_time": "2023-12-02T14:43:15.965Z"
   },
   {
    "duration": 0,
    "start_time": "2023-12-02T14:43:15.967Z"
   },
   {
    "duration": 2,
    "start_time": "2023-12-02T14:46:32.258Z"
   },
   {
    "duration": 77,
    "start_time": "2023-12-02T14:47:55.602Z"
   },
   {
    "duration": 8,
    "start_time": "2023-12-02T14:49:07.932Z"
   },
   {
    "duration": 2,
    "start_time": "2023-12-02T14:49:26.508Z"
   },
   {
    "duration": 5,
    "start_time": "2023-12-02T14:49:59.989Z"
   },
   {
    "duration": 8,
    "start_time": "2023-12-02T14:50:02.599Z"
   },
   {
    "duration": 4,
    "start_time": "2023-12-02T14:50:30.768Z"
   },
   {
    "duration": 8,
    "start_time": "2023-12-02T14:50:41.794Z"
   },
   {
    "duration": 1030,
    "start_time": "2023-12-02T14:50:51.084Z"
   },
   {
    "duration": 10,
    "start_time": "2023-12-02T14:51:19.498Z"
   },
   {
    "duration": 1137,
    "start_time": "2023-12-02T14:51:34.222Z"
   },
   {
    "duration": 8,
    "start_time": "2023-12-02T14:51:46.460Z"
   },
   {
    "duration": 5,
    "start_time": "2023-12-02T14:51:54.134Z"
   },
   {
    "duration": 1280,
    "start_time": "2023-12-02T14:52:09.770Z"
   },
   {
    "duration": 5,
    "start_time": "2023-12-02T14:52:18.488Z"
   },
   {
    "duration": 1302,
    "start_time": "2023-12-02T14:52:46.592Z"
   },
   {
    "duration": 9,
    "start_time": "2023-12-02T14:53:00.832Z"
   },
   {
    "duration": 8,
    "start_time": "2023-12-02T14:53:06.829Z"
   },
   {
    "duration": 9,
    "start_time": "2023-12-02T14:54:03.341Z"
   },
   {
    "duration": 10,
    "start_time": "2023-12-02T14:54:10.584Z"
   },
   {
    "duration": 9,
    "start_time": "2023-12-02T14:54:17.682Z"
   },
   {
    "duration": 5,
    "start_time": "2023-12-02T14:54:22.109Z"
   },
   {
    "duration": 4,
    "start_time": "2023-12-02T14:54:40.022Z"
   },
   {
    "duration": 5,
    "start_time": "2023-12-02T14:54:44.107Z"
   },
   {
    "duration": 7,
    "start_time": "2023-12-02T14:55:04.884Z"
   },
   {
    "duration": 9,
    "start_time": "2023-12-02T14:56:20.695Z"
   },
   {
    "duration": 5,
    "start_time": "2023-12-02T14:56:30.166Z"
   },
   {
    "duration": 5,
    "start_time": "2023-12-02T14:56:40.914Z"
   },
   {
    "duration": 4,
    "start_time": "2023-12-02T14:56:49.143Z"
   },
   {
    "duration": 4,
    "start_time": "2023-12-02T14:59:22.567Z"
   },
   {
    "duration": 9,
    "start_time": "2023-12-02T14:59:29.695Z"
   },
   {
    "duration": 3,
    "start_time": "2023-12-02T15:02:24.462Z"
   },
   {
    "duration": 4,
    "start_time": "2023-12-02T15:02:27.761Z"
   },
   {
    "duration": 8,
    "start_time": "2023-12-02T15:03:44.302Z"
   },
   {
    "duration": 4,
    "start_time": "2023-12-02T15:03:47.505Z"
   },
   {
    "duration": 10,
    "start_time": "2023-12-02T15:04:42.499Z"
   },
   {
    "duration": 3,
    "start_time": "2023-12-02T15:05:06.896Z"
   },
   {
    "duration": 4,
    "start_time": "2023-12-02T15:05:25.348Z"
   },
   {
    "duration": 4,
    "start_time": "2023-12-02T15:05:38.528Z"
   },
   {
    "duration": 3,
    "start_time": "2023-12-02T15:05:45.164Z"
   },
   {
    "duration": 3,
    "start_time": "2023-12-02T15:05:46.223Z"
   },
   {
    "duration": 3,
    "start_time": "2023-12-02T15:06:17.114Z"
   },
   {
    "duration": 8,
    "start_time": "2023-12-02T15:06:19.390Z"
   },
   {
    "duration": 4,
    "start_time": "2023-12-02T15:06:28.514Z"
   },
   {
    "duration": 197,
    "start_time": "2023-12-02T15:06:28.520Z"
   },
   {
    "duration": 7,
    "start_time": "2023-12-02T15:06:28.719Z"
   },
   {
    "duration": 30,
    "start_time": "2023-12-02T15:06:28.727Z"
   },
   {
    "duration": 11,
    "start_time": "2023-12-02T15:06:28.759Z"
   },
   {
    "duration": 33,
    "start_time": "2023-12-02T15:06:28.772Z"
   },
   {
    "duration": 29,
    "start_time": "2023-12-02T15:06:28.806Z"
   },
   {
    "duration": 65,
    "start_time": "2023-12-02T15:06:28.837Z"
   },
   {
    "duration": 82,
    "start_time": "2023-12-02T15:06:28.903Z"
   },
   {
    "duration": 68,
    "start_time": "2023-12-02T15:06:28.986Z"
   },
   {
    "duration": 95,
    "start_time": "2023-12-02T15:06:29.057Z"
   },
   {
    "duration": 41,
    "start_time": "2023-12-02T15:06:29.153Z"
   },
   {
    "duration": 46,
    "start_time": "2023-12-02T15:06:29.195Z"
   },
   {
    "duration": 44,
    "start_time": "2023-12-02T15:06:29.242Z"
   },
   {
    "duration": 25,
    "start_time": "2023-12-02T15:06:29.288Z"
   },
   {
    "duration": 8,
    "start_time": "2023-12-02T15:06:29.314Z"
   },
   {
    "duration": 35,
    "start_time": "2023-12-02T15:06:29.323Z"
   },
   {
    "duration": 22,
    "start_time": "2023-12-02T15:06:29.360Z"
   },
   {
    "duration": 27,
    "start_time": "2023-12-02T15:06:29.384Z"
   },
   {
    "duration": 31,
    "start_time": "2023-12-02T15:06:29.413Z"
   },
   {
    "duration": 316,
    "start_time": "2023-12-02T15:06:29.446Z"
   },
   {
    "duration": 34,
    "start_time": "2023-12-02T15:06:29.763Z"
   },
   {
    "duration": 15,
    "start_time": "2023-12-02T15:06:29.798Z"
   },
   {
    "duration": 49,
    "start_time": "2023-12-02T15:06:29.814Z"
   },
   {
    "duration": 45,
    "start_time": "2023-12-02T15:06:29.865Z"
   },
   {
    "duration": 32,
    "start_time": "2023-12-02T15:06:29.912Z"
   },
   {
    "duration": 26,
    "start_time": "2023-12-02T15:06:29.945Z"
   },
   {
    "duration": 35,
    "start_time": "2023-12-02T15:06:29.972Z"
   },
   {
    "duration": 51,
    "start_time": "2023-12-02T15:06:30.010Z"
   },
   {
    "duration": 34,
    "start_time": "2023-12-02T15:06:30.063Z"
   },
   {
    "duration": 70,
    "start_time": "2023-12-02T15:06:30.098Z"
   },
   {
    "duration": 8,
    "start_time": "2023-12-02T15:06:30.169Z"
   },
   {
    "duration": 18,
    "start_time": "2023-12-02T15:06:30.178Z"
   },
   {
    "duration": 135,
    "start_time": "2023-12-02T15:06:30.197Z"
   },
   {
    "duration": 49,
    "start_time": "2023-12-02T15:06:30.333Z"
   },
   {
    "duration": 36,
    "start_time": "2023-12-02T15:06:30.384Z"
   },
   {
    "duration": 29,
    "start_time": "2023-12-02T15:06:30.421Z"
   },
   {
    "duration": 43,
    "start_time": "2023-12-02T15:06:30.451Z"
   },
   {
    "duration": 36,
    "start_time": "2023-12-02T15:06:30.496Z"
   },
   {
    "duration": 58,
    "start_time": "2023-12-02T15:06:30.534Z"
   },
   {
    "duration": 42,
    "start_time": "2023-12-02T15:06:30.593Z"
   },
   {
    "duration": 28,
    "start_time": "2023-12-02T15:06:30.637Z"
   },
   {
    "duration": 63,
    "start_time": "2023-12-02T15:06:30.667Z"
   },
   {
    "duration": 50,
    "start_time": "2023-12-02T15:06:30.732Z"
   },
   {
    "duration": 61,
    "start_time": "2023-12-02T15:06:30.783Z"
   },
   {
    "duration": 18,
    "start_time": "2023-12-02T15:06:30.846Z"
   },
   {
    "duration": 194,
    "start_time": "2023-12-02T15:06:30.865Z"
   },
   {
    "duration": 4,
    "start_time": "2023-12-02T15:06:31.061Z"
   },
   {
    "duration": 54,
    "start_time": "2023-12-02T15:06:31.066Z"
   },
   {
    "duration": 20,
    "start_time": "2023-12-02T15:06:31.122Z"
   },
   {
    "duration": 22,
    "start_time": "2023-12-02T15:06:31.143Z"
   },
   {
    "duration": 23,
    "start_time": "2023-12-02T15:06:31.166Z"
   },
   {
    "duration": 24,
    "start_time": "2023-12-02T15:06:31.191Z"
   },
   {
    "duration": 183,
    "start_time": "2023-12-02T15:06:31.217Z"
   },
   {
    "duration": 2,
    "start_time": "2023-12-02T15:06:31.402Z"
   },
   {
    "duration": 25,
    "start_time": "2023-12-02T15:06:31.405Z"
   },
   {
    "duration": 28,
    "start_time": "2023-12-02T15:06:31.431Z"
   },
   {
    "duration": 21,
    "start_time": "2023-12-02T15:06:31.460Z"
   },
   {
    "duration": 20,
    "start_time": "2023-12-02T15:06:31.483Z"
   },
   {
    "duration": 49,
    "start_time": "2023-12-02T15:06:31.505Z"
   },
   {
    "duration": 10,
    "start_time": "2023-12-02T15:06:31.555Z"
   },
   {
    "duration": 34,
    "start_time": "2023-12-02T15:06:31.566Z"
   },
   {
    "duration": 20,
    "start_time": "2023-12-02T15:06:31.602Z"
   },
   {
    "duration": 9,
    "start_time": "2023-12-02T15:06:31.624Z"
   },
   {
    "duration": 10,
    "start_time": "2023-12-02T15:06:31.634Z"
   },
   {
    "duration": 21,
    "start_time": "2023-12-02T15:06:31.645Z"
   },
   {
    "duration": 18,
    "start_time": "2023-12-02T15:06:31.668Z"
   },
   {
    "duration": 13,
    "start_time": "2023-12-02T15:06:31.688Z"
   },
   {
    "duration": 3,
    "start_time": "2023-12-02T15:06:38.402Z"
   },
   {
    "duration": 8,
    "start_time": "2023-12-02T15:06:42.359Z"
   },
   {
    "duration": 3,
    "start_time": "2023-12-02T15:06:46.593Z"
   },
   {
    "duration": 7,
    "start_time": "2023-12-02T15:06:47.898Z"
   },
   {
    "duration": 4,
    "start_time": "2023-12-02T15:07:15.926Z"
   },
   {
    "duration": 7,
    "start_time": "2023-12-02T15:07:50.543Z"
   },
   {
    "duration": 6,
    "start_time": "2023-12-02T15:07:53.118Z"
   },
   {
    "duration": 5,
    "start_time": "2023-12-02T15:08:16.274Z"
   },
   {
    "duration": 7,
    "start_time": "2023-12-02T15:09:22.591Z"
   },
   {
    "duration": 9,
    "start_time": "2023-12-02T15:09:49.001Z"
   },
   {
    "duration": 14,
    "start_time": "2023-12-02T15:10:00.882Z"
   },
   {
    "duration": 10,
    "start_time": "2023-12-02T15:10:02.940Z"
   },
   {
    "duration": 13,
    "start_time": "2023-12-02T15:10:06.353Z"
   },
   {
    "duration": 14,
    "start_time": "2023-12-02T15:10:07.604Z"
   },
   {
    "duration": 10,
    "start_time": "2023-12-02T15:10:08.602Z"
   },
   {
    "duration": 4,
    "start_time": "2023-12-02T15:10:18.059Z"
   },
   {
    "duration": 4,
    "start_time": "2023-12-02T15:10:19.128Z"
   },
   {
    "duration": 7,
    "start_time": "2023-12-02T15:13:59.880Z"
   },
   {
    "duration": 6,
    "start_time": "2023-12-02T15:14:06.290Z"
   },
   {
    "duration": 204,
    "start_time": "2023-12-02T15:14:06.298Z"
   },
   {
    "duration": 9,
    "start_time": "2023-12-02T15:14:06.504Z"
   },
   {
    "duration": 37,
    "start_time": "2023-12-02T15:14:06.515Z"
   },
   {
    "duration": 12,
    "start_time": "2023-12-02T15:14:06.553Z"
   },
   {
    "duration": 48,
    "start_time": "2023-12-02T15:14:06.567Z"
   },
   {
    "duration": 26,
    "start_time": "2023-12-02T15:14:06.617Z"
   },
   {
    "duration": 69,
    "start_time": "2023-12-02T15:14:06.644Z"
   },
   {
    "duration": 87,
    "start_time": "2023-12-02T15:14:06.715Z"
   },
   {
    "duration": 92,
    "start_time": "2023-12-02T15:14:06.804Z"
   },
   {
    "duration": 111,
    "start_time": "2023-12-02T15:14:06.898Z"
   },
   {
    "duration": 32,
    "start_time": "2023-12-02T15:14:07.011Z"
   },
   {
    "duration": 63,
    "start_time": "2023-12-02T15:14:07.045Z"
   },
   {
    "duration": 29,
    "start_time": "2023-12-02T15:14:07.110Z"
   },
   {
    "duration": 43,
    "start_time": "2023-12-02T15:14:07.141Z"
   },
   {
    "duration": 14,
    "start_time": "2023-12-02T15:14:07.185Z"
   },
   {
    "duration": 21,
    "start_time": "2023-12-02T15:14:07.201Z"
   },
   {
    "duration": 27,
    "start_time": "2023-12-02T15:14:07.224Z"
   },
   {
    "duration": 37,
    "start_time": "2023-12-02T15:14:07.252Z"
   },
   {
    "duration": 25,
    "start_time": "2023-12-02T15:14:07.291Z"
   },
   {
    "duration": 328,
    "start_time": "2023-12-02T15:14:07.317Z"
   },
   {
    "duration": 40,
    "start_time": "2023-12-02T15:14:07.646Z"
   },
   {
    "duration": 10,
    "start_time": "2023-12-02T15:14:07.687Z"
   },
   {
    "duration": 28,
    "start_time": "2023-12-02T15:14:07.702Z"
   },
   {
    "duration": 51,
    "start_time": "2023-12-02T15:14:07.732Z"
   },
   {
    "duration": 25,
    "start_time": "2023-12-02T15:14:07.785Z"
   },
   {
    "duration": 12,
    "start_time": "2023-12-02T15:14:07.811Z"
   },
   {
    "duration": 35,
    "start_time": "2023-12-02T15:14:07.825Z"
   },
   {
    "duration": 75,
    "start_time": "2023-12-02T15:14:07.862Z"
   },
   {
    "duration": 116,
    "start_time": "2023-12-02T15:14:07.939Z"
   },
   {
    "duration": 61,
    "start_time": "2023-12-02T15:14:08.056Z"
   },
   {
    "duration": 9,
    "start_time": "2023-12-02T15:14:08.119Z"
   },
   {
    "duration": 9,
    "start_time": "2023-12-02T15:14:08.130Z"
   },
   {
    "duration": 130,
    "start_time": "2023-12-02T15:14:08.140Z"
   },
   {
    "duration": 41,
    "start_time": "2023-12-02T15:14:08.272Z"
   },
   {
    "duration": 11,
    "start_time": "2023-12-02T15:14:08.315Z"
   },
   {
    "duration": 13,
    "start_time": "2023-12-02T15:14:08.328Z"
   },
   {
    "duration": 14,
    "start_time": "2023-12-02T15:14:08.342Z"
   },
   {
    "duration": 6,
    "start_time": "2023-12-02T15:14:08.358Z"
   },
   {
    "duration": 18,
    "start_time": "2023-12-02T15:14:08.366Z"
   },
   {
    "duration": 9,
    "start_time": "2023-12-02T15:14:08.385Z"
   },
   {
    "duration": 7,
    "start_time": "2023-12-02T15:14:08.396Z"
   },
   {
    "duration": 24,
    "start_time": "2023-12-02T15:14:08.404Z"
   },
   {
    "duration": 16,
    "start_time": "2023-12-02T15:14:08.429Z"
   },
   {
    "duration": 57,
    "start_time": "2023-12-02T15:14:08.446Z"
   },
   {
    "duration": 17,
    "start_time": "2023-12-02T15:14:08.505Z"
   },
   {
    "duration": 187,
    "start_time": "2023-12-02T15:14:08.524Z"
   },
   {
    "duration": 4,
    "start_time": "2023-12-02T15:14:08.712Z"
   },
   {
    "duration": 16,
    "start_time": "2023-12-02T15:14:08.718Z"
   },
   {
    "duration": 3,
    "start_time": "2023-12-02T15:14:08.735Z"
   },
   {
    "duration": 9,
    "start_time": "2023-12-02T15:14:08.739Z"
   },
   {
    "duration": 5,
    "start_time": "2023-12-02T15:14:08.749Z"
   },
   {
    "duration": 26,
    "start_time": "2023-12-02T15:14:08.756Z"
   },
   {
    "duration": 178,
    "start_time": "2023-12-02T15:14:08.784Z"
   },
   {
    "duration": 2,
    "start_time": "2023-12-02T15:14:08.964Z"
   },
   {
    "duration": 4,
    "start_time": "2023-12-02T15:14:08.968Z"
   },
   {
    "duration": 6,
    "start_time": "2023-12-02T15:14:08.981Z"
   },
   {
    "duration": 12,
    "start_time": "2023-12-02T15:14:08.988Z"
   },
   {
    "duration": 3,
    "start_time": "2023-12-02T15:14:09.002Z"
   },
   {
    "duration": 12,
    "start_time": "2023-12-02T15:14:09.006Z"
   },
   {
    "duration": 2,
    "start_time": "2023-12-02T15:14:09.020Z"
   },
   {
    "duration": 14,
    "start_time": "2023-12-02T15:14:09.023Z"
   },
   {
    "duration": 8,
    "start_time": "2023-12-02T15:14:09.038Z"
   },
   {
    "duration": 41,
    "start_time": "2023-12-02T15:14:09.047Z"
   },
   {
    "duration": 10,
    "start_time": "2023-12-02T15:14:09.090Z"
   },
   {
    "duration": 6,
    "start_time": "2023-12-02T15:14:24.039Z"
   },
   {
    "duration": 8,
    "start_time": "2023-12-02T15:14:28.610Z"
   },
   {
    "duration": 3,
    "start_time": "2023-12-02T15:14:49.429Z"
   },
   {
    "duration": 3,
    "start_time": "2023-12-02T15:14:51.209Z"
   },
   {
    "duration": 6,
    "start_time": "2023-12-02T15:14:55.059Z"
   },
   {
    "duration": 9,
    "start_time": "2023-12-02T15:14:57.111Z"
   },
   {
    "duration": 5,
    "start_time": "2023-12-02T15:16:00.769Z"
   },
   {
    "duration": 9,
    "start_time": "2023-12-02T15:16:02.500Z"
   },
   {
    "duration": 4,
    "start_time": "2023-12-02T15:16:29.349Z"
   },
   {
    "duration": 10,
    "start_time": "2023-12-02T15:18:28.593Z"
   },
   {
    "duration": 4,
    "start_time": "2023-12-02T15:19:05.170Z"
   },
   {
    "duration": 6,
    "start_time": "2023-12-02T15:19:45.782Z"
   },
   {
    "duration": 7,
    "start_time": "2023-12-02T15:19:50.190Z"
   },
   {
    "duration": 6,
    "start_time": "2023-12-02T15:20:17.938Z"
   },
   {
    "duration": 9,
    "start_time": "2023-12-02T15:20:19.075Z"
   },
   {
    "duration": 6,
    "start_time": "2023-12-02T15:22:02.998Z"
   },
   {
    "duration": 1528,
    "start_time": "2023-12-02T15:22:08.107Z"
   },
   {
    "duration": 6,
    "start_time": "2023-12-02T15:25:15.721Z"
   },
   {
    "duration": 8,
    "start_time": "2023-12-02T15:25:25.918Z"
   },
   {
    "duration": 5,
    "start_time": "2023-12-02T15:25:37.122Z"
   },
   {
    "duration": 15,
    "start_time": "2023-12-02T15:25:39.610Z"
   },
   {
    "duration": 7,
    "start_time": "2023-12-02T15:27:03.192Z"
   },
   {
    "duration": 13,
    "start_time": "2023-12-02T15:27:05.258Z"
   },
   {
    "duration": 8,
    "start_time": "2023-12-02T15:28:15.155Z"
   },
   {
    "duration": 5,
    "start_time": "2023-12-02T15:28:32.805Z"
   },
   {
    "duration": 8,
    "start_time": "2023-12-02T15:28:45.272Z"
   },
   {
    "duration": 5,
    "start_time": "2023-12-02T15:29:05.836Z"
   },
   {
    "duration": 196,
    "start_time": "2023-12-02T15:29:05.845Z"
   },
   {
    "duration": 6,
    "start_time": "2023-12-02T15:29:06.043Z"
   },
   {
    "duration": 38,
    "start_time": "2023-12-02T15:29:06.051Z"
   },
   {
    "duration": 2,
    "start_time": "2023-12-02T15:29:06.091Z"
   },
   {
    "duration": 17,
    "start_time": "2023-12-02T15:29:06.094Z"
   },
   {
    "duration": 6,
    "start_time": "2023-12-02T15:29:06.112Z"
   },
   {
    "duration": 95,
    "start_time": "2023-12-02T15:29:06.119Z"
   },
   {
    "duration": 104,
    "start_time": "2023-12-02T15:29:06.215Z"
   },
   {
    "duration": 90,
    "start_time": "2023-12-02T15:29:06.320Z"
   },
   {
    "duration": 112,
    "start_time": "2023-12-02T15:29:06.413Z"
   },
   {
    "duration": 30,
    "start_time": "2023-12-02T15:29:06.526Z"
   },
   {
    "duration": 53,
    "start_time": "2023-12-02T15:29:06.558Z"
   },
   {
    "duration": 28,
    "start_time": "2023-12-02T15:29:06.612Z"
   },
   {
    "duration": 24,
    "start_time": "2023-12-02T15:29:06.641Z"
   },
   {
    "duration": 6,
    "start_time": "2023-12-02T15:29:06.682Z"
   },
   {
    "duration": 25,
    "start_time": "2023-12-02T15:29:06.689Z"
   },
   {
    "duration": 19,
    "start_time": "2023-12-02T15:29:06.715Z"
   },
   {
    "duration": 21,
    "start_time": "2023-12-02T15:29:06.736Z"
   },
   {
    "duration": 42,
    "start_time": "2023-12-02T15:29:06.759Z"
   },
   {
    "duration": 316,
    "start_time": "2023-12-02T15:29:06.802Z"
   },
   {
    "duration": 38,
    "start_time": "2023-12-02T15:29:07.120Z"
   },
   {
    "duration": 2,
    "start_time": "2023-12-02T15:29:07.160Z"
   },
   {
    "duration": 31,
    "start_time": "2023-12-02T15:29:07.164Z"
   },
   {
    "duration": 30,
    "start_time": "2023-12-02T15:29:07.197Z"
   },
   {
    "duration": 23,
    "start_time": "2023-12-02T15:29:07.229Z"
   },
   {
    "duration": 29,
    "start_time": "2023-12-02T15:29:07.253Z"
   },
   {
    "duration": 30,
    "start_time": "2023-12-02T15:29:07.283Z"
   },
   {
    "duration": 50,
    "start_time": "2023-12-02T15:29:07.317Z"
   },
   {
    "duration": 25,
    "start_time": "2023-12-02T15:29:07.382Z"
   },
   {
    "duration": 52,
    "start_time": "2023-12-02T15:29:07.408Z"
   },
   {
    "duration": 22,
    "start_time": "2023-12-02T15:29:07.462Z"
   },
   {
    "duration": 6,
    "start_time": "2023-12-02T15:29:07.486Z"
   },
   {
    "duration": 100,
    "start_time": "2023-12-02T15:29:07.494Z"
   },
   {
    "duration": 40,
    "start_time": "2023-12-02T15:29:07.596Z"
   },
   {
    "duration": 5,
    "start_time": "2023-12-02T15:29:07.637Z"
   },
   {
    "duration": 14,
    "start_time": "2023-12-02T15:29:07.644Z"
   },
   {
    "duration": 23,
    "start_time": "2023-12-02T15:29:07.660Z"
   },
   {
    "duration": 5,
    "start_time": "2023-12-02T15:29:07.685Z"
   },
   {
    "duration": 10,
    "start_time": "2023-12-02T15:29:07.691Z"
   },
   {
    "duration": 15,
    "start_time": "2023-12-02T15:29:07.702Z"
   },
   {
    "duration": 5,
    "start_time": "2023-12-02T15:29:07.718Z"
   },
   {
    "duration": 29,
    "start_time": "2023-12-02T15:29:07.724Z"
   },
   {
    "duration": 39,
    "start_time": "2023-12-02T15:29:07.755Z"
   },
   {
    "duration": 35,
    "start_time": "2023-12-02T15:29:07.796Z"
   },
   {
    "duration": 19,
    "start_time": "2023-12-02T15:29:07.832Z"
   },
   {
    "duration": 193,
    "start_time": "2023-12-02T15:29:07.853Z"
   },
   {
    "duration": 4,
    "start_time": "2023-12-02T15:29:08.048Z"
   },
   {
    "duration": 35,
    "start_time": "2023-12-02T15:29:08.053Z"
   },
   {
    "duration": 3,
    "start_time": "2023-12-02T15:29:08.089Z"
   },
   {
    "duration": 5,
    "start_time": "2023-12-02T15:29:08.093Z"
   },
   {
    "duration": 8,
    "start_time": "2023-12-02T15:29:08.099Z"
   },
   {
    "duration": 5,
    "start_time": "2023-12-02T15:29:08.108Z"
   },
   {
    "duration": 176,
    "start_time": "2023-12-02T15:29:08.115Z"
   },
   {
    "duration": 3,
    "start_time": "2023-12-02T15:29:08.292Z"
   },
   {
    "duration": 5,
    "start_time": "2023-12-02T15:29:08.296Z"
   },
   {
    "duration": 6,
    "start_time": "2023-12-02T15:29:08.302Z"
   },
   {
    "duration": 7,
    "start_time": "2023-12-02T15:29:08.309Z"
   },
   {
    "duration": 3,
    "start_time": "2023-12-02T15:29:08.317Z"
   },
   {
    "duration": 14,
    "start_time": "2023-12-02T15:29:08.321Z"
   },
   {
    "duration": 10,
    "start_time": "2023-12-02T15:29:08.336Z"
   },
   {
    "duration": 35,
    "start_time": "2023-12-02T15:29:08.347Z"
   },
   {
    "duration": 8,
    "start_time": "2023-12-02T15:29:08.383Z"
   },
   {
    "duration": 7,
    "start_time": "2023-12-02T15:29:08.393Z"
   },
   {
    "duration": 7,
    "start_time": "2023-12-02T15:29:08.401Z"
   },
   {
    "duration": 3,
    "start_time": "2023-12-02T15:29:08.409Z"
   },
   {
    "duration": 73,
    "start_time": "2023-12-02T15:29:08.414Z"
   },
   {
    "duration": 0,
    "start_time": "2023-12-02T15:29:08.489Z"
   },
   {
    "duration": 0,
    "start_time": "2023-12-02T15:29:08.490Z"
   },
   {
    "duration": 0,
    "start_time": "2023-12-02T15:29:08.491Z"
   },
   {
    "duration": 0,
    "start_time": "2023-12-02T15:29:08.492Z"
   },
   {
    "duration": 0,
    "start_time": "2023-12-02T15:29:08.493Z"
   },
   {
    "duration": 0,
    "start_time": "2023-12-02T15:29:08.494Z"
   },
   {
    "duration": 0,
    "start_time": "2023-12-02T15:29:08.495Z"
   },
   {
    "duration": 0,
    "start_time": "2023-12-02T15:29:08.496Z"
   },
   {
    "duration": 0,
    "start_time": "2023-12-02T15:29:08.497Z"
   },
   {
    "duration": 0,
    "start_time": "2023-12-02T15:29:08.497Z"
   },
   {
    "duration": 0,
    "start_time": "2023-12-02T15:29:08.498Z"
   },
   {
    "duration": 0,
    "start_time": "2023-12-02T15:29:08.500Z"
   },
   {
    "duration": 0,
    "start_time": "2023-12-02T15:29:08.501Z"
   },
   {
    "duration": 0,
    "start_time": "2023-12-02T15:29:08.503Z"
   },
   {
    "duration": 0,
    "start_time": "2023-12-02T15:29:08.504Z"
   },
   {
    "duration": 5,
    "start_time": "2023-12-02T15:29:31.169Z"
   },
   {
    "duration": 218,
    "start_time": "2023-12-02T15:29:31.176Z"
   },
   {
    "duration": 8,
    "start_time": "2023-12-02T15:29:31.396Z"
   },
   {
    "duration": 37,
    "start_time": "2023-12-02T15:29:31.405Z"
   },
   {
    "duration": 12,
    "start_time": "2023-12-02T15:29:31.445Z"
   },
   {
    "duration": 32,
    "start_time": "2023-12-02T15:29:31.459Z"
   },
   {
    "duration": 6,
    "start_time": "2023-12-02T15:29:31.493Z"
   },
   {
    "duration": 84,
    "start_time": "2023-12-02T15:29:31.501Z"
   },
   {
    "duration": 105,
    "start_time": "2023-12-02T15:29:31.587Z"
   },
   {
    "duration": 90,
    "start_time": "2023-12-02T15:29:31.693Z"
   },
   {
    "duration": 113,
    "start_time": "2023-12-02T15:29:31.785Z"
   },
   {
    "duration": 31,
    "start_time": "2023-12-02T15:29:31.899Z"
   },
   {
    "duration": 55,
    "start_time": "2023-12-02T15:29:31.932Z"
   },
   {
    "duration": 27,
    "start_time": "2023-12-02T15:29:31.989Z"
   },
   {
    "duration": 24,
    "start_time": "2023-12-02T15:29:32.018Z"
   },
   {
    "duration": 14,
    "start_time": "2023-12-02T15:29:32.044Z"
   },
   {
    "duration": 37,
    "start_time": "2023-12-02T15:29:32.059Z"
   },
   {
    "duration": 20,
    "start_time": "2023-12-02T15:29:32.097Z"
   },
   {
    "duration": 19,
    "start_time": "2023-12-02T15:29:32.118Z"
   },
   {
    "duration": 43,
    "start_time": "2023-12-02T15:29:32.139Z"
   },
   {
    "duration": 308,
    "start_time": "2023-12-02T15:29:32.183Z"
   },
   {
    "duration": 34,
    "start_time": "2023-12-02T15:29:32.493Z"
   },
   {
    "duration": 4,
    "start_time": "2023-12-02T15:29:32.530Z"
   },
   {
    "duration": 19,
    "start_time": "2023-12-02T15:29:32.535Z"
   },
   {
    "duration": 53,
    "start_time": "2023-12-02T15:29:32.556Z"
   },
   {
    "duration": 24,
    "start_time": "2023-12-02T15:29:32.610Z"
   },
   {
    "duration": 13,
    "start_time": "2023-12-02T15:29:32.635Z"
   },
   {
    "duration": 64,
    "start_time": "2023-12-02T15:29:32.649Z"
   },
   {
    "duration": 51,
    "start_time": "2023-12-02T15:29:32.716Z"
   },
   {
    "duration": 38,
    "start_time": "2023-12-02T15:29:32.768Z"
   },
   {
    "duration": 48,
    "start_time": "2023-12-02T15:29:32.807Z"
   },
   {
    "duration": 8,
    "start_time": "2023-12-02T15:29:32.856Z"
   },
   {
    "duration": 23,
    "start_time": "2023-12-02T15:29:32.865Z"
   },
   {
    "duration": 104,
    "start_time": "2023-12-02T15:29:32.890Z"
   },
   {
    "duration": 37,
    "start_time": "2023-12-02T15:29:32.996Z"
   },
   {
    "duration": 7,
    "start_time": "2023-12-02T15:29:33.034Z"
   },
   {
    "duration": 12,
    "start_time": "2023-12-02T15:29:33.043Z"
   },
   {
    "duration": 26,
    "start_time": "2023-12-02T15:29:33.056Z"
   },
   {
    "duration": 5,
    "start_time": "2023-12-02T15:29:33.084Z"
   },
   {
    "duration": 9,
    "start_time": "2023-12-02T15:29:33.090Z"
   },
   {
    "duration": 7,
    "start_time": "2023-12-02T15:29:33.101Z"
   },
   {
    "duration": 8,
    "start_time": "2023-12-02T15:29:33.109Z"
   },
   {
    "duration": 24,
    "start_time": "2023-12-02T15:29:33.119Z"
   },
   {
    "duration": 43,
    "start_time": "2023-12-02T15:29:33.145Z"
   },
   {
    "duration": 35,
    "start_time": "2023-12-02T15:29:33.190Z"
   },
   {
    "duration": 18,
    "start_time": "2023-12-02T15:29:33.226Z"
   },
   {
    "duration": 189,
    "start_time": "2023-12-02T15:29:33.246Z"
   },
   {
    "duration": 3,
    "start_time": "2023-12-02T15:29:33.437Z"
   },
   {
    "duration": 16,
    "start_time": "2023-12-02T15:29:33.442Z"
   },
   {
    "duration": 2,
    "start_time": "2023-12-02T15:29:33.460Z"
   },
   {
    "duration": 4,
    "start_time": "2023-12-02T15:29:33.481Z"
   },
   {
    "duration": 6,
    "start_time": "2023-12-02T15:29:33.486Z"
   },
   {
    "duration": 6,
    "start_time": "2023-12-02T15:29:33.493Z"
   },
   {
    "duration": 171,
    "start_time": "2023-12-02T15:29:33.500Z"
   },
   {
    "duration": 2,
    "start_time": "2023-12-02T15:29:33.673Z"
   },
   {
    "duration": 11,
    "start_time": "2023-12-02T15:29:33.676Z"
   },
   {
    "duration": 19,
    "start_time": "2023-12-02T15:29:33.688Z"
   },
   {
    "duration": 12,
    "start_time": "2023-12-02T15:29:33.709Z"
   },
   {
    "duration": 3,
    "start_time": "2023-12-02T15:29:33.722Z"
   },
   {
    "duration": 13,
    "start_time": "2023-12-02T15:29:33.727Z"
   },
   {
    "duration": 3,
    "start_time": "2023-12-02T15:29:33.741Z"
   },
   {
    "duration": 15,
    "start_time": "2023-12-02T15:29:33.745Z"
   },
   {
    "duration": 28,
    "start_time": "2023-12-02T15:29:33.762Z"
   },
   {
    "duration": 11,
    "start_time": "2023-12-02T15:29:33.791Z"
   },
   {
    "duration": 12,
    "start_time": "2023-12-02T15:29:33.804Z"
   },
   {
    "duration": 19,
    "start_time": "2023-12-02T15:29:33.817Z"
   },
   {
    "duration": 23,
    "start_time": "2023-12-02T15:29:33.837Z"
   },
   {
    "duration": 7,
    "start_time": "2023-12-02T15:29:33.862Z"
   },
   {
    "duration": 4,
    "start_time": "2023-12-02T15:29:33.870Z"
   },
   {
    "duration": 19,
    "start_time": "2023-12-02T15:29:33.875Z"
   },
   {
    "duration": 7,
    "start_time": "2023-12-02T15:29:33.895Z"
   },
   {
    "duration": 6,
    "start_time": "2023-12-02T15:29:33.903Z"
   },
   {
    "duration": 8,
    "start_time": "2023-12-02T15:29:33.910Z"
   },
   {
    "duration": 5,
    "start_time": "2023-12-02T15:29:33.920Z"
   },
   {
    "duration": 7,
    "start_time": "2023-12-02T15:29:33.926Z"
   },
   {
    "duration": 8,
    "start_time": "2023-12-02T15:29:33.935Z"
   },
   {
    "duration": 10,
    "start_time": "2023-12-02T15:29:33.944Z"
   },
   {
    "duration": 14,
    "start_time": "2023-12-02T15:29:33.956Z"
   },
   {
    "duration": 0,
    "start_time": "2023-12-02T15:29:33.982Z"
   },
   {
    "duration": 0,
    "start_time": "2023-12-02T15:29:33.983Z"
   },
   {
    "duration": 0,
    "start_time": "2023-12-02T15:29:33.985Z"
   },
   {
    "duration": 0,
    "start_time": "2023-12-02T15:29:33.986Z"
   },
   {
    "duration": 4,
    "start_time": "2023-12-02T15:30:04.887Z"
   },
   {
    "duration": 4,
    "start_time": "2023-12-02T15:30:08.582Z"
   },
   {
    "duration": 4,
    "start_time": "2023-12-02T15:30:13.472Z"
   },
   {
    "duration": 4,
    "start_time": "2023-12-02T15:31:01.413Z"
   },
   {
    "duration": 14,
    "start_time": "2023-12-02T15:31:16.952Z"
   },
   {
    "duration": 7,
    "start_time": "2023-12-02T15:31:57.275Z"
   },
   {
    "duration": 7,
    "start_time": "2023-12-02T15:34:15.869Z"
   },
   {
    "duration": 17,
    "start_time": "2023-12-02T15:34:18.294Z"
   },
   {
    "duration": 7,
    "start_time": "2023-12-02T15:35:58.090Z"
   },
   {
    "duration": 1448,
    "start_time": "2023-12-02T15:36:00.262Z"
   },
   {
    "duration": 7,
    "start_time": "2023-12-02T15:36:49.342Z"
   },
   {
    "duration": 1394,
    "start_time": "2023-12-02T15:36:51.780Z"
   },
   {
    "duration": 6,
    "start_time": "2023-12-02T15:37:18.667Z"
   },
   {
    "duration": 15,
    "start_time": "2023-12-02T15:37:21.745Z"
   },
   {
    "duration": 8,
    "start_time": "2023-12-02T15:37:28.283Z"
   },
   {
    "duration": 5,
    "start_time": "2023-12-02T15:37:56.423Z"
   },
   {
    "duration": 15,
    "start_time": "2023-12-02T15:37:58.804Z"
   },
   {
    "duration": 14,
    "start_time": "2023-12-02T15:38:02.514Z"
   },
   {
    "duration": 8,
    "start_time": "2023-12-02T15:38:43.961Z"
   },
   {
    "duration": 4,
    "start_time": "2023-12-02T15:38:47.560Z"
   },
   {
    "duration": 170,
    "start_time": "2023-12-02T15:38:47.566Z"
   },
   {
    "duration": 6,
    "start_time": "2023-12-02T15:38:47.738Z"
   },
   {
    "duration": 37,
    "start_time": "2023-12-02T15:38:47.745Z"
   },
   {
    "duration": 3,
    "start_time": "2023-12-02T15:38:47.784Z"
   },
   {
    "duration": 17,
    "start_time": "2023-12-02T15:38:47.788Z"
   },
   {
    "duration": 9,
    "start_time": "2023-12-02T15:38:47.806Z"
   },
   {
    "duration": 93,
    "start_time": "2023-12-02T15:38:47.816Z"
   },
   {
    "duration": 102,
    "start_time": "2023-12-02T15:38:47.910Z"
   },
   {
    "duration": 81,
    "start_time": "2023-12-02T15:38:48.013Z"
   },
   {
    "duration": 108,
    "start_time": "2023-12-02T15:38:48.097Z"
   },
   {
    "duration": 32,
    "start_time": "2023-12-02T15:38:48.207Z"
   },
   {
    "duration": 56,
    "start_time": "2023-12-02T15:38:48.240Z"
   },
   {
    "duration": 27,
    "start_time": "2023-12-02T15:38:48.297Z"
   },
   {
    "duration": 23,
    "start_time": "2023-12-02T15:38:48.325Z"
   },
   {
    "duration": 7,
    "start_time": "2023-12-02T15:38:48.349Z"
   },
   {
    "duration": 40,
    "start_time": "2023-12-02T15:38:48.357Z"
   },
   {
    "duration": 21,
    "start_time": "2023-12-02T15:38:48.399Z"
   },
   {
    "duration": 20,
    "start_time": "2023-12-02T15:38:48.422Z"
   },
   {
    "duration": 47,
    "start_time": "2023-12-02T15:38:48.443Z"
   },
   {
    "duration": 298,
    "start_time": "2023-12-02T15:38:48.491Z"
   },
   {
    "duration": 33,
    "start_time": "2023-12-02T15:38:48.791Z"
   },
   {
    "duration": 6,
    "start_time": "2023-12-02T15:38:48.825Z"
   },
   {
    "duration": 16,
    "start_time": "2023-12-02T15:38:48.832Z"
   },
   {
    "duration": 46,
    "start_time": "2023-12-02T15:38:48.850Z"
   },
   {
    "duration": 28,
    "start_time": "2023-12-02T15:38:48.898Z"
   },
   {
    "duration": 22,
    "start_time": "2023-12-02T15:38:48.927Z"
   },
   {
    "duration": 27,
    "start_time": "2023-12-02T15:38:48.950Z"
   },
   {
    "duration": 52,
    "start_time": "2023-12-02T15:38:48.980Z"
   },
   {
    "duration": 23,
    "start_time": "2023-12-02T15:38:49.034Z"
   },
   {
    "duration": 65,
    "start_time": "2023-12-02T15:38:49.058Z"
   },
   {
    "duration": 7,
    "start_time": "2023-12-02T15:38:49.124Z"
   },
   {
    "duration": 7,
    "start_time": "2023-12-02T15:38:49.133Z"
   },
   {
    "duration": 102,
    "start_time": "2023-12-02T15:38:49.141Z"
   },
   {
    "duration": 48,
    "start_time": "2023-12-02T15:38:49.245Z"
   },
   {
    "duration": 5,
    "start_time": "2023-12-02T15:38:49.295Z"
   },
   {
    "duration": 10,
    "start_time": "2023-12-02T15:38:49.302Z"
   },
   {
    "duration": 5,
    "start_time": "2023-12-02T15:38:49.314Z"
   },
   {
    "duration": 5,
    "start_time": "2023-12-02T15:38:49.320Z"
   },
   {
    "duration": 10,
    "start_time": "2023-12-02T15:38:49.326Z"
   },
   {
    "duration": 10,
    "start_time": "2023-12-02T15:38:49.337Z"
   },
   {
    "duration": 6,
    "start_time": "2023-12-02T15:38:49.348Z"
   },
   {
    "duration": 48,
    "start_time": "2023-12-02T15:38:49.355Z"
   },
   {
    "duration": 17,
    "start_time": "2023-12-02T15:38:49.404Z"
   },
   {
    "duration": 35,
    "start_time": "2023-12-02T15:38:49.422Z"
   },
   {
    "duration": 35,
    "start_time": "2023-12-02T15:38:49.458Z"
   },
   {
    "duration": 177,
    "start_time": "2023-12-02T15:38:49.495Z"
   },
   {
    "duration": 9,
    "start_time": "2023-12-02T15:38:49.674Z"
   },
   {
    "duration": 22,
    "start_time": "2023-12-02T15:38:49.685Z"
   },
   {
    "duration": 3,
    "start_time": "2023-12-02T15:38:49.708Z"
   },
   {
    "duration": 8,
    "start_time": "2023-12-02T15:38:49.712Z"
   },
   {
    "duration": 5,
    "start_time": "2023-12-02T15:38:49.721Z"
   },
   {
    "duration": 21,
    "start_time": "2023-12-02T15:38:49.727Z"
   },
   {
    "duration": 175,
    "start_time": "2023-12-02T15:38:49.749Z"
   },
   {
    "duration": 3,
    "start_time": "2023-12-02T15:38:49.925Z"
   },
   {
    "duration": 17,
    "start_time": "2023-12-02T15:38:49.929Z"
   },
   {
    "duration": 12,
    "start_time": "2023-12-02T15:38:49.947Z"
   },
   {
    "duration": 8,
    "start_time": "2023-12-02T15:38:49.960Z"
   },
   {
    "duration": 8,
    "start_time": "2023-12-02T15:38:49.969Z"
   },
   {
    "duration": 15,
    "start_time": "2023-12-02T15:38:49.978Z"
   },
   {
    "duration": 2,
    "start_time": "2023-12-02T15:38:49.994Z"
   },
   {
    "duration": 20,
    "start_time": "2023-12-02T15:38:49.998Z"
   },
   {
    "duration": 24,
    "start_time": "2023-12-02T15:38:50.019Z"
   },
   {
    "duration": 8,
    "start_time": "2023-12-02T15:38:50.045Z"
   },
   {
    "duration": 7,
    "start_time": "2023-12-02T15:38:52.331Z"
   },
   {
    "duration": 5,
    "start_time": "2023-12-02T15:38:54.241Z"
   },
   {
    "duration": 7,
    "start_time": "2023-12-02T15:38:55.014Z"
   },
   {
    "duration": 17,
    "start_time": "2023-12-02T15:38:56.260Z"
   },
   {
    "duration": 16,
    "start_time": "2023-12-02T15:39:52.569Z"
   },
   {
    "duration": 7,
    "start_time": "2023-12-02T15:39:57.395Z"
   },
   {
    "duration": 1305,
    "start_time": "2023-12-02T15:40:59.125Z"
   },
   {
    "duration": 17,
    "start_time": "2023-12-02T15:41:10.565Z"
   },
   {
    "duration": 14,
    "start_time": "2023-12-02T15:42:03.393Z"
   },
   {
    "duration": 9,
    "start_time": "2023-12-02T15:42:29.146Z"
   },
   {
    "duration": 4,
    "start_time": "2023-12-02T15:43:36.558Z"
   },
   {
    "duration": 165,
    "start_time": "2023-12-02T15:43:36.564Z"
   },
   {
    "duration": 6,
    "start_time": "2023-12-02T15:43:36.731Z"
   },
   {
    "duration": 20,
    "start_time": "2023-12-02T15:43:36.738Z"
   },
   {
    "duration": 2,
    "start_time": "2023-12-02T15:43:36.760Z"
   },
   {
    "duration": 15,
    "start_time": "2023-12-02T15:43:36.782Z"
   },
   {
    "duration": 7,
    "start_time": "2023-12-02T15:43:36.798Z"
   },
   {
    "duration": 87,
    "start_time": "2023-12-02T15:43:36.807Z"
   },
   {
    "duration": 86,
    "start_time": "2023-12-02T15:43:36.896Z"
   },
   {
    "duration": 68,
    "start_time": "2023-12-02T15:43:36.983Z"
   },
   {
    "duration": 99,
    "start_time": "2023-12-02T15:43:37.053Z"
   },
   {
    "duration": 39,
    "start_time": "2023-12-02T15:43:37.154Z"
   },
   {
    "duration": 43,
    "start_time": "2023-12-02T15:43:37.194Z"
   },
   {
    "duration": 43,
    "start_time": "2023-12-02T15:43:37.239Z"
   },
   {
    "duration": 24,
    "start_time": "2023-12-02T15:43:37.283Z"
   },
   {
    "duration": 6,
    "start_time": "2023-12-02T15:43:37.309Z"
   },
   {
    "duration": 19,
    "start_time": "2023-12-02T15:43:37.316Z"
   },
   {
    "duration": 19,
    "start_time": "2023-12-02T15:43:37.336Z"
   },
   {
    "duration": 43,
    "start_time": "2023-12-02T15:43:37.356Z"
   },
   {
    "duration": 27,
    "start_time": "2023-12-02T15:43:37.400Z"
   },
   {
    "duration": 397,
    "start_time": "2023-12-02T15:43:37.428Z"
   },
   {
    "duration": 42,
    "start_time": "2023-12-02T15:43:37.826Z"
   },
   {
    "duration": 13,
    "start_time": "2023-12-02T15:43:37.869Z"
   },
   {
    "duration": 17,
    "start_time": "2023-12-02T15:43:37.883Z"
   },
   {
    "duration": 29,
    "start_time": "2023-12-02T15:43:37.901Z"
   },
   {
    "duration": 21,
    "start_time": "2023-12-02T15:43:37.932Z"
   },
   {
    "duration": 31,
    "start_time": "2023-12-02T15:43:37.954Z"
   },
   {
    "duration": 28,
    "start_time": "2023-12-02T15:43:37.987Z"
   },
   {
    "duration": 50,
    "start_time": "2023-12-02T15:43:38.018Z"
   },
   {
    "duration": 34,
    "start_time": "2023-12-02T15:43:38.070Z"
   },
   {
    "duration": 56,
    "start_time": "2023-12-02T15:43:38.105Z"
   },
   {
    "duration": 19,
    "start_time": "2023-12-02T15:43:38.163Z"
   },
   {
    "duration": 7,
    "start_time": "2023-12-02T15:43:38.183Z"
   },
   {
    "duration": 99,
    "start_time": "2023-12-02T15:43:38.192Z"
   },
   {
    "duration": 40,
    "start_time": "2023-12-02T15:43:38.293Z"
   },
   {
    "duration": 6,
    "start_time": "2023-12-02T15:43:38.334Z"
   },
   {
    "duration": 18,
    "start_time": "2023-12-02T15:43:38.341Z"
   },
   {
    "duration": 16,
    "start_time": "2023-12-02T15:43:38.360Z"
   },
   {
    "duration": 8,
    "start_time": "2023-12-02T15:43:38.377Z"
   },
   {
    "duration": 8,
    "start_time": "2023-12-02T15:43:38.387Z"
   },
   {
    "duration": 32,
    "start_time": "2023-12-02T15:43:38.397Z"
   },
   {
    "duration": 6,
    "start_time": "2023-12-02T15:43:38.430Z"
   },
   {
    "duration": 27,
    "start_time": "2023-12-02T15:43:38.437Z"
   },
   {
    "duration": 18,
    "start_time": "2023-12-02T15:43:38.465Z"
   },
   {
    "duration": 36,
    "start_time": "2023-12-02T15:43:38.484Z"
   },
   {
    "duration": 18,
    "start_time": "2023-12-02T15:43:38.521Z"
   },
   {
    "duration": 186,
    "start_time": "2023-12-02T15:43:38.540Z"
   },
   {
    "duration": 4,
    "start_time": "2023-12-02T15:43:38.727Z"
   },
   {
    "duration": 24,
    "start_time": "2023-12-02T15:43:38.732Z"
   },
   {
    "duration": 3,
    "start_time": "2023-12-02T15:43:38.757Z"
   },
   {
    "duration": 7,
    "start_time": "2023-12-02T15:43:38.761Z"
   },
   {
    "duration": 16,
    "start_time": "2023-12-02T15:43:38.769Z"
   },
   {
    "duration": 19,
    "start_time": "2023-12-02T15:43:38.786Z"
   },
   {
    "duration": 160,
    "start_time": "2023-12-02T15:43:38.806Z"
   },
   {
    "duration": 3,
    "start_time": "2023-12-02T15:43:38.967Z"
   },
   {
    "duration": 11,
    "start_time": "2023-12-02T15:43:38.971Z"
   },
   {
    "duration": 4,
    "start_time": "2023-12-02T15:43:38.985Z"
   },
   {
    "duration": 7,
    "start_time": "2023-12-02T15:43:38.990Z"
   },
   {
    "duration": 3,
    "start_time": "2023-12-02T15:43:38.998Z"
   },
   {
    "duration": 13,
    "start_time": "2023-12-02T15:43:39.002Z"
   },
   {
    "duration": 2,
    "start_time": "2023-12-02T15:43:39.016Z"
   },
   {
    "duration": 11,
    "start_time": "2023-12-02T15:43:39.019Z"
   },
   {
    "duration": 8,
    "start_time": "2023-12-02T15:43:39.031Z"
   },
   {
    "duration": 7,
    "start_time": "2023-12-02T15:43:39.040Z"
   },
   {
    "duration": 1198,
    "start_time": "2023-12-02T15:43:41.695Z"
   },
   {
    "duration": 8,
    "start_time": "2023-12-02T15:44:09.326Z"
   },
   {
    "duration": 9,
    "start_time": "2023-12-02T15:44:13.119Z"
   },
   {
    "duration": 8,
    "start_time": "2023-12-02T15:44:23.392Z"
   },
   {
    "duration": 4,
    "start_time": "2023-12-02T15:44:29.114Z"
   },
   {
    "duration": 9,
    "start_time": "2023-12-02T15:44:35.159Z"
   },
   {
    "duration": 5,
    "start_time": "2023-12-02T15:44:38.653Z"
   },
   {
    "duration": 8,
    "start_time": "2023-12-02T15:44:45.642Z"
   },
   {
    "duration": 5,
    "start_time": "2023-12-02T15:45:23.287Z"
   },
   {
    "duration": 188,
    "start_time": "2023-12-02T15:45:23.294Z"
   },
   {
    "duration": 7,
    "start_time": "2023-12-02T15:45:23.484Z"
   },
   {
    "duration": 22,
    "start_time": "2023-12-02T15:45:23.492Z"
   },
   {
    "duration": 2,
    "start_time": "2023-12-02T15:45:23.516Z"
   },
   {
    "duration": 18,
    "start_time": "2023-12-02T15:45:23.519Z"
   },
   {
    "duration": 6,
    "start_time": "2023-12-02T15:45:23.538Z"
   },
   {
    "duration": 109,
    "start_time": "2023-12-02T15:45:23.545Z"
   },
   {
    "duration": 127,
    "start_time": "2023-12-02T15:45:23.656Z"
   },
   {
    "duration": 99,
    "start_time": "2023-12-02T15:45:23.784Z"
   },
   {
    "duration": 121,
    "start_time": "2023-12-02T15:45:23.885Z"
   },
   {
    "duration": 35,
    "start_time": "2023-12-02T15:45:24.007Z"
   },
   {
    "duration": 62,
    "start_time": "2023-12-02T15:45:24.043Z"
   },
   {
    "duration": 31,
    "start_time": "2023-12-02T15:45:24.107Z"
   },
   {
    "duration": 27,
    "start_time": "2023-12-02T15:45:24.139Z"
   },
   {
    "duration": 20,
    "start_time": "2023-12-02T15:45:24.167Z"
   },
   {
    "duration": 23,
    "start_time": "2023-12-02T15:45:24.189Z"
   },
   {
    "duration": 23,
    "start_time": "2023-12-02T15:45:24.213Z"
   },
   {
    "duration": 48,
    "start_time": "2023-12-02T15:45:24.238Z"
   },
   {
    "duration": 31,
    "start_time": "2023-12-02T15:45:24.288Z"
   },
   {
    "duration": 361,
    "start_time": "2023-12-02T15:45:24.321Z"
   },
   {
    "duration": 40,
    "start_time": "2023-12-02T15:45:24.684Z"
   },
   {
    "duration": 8,
    "start_time": "2023-12-02T15:45:24.726Z"
   },
   {
    "duration": 23,
    "start_time": "2023-12-02T15:45:24.735Z"
   },
   {
    "duration": 44,
    "start_time": "2023-12-02T15:45:24.760Z"
   },
   {
    "duration": 25,
    "start_time": "2023-12-02T15:45:24.806Z"
   },
   {
    "duration": 18,
    "start_time": "2023-12-02T15:45:24.832Z"
   },
   {
    "duration": 51,
    "start_time": "2023-12-02T15:45:24.852Z"
   },
   {
    "duration": 57,
    "start_time": "2023-12-02T15:45:24.908Z"
   },
   {
    "duration": 37,
    "start_time": "2023-12-02T15:45:24.967Z"
   },
   {
    "duration": 71,
    "start_time": "2023-12-02T15:45:25.006Z"
   },
   {
    "duration": 10,
    "start_time": "2023-12-02T15:45:25.079Z"
   },
   {
    "duration": 8,
    "start_time": "2023-12-02T15:45:25.090Z"
   },
   {
    "duration": 122,
    "start_time": "2023-12-02T15:45:25.099Z"
   },
   {
    "duration": 45,
    "start_time": "2023-12-02T15:45:25.222Z"
   },
   {
    "duration": 21,
    "start_time": "2023-12-02T15:45:25.268Z"
   },
   {
    "duration": 12,
    "start_time": "2023-12-02T15:45:25.291Z"
   },
   {
    "duration": 22,
    "start_time": "2023-12-02T15:45:25.305Z"
   },
   {
    "duration": 24,
    "start_time": "2023-12-02T15:45:25.328Z"
   },
   {
    "duration": 9,
    "start_time": "2023-12-02T15:45:25.354Z"
   },
   {
    "duration": 10,
    "start_time": "2023-12-02T15:45:25.364Z"
   },
   {
    "duration": 6,
    "start_time": "2023-12-02T15:45:25.376Z"
   },
   {
    "duration": 26,
    "start_time": "2023-12-02T15:45:25.384Z"
   },
   {
    "duration": 18,
    "start_time": "2023-12-02T15:45:25.412Z"
   },
   {
    "duration": 56,
    "start_time": "2023-12-02T15:45:25.432Z"
   },
   {
    "duration": 20,
    "start_time": "2023-12-02T15:45:25.490Z"
   },
   {
    "duration": 197,
    "start_time": "2023-12-02T15:45:25.511Z"
   },
   {
    "duration": 4,
    "start_time": "2023-12-02T15:45:25.709Z"
   },
   {
    "duration": 20,
    "start_time": "2023-12-02T15:45:25.714Z"
   },
   {
    "duration": 3,
    "start_time": "2023-12-02T15:45:25.736Z"
   },
   {
    "duration": 16,
    "start_time": "2023-12-02T15:45:25.740Z"
   },
   {
    "duration": 5,
    "start_time": "2023-12-02T15:45:25.757Z"
   },
   {
    "duration": 11,
    "start_time": "2023-12-02T15:45:25.764Z"
   },
   {
    "duration": 172,
    "start_time": "2023-12-02T15:45:25.776Z"
   },
   {
    "duration": 4,
    "start_time": "2023-12-02T15:45:25.950Z"
   },
   {
    "duration": 5,
    "start_time": "2023-12-02T15:45:25.956Z"
   },
   {
    "duration": 6,
    "start_time": "2023-12-02T15:45:25.962Z"
   },
   {
    "duration": 17,
    "start_time": "2023-12-02T15:45:25.969Z"
   },
   {
    "duration": 8,
    "start_time": "2023-12-02T15:45:25.987Z"
   },
   {
    "duration": 3,
    "start_time": "2023-12-02T15:45:25.997Z"
   },
   {
    "duration": 14,
    "start_time": "2023-12-02T15:45:26.001Z"
   },
   {
    "duration": 3,
    "start_time": "2023-12-02T15:45:26.016Z"
   },
   {
    "duration": 14,
    "start_time": "2023-12-02T15:45:26.020Z"
   },
   {
    "duration": 9,
    "start_time": "2023-12-02T15:45:26.036Z"
   },
   {
    "duration": 40,
    "start_time": "2023-12-02T15:45:26.046Z"
   },
   {
    "duration": 4,
    "start_time": "2023-12-02T15:45:26.088Z"
   },
   {
    "duration": 6,
    "start_time": "2023-12-02T15:45:26.093Z"
   },
   {
    "duration": 8,
    "start_time": "2023-12-02T15:45:26.100Z"
   },
   {
    "duration": 5,
    "start_time": "2023-12-02T15:45:26.109Z"
   },
   {
    "duration": 17,
    "start_time": "2023-12-02T15:45:26.116Z"
   },
   {
    "duration": 2,
    "start_time": "2023-12-02T15:45:26.134Z"
   },
   {
    "duration": 3,
    "start_time": "2023-12-02T15:45:26.137Z"
   },
   {
    "duration": 3,
    "start_time": "2023-12-02T15:45:26.142Z"
   },
   {
    "duration": 39,
    "start_time": "2023-12-02T15:45:26.147Z"
   },
   {
    "duration": 4,
    "start_time": "2023-12-02T15:45:26.187Z"
   },
   {
    "duration": 8,
    "start_time": "2023-12-02T15:45:26.192Z"
   },
   {
    "duration": 4,
    "start_time": "2023-12-02T15:45:26.202Z"
   },
   {
    "duration": 6,
    "start_time": "2023-12-02T15:45:26.207Z"
   },
   {
    "duration": 29,
    "start_time": "2023-12-02T15:45:26.214Z"
   },
   {
    "duration": 20,
    "start_time": "2023-12-02T15:45:26.244Z"
   },
   {
    "duration": 14,
    "start_time": "2023-12-02T15:45:26.266Z"
   },
   {
    "duration": 3,
    "start_time": "2023-12-02T15:45:26.282Z"
   },
   {
    "duration": 2,
    "start_time": "2023-12-02T15:45:26.290Z"
   },
   {
    "duration": 15,
    "start_time": "2023-12-02T15:45:26.293Z"
   },
   {
    "duration": 13,
    "start_time": "2023-12-02T15:45:26.310Z"
   },
   {
    "duration": 13,
    "start_time": "2023-12-02T15:45:26.324Z"
   },
   {
    "duration": 4,
    "start_time": "2023-12-02T15:47:11.002Z"
   },
   {
    "duration": 188,
    "start_time": "2023-12-02T15:47:11.008Z"
   },
   {
    "duration": 6,
    "start_time": "2023-12-02T15:47:11.198Z"
   },
   {
    "duration": 21,
    "start_time": "2023-12-02T15:47:11.206Z"
   },
   {
    "duration": 2,
    "start_time": "2023-12-02T15:47:11.229Z"
   },
   {
    "duration": 15,
    "start_time": "2023-12-02T15:47:11.233Z"
   },
   {
    "duration": 32,
    "start_time": "2023-12-02T15:47:11.250Z"
   },
   {
    "duration": 70,
    "start_time": "2023-12-02T15:47:11.284Z"
   },
   {
    "duration": 96,
    "start_time": "2023-12-02T15:47:11.356Z"
   },
   {
    "duration": 79,
    "start_time": "2023-12-02T15:47:11.454Z"
   },
   {
    "duration": 97,
    "start_time": "2023-12-02T15:47:11.536Z"
   },
   {
    "duration": 30,
    "start_time": "2023-12-02T15:47:11.634Z"
   },
   {
    "duration": 50,
    "start_time": "2023-12-02T15:47:11.666Z"
   },
   {
    "duration": 27,
    "start_time": "2023-12-02T15:47:11.718Z"
   },
   {
    "duration": 59,
    "start_time": "2023-12-02T15:47:11.746Z"
   },
   {
    "duration": 16,
    "start_time": "2023-12-02T15:47:11.806Z"
   },
   {
    "duration": 18,
    "start_time": "2023-12-02T15:47:11.823Z"
   },
   {
    "duration": 22,
    "start_time": "2023-12-02T15:47:11.843Z"
   },
   {
    "duration": 20,
    "start_time": "2023-12-02T15:47:11.866Z"
   },
   {
    "duration": 26,
    "start_time": "2023-12-02T15:47:11.887Z"
   },
   {
    "duration": 390,
    "start_time": "2023-12-02T15:47:11.914Z"
   },
   {
    "duration": 33,
    "start_time": "2023-12-02T15:47:12.305Z"
   },
   {
    "duration": 2,
    "start_time": "2023-12-02T15:47:12.340Z"
   },
   {
    "duration": 18,
    "start_time": "2023-12-02T15:47:12.343Z"
   },
   {
    "duration": 43,
    "start_time": "2023-12-02T15:47:12.363Z"
   },
   {
    "duration": 74,
    "start_time": "2023-12-02T15:47:12.408Z"
   },
   {
    "duration": 9,
    "start_time": "2023-12-02T15:47:12.484Z"
   },
   {
    "duration": 60,
    "start_time": "2023-12-02T15:47:12.494Z"
   },
   {
    "duration": 51,
    "start_time": "2023-12-02T15:47:12.581Z"
   },
   {
    "duration": 24,
    "start_time": "2023-12-02T15:47:12.633Z"
   },
   {
    "duration": 62,
    "start_time": "2023-12-02T15:47:12.658Z"
   },
   {
    "duration": 8,
    "start_time": "2023-12-02T15:47:12.721Z"
   },
   {
    "duration": 6,
    "start_time": "2023-12-02T15:47:12.730Z"
   },
   {
    "duration": 103,
    "start_time": "2023-12-02T15:47:12.738Z"
   },
   {
    "duration": 45,
    "start_time": "2023-12-02T15:47:12.842Z"
   },
   {
    "duration": 10,
    "start_time": "2023-12-02T15:47:12.889Z"
   },
   {
    "duration": 20,
    "start_time": "2023-12-02T15:47:12.900Z"
   },
   {
    "duration": 7,
    "start_time": "2023-12-02T15:47:12.921Z"
   },
   {
    "duration": 6,
    "start_time": "2023-12-02T15:47:12.930Z"
   },
   {
    "duration": 19,
    "start_time": "2023-12-02T15:47:12.937Z"
   },
   {
    "duration": 9,
    "start_time": "2023-12-02T15:47:12.958Z"
   },
   {
    "duration": 5,
    "start_time": "2023-12-02T15:47:12.969Z"
   },
   {
    "duration": 25,
    "start_time": "2023-12-02T15:47:12.981Z"
   },
   {
    "duration": 16,
    "start_time": "2023-12-02T15:47:13.007Z"
   },
   {
    "duration": 36,
    "start_time": "2023-12-02T15:47:13.024Z"
   },
   {
    "duration": 41,
    "start_time": "2023-12-02T15:47:13.061Z"
   },
   {
    "duration": 194,
    "start_time": "2023-12-02T15:47:13.104Z"
   },
   {
    "duration": 4,
    "start_time": "2023-12-02T15:47:13.299Z"
   },
   {
    "duration": 20,
    "start_time": "2023-12-02T15:47:13.304Z"
   },
   {
    "duration": 2,
    "start_time": "2023-12-02T15:47:13.326Z"
   },
   {
    "duration": 5,
    "start_time": "2023-12-02T15:47:13.330Z"
   },
   {
    "duration": 5,
    "start_time": "2023-12-02T15:47:13.336Z"
   },
   {
    "duration": 2,
    "start_time": "2023-12-02T15:47:13.343Z"
   },
   {
    "duration": 162,
    "start_time": "2023-12-02T15:47:18.112Z"
   },
   {
    "duration": 6,
    "start_time": "2023-12-02T15:47:20.553Z"
   },
   {
    "duration": 7,
    "start_time": "2023-12-02T15:47:53.955Z"
   },
   {
    "duration": 4,
    "start_time": "2023-12-02T15:47:58.721Z"
   },
   {
    "duration": 167,
    "start_time": "2023-12-02T15:47:58.728Z"
   },
   {
    "duration": 7,
    "start_time": "2023-12-02T15:47:58.896Z"
   },
   {
    "duration": 28,
    "start_time": "2023-12-02T15:47:58.904Z"
   },
   {
    "duration": 2,
    "start_time": "2023-12-02T15:47:58.934Z"
   },
   {
    "duration": 17,
    "start_time": "2023-12-02T15:47:58.937Z"
   },
   {
    "duration": 5,
    "start_time": "2023-12-02T15:47:58.955Z"
   },
   {
    "duration": 87,
    "start_time": "2023-12-02T15:47:58.962Z"
   },
   {
    "duration": 91,
    "start_time": "2023-12-02T15:47:59.050Z"
   },
   {
    "duration": 77,
    "start_time": "2023-12-02T15:47:59.142Z"
   },
   {
    "duration": 105,
    "start_time": "2023-12-02T15:47:59.222Z"
   },
   {
    "duration": 32,
    "start_time": "2023-12-02T15:47:59.328Z"
   },
   {
    "duration": 53,
    "start_time": "2023-12-02T15:47:59.361Z"
   },
   {
    "duration": 27,
    "start_time": "2023-12-02T15:47:59.415Z"
   },
   {
    "duration": 39,
    "start_time": "2023-12-02T15:47:59.444Z"
   },
   {
    "duration": 6,
    "start_time": "2023-12-02T15:47:59.484Z"
   },
   {
    "duration": 19,
    "start_time": "2023-12-02T15:47:59.492Z"
   },
   {
    "duration": 20,
    "start_time": "2023-12-02T15:47:59.512Z"
   },
   {
    "duration": 19,
    "start_time": "2023-12-02T15:47:59.533Z"
   },
   {
    "duration": 56,
    "start_time": "2023-12-02T15:47:59.553Z"
   },
   {
    "duration": 315,
    "start_time": "2023-12-02T15:47:59.611Z"
   },
   {
    "duration": 33,
    "start_time": "2023-12-02T15:47:59.928Z"
   },
   {
    "duration": 3,
    "start_time": "2023-12-02T15:47:59.963Z"
   },
   {
    "duration": 15,
    "start_time": "2023-12-02T15:47:59.982Z"
   },
   {
    "duration": 30,
    "start_time": "2023-12-02T15:47:59.998Z"
   },
   {
    "duration": 47,
    "start_time": "2023-12-02T15:48:00.029Z"
   },
   {
    "duration": 22,
    "start_time": "2023-12-02T15:48:00.078Z"
   },
   {
    "duration": 36,
    "start_time": "2023-12-02T15:48:00.101Z"
   },
   {
    "duration": 49,
    "start_time": "2023-12-02T15:48:00.140Z"
   },
   {
    "duration": 24,
    "start_time": "2023-12-02T15:48:00.191Z"
   },
   {
    "duration": 68,
    "start_time": "2023-12-02T15:48:00.217Z"
   },
   {
    "duration": 7,
    "start_time": "2023-12-02T15:48:00.287Z"
   },
   {
    "duration": 26,
    "start_time": "2023-12-02T15:48:00.295Z"
   },
   {
    "duration": 106,
    "start_time": "2023-12-02T15:48:00.322Z"
   },
   {
    "duration": 36,
    "start_time": "2023-12-02T15:48:00.430Z"
   },
   {
    "duration": 17,
    "start_time": "2023-12-02T15:48:00.468Z"
   },
   {
    "duration": 24,
    "start_time": "2023-12-02T15:48:00.487Z"
   },
   {
    "duration": 29,
    "start_time": "2023-12-02T15:48:00.512Z"
   },
   {
    "duration": 30,
    "start_time": "2023-12-02T15:48:00.543Z"
   },
   {
    "duration": 34,
    "start_time": "2023-12-02T15:48:00.574Z"
   },
   {
    "duration": 28,
    "start_time": "2023-12-02T15:48:00.609Z"
   },
   {
    "duration": 37,
    "start_time": "2023-12-02T15:48:00.639Z"
   },
   {
    "duration": 47,
    "start_time": "2023-12-02T15:48:00.677Z"
   },
   {
    "duration": 18,
    "start_time": "2023-12-02T15:48:00.725Z"
   },
   {
    "duration": 41,
    "start_time": "2023-12-02T15:48:00.745Z"
   },
   {
    "duration": 18,
    "start_time": "2023-12-02T15:48:00.788Z"
   },
   {
    "duration": 200,
    "start_time": "2023-12-02T15:48:00.807Z"
   },
   {
    "duration": 4,
    "start_time": "2023-12-02T15:48:01.009Z"
   },
   {
    "duration": 30,
    "start_time": "2023-12-02T15:48:01.014Z"
   },
   {
    "duration": 31,
    "start_time": "2023-12-02T15:48:01.045Z"
   },
   {
    "duration": 4,
    "start_time": "2023-12-02T15:48:06.312Z"
   },
   {
    "duration": 4,
    "start_time": "2023-12-02T15:48:10.744Z"
   },
   {
    "duration": 5,
    "start_time": "2023-12-02T15:48:11.821Z"
   },
   {
    "duration": 6,
    "start_time": "2023-12-02T15:48:13.898Z"
   },
   {
    "duration": 4,
    "start_time": "2023-12-02T15:48:32.943Z"
   },
   {
    "duration": 6,
    "start_time": "2023-12-02T15:48:35.433Z"
   },
   {
    "duration": 653,
    "start_time": "2023-12-02T15:48:45.321Z"
   },
   {
    "duration": 5,
    "start_time": "2023-12-02T15:49:00.101Z"
   },
   {
    "duration": 5,
    "start_time": "2023-12-02T15:49:08.794Z"
   },
   {
    "duration": 4,
    "start_time": "2023-12-02T15:49:32.657Z"
   },
   {
    "duration": 157,
    "start_time": "2023-12-02T15:49:39.595Z"
   },
   {
    "duration": 1162,
    "start_time": "2023-12-02T15:50:48.930Z"
   },
   {
    "duration": 0,
    "start_time": "2023-12-02T15:50:50.094Z"
   },
   {
    "duration": 7,
    "start_time": "2023-12-02T15:50:59.670Z"
   },
   {
    "duration": 5,
    "start_time": "2023-12-02T15:51:01.613Z"
   },
   {
    "duration": 8,
    "start_time": "2023-12-02T15:51:03.269Z"
   },
   {
    "duration": 1212,
    "start_time": "2023-12-02T15:51:05.440Z"
   },
   {
    "duration": 72,
    "start_time": "2023-12-02T15:51:38.780Z"
   },
   {
    "duration": 68,
    "start_time": "2023-12-02T15:51:43.226Z"
   },
   {
    "duration": 66,
    "start_time": "2023-12-02T15:51:50.993Z"
   },
   {
    "duration": 9,
    "start_time": "2023-12-02T15:52:03.401Z"
   },
   {
    "duration": 1234,
    "start_time": "2023-12-02T15:52:45.504Z"
   },
   {
    "duration": 68,
    "start_time": "2023-12-02T15:53:06.044Z"
   },
   {
    "duration": 15,
    "start_time": "2023-12-02T15:53:10.645Z"
   },
   {
    "duration": 17,
    "start_time": "2023-12-02T15:53:24.189Z"
   },
   {
    "duration": 7,
    "start_time": "2023-12-02T15:53:29.389Z"
   },
   {
    "duration": 4,
    "start_time": "2023-12-02T15:53:47.293Z"
   },
   {
    "duration": 165,
    "start_time": "2023-12-02T15:53:47.299Z"
   },
   {
    "duration": 17,
    "start_time": "2023-12-02T15:53:47.466Z"
   },
   {
    "duration": 111,
    "start_time": "2023-12-02T15:53:47.484Z"
   },
   {
    "duration": 3,
    "start_time": "2023-12-02T15:53:47.597Z"
   },
   {
    "duration": 19,
    "start_time": "2023-12-02T15:53:47.601Z"
   },
   {
    "duration": 6,
    "start_time": "2023-12-02T15:53:47.622Z"
   },
   {
    "duration": 98,
    "start_time": "2023-12-02T15:53:47.630Z"
   },
   {
    "duration": 94,
    "start_time": "2023-12-02T15:53:47.730Z"
   },
   {
    "duration": 92,
    "start_time": "2023-12-02T15:53:47.826Z"
   },
   {
    "duration": 125,
    "start_time": "2023-12-02T15:53:47.920Z"
   },
   {
    "duration": 36,
    "start_time": "2023-12-02T15:53:48.046Z"
   },
   {
    "duration": 43,
    "start_time": "2023-12-02T15:53:48.084Z"
   },
   {
    "duration": 27,
    "start_time": "2023-12-02T15:53:48.128Z"
   },
   {
    "duration": 38,
    "start_time": "2023-12-02T15:53:48.156Z"
   },
   {
    "duration": 7,
    "start_time": "2023-12-02T15:53:48.196Z"
   },
   {
    "duration": 19,
    "start_time": "2023-12-02T15:53:48.204Z"
   },
   {
    "duration": 20,
    "start_time": "2023-12-02T15:53:48.225Z"
   },
   {
    "duration": 43,
    "start_time": "2023-12-02T15:53:48.246Z"
   },
   {
    "duration": 35,
    "start_time": "2023-12-02T15:53:48.291Z"
   },
   {
    "duration": 310,
    "start_time": "2023-12-02T15:53:48.329Z"
   },
   {
    "duration": 45,
    "start_time": "2023-12-02T15:53:48.640Z"
   },
   {
    "duration": 3,
    "start_time": "2023-12-02T15:53:48.686Z"
   },
   {
    "duration": 21,
    "start_time": "2023-12-02T15:53:48.690Z"
   },
   {
    "duration": 29,
    "start_time": "2023-12-02T15:53:48.713Z"
   },
   {
    "duration": 38,
    "start_time": "2023-12-02T15:53:48.744Z"
   },
   {
    "duration": 9,
    "start_time": "2023-12-02T15:53:48.783Z"
   },
   {
    "duration": 28,
    "start_time": "2023-12-02T15:53:48.793Z"
   },
   {
    "duration": 70,
    "start_time": "2023-12-02T15:53:48.824Z"
   },
   {
    "duration": 25,
    "start_time": "2023-12-02T15:53:48.895Z"
   },
   {
    "duration": 65,
    "start_time": "2023-12-02T15:53:48.922Z"
   },
   {
    "duration": 9,
    "start_time": "2023-12-02T15:53:48.988Z"
   },
   {
    "duration": 8,
    "start_time": "2023-12-02T15:53:48.999Z"
   },
   {
    "duration": 113,
    "start_time": "2023-12-02T15:53:49.008Z"
   },
   {
    "duration": 39,
    "start_time": "2023-12-02T15:53:49.123Z"
   },
   {
    "duration": 21,
    "start_time": "2023-12-02T15:53:49.164Z"
   },
   {
    "duration": 10,
    "start_time": "2023-12-02T15:53:49.186Z"
   },
   {
    "duration": 7,
    "start_time": "2023-12-02T15:53:49.197Z"
   },
   {
    "duration": 5,
    "start_time": "2023-12-02T15:53:49.205Z"
   },
   {
    "duration": 9,
    "start_time": "2023-12-02T15:53:49.212Z"
   },
   {
    "duration": 7,
    "start_time": "2023-12-02T15:53:49.222Z"
   },
   {
    "duration": 7,
    "start_time": "2023-12-02T15:53:49.230Z"
   },
   {
    "duration": 56,
    "start_time": "2023-12-02T15:53:49.238Z"
   },
   {
    "duration": 18,
    "start_time": "2023-12-02T15:53:49.296Z"
   },
   {
    "duration": 41,
    "start_time": "2023-12-02T15:53:49.316Z"
   },
   {
    "duration": 33,
    "start_time": "2023-12-02T15:53:49.358Z"
   },
   {
    "duration": 176,
    "start_time": "2023-12-02T15:53:49.393Z"
   },
   {
    "duration": 4,
    "start_time": "2023-12-02T15:53:49.581Z"
   },
   {
    "duration": 20,
    "start_time": "2023-12-02T15:53:49.586Z"
   },
   {
    "duration": 3,
    "start_time": "2023-12-02T15:53:49.607Z"
   },
   {
    "duration": 7,
    "start_time": "2023-12-02T15:53:49.611Z"
   },
   {
    "duration": 5,
    "start_time": "2023-12-02T15:53:49.619Z"
   },
   {
    "duration": 6,
    "start_time": "2023-12-02T15:53:49.625Z"
   },
   {
    "duration": 174,
    "start_time": "2023-12-02T15:53:49.632Z"
   },
   {
    "duration": 3,
    "start_time": "2023-12-02T15:53:49.807Z"
   },
   {
    "duration": 5,
    "start_time": "2023-12-02T15:53:49.811Z"
   },
   {
    "duration": 6,
    "start_time": "2023-12-02T15:53:49.817Z"
   },
   {
    "duration": 10,
    "start_time": "2023-12-02T15:53:49.824Z"
   },
   {
    "duration": 3,
    "start_time": "2023-12-02T15:53:49.835Z"
   },
   {
    "duration": 17,
    "start_time": "2023-12-02T15:53:49.839Z"
   },
   {
    "duration": 3,
    "start_time": "2023-12-02T15:53:49.857Z"
   },
   {
    "duration": 11,
    "start_time": "2023-12-02T15:53:49.882Z"
   },
   {
    "duration": 8,
    "start_time": "2023-12-02T15:53:49.894Z"
   },
   {
    "duration": 7,
    "start_time": "2023-12-02T15:53:49.903Z"
   },
   {
    "duration": 7,
    "start_time": "2023-12-02T15:53:49.912Z"
   },
   {
    "duration": 13,
    "start_time": "2023-12-02T15:53:49.921Z"
   },
   {
    "duration": 10,
    "start_time": "2023-12-02T15:53:49.936Z"
   },
   {
    "duration": 4,
    "start_time": "2023-12-02T15:53:49.948Z"
   },
   {
    "duration": 6,
    "start_time": "2023-12-02T15:53:59.421Z"
   },
   {
    "duration": 15,
    "start_time": "2023-12-02T15:54:01.797Z"
   },
   {
    "duration": 1302,
    "start_time": "2023-12-02T15:54:20.470Z"
   },
   {
    "duration": 4,
    "start_time": "2023-12-02T15:54:41.392Z"
   },
   {
    "duration": 161,
    "start_time": "2023-12-02T15:54:41.400Z"
   },
   {
    "duration": 7,
    "start_time": "2023-12-02T15:54:41.562Z"
   },
   {
    "duration": 30,
    "start_time": "2023-12-02T15:54:41.571Z"
   },
   {
    "duration": 2,
    "start_time": "2023-12-02T15:54:41.604Z"
   },
   {
    "duration": 21,
    "start_time": "2023-12-02T15:54:41.608Z"
   },
   {
    "duration": 10,
    "start_time": "2023-12-02T15:54:41.630Z"
   },
   {
    "duration": 91,
    "start_time": "2023-12-02T15:54:41.642Z"
   },
   {
    "duration": 100,
    "start_time": "2023-12-02T15:54:41.735Z"
   },
   {
    "duration": 95,
    "start_time": "2023-12-02T15:54:41.837Z"
   },
   {
    "duration": 114,
    "start_time": "2023-12-02T15:54:41.934Z"
   },
   {
    "duration": 34,
    "start_time": "2023-12-02T15:54:42.049Z"
   },
   {
    "duration": 45,
    "start_time": "2023-12-02T15:54:42.084Z"
   },
   {
    "duration": 29,
    "start_time": "2023-12-02T15:54:42.130Z"
   },
   {
    "duration": 44,
    "start_time": "2023-12-02T15:54:42.160Z"
   },
   {
    "duration": 11,
    "start_time": "2023-12-02T15:54:42.206Z"
   },
   {
    "duration": 25,
    "start_time": "2023-12-02T15:54:42.219Z"
   },
   {
    "duration": 22,
    "start_time": "2023-12-02T15:54:42.246Z"
   },
   {
    "duration": 22,
    "start_time": "2023-12-02T15:54:42.282Z"
   },
   {
    "duration": 29,
    "start_time": "2023-12-02T15:54:42.306Z"
   },
   {
    "duration": 359,
    "start_time": "2023-12-02T15:54:42.337Z"
   },
   {
    "duration": 37,
    "start_time": "2023-12-02T15:54:42.698Z"
   },
   {
    "duration": 16,
    "start_time": "2023-12-02T15:54:42.736Z"
   },
   {
    "duration": 49,
    "start_time": "2023-12-02T15:54:42.754Z"
   },
   {
    "duration": 42,
    "start_time": "2023-12-02T15:54:42.804Z"
   },
   {
    "duration": 35,
    "start_time": "2023-12-02T15:54:42.848Z"
   },
   {
    "duration": 13,
    "start_time": "2023-12-02T15:54:42.885Z"
   },
   {
    "duration": 50,
    "start_time": "2023-12-02T15:54:42.900Z"
   },
   {
    "duration": 53,
    "start_time": "2023-12-02T15:54:42.954Z"
   },
   {
    "duration": 27,
    "start_time": "2023-12-02T15:54:43.009Z"
   },
   {
    "duration": 71,
    "start_time": "2023-12-02T15:54:43.037Z"
   },
   {
    "duration": 10,
    "start_time": "2023-12-02T15:54:43.111Z"
   },
   {
    "duration": 15,
    "start_time": "2023-12-02T15:54:43.123Z"
   },
   {
    "duration": 129,
    "start_time": "2023-12-02T15:54:43.139Z"
   },
   {
    "duration": 39,
    "start_time": "2023-12-02T15:54:43.270Z"
   },
   {
    "duration": 40,
    "start_time": "2023-12-02T15:54:43.311Z"
   },
   {
    "duration": 17,
    "start_time": "2023-12-02T15:54:43.353Z"
   },
   {
    "duration": 22,
    "start_time": "2023-12-02T15:54:43.371Z"
   },
   {
    "duration": 28,
    "start_time": "2023-12-02T15:54:43.395Z"
   },
   {
    "duration": 21,
    "start_time": "2023-12-02T15:54:43.425Z"
   },
   {
    "duration": 12,
    "start_time": "2023-12-02T15:54:43.448Z"
   },
   {
    "duration": 23,
    "start_time": "2023-12-02T15:54:43.462Z"
   },
   {
    "duration": 52,
    "start_time": "2023-12-02T15:54:43.486Z"
   },
   {
    "duration": 19,
    "start_time": "2023-12-02T15:54:43.540Z"
   },
   {
    "duration": 40,
    "start_time": "2023-12-02T15:54:43.561Z"
   },
   {
    "duration": 20,
    "start_time": "2023-12-02T15:54:43.603Z"
   },
   {
    "duration": 201,
    "start_time": "2023-12-02T15:54:43.625Z"
   },
   {
    "duration": 5,
    "start_time": "2023-12-02T15:54:43.828Z"
   },
   {
    "duration": 39,
    "start_time": "2023-12-02T15:54:43.834Z"
   },
   {
    "duration": 9,
    "start_time": "2023-12-02T15:54:43.874Z"
   },
   {
    "duration": 11,
    "start_time": "2023-12-02T15:54:43.884Z"
   },
   {
    "duration": 16,
    "start_time": "2023-12-02T15:54:43.896Z"
   },
   {
    "duration": 8,
    "start_time": "2023-12-02T15:54:43.913Z"
   },
   {
    "duration": 180,
    "start_time": "2023-12-02T15:54:43.923Z"
   },
   {
    "duration": 3,
    "start_time": "2023-12-02T15:54:44.105Z"
   },
   {
    "duration": 5,
    "start_time": "2023-12-02T15:54:44.109Z"
   },
   {
    "duration": 10,
    "start_time": "2023-12-02T15:54:44.115Z"
   },
   {
    "duration": 14,
    "start_time": "2023-12-02T15:54:44.126Z"
   },
   {
    "duration": 3,
    "start_time": "2023-12-02T15:54:44.142Z"
   },
   {
    "duration": 19,
    "start_time": "2023-12-02T15:54:44.146Z"
   },
   {
    "duration": 3,
    "start_time": "2023-12-02T15:54:44.166Z"
   },
   {
    "duration": 21,
    "start_time": "2023-12-02T15:54:44.170Z"
   },
   {
    "duration": 8,
    "start_time": "2023-12-02T15:54:44.193Z"
   },
   {
    "duration": 8,
    "start_time": "2023-12-02T15:54:44.203Z"
   },
   {
    "duration": 4,
    "start_time": "2023-12-02T15:54:44.212Z"
   },
   {
    "duration": 10,
    "start_time": "2023-12-02T15:54:44.217Z"
   },
   {
    "duration": 8,
    "start_time": "2023-12-02T15:54:44.229Z"
   },
   {
    "duration": 7,
    "start_time": "2023-12-02T15:54:44.239Z"
   },
   {
    "duration": 3,
    "start_time": "2023-12-02T15:54:44.281Z"
   },
   {
    "duration": 4,
    "start_time": "2023-12-02T15:54:44.286Z"
   },
   {
    "duration": 8,
    "start_time": "2023-12-02T15:54:44.291Z"
   },
   {
    "duration": 7,
    "start_time": "2023-12-02T15:54:49.496Z"
   },
   {
    "duration": 4,
    "start_time": "2023-12-02T15:55:01.937Z"
   },
   {
    "duration": 186,
    "start_time": "2023-12-02T15:55:01.943Z"
   },
   {
    "duration": 7,
    "start_time": "2023-12-02T15:55:02.130Z"
   },
   {
    "duration": 39,
    "start_time": "2023-12-02T15:55:02.138Z"
   },
   {
    "duration": 4,
    "start_time": "2023-12-02T15:55:02.179Z"
   },
   {
    "duration": 20,
    "start_time": "2023-12-02T15:55:02.184Z"
   },
   {
    "duration": 6,
    "start_time": "2023-12-02T15:55:02.205Z"
   },
   {
    "duration": 87,
    "start_time": "2023-12-02T15:55:02.212Z"
   },
   {
    "duration": 92,
    "start_time": "2023-12-02T15:55:02.301Z"
   },
   {
    "duration": 88,
    "start_time": "2023-12-02T15:55:02.394Z"
   },
   {
    "duration": 122,
    "start_time": "2023-12-02T15:55:02.485Z"
   },
   {
    "duration": 36,
    "start_time": "2023-12-02T15:55:02.609Z"
   },
   {
    "duration": 51,
    "start_time": "2023-12-02T15:55:02.647Z"
   },
   {
    "duration": 28,
    "start_time": "2023-12-02T15:55:02.700Z"
   },
   {
    "duration": 24,
    "start_time": "2023-12-02T15:55:02.729Z"
   },
   {
    "duration": 27,
    "start_time": "2023-12-02T15:55:02.755Z"
   },
   {
    "duration": 19,
    "start_time": "2023-12-02T15:55:02.783Z"
   },
   {
    "duration": 20,
    "start_time": "2023-12-02T15:55:02.804Z"
   },
   {
    "duration": 24,
    "start_time": "2023-12-02T15:55:02.826Z"
   },
   {
    "duration": 44,
    "start_time": "2023-12-02T15:55:02.852Z"
   },
   {
    "duration": 311,
    "start_time": "2023-12-02T15:55:02.898Z"
   },
   {
    "duration": 38,
    "start_time": "2023-12-02T15:55:03.211Z"
   },
   {
    "duration": 3,
    "start_time": "2023-12-02T15:55:03.251Z"
   },
   {
    "duration": 37,
    "start_time": "2023-12-02T15:55:03.255Z"
   },
   {
    "duration": 32,
    "start_time": "2023-12-02T15:55:03.294Z"
   },
   {
    "duration": 24,
    "start_time": "2023-12-02T15:55:03.328Z"
   },
   {
    "duration": 9,
    "start_time": "2023-12-02T15:55:03.354Z"
   },
   {
    "duration": 31,
    "start_time": "2023-12-02T15:55:03.382Z"
   },
   {
    "duration": 71,
    "start_time": "2023-12-02T15:55:03.417Z"
   },
   {
    "duration": 29,
    "start_time": "2023-12-02T15:55:03.489Z"
   },
   {
    "duration": 49,
    "start_time": "2023-12-02T15:55:03.519Z"
   },
   {
    "duration": 8,
    "start_time": "2023-12-02T15:55:03.583Z"
   },
   {
    "duration": 8,
    "start_time": "2023-12-02T15:55:03.593Z"
   },
   {
    "duration": 111,
    "start_time": "2023-12-02T15:55:03.602Z"
   },
   {
    "duration": 38,
    "start_time": "2023-12-02T15:55:03.714Z"
   },
   {
    "duration": 6,
    "start_time": "2023-12-02T15:55:03.754Z"
   },
   {
    "duration": 21,
    "start_time": "2023-12-02T15:55:03.762Z"
   },
   {
    "duration": 25,
    "start_time": "2023-12-02T15:55:03.784Z"
   },
   {
    "duration": 6,
    "start_time": "2023-12-02T15:55:03.811Z"
   },
   {
    "duration": 10,
    "start_time": "2023-12-02T15:55:03.818Z"
   },
   {
    "duration": 8,
    "start_time": "2023-12-02T15:55:03.830Z"
   },
   {
    "duration": 10,
    "start_time": "2023-12-02T15:55:03.839Z"
   },
   {
    "duration": 37,
    "start_time": "2023-12-02T15:55:03.850Z"
   },
   {
    "duration": 16,
    "start_time": "2023-12-02T15:55:03.889Z"
   },
   {
    "duration": 34,
    "start_time": "2023-12-02T15:55:03.906Z"
   },
   {
    "duration": 18,
    "start_time": "2023-12-02T15:55:03.941Z"
   },
   {
    "duration": 210,
    "start_time": "2023-12-02T15:55:03.960Z"
   },
   {
    "duration": 10,
    "start_time": "2023-12-02T15:55:04.172Z"
   },
   {
    "duration": 20,
    "start_time": "2023-12-02T15:55:04.183Z"
   },
   {
    "duration": 4,
    "start_time": "2023-12-02T15:55:04.204Z"
   },
   {
    "duration": 7,
    "start_time": "2023-12-02T15:55:04.209Z"
   },
   {
    "duration": 5,
    "start_time": "2023-12-02T15:55:04.217Z"
   },
   {
    "duration": 5,
    "start_time": "2023-12-02T15:55:04.224Z"
   },
   {
    "duration": 206,
    "start_time": "2023-12-02T15:55:04.230Z"
   },
   {
    "duration": 3,
    "start_time": "2023-12-02T15:55:04.438Z"
   },
   {
    "duration": 5,
    "start_time": "2023-12-02T15:55:04.443Z"
   },
   {
    "duration": 17,
    "start_time": "2023-12-02T15:55:04.449Z"
   },
   {
    "duration": 8,
    "start_time": "2023-12-02T15:55:04.467Z"
   },
   {
    "duration": 8,
    "start_time": "2023-12-02T15:55:04.476Z"
   },
   {
    "duration": 24,
    "start_time": "2023-12-02T15:55:04.486Z"
   },
   {
    "duration": 3,
    "start_time": "2023-12-02T15:55:04.511Z"
   },
   {
    "duration": 14,
    "start_time": "2023-12-02T15:55:04.516Z"
   },
   {
    "duration": 10,
    "start_time": "2023-12-02T15:55:04.532Z"
   },
   {
    "duration": 11,
    "start_time": "2023-12-02T15:55:04.543Z"
   },
   {
    "duration": 5,
    "start_time": "2023-12-02T15:55:04.582Z"
   },
   {
    "duration": 6,
    "start_time": "2023-12-02T15:55:04.589Z"
   },
   {
    "duration": 11,
    "start_time": "2023-12-02T15:55:04.597Z"
   },
   {
    "duration": 20,
    "start_time": "2023-12-02T15:55:04.610Z"
   },
   {
    "duration": 10,
    "start_time": "2023-12-02T15:55:04.632Z"
   },
   {
    "duration": 7,
    "start_time": "2023-12-02T15:55:04.644Z"
   },
   {
    "duration": 5,
    "start_time": "2023-12-02T15:55:08.059Z"
   },
   {
    "duration": 8,
    "start_time": "2023-12-02T15:55:11.849Z"
   },
   {
    "duration": 5,
    "start_time": "2023-12-02T15:55:31.419Z"
   },
   {
    "duration": 6,
    "start_time": "2023-12-02T15:55:59.476Z"
   },
   {
    "duration": 14,
    "start_time": "2023-12-02T15:56:02.156Z"
   },
   {
    "duration": 4,
    "start_time": "2023-12-02T15:56:16.098Z"
   },
   {
    "duration": 206,
    "start_time": "2023-12-02T15:56:16.104Z"
   },
   {
    "duration": 7,
    "start_time": "2023-12-02T15:56:16.312Z"
   },
   {
    "duration": 22,
    "start_time": "2023-12-02T15:56:16.320Z"
   },
   {
    "duration": 3,
    "start_time": "2023-12-02T15:56:16.344Z"
   },
   {
    "duration": 38,
    "start_time": "2023-12-02T15:56:16.348Z"
   },
   {
    "duration": 5,
    "start_time": "2023-12-02T15:56:16.388Z"
   },
   {
    "duration": 96,
    "start_time": "2023-12-02T15:56:16.394Z"
   },
   {
    "duration": 99,
    "start_time": "2023-12-02T15:56:16.491Z"
   },
   {
    "duration": 76,
    "start_time": "2023-12-02T15:56:16.592Z"
   },
   {
    "duration": 112,
    "start_time": "2023-12-02T15:56:16.681Z"
   },
   {
    "duration": 34,
    "start_time": "2023-12-02T15:56:16.795Z"
   },
   {
    "duration": 61,
    "start_time": "2023-12-02T15:56:16.830Z"
   },
   {
    "duration": 26,
    "start_time": "2023-12-02T15:56:16.892Z"
   },
   {
    "duration": 23,
    "start_time": "2023-12-02T15:56:16.920Z"
   },
   {
    "duration": 7,
    "start_time": "2023-12-02T15:56:16.945Z"
   },
   {
    "duration": 38,
    "start_time": "2023-12-02T15:56:16.953Z"
   },
   {
    "duration": 21,
    "start_time": "2023-12-02T15:56:16.992Z"
   },
   {
    "duration": 22,
    "start_time": "2023-12-02T15:56:17.014Z"
   },
   {
    "duration": 52,
    "start_time": "2023-12-02T15:56:17.038Z"
   },
   {
    "duration": 296,
    "start_time": "2023-12-02T15:56:17.092Z"
   },
   {
    "duration": 37,
    "start_time": "2023-12-02T15:56:17.390Z"
   },
   {
    "duration": 6,
    "start_time": "2023-12-02T15:56:17.428Z"
   },
   {
    "duration": 31,
    "start_time": "2023-12-02T15:56:17.436Z"
   },
   {
    "duration": 37,
    "start_time": "2023-12-02T15:56:17.468Z"
   },
   {
    "duration": 25,
    "start_time": "2023-12-02T15:56:17.507Z"
   },
   {
    "duration": 9,
    "start_time": "2023-12-02T15:56:17.534Z"
   },
   {
    "duration": 42,
    "start_time": "2023-12-02T15:56:17.544Z"
   },
   {
    "duration": 50,
    "start_time": "2023-12-02T15:56:17.590Z"
   },
   {
    "duration": 121,
    "start_time": "2023-12-02T15:56:17.642Z"
   },
   {
    "duration": 59,
    "start_time": "2023-12-02T15:56:17.765Z"
   },
   {
    "duration": 9,
    "start_time": "2023-12-02T15:56:17.826Z"
   },
   {
    "duration": 55,
    "start_time": "2023-12-02T15:56:17.837Z"
   },
   {
    "duration": 103,
    "start_time": "2023-12-02T15:56:17.893Z"
   },
   {
    "duration": 38,
    "start_time": "2023-12-02T15:56:17.997Z"
   },
   {
    "duration": 9,
    "start_time": "2023-12-02T15:56:18.036Z"
   },
   {
    "duration": 8,
    "start_time": "2023-12-02T15:56:18.047Z"
   },
   {
    "duration": 29,
    "start_time": "2023-12-02T15:56:18.056Z"
   },
   {
    "duration": 15,
    "start_time": "2023-12-02T15:56:18.087Z"
   },
   {
    "duration": 15,
    "start_time": "2023-12-02T15:56:18.104Z"
   },
   {
    "duration": 14,
    "start_time": "2023-12-02T15:56:18.121Z"
   },
   {
    "duration": 5,
    "start_time": "2023-12-02T15:56:18.137Z"
   },
   {
    "duration": 24,
    "start_time": "2023-12-02T15:56:18.144Z"
   },
   {
    "duration": 18,
    "start_time": "2023-12-02T15:56:18.170Z"
   },
   {
    "duration": 34,
    "start_time": "2023-12-02T15:56:18.190Z"
   },
   {
    "duration": 17,
    "start_time": "2023-12-02T15:56:18.226Z"
   },
   {
    "duration": 184,
    "start_time": "2023-12-02T15:56:18.244Z"
   },
   {
    "duration": 4,
    "start_time": "2023-12-02T15:56:18.429Z"
   },
   {
    "duration": 38,
    "start_time": "2023-12-02T15:56:18.434Z"
   },
   {
    "duration": 3,
    "start_time": "2023-12-02T15:56:18.473Z"
   },
   {
    "duration": 21,
    "start_time": "2023-12-02T15:56:18.477Z"
   },
   {
    "duration": 14,
    "start_time": "2023-12-02T15:56:18.499Z"
   },
   {
    "duration": 49,
    "start_time": "2023-12-02T15:56:18.514Z"
   },
   {
    "duration": 168,
    "start_time": "2023-12-02T15:56:18.565Z"
   },
   {
    "duration": 2,
    "start_time": "2023-12-02T15:56:18.735Z"
   },
   {
    "duration": 5,
    "start_time": "2023-12-02T15:56:18.738Z"
   },
   {
    "duration": 6,
    "start_time": "2023-12-02T15:56:18.744Z"
   },
   {
    "duration": 9,
    "start_time": "2023-12-02T15:56:18.751Z"
   },
   {
    "duration": 3,
    "start_time": "2023-12-02T15:56:18.761Z"
   },
   {
    "duration": 12,
    "start_time": "2023-12-02T15:56:18.781Z"
   },
   {
    "duration": 2,
    "start_time": "2023-12-02T15:56:18.795Z"
   },
   {
    "duration": 12,
    "start_time": "2023-12-02T15:56:18.798Z"
   },
   {
    "duration": 7,
    "start_time": "2023-12-02T15:56:18.811Z"
   },
   {
    "duration": 23,
    "start_time": "2023-12-02T15:56:18.820Z"
   },
   {
    "duration": 9,
    "start_time": "2023-12-02T15:56:18.845Z"
   },
   {
    "duration": 6,
    "start_time": "2023-12-02T15:56:18.855Z"
   },
   {
    "duration": 22,
    "start_time": "2023-12-02T15:56:18.863Z"
   },
   {
    "duration": 9,
    "start_time": "2023-12-02T15:56:18.886Z"
   },
   {
    "duration": 2,
    "start_time": "2023-12-02T15:56:18.897Z"
   },
   {
    "duration": 12,
    "start_time": "2023-12-02T15:56:18.900Z"
   },
   {
    "duration": 11,
    "start_time": "2023-12-02T15:56:18.914Z"
   },
   {
    "duration": 10,
    "start_time": "2023-12-02T15:56:18.926Z"
   },
   {
    "duration": 13,
    "start_time": "2023-12-02T15:56:18.937Z"
   },
   {
    "duration": 4,
    "start_time": "2023-12-02T15:56:18.951Z"
   },
   {
    "duration": 38,
    "start_time": "2023-12-02T15:56:18.956Z"
   },
   {
    "duration": 21,
    "start_time": "2023-12-02T15:56:18.995Z"
   },
   {
    "duration": 17,
    "start_time": "2023-12-02T15:56:19.017Z"
   },
   {
    "duration": 29,
    "start_time": "2023-12-02T15:56:19.036Z"
   },
   {
    "duration": 5,
    "start_time": "2023-12-02T15:59:53.755Z"
   },
   {
    "duration": 1207,
    "start_time": "2023-12-02T15:59:56.682Z"
   },
   {
    "duration": 6,
    "start_time": "2023-12-02T16:02:43.694Z"
   },
   {
    "duration": 12,
    "start_time": "2023-12-02T16:02:45.935Z"
   },
   {
    "duration": 73,
    "start_time": "2023-12-02T16:04:17.985Z"
   },
   {
    "duration": 16,
    "start_time": "2023-12-02T16:04:21.000Z"
   },
   {
    "duration": 14,
    "start_time": "2023-12-02T16:04:22.426Z"
   },
   {
    "duration": 8,
    "start_time": "2023-12-02T16:04:32.182Z"
   },
   {
    "duration": 98,
    "start_time": "2023-12-02T16:04:40.127Z"
   },
   {
    "duration": 9,
    "start_time": "2023-12-02T16:04:42.656Z"
   },
   {
    "duration": 99,
    "start_time": "2023-12-02T16:05:03.747Z"
   },
   {
    "duration": 8,
    "start_time": "2023-12-02T16:05:08.096Z"
   },
   {
    "duration": 6,
    "start_time": "2023-12-02T16:05:30.199Z"
   },
   {
    "duration": 14,
    "start_time": "2023-12-02T16:05:34.761Z"
   },
   {
    "duration": 12,
    "start_time": "2023-12-02T16:17:30.140Z"
   },
   {
    "duration": 13,
    "start_time": "2023-12-02T16:17:55.777Z"
   },
   {
    "duration": 16,
    "start_time": "2023-12-02T16:18:10.797Z"
   },
   {
    "duration": 17,
    "start_time": "2023-12-02T16:18:32.363Z"
   },
   {
    "duration": 5,
    "start_time": "2023-12-02T16:18:57.908Z"
   },
   {
    "duration": 4,
    "start_time": "2023-12-02T16:19:03.415Z"
   },
   {
    "duration": 1306,
    "start_time": "2023-12-02T16:19:12.670Z"
   },
   {
    "duration": 1388,
    "start_time": "2023-12-02T16:19:40.884Z"
   },
   {
    "duration": 14,
    "start_time": "2023-12-02T16:19:54.501Z"
   },
   {
    "duration": 4,
    "start_time": "2023-12-02T16:20:22.358Z"
   },
   {
    "duration": 1178,
    "start_time": "2023-12-02T16:20:26.669Z"
   },
   {
    "duration": 5,
    "start_time": "2023-12-02T16:20:44.090Z"
   },
   {
    "duration": 3,
    "start_time": "2023-12-02T16:20:47.494Z"
   },
   {
    "duration": 13,
    "start_time": "2023-12-02T16:20:57.475Z"
   },
   {
    "duration": 3,
    "start_time": "2023-12-02T16:21:08.119Z"
   },
   {
    "duration": 3,
    "start_time": "2023-12-02T16:21:15.208Z"
   },
   {
    "duration": 4,
    "start_time": "2023-12-02T16:22:41.580Z"
   },
   {
    "duration": 3,
    "start_time": "2023-12-02T16:22:48.822Z"
   },
   {
    "duration": 15,
    "start_time": "2023-12-02T16:24:04.255Z"
   },
   {
    "duration": 14,
    "start_time": "2023-12-02T16:24:50.425Z"
   },
   {
    "duration": 17,
    "start_time": "2023-12-02T16:25:24.963Z"
   },
   {
    "duration": 14,
    "start_time": "2023-12-02T16:28:10.001Z"
   },
   {
    "duration": 13,
    "start_time": "2023-12-02T16:32:53.413Z"
   },
   {
    "duration": 8,
    "start_time": "2023-12-02T16:33:16.770Z"
   },
   {
    "duration": 4,
    "start_time": "2023-12-02T16:33:38.676Z"
   },
   {
    "duration": 15,
    "start_time": "2023-12-02T16:33:43.440Z"
   },
   {
    "duration": 13,
    "start_time": "2023-12-02T16:34:02.058Z"
   },
   {
    "duration": 16,
    "start_time": "2023-12-02T16:34:20.666Z"
   },
   {
    "duration": 19,
    "start_time": "2023-12-02T16:34:59.500Z"
   },
   {
    "duration": 15,
    "start_time": "2023-12-02T16:35:21.580Z"
   },
   {
    "duration": 12,
    "start_time": "2023-12-02T16:38:59.464Z"
   },
   {
    "duration": 1137,
    "start_time": "2023-12-03T12:25:34.444Z"
   },
   {
    "duration": 453,
    "start_time": "2023-12-03T12:25:35.583Z"
   },
   {
    "duration": 9,
    "start_time": "2023-12-03T12:25:36.038Z"
   },
   {
    "duration": 16,
    "start_time": "2023-12-03T12:25:36.048Z"
   },
   {
    "duration": 2,
    "start_time": "2023-12-03T12:25:36.066Z"
   },
   {
    "duration": 13,
    "start_time": "2023-12-03T12:25:36.069Z"
   },
   {
    "duration": 11,
    "start_time": "2023-12-03T12:25:36.083Z"
   },
   {
    "duration": 62,
    "start_time": "2023-12-03T12:25:36.095Z"
   },
   {
    "duration": 100,
    "start_time": "2023-12-03T12:25:36.159Z"
   },
   {
    "duration": 83,
    "start_time": "2023-12-03T12:25:36.261Z"
   },
   {
    "duration": 110,
    "start_time": "2023-12-03T12:25:36.345Z"
   },
   {
    "duration": 23,
    "start_time": "2023-12-03T12:25:36.456Z"
   },
   {
    "duration": 54,
    "start_time": "2023-12-03T12:25:36.480Z"
   },
   {
    "duration": 25,
    "start_time": "2023-12-03T12:25:36.535Z"
   },
   {
    "duration": 18,
    "start_time": "2023-12-03T12:25:36.562Z"
   },
   {
    "duration": 8,
    "start_time": "2023-12-03T12:25:36.581Z"
   },
   {
    "duration": 29,
    "start_time": "2023-12-03T12:25:36.590Z"
   },
   {
    "duration": 12,
    "start_time": "2023-12-03T12:25:36.621Z"
   },
   {
    "duration": 14,
    "start_time": "2023-12-03T12:25:36.634Z"
   },
   {
    "duration": 21,
    "start_time": "2023-12-03T12:25:36.649Z"
   },
   {
    "duration": 290,
    "start_time": "2023-12-03T12:25:36.671Z"
   },
   {
    "duration": 23,
    "start_time": "2023-12-03T12:25:36.962Z"
   },
   {
    "duration": 7,
    "start_time": "2023-12-03T12:25:36.987Z"
   },
   {
    "duration": 20,
    "start_time": "2023-12-03T12:25:36.995Z"
   },
   {
    "duration": 23,
    "start_time": "2023-12-03T12:25:37.016Z"
   },
   {
    "duration": 22,
    "start_time": "2023-12-03T12:25:37.041Z"
   },
   {
    "duration": 14,
    "start_time": "2023-12-03T12:25:37.064Z"
   },
   {
    "duration": 36,
    "start_time": "2023-12-03T12:25:37.081Z"
   },
   {
    "duration": 49,
    "start_time": "2023-12-03T12:25:37.118Z"
   },
   {
    "duration": 20,
    "start_time": "2023-12-03T12:25:37.168Z"
   },
   {
    "duration": 67,
    "start_time": "2023-12-03T12:25:37.190Z"
   },
   {
    "duration": 7,
    "start_time": "2023-12-03T12:25:37.258Z"
   },
   {
    "duration": 10,
    "start_time": "2023-12-03T12:25:37.266Z"
   },
   {
    "duration": 84,
    "start_time": "2023-12-03T12:25:37.277Z"
   },
   {
    "duration": 32,
    "start_time": "2023-12-03T12:25:37.362Z"
   },
   {
    "duration": 14,
    "start_time": "2023-12-03T12:25:37.395Z"
   },
   {
    "duration": 19,
    "start_time": "2023-12-03T12:25:37.414Z"
   },
   {
    "duration": 7,
    "start_time": "2023-12-03T12:25:37.434Z"
   },
   {
    "duration": 11,
    "start_time": "2023-12-03T12:25:37.442Z"
   },
   {
    "duration": 18,
    "start_time": "2023-12-03T12:25:37.454Z"
   },
   {
    "duration": 9,
    "start_time": "2023-12-03T12:25:37.473Z"
   },
   {
    "duration": 5,
    "start_time": "2023-12-03T12:25:37.483Z"
   },
   {
    "duration": 21,
    "start_time": "2023-12-03T12:25:37.489Z"
   },
   {
    "duration": 14,
    "start_time": "2023-12-03T12:25:37.513Z"
   },
   {
    "duration": 33,
    "start_time": "2023-12-03T12:25:37.529Z"
   },
   {
    "duration": 15,
    "start_time": "2023-12-03T12:25:37.563Z"
   },
   {
    "duration": 175,
    "start_time": "2023-12-03T12:25:37.579Z"
   },
   {
    "duration": 3,
    "start_time": "2023-12-03T12:25:37.755Z"
   },
   {
    "duration": 28,
    "start_time": "2023-12-03T12:25:37.759Z"
   },
   {
    "duration": 2,
    "start_time": "2023-12-03T12:25:37.789Z"
   },
   {
    "duration": 8,
    "start_time": "2023-12-03T12:25:37.792Z"
   },
   {
    "duration": 12,
    "start_time": "2023-12-03T12:25:37.802Z"
   },
   {
    "duration": 30,
    "start_time": "2023-12-03T12:25:37.815Z"
   },
   {
    "duration": 136,
    "start_time": "2023-12-03T12:25:37.846Z"
   },
   {
    "duration": 2,
    "start_time": "2023-12-03T12:25:37.983Z"
   },
   {
    "duration": 18,
    "start_time": "2023-12-03T12:25:37.986Z"
   },
   {
    "duration": 6,
    "start_time": "2023-12-03T12:25:38.005Z"
   },
   {
    "duration": 12,
    "start_time": "2023-12-03T12:25:38.012Z"
   },
   {
    "duration": 14,
    "start_time": "2023-12-03T12:25:38.025Z"
   },
   {
    "duration": 19,
    "start_time": "2023-12-03T12:25:38.040Z"
   },
   {
    "duration": 9,
    "start_time": "2023-12-03T12:25:38.060Z"
   },
   {
    "duration": 21,
    "start_time": "2023-12-03T12:25:38.070Z"
   },
   {
    "duration": 7,
    "start_time": "2023-12-03T12:25:38.092Z"
   },
   {
    "duration": 6,
    "start_time": "2023-12-03T12:25:38.100Z"
   },
   {
    "duration": 8,
    "start_time": "2023-12-03T12:25:38.107Z"
   },
   {
    "duration": 14,
    "start_time": "2023-12-03T12:25:38.116Z"
   },
   {
    "duration": 18,
    "start_time": "2023-12-03T12:25:38.131Z"
   },
   {
    "duration": 11,
    "start_time": "2023-12-03T12:25:38.150Z"
   },
   {
    "duration": 9,
    "start_time": "2023-12-03T12:25:38.162Z"
   },
   {
    "duration": 9,
    "start_time": "2023-12-03T12:25:38.173Z"
   },
   {
    "duration": 6,
    "start_time": "2023-12-03T12:25:38.183Z"
   },
   {
    "duration": 5,
    "start_time": "2023-12-03T12:25:38.190Z"
   },
   {
    "duration": 18,
    "start_time": "2023-12-03T12:25:38.196Z"
   },
   {
    "duration": 17,
    "start_time": "2023-12-03T12:25:38.215Z"
   },
   {
    "duration": 104,
    "start_time": "2023-12-03T12:25:38.233Z"
   },
   {
    "duration": 0,
    "start_time": "2023-12-03T12:25:38.338Z"
   },
   {
    "duration": 0,
    "start_time": "2023-12-03T12:25:38.339Z"
   },
   {
    "duration": 0,
    "start_time": "2023-12-03T12:25:38.340Z"
   },
   {
    "duration": 0,
    "start_time": "2023-12-03T12:25:38.341Z"
   },
   {
    "duration": 0,
    "start_time": "2023-12-03T12:25:38.342Z"
   },
   {
    "duration": 0,
    "start_time": "2023-12-03T12:25:38.343Z"
   },
   {
    "duration": 0,
    "start_time": "2023-12-03T12:25:38.344Z"
   },
   {
    "duration": 0,
    "start_time": "2023-12-03T12:25:38.345Z"
   },
   {
    "duration": 0,
    "start_time": "2023-12-03T12:25:38.346Z"
   },
   {
    "duration": 0,
    "start_time": "2023-12-03T12:25:38.347Z"
   },
   {
    "duration": 0,
    "start_time": "2023-12-03T12:25:38.348Z"
   },
   {
    "duration": 7,
    "start_time": "2023-12-03T12:27:03.705Z"
   },
   {
    "duration": 4,
    "start_time": "2023-12-03T12:27:23.543Z"
   },
   {
    "duration": 3,
    "start_time": "2023-12-03T12:32:14.960Z"
   },
   {
    "duration": 7,
    "start_time": "2023-12-03T12:32:29.368Z"
   },
   {
    "duration": 10,
    "start_time": "2023-12-03T12:33:00.669Z"
   },
   {
    "duration": 16,
    "start_time": "2023-12-03T12:33:08.016Z"
   },
   {
    "duration": 3,
    "start_time": "2023-12-03T12:42:57.199Z"
   },
   {
    "duration": 3,
    "start_time": "2023-12-03T12:43:03.174Z"
   },
   {
    "duration": 6,
    "start_time": "2023-12-03T12:43:27.634Z"
   },
   {
    "duration": 11,
    "start_time": "2023-12-03T12:44:47.174Z"
   },
   {
    "duration": 12,
    "start_time": "2023-12-03T12:46:15.159Z"
   },
   {
    "duration": 10,
    "start_time": "2023-12-03T12:46:19.534Z"
   },
   {
    "duration": 10,
    "start_time": "2023-12-03T12:46:36.721Z"
   },
   {
    "duration": 4,
    "start_time": "2023-12-03T12:46:44.625Z"
   },
   {
    "duration": 8,
    "start_time": "2023-12-03T12:47:39.944Z"
   },
   {
    "duration": 3,
    "start_time": "2023-12-03T12:47:51.216Z"
   },
   {
    "duration": 5,
    "start_time": "2023-12-03T12:48:10.345Z"
   },
   {
    "duration": 7,
    "start_time": "2023-12-03T12:48:15.131Z"
   },
   {
    "duration": 2,
    "start_time": "2023-12-03T12:50:03.949Z"
   },
   {
    "duration": 3,
    "start_time": "2023-12-03T12:50:23.242Z"
   },
   {
    "duration": 4,
    "start_time": "2023-12-03T12:50:35.933Z"
   },
   {
    "duration": 80,
    "start_time": "2023-12-03T12:53:28.116Z"
   },
   {
    "duration": 102,
    "start_time": "2023-12-03T12:53:35.320Z"
   },
   {
    "duration": 3,
    "start_time": "2023-12-03T12:53:40.520Z"
   },
   {
    "duration": 3,
    "start_time": "2023-12-03T12:53:42.449Z"
   },
   {
    "duration": 4,
    "start_time": "2023-12-03T12:54:04.341Z"
   },
   {
    "duration": 73,
    "start_time": "2023-12-03T12:55:32.774Z"
   },
   {
    "duration": 113,
    "start_time": "2023-12-03T12:55:37.148Z"
   },
   {
    "duration": 3,
    "start_time": "2023-12-03T12:56:01.165Z"
   },
   {
    "duration": 9,
    "start_time": "2023-12-03T12:56:03.699Z"
   },
   {
    "duration": 2,
    "start_time": "2023-12-03T12:56:10.529Z"
   },
   {
    "duration": 3,
    "start_time": "2023-12-03T12:56:11.538Z"
   },
   {
    "duration": 2,
    "start_time": "2023-12-03T12:56:46.529Z"
   },
   {
    "duration": 63,
    "start_time": "2023-12-03T12:56:50.538Z"
   },
   {
    "duration": 75,
    "start_time": "2023-12-03T12:57:24.512Z"
   },
   {
    "duration": 2,
    "start_time": "2023-12-03T12:57:51.873Z"
   },
   {
    "duration": 4,
    "start_time": "2023-12-03T12:57:53.819Z"
   },
   {
    "duration": 3,
    "start_time": "2023-12-03T12:58:05.296Z"
   },
   {
    "duration": 10,
    "start_time": "2023-12-03T12:58:09.481Z"
   },
   {
    "duration": 2,
    "start_time": "2023-12-03T12:58:20.175Z"
   },
   {
    "duration": 4,
    "start_time": "2023-12-03T12:58:23.937Z"
   },
   {
    "duration": 3,
    "start_time": "2023-12-03T13:01:12.444Z"
   },
   {
    "duration": 8,
    "start_time": "2023-12-03T13:01:13.767Z"
   },
   {
    "duration": 8,
    "start_time": "2023-12-03T13:01:17.064Z"
   },
   {
    "duration": 4,
    "start_time": "2023-12-03T13:03:54.022Z"
   },
   {
    "duration": 23,
    "start_time": "2023-12-03T13:03:58.977Z"
   },
   {
    "duration": 3,
    "start_time": "2023-12-03T13:04:09.047Z"
   },
   {
    "duration": 4,
    "start_time": "2023-12-03T13:04:47.343Z"
   },
   {
    "duration": 20,
    "start_time": "2023-12-03T13:04:49.313Z"
   },
   {
    "duration": 7,
    "start_time": "2023-12-03T13:05:00.624Z"
   },
   {
    "duration": 4,
    "start_time": "2023-12-03T13:06:31.824Z"
   },
   {
    "duration": 2,
    "start_time": "2023-12-03T13:06:39.864Z"
   },
   {
    "duration": 3,
    "start_time": "2023-12-03T13:07:05.505Z"
   },
   {
    "duration": 6,
    "start_time": "2023-12-03T13:07:34.562Z"
   },
   {
    "duration": 73,
    "start_time": "2023-12-03T13:07:48.736Z"
   },
   {
    "duration": 2,
    "start_time": "2023-12-03T13:09:15.731Z"
   },
   {
    "duration": 2,
    "start_time": "2023-12-03T13:09:23.158Z"
   },
   {
    "duration": 3,
    "start_time": "2023-12-03T13:13:01.852Z"
   },
   {
    "duration": 4,
    "start_time": "2023-12-03T13:13:09.080Z"
   },
   {
    "duration": 4,
    "start_time": "2023-12-03T13:13:16.572Z"
   },
   {
    "duration": 7,
    "start_time": "2023-12-03T13:13:32.619Z"
   },
   {
    "duration": 4,
    "start_time": "2023-12-03T13:13:38.989Z"
   },
   {
    "duration": 4,
    "start_time": "2023-12-03T13:13:44.033Z"
   },
   {
    "duration": 4,
    "start_time": "2023-12-03T13:13:47.231Z"
   },
   {
    "duration": 5,
    "start_time": "2023-12-03T13:20:16.742Z"
   },
   {
    "duration": 14,
    "start_time": "2023-12-03T13:20:19.000Z"
   },
   {
    "duration": 2,
    "start_time": "2023-12-03T13:21:20.557Z"
   },
   {
    "duration": 71,
    "start_time": "2023-12-03T13:21:22.996Z"
   },
   {
    "duration": 9,
    "start_time": "2023-12-03T13:21:51.408Z"
   },
   {
    "duration": 12,
    "start_time": "2023-12-03T13:22:04.083Z"
   },
   {
    "duration": 14,
    "start_time": "2023-12-03T13:23:05.270Z"
   },
   {
    "duration": 3,
    "start_time": "2023-12-03T13:25:04.735Z"
   },
   {
    "duration": 3,
    "start_time": "2023-12-03T13:26:54.153Z"
   },
   {
    "duration": 3,
    "start_time": "2023-12-03T13:27:14.444Z"
   },
   {
    "duration": 15,
    "start_time": "2023-12-03T13:27:27.530Z"
   },
   {
    "duration": 13,
    "start_time": "2023-12-03T13:28:05.322Z"
   },
   {
    "duration": 7,
    "start_time": "2023-12-03T13:30:38.057Z"
   },
   {
    "duration": 3,
    "start_time": "2023-12-03T13:30:46.567Z"
   },
   {
    "duration": 3,
    "start_time": "2023-12-03T13:30:52.506Z"
   },
   {
    "duration": 3,
    "start_time": "2023-12-03T13:31:30.672Z"
   },
   {
    "duration": 3,
    "start_time": "2023-12-03T13:32:30.798Z"
   },
   {
    "duration": 147,
    "start_time": "2023-12-03T13:32:30.803Z"
   },
   {
    "duration": 6,
    "start_time": "2023-12-03T13:32:30.951Z"
   },
   {
    "duration": 49,
    "start_time": "2023-12-03T13:32:30.958Z"
   },
   {
    "duration": 27,
    "start_time": "2023-12-03T13:32:31.009Z"
   },
   {
    "duration": 27,
    "start_time": "2023-12-03T13:32:31.037Z"
   },
   {
    "duration": 30,
    "start_time": "2023-12-03T13:32:31.066Z"
   },
   {
    "duration": 99,
    "start_time": "2023-12-03T13:32:31.097Z"
   },
   {
    "duration": 97,
    "start_time": "2023-12-03T13:32:31.198Z"
   },
   {
    "duration": 67,
    "start_time": "2023-12-03T13:32:31.297Z"
   },
   {
    "duration": 91,
    "start_time": "2023-12-03T13:32:31.367Z"
   },
   {
    "duration": 24,
    "start_time": "2023-12-03T13:32:31.460Z"
   },
   {
    "duration": 89,
    "start_time": "2023-12-03T13:32:31.486Z"
   },
   {
    "duration": 25,
    "start_time": "2023-12-03T13:32:31.576Z"
   },
   {
    "duration": 23,
    "start_time": "2023-12-03T13:32:31.602Z"
   },
   {
    "duration": 33,
    "start_time": "2023-12-03T13:32:31.626Z"
   },
   {
    "duration": 41,
    "start_time": "2023-12-03T13:32:31.661Z"
   },
   {
    "duration": 18,
    "start_time": "2023-12-03T13:32:31.703Z"
   },
   {
    "duration": 46,
    "start_time": "2023-12-03T13:32:31.722Z"
   },
   {
    "duration": 38,
    "start_time": "2023-12-03T13:32:31.769Z"
   },
   {
    "duration": 250,
    "start_time": "2023-12-03T13:32:31.808Z"
   },
   {
    "duration": 23,
    "start_time": "2023-12-03T13:32:32.059Z"
   },
   {
    "duration": 21,
    "start_time": "2023-12-03T13:32:32.083Z"
   },
   {
    "duration": 27,
    "start_time": "2023-12-03T13:32:32.106Z"
   },
   {
    "duration": 23,
    "start_time": "2023-12-03T13:32:32.134Z"
   },
   {
    "duration": 48,
    "start_time": "2023-12-03T13:32:32.159Z"
   },
   {
    "duration": 40,
    "start_time": "2023-12-03T13:32:32.208Z"
   },
   {
    "duration": 29,
    "start_time": "2023-12-03T13:32:32.249Z"
   },
   {
    "duration": 50,
    "start_time": "2023-12-03T13:32:32.283Z"
   },
   {
    "duration": 18,
    "start_time": "2023-12-03T13:32:32.334Z"
   },
   {
    "duration": 61,
    "start_time": "2023-12-03T13:32:32.353Z"
   },
   {
    "duration": 7,
    "start_time": "2023-12-03T13:32:32.415Z"
   },
   {
    "duration": 23,
    "start_time": "2023-12-03T13:32:32.423Z"
   },
   {
    "duration": 132,
    "start_time": "2023-12-03T13:32:32.447Z"
   },
   {
    "duration": 36,
    "start_time": "2023-12-03T13:32:32.581Z"
   },
   {
    "duration": 13,
    "start_time": "2023-12-03T13:32:32.618Z"
   },
   {
    "duration": 36,
    "start_time": "2023-12-03T13:32:32.632Z"
   },
   {
    "duration": 31,
    "start_time": "2023-12-03T13:32:32.669Z"
   },
   {
    "duration": 20,
    "start_time": "2023-12-03T13:32:32.701Z"
   },
   {
    "duration": 21,
    "start_time": "2023-12-03T13:32:32.722Z"
   },
   {
    "duration": 33,
    "start_time": "2023-12-03T13:32:32.744Z"
   },
   {
    "duration": 13,
    "start_time": "2023-12-03T13:32:32.778Z"
   },
   {
    "duration": 30,
    "start_time": "2023-12-03T13:32:32.792Z"
   },
   {
    "duration": 14,
    "start_time": "2023-12-03T13:32:32.824Z"
   },
   {
    "duration": 36,
    "start_time": "2023-12-03T13:32:32.840Z"
   },
   {
    "duration": 19,
    "start_time": "2023-12-03T13:32:32.878Z"
   },
   {
    "duration": 151,
    "start_time": "2023-12-03T13:32:32.899Z"
   },
   {
    "duration": 4,
    "start_time": "2023-12-03T13:32:33.051Z"
   },
   {
    "duration": 21,
    "start_time": "2023-12-03T13:32:33.056Z"
   },
   {
    "duration": 3,
    "start_time": "2023-12-03T13:32:33.078Z"
   },
   {
    "duration": 13,
    "start_time": "2023-12-03T13:32:33.082Z"
   },
   {
    "duration": 8,
    "start_time": "2023-12-03T13:32:33.096Z"
   },
   {
    "duration": 10,
    "start_time": "2023-12-03T13:32:33.105Z"
   },
   {
    "duration": 140,
    "start_time": "2023-12-03T13:32:33.116Z"
   },
   {
    "duration": 2,
    "start_time": "2023-12-03T13:32:33.257Z"
   },
   {
    "duration": 16,
    "start_time": "2023-12-03T13:32:33.261Z"
   },
   {
    "duration": 9,
    "start_time": "2023-12-03T13:32:33.278Z"
   },
   {
    "duration": 14,
    "start_time": "2023-12-03T13:32:33.288Z"
   },
   {
    "duration": 4,
    "start_time": "2023-12-03T13:32:33.303Z"
   },
   {
    "duration": 13,
    "start_time": "2023-12-03T13:32:33.308Z"
   },
   {
    "duration": 2,
    "start_time": "2023-12-03T13:32:33.322Z"
   },
   {
    "duration": 11,
    "start_time": "2023-12-03T13:32:33.325Z"
   },
   {
    "duration": 8,
    "start_time": "2023-12-03T13:32:33.337Z"
   },
   {
    "duration": 10,
    "start_time": "2023-12-03T13:32:33.346Z"
   },
   {
    "duration": 8,
    "start_time": "2023-12-03T13:32:33.358Z"
   },
   {
    "duration": 4,
    "start_time": "2023-12-03T13:32:33.367Z"
   },
   {
    "duration": 5,
    "start_time": "2023-12-03T13:32:33.372Z"
   },
   {
    "duration": 10,
    "start_time": "2023-12-03T13:32:33.378Z"
   },
   {
    "duration": 27,
    "start_time": "2023-12-03T13:32:33.389Z"
   },
   {
    "duration": 5,
    "start_time": "2023-12-03T13:32:33.417Z"
   },
   {
    "duration": 7,
    "start_time": "2023-12-03T13:32:33.423Z"
   },
   {
    "duration": 5,
    "start_time": "2023-12-03T13:32:33.431Z"
   },
   {
    "duration": 7,
    "start_time": "2023-12-03T13:32:33.437Z"
   },
   {
    "duration": 2,
    "start_time": "2023-12-03T13:32:33.445Z"
   },
   {
    "duration": 9,
    "start_time": "2023-12-03T13:32:33.448Z"
   },
   {
    "duration": 11,
    "start_time": "2023-12-03T13:32:33.458Z"
   },
   {
    "duration": 10,
    "start_time": "2023-12-03T13:32:33.470Z"
   },
   {
    "duration": 35,
    "start_time": "2023-12-03T13:32:33.481Z"
   },
   {
    "duration": 0,
    "start_time": "2023-12-03T13:32:33.517Z"
   },
   {
    "duration": 0,
    "start_time": "2023-12-03T13:32:33.518Z"
   },
   {
    "duration": 0,
    "start_time": "2023-12-03T13:32:33.518Z"
   },
   {
    "duration": 0,
    "start_time": "2023-12-03T13:32:33.519Z"
   },
   {
    "duration": 0,
    "start_time": "2023-12-03T13:32:33.520Z"
   },
   {
    "duration": 0,
    "start_time": "2023-12-03T13:32:33.521Z"
   },
   {
    "duration": 0,
    "start_time": "2023-12-03T13:32:33.521Z"
   },
   {
    "duration": 0,
    "start_time": "2023-12-03T13:32:33.522Z"
   },
   {
    "duration": 0,
    "start_time": "2023-12-03T13:32:33.523Z"
   },
   {
    "duration": 0,
    "start_time": "2023-12-03T13:32:33.524Z"
   },
   {
    "duration": 0,
    "start_time": "2023-12-03T13:32:33.525Z"
   },
   {
    "duration": 0,
    "start_time": "2023-12-03T13:32:33.526Z"
   },
   {
    "duration": 0,
    "start_time": "2023-12-03T13:32:33.526Z"
   },
   {
    "duration": 0,
    "start_time": "2023-12-03T13:32:33.527Z"
   },
   {
    "duration": 10,
    "start_time": "2023-12-03T13:33:51.117Z"
   },
   {
    "duration": 13,
    "start_time": "2023-12-03T13:34:18.295Z"
   },
   {
    "duration": 13,
    "start_time": "2023-12-03T13:34:56.682Z"
   },
   {
    "duration": 14,
    "start_time": "2023-12-03T13:35:53.528Z"
   },
   {
    "duration": 2,
    "start_time": "2023-12-03T13:36:17.274Z"
   },
   {
    "duration": 16,
    "start_time": "2023-12-03T13:36:19.421Z"
   },
   {
    "duration": 2,
    "start_time": "2023-12-03T13:37:29.791Z"
   },
   {
    "duration": 10,
    "start_time": "2023-12-03T13:37:34.901Z"
   },
   {
    "duration": 12,
    "start_time": "2023-12-03T13:38:02.440Z"
   },
   {
    "duration": 10,
    "start_time": "2023-12-03T13:42:18.714Z"
   },
   {
    "duration": 73,
    "start_time": "2023-12-03T13:43:17.287Z"
   },
   {
    "duration": 4,
    "start_time": "2023-12-03T13:43:56.143Z"
   },
   {
    "duration": 66,
    "start_time": "2023-12-03T13:45:21.562Z"
   },
   {
    "duration": 7,
    "start_time": "2023-12-03T13:45:28.293Z"
   },
   {
    "duration": 9,
    "start_time": "2023-12-03T13:45:52.109Z"
   },
   {
    "duration": 6,
    "start_time": "2023-12-03T13:46:00.439Z"
   },
   {
    "duration": 11,
    "start_time": "2023-12-03T13:46:52.486Z"
   },
   {
    "duration": 6,
    "start_time": "2023-12-03T13:46:59.059Z"
   },
   {
    "duration": 11,
    "start_time": "2023-12-03T13:47:22.070Z"
   },
   {
    "duration": 11,
    "start_time": "2023-12-03T13:47:29.396Z"
   },
   {
    "duration": 11,
    "start_time": "2023-12-03T13:47:42.284Z"
   },
   {
    "duration": 13,
    "start_time": "2023-12-03T13:48:12.422Z"
   },
   {
    "duration": 12,
    "start_time": "2023-12-03T13:48:39.417Z"
   },
   {
    "duration": 14,
    "start_time": "2023-12-03T13:49:18.998Z"
   },
   {
    "duration": 3,
    "start_time": "2023-12-03T13:49:31.586Z"
   },
   {
    "duration": 13,
    "start_time": "2023-12-03T13:50:21.855Z"
   },
   {
    "duration": 12,
    "start_time": "2023-12-03T13:50:28.735Z"
   },
   {
    "duration": 13,
    "start_time": "2023-12-03T13:51:19.217Z"
   },
   {
    "duration": 5,
    "start_time": "2023-12-03T13:52:41.015Z"
   },
   {
    "duration": 11,
    "start_time": "2023-12-03T13:53:00.754Z"
   },
   {
    "duration": 5,
    "start_time": "2023-12-03T13:53:08.486Z"
   },
   {
    "duration": 12,
    "start_time": "2023-12-03T13:53:11.409Z"
   },
   {
    "duration": 6,
    "start_time": "2023-12-03T13:53:46.848Z"
   },
   {
    "duration": 12,
    "start_time": "2023-12-03T13:53:48.327Z"
   },
   {
    "duration": 77,
    "start_time": "2023-12-03T14:10:08.247Z"
   },
   {
    "duration": 105,
    "start_time": "2023-12-03T14:10:16.758Z"
   },
   {
    "duration": 30,
    "start_time": "2023-12-03T14:10:21.032Z"
   },
   {
    "duration": 6,
    "start_time": "2023-12-03T14:11:15.102Z"
   },
   {
    "duration": 30,
    "start_time": "2023-12-03T14:11:16.462Z"
   },
   {
    "duration": 4,
    "start_time": "2023-12-03T14:15:33.526Z"
   },
   {
    "duration": 143,
    "start_time": "2023-12-03T14:15:33.532Z"
   },
   {
    "duration": 6,
    "start_time": "2023-12-03T14:15:33.676Z"
   },
   {
    "duration": 16,
    "start_time": "2023-12-03T14:15:33.683Z"
   },
   {
    "duration": 14,
    "start_time": "2023-12-03T14:15:33.701Z"
   },
   {
    "duration": 16,
    "start_time": "2023-12-03T14:15:33.716Z"
   },
   {
    "duration": 6,
    "start_time": "2023-12-03T14:15:33.733Z"
   },
   {
    "duration": 51,
    "start_time": "2023-12-03T14:15:33.740Z"
   },
   {
    "duration": 88,
    "start_time": "2023-12-03T14:15:33.793Z"
   },
   {
    "duration": 75,
    "start_time": "2023-12-03T14:15:33.883Z"
   },
   {
    "duration": 86,
    "start_time": "2023-12-03T14:15:33.960Z"
   },
   {
    "duration": 21,
    "start_time": "2023-12-03T14:15:34.047Z"
   },
   {
    "duration": 49,
    "start_time": "2023-12-03T14:15:34.070Z"
   },
   {
    "duration": 25,
    "start_time": "2023-12-03T14:15:34.120Z"
   },
   {
    "duration": 17,
    "start_time": "2023-12-03T14:15:34.146Z"
   },
   {
    "duration": 10,
    "start_time": "2023-12-03T14:15:34.164Z"
   },
   {
    "duration": 20,
    "start_time": "2023-12-03T14:15:34.175Z"
   },
   {
    "duration": 24,
    "start_time": "2023-12-03T14:15:34.196Z"
   },
   {
    "duration": 21,
    "start_time": "2023-12-03T14:15:34.222Z"
   },
   {
    "duration": 22,
    "start_time": "2023-12-03T14:15:34.245Z"
   },
   {
    "duration": 274,
    "start_time": "2023-12-03T14:15:34.269Z"
   },
   {
    "duration": 23,
    "start_time": "2023-12-03T14:15:34.545Z"
   },
   {
    "duration": 4,
    "start_time": "2023-12-03T14:15:34.570Z"
   },
   {
    "duration": 18,
    "start_time": "2023-12-03T14:15:34.575Z"
   },
   {
    "duration": 30,
    "start_time": "2023-12-03T14:15:34.594Z"
   },
   {
    "duration": 17,
    "start_time": "2023-12-03T14:15:34.625Z"
   },
   {
    "duration": 8,
    "start_time": "2023-12-03T14:15:34.643Z"
   },
   {
    "duration": 26,
    "start_time": "2023-12-03T14:15:34.652Z"
   },
   {
    "duration": 64,
    "start_time": "2023-12-03T14:15:34.681Z"
   },
   {
    "duration": 18,
    "start_time": "2023-12-03T14:15:34.746Z"
   },
   {
    "duration": 58,
    "start_time": "2023-12-03T14:15:34.766Z"
   },
   {
    "duration": 53,
    "start_time": "2023-12-03T14:15:34.825Z"
   },
   {
    "duration": 6,
    "start_time": "2023-12-03T14:15:34.879Z"
   },
   {
    "duration": 83,
    "start_time": "2023-12-03T14:15:34.886Z"
   },
   {
    "duration": 30,
    "start_time": "2023-12-03T14:15:34.970Z"
   },
   {
    "duration": 16,
    "start_time": "2023-12-03T14:15:35.001Z"
   },
   {
    "duration": 31,
    "start_time": "2023-12-03T14:15:35.018Z"
   },
   {
    "duration": 19,
    "start_time": "2023-12-03T14:15:35.050Z"
   },
   {
    "duration": 14,
    "start_time": "2023-12-03T14:15:35.070Z"
   },
   {
    "duration": 20,
    "start_time": "2023-12-03T14:15:35.085Z"
   },
   {
    "duration": 26,
    "start_time": "2023-12-03T14:15:35.106Z"
   },
   {
    "duration": 10,
    "start_time": "2023-12-03T14:15:35.133Z"
   },
   {
    "duration": 45,
    "start_time": "2023-12-03T14:15:35.144Z"
   },
   {
    "duration": 15,
    "start_time": "2023-12-03T14:15:35.190Z"
   },
   {
    "duration": 32,
    "start_time": "2023-12-03T14:15:35.206Z"
   },
   {
    "duration": 14,
    "start_time": "2023-12-03T14:15:35.240Z"
   },
   {
    "duration": 163,
    "start_time": "2023-12-03T14:15:35.255Z"
   },
   {
    "duration": 3,
    "start_time": "2023-12-03T14:15:35.419Z"
   },
   {
    "duration": 21,
    "start_time": "2023-12-03T14:15:35.423Z"
   },
   {
    "duration": 2,
    "start_time": "2023-12-03T14:15:35.445Z"
   },
   {
    "duration": 12,
    "start_time": "2023-12-03T14:15:35.449Z"
   },
   {
    "duration": 11,
    "start_time": "2023-12-03T14:15:35.462Z"
   },
   {
    "duration": 10,
    "start_time": "2023-12-03T14:15:35.474Z"
   },
   {
    "duration": 155,
    "start_time": "2023-12-03T14:15:35.485Z"
   },
   {
    "duration": 2,
    "start_time": "2023-12-03T14:15:35.641Z"
   },
   {
    "duration": 5,
    "start_time": "2023-12-03T14:15:35.645Z"
   },
   {
    "duration": 20,
    "start_time": "2023-12-03T14:15:35.651Z"
   },
   {
    "duration": 26,
    "start_time": "2023-12-03T14:15:35.672Z"
   },
   {
    "duration": 20,
    "start_time": "2023-12-03T14:15:35.699Z"
   },
   {
    "duration": 44,
    "start_time": "2023-12-03T14:15:35.720Z"
   },
   {
    "duration": 3,
    "start_time": "2023-12-03T14:15:35.765Z"
   },
   {
    "duration": 11,
    "start_time": "2023-12-03T14:15:35.769Z"
   },
   {
    "duration": 11,
    "start_time": "2023-12-03T14:15:35.781Z"
   },
   {
    "duration": 8,
    "start_time": "2023-12-03T14:15:35.793Z"
   },
   {
    "duration": 28,
    "start_time": "2023-12-03T14:15:35.802Z"
   },
   {
    "duration": 19,
    "start_time": "2023-12-03T14:15:35.832Z"
   },
   {
    "duration": 6,
    "start_time": "2023-12-03T14:15:35.853Z"
   },
   {
    "duration": 39,
    "start_time": "2023-12-03T14:15:35.860Z"
   },
   {
    "duration": 27,
    "start_time": "2023-12-03T14:15:35.900Z"
   },
   {
    "duration": 17,
    "start_time": "2023-12-03T14:15:35.928Z"
   },
   {
    "duration": 0,
    "start_time": "2023-12-03T14:15:35.946Z"
   },
   {
    "duration": 0,
    "start_time": "2023-12-03T14:15:35.947Z"
   },
   {
    "duration": 3,
    "start_time": "2023-12-03T14:16:40.049Z"
   },
   {
    "duration": 3,
    "start_time": "2023-12-03T14:16:52.295Z"
   },
   {
    "duration": 2,
    "start_time": "2023-12-03T14:17:04.590Z"
   },
   {
    "duration": 3,
    "start_time": "2023-12-03T14:17:07.887Z"
   },
   {
    "duration": 7,
    "start_time": "2023-12-03T14:19:51.724Z"
   },
   {
    "duration": 2,
    "start_time": "2023-12-03T14:19:54.677Z"
   },
   {
    "duration": 3,
    "start_time": "2023-12-03T14:19:56.577Z"
   },
   {
    "duration": 3,
    "start_time": "2023-12-03T14:20:07.326Z"
   },
   {
    "duration": 3,
    "start_time": "2023-12-03T14:21:08.028Z"
   },
   {
    "duration": 36,
    "start_time": "2023-12-03T14:23:17.512Z"
   },
   {
    "duration": 37,
    "start_time": "2023-12-03T14:23:50.002Z"
   },
   {
    "duration": 29,
    "start_time": "2023-12-03T14:24:18.191Z"
   },
   {
    "duration": 29,
    "start_time": "2023-12-03T14:24:25.173Z"
   },
   {
    "duration": 29,
    "start_time": "2023-12-03T14:24:35.553Z"
   },
   {
    "duration": 30,
    "start_time": "2023-12-03T14:24:41.403Z"
   },
   {
    "duration": 27,
    "start_time": "2023-12-03T14:26:25.833Z"
   },
   {
    "duration": 29,
    "start_time": "2023-12-03T14:26:38.706Z"
   },
   {
    "duration": 12,
    "start_time": "2023-12-03T14:26:58.187Z"
   },
   {
    "duration": 6,
    "start_time": "2023-12-03T14:28:36.492Z"
   },
   {
    "duration": 3,
    "start_time": "2023-12-03T14:28:39.546Z"
   },
   {
    "duration": 32,
    "start_time": "2023-12-03T14:28:42.759Z"
   },
   {
    "duration": 6,
    "start_time": "2023-12-03T14:28:51.657Z"
   },
   {
    "duration": 15,
    "start_time": "2023-12-03T14:32:11.336Z"
   },
   {
    "duration": 32,
    "start_time": "2023-12-03T14:32:25.630Z"
   },
   {
    "duration": 6,
    "start_time": "2023-12-03T14:32:40.451Z"
   },
   {
    "duration": 30,
    "start_time": "2023-12-03T14:32:42.462Z"
   },
   {
    "duration": 12,
    "start_time": "2023-12-03T14:32:54.102Z"
   },
   {
    "duration": 30,
    "start_time": "2023-12-03T14:32:57.489Z"
   },
   {
    "duration": 5,
    "start_time": "2023-12-03T14:33:56.281Z"
   },
   {
    "duration": 6,
    "start_time": "2023-12-03T14:33:57.996Z"
   },
   {
    "duration": 32,
    "start_time": "2023-12-03T14:33:59.722Z"
   },
   {
    "duration": 13,
    "start_time": "2023-12-03T14:34:26.022Z"
   },
   {
    "duration": 32,
    "start_time": "2023-12-03T14:34:30.835Z"
   },
   {
    "duration": 6,
    "start_time": "2023-12-03T14:35:59.515Z"
   },
   {
    "duration": 11,
    "start_time": "2023-12-03T14:36:02.040Z"
   },
   {
    "duration": 2,
    "start_time": "2023-12-03T14:36:27.607Z"
   },
   {
    "duration": 8,
    "start_time": "2023-12-03T14:36:35.060Z"
   },
   {
    "duration": 8,
    "start_time": "2023-12-03T14:36:46.148Z"
   },
   {
    "duration": 3,
    "start_time": "2023-12-03T14:37:05.712Z"
   },
   {
    "duration": 4,
    "start_time": "2023-12-03T14:37:11.020Z"
   },
   {
    "duration": 6,
    "start_time": "2023-12-03T14:37:26.755Z"
   },
   {
    "duration": 30,
    "start_time": "2023-12-03T14:37:28.978Z"
   },
   {
    "duration": 31,
    "start_time": "2023-12-03T14:37:55.343Z"
   },
   {
    "duration": 12,
    "start_time": "2023-12-03T14:38:04.904Z"
   },
   {
    "duration": 6,
    "start_time": "2023-12-03T14:38:37.050Z"
   },
   {
    "duration": 30,
    "start_time": "2023-12-03T14:38:42.809Z"
   },
   {
    "duration": 30,
    "start_time": "2023-12-03T14:39:12.416Z"
   },
   {
    "duration": 6,
    "start_time": "2023-12-03T14:40:30.962Z"
   },
   {
    "duration": 31,
    "start_time": "2023-12-03T14:40:32.812Z"
   },
   {
    "duration": 12,
    "start_time": "2023-12-03T14:41:49.668Z"
   },
   {
    "duration": 11,
    "start_time": "2023-12-03T14:42:43.394Z"
   },
   {
    "duration": 11,
    "start_time": "2023-12-03T14:43:14.510Z"
   },
   {
    "duration": 3,
    "start_time": "2023-12-03T14:43:47.165Z"
   },
   {
    "duration": 2,
    "start_time": "2023-12-03T14:45:06.578Z"
   },
   {
    "duration": 4,
    "start_time": "2023-12-03T14:51:32.156Z"
   },
   {
    "duration": 171,
    "start_time": "2023-12-03T14:51:32.161Z"
   },
   {
    "duration": 7,
    "start_time": "2023-12-03T14:51:32.333Z"
   },
   {
    "duration": 27,
    "start_time": "2023-12-03T14:51:32.341Z"
   },
   {
    "duration": 3,
    "start_time": "2023-12-03T14:51:32.369Z"
   },
   {
    "duration": 12,
    "start_time": "2023-12-03T14:51:32.373Z"
   },
   {
    "duration": 5,
    "start_time": "2023-12-03T14:51:32.385Z"
   },
   {
    "duration": 72,
    "start_time": "2023-12-03T14:51:32.391Z"
   },
   {
    "duration": 90,
    "start_time": "2023-12-03T14:51:32.465Z"
   },
   {
    "duration": 82,
    "start_time": "2023-12-03T14:51:32.556Z"
   },
   {
    "duration": 98,
    "start_time": "2023-12-03T14:51:32.640Z"
   },
   {
    "duration": 22,
    "start_time": "2023-12-03T14:51:32.739Z"
   },
   {
    "duration": 58,
    "start_time": "2023-12-03T14:51:32.762Z"
   },
   {
    "duration": 26,
    "start_time": "2023-12-03T14:51:32.822Z"
   },
   {
    "duration": 18,
    "start_time": "2023-12-03T14:51:32.849Z"
   },
   {
    "duration": 6,
    "start_time": "2023-12-03T14:51:32.869Z"
   },
   {
    "duration": 16,
    "start_time": "2023-12-03T14:51:32.876Z"
   },
   {
    "duration": 38,
    "start_time": "2023-12-03T14:51:32.894Z"
   },
   {
    "duration": 15,
    "start_time": "2023-12-03T14:51:32.933Z"
   },
   {
    "duration": 34,
    "start_time": "2023-12-03T14:51:32.949Z"
   },
   {
    "duration": 269,
    "start_time": "2023-12-03T14:51:32.984Z"
   },
   {
    "duration": 25,
    "start_time": "2023-12-03T14:51:33.254Z"
   },
   {
    "duration": 2,
    "start_time": "2023-12-03T14:51:33.280Z"
   },
   {
    "duration": 14,
    "start_time": "2023-12-03T14:51:33.283Z"
   },
   {
    "duration": 41,
    "start_time": "2023-12-03T14:51:33.298Z"
   },
   {
    "duration": 15,
    "start_time": "2023-12-03T14:51:33.341Z"
   },
   {
    "duration": 8,
    "start_time": "2023-12-03T14:51:33.358Z"
   },
   {
    "duration": 26,
    "start_time": "2023-12-03T14:51:33.367Z"
   },
   {
    "duration": 50,
    "start_time": "2023-12-03T14:51:33.415Z"
   },
   {
    "duration": 17,
    "start_time": "2023-12-03T14:51:33.467Z"
   },
   {
    "duration": 63,
    "start_time": "2023-12-03T14:51:33.486Z"
   },
   {
    "duration": 7,
    "start_time": "2023-12-03T14:51:33.550Z"
   },
   {
    "duration": 5,
    "start_time": "2023-12-03T14:51:33.559Z"
   },
   {
    "duration": 99,
    "start_time": "2023-12-03T14:51:33.565Z"
   },
   {
    "duration": 31,
    "start_time": "2023-12-03T14:51:33.665Z"
   },
   {
    "duration": 28,
    "start_time": "2023-12-03T14:51:33.697Z"
   },
   {
    "duration": 7,
    "start_time": "2023-12-03T14:51:33.727Z"
   },
   {
    "duration": 10,
    "start_time": "2023-12-03T14:51:33.735Z"
   },
   {
    "duration": 5,
    "start_time": "2023-12-03T14:51:33.746Z"
   },
   {
    "duration": 11,
    "start_time": "2023-12-03T14:51:33.752Z"
   },
   {
    "duration": 9,
    "start_time": "2023-12-03T14:51:33.764Z"
   },
   {
    "duration": 6,
    "start_time": "2023-12-03T14:51:33.774Z"
   },
   {
    "duration": 25,
    "start_time": "2023-12-03T14:51:33.781Z"
   },
   {
    "duration": 19,
    "start_time": "2023-12-03T14:51:33.807Z"
   },
   {
    "duration": 33,
    "start_time": "2023-12-03T14:51:33.827Z"
   },
   {
    "duration": 13,
    "start_time": "2023-12-03T14:51:33.861Z"
   },
   {
    "duration": 170,
    "start_time": "2023-12-03T14:51:33.875Z"
   },
   {
    "duration": 3,
    "start_time": "2023-12-03T14:51:34.047Z"
   },
   {
    "duration": 18,
    "start_time": "2023-12-03T14:51:34.051Z"
   },
   {
    "duration": 2,
    "start_time": "2023-12-03T14:51:34.070Z"
   },
   {
    "duration": 4,
    "start_time": "2023-12-03T14:51:34.074Z"
   },
   {
    "duration": 5,
    "start_time": "2023-12-03T14:51:34.079Z"
   },
   {
    "duration": 6,
    "start_time": "2023-12-03T14:51:34.085Z"
   },
   {
    "duration": 153,
    "start_time": "2023-12-03T14:51:34.092Z"
   },
   {
    "duration": 2,
    "start_time": "2023-12-03T14:51:34.246Z"
   },
   {
    "duration": 3,
    "start_time": "2023-12-03T14:51:34.250Z"
   },
   {
    "duration": 6,
    "start_time": "2023-12-03T14:51:34.255Z"
   },
   {
    "duration": 11,
    "start_time": "2023-12-03T14:51:34.262Z"
   },
   {
    "duration": 3,
    "start_time": "2023-12-03T14:51:34.274Z"
   },
   {
    "duration": 19,
    "start_time": "2023-12-03T14:51:34.279Z"
   },
   {
    "duration": 2,
    "start_time": "2023-12-03T14:51:34.299Z"
   },
   {
    "duration": 11,
    "start_time": "2023-12-03T14:51:34.324Z"
   },
   {
    "duration": 8,
    "start_time": "2023-12-03T14:51:34.336Z"
   },
   {
    "duration": 6,
    "start_time": "2023-12-03T14:51:34.345Z"
   },
   {
    "duration": 7,
    "start_time": "2023-12-03T14:51:34.353Z"
   },
   {
    "duration": 7,
    "start_time": "2023-12-03T14:51:34.361Z"
   },
   {
    "duration": 10,
    "start_time": "2023-12-03T14:51:34.369Z"
   },
   {
    "duration": 8,
    "start_time": "2023-12-03T14:51:34.380Z"
   },
   {
    "duration": 5,
    "start_time": "2023-12-03T14:51:34.389Z"
   },
   {
    "duration": 3,
    "start_time": "2023-12-03T14:51:34.395Z"
   },
   {
    "duration": 52,
    "start_time": "2023-12-03T14:51:34.400Z"
   },
   {
    "duration": 10,
    "start_time": "2023-12-03T14:51:34.453Z"
   },
   {
    "duration": 10,
    "start_time": "2023-12-03T14:51:34.465Z"
   },
   {
    "duration": 11,
    "start_time": "2023-12-03T14:51:34.476Z"
   }
  ],
  "kernelspec": {
   "display_name": "Python 3 (ipykernel)",
   "language": "python",
   "name": "python3"
  },
  "language_info": {
   "codemirror_mode": {
    "name": "ipython",
    "version": 3
   },
   "file_extension": ".py",
   "mimetype": "text/x-python",
   "name": "python",
   "nbconvert_exporter": "python",
   "pygments_lexer": "ipython3",
   "version": "3.12.0"
  },
  "toc": {
   "base_numbering": 1,
   "nav_menu": {},
   "number_sections": true,
   "sideBar": true,
   "skip_h1_title": true,
   "title_cell": "Table of Contents",
   "title_sidebar": "Contents",
   "toc_cell": false,
   "toc_position": {
    "height": "282.667px",
    "left": "102px",
    "top": "120.229px",
    "width": "176.333px"
   },
   "toc_section_display": true,
   "toc_window_display": true
  }
 },
 "nbformat": 4,
 "nbformat_minor": 4
}
